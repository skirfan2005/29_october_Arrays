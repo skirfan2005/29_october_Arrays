{
 "cells": [
  {
   "cell_type": "code",
   "execution_count": 180,
   "id": "02e41a24-8fb2-4701-9556-961475c10d59",
   "metadata": {},
   "outputs": [
    {
     "name": "stdout",
     "output_type": "stream",
     "text": [
      "Deposited: 500. New Balance: 1500\n",
      "Withdrawn: 200. New Balance: 1300\n"
     ]
    }
   ],
   "source": [
    "# Problem 1: Bank Account\n",
    "# Create a class representing a bank account with attributes like account number, account holder name, \n",
    "# and balance. Implement methods to deposit and withdraw money from the account.\n",
    "\n",
    "class BankAccount:\n",
    "    def __init__(self, account_number, account_holder, balance=0):\n",
    "        self.account_number = account_number\n",
    "        self.account_holder = account_holder\n",
    "        self.balance = balance\n",
    "\n",
    "    def deposit(self, amount):\n",
    "        if amount > 0:\n",
    "            self.balance += amount\n",
    "            print(f\"Deposited: {amount}. New Balance: {self.balance}\")\n",
    "        else:\n",
    "            print(\"Invalid deposit amount.\")\n",
    "\n",
    "    def withdraw(self, amount):\n",
    "        if 0 < amount <= self.balance:\n",
    "            self.balance -= amount\n",
    "            print(f\"Withdrawn: {amount}. New Balance: {self.balance}\")\n",
    "        else:\n",
    "            print(\"Invalid withdrawal amount or insufficient balance.\")\n",
    "\n",
    "# Example usage:\n",
    "account = BankAccount(\"123456\", \"John Doe\", 1000)\n",
    "account.deposit(500)\n",
    "account.withdraw(200)\n"
   ]
  },
  {
   "cell_type": "code",
   "execution_count": 182,
   "id": "5330d1ab-6d92-4687-9c14-dd2942c775db",
   "metadata": {},
   "outputs": [
    {
     "name": "stdout",
     "output_type": "stream",
     "text": [
      "Employee ID: E001\n",
      "Name: Alice\n",
      "Salary: 50000\n",
      "Yearly Bonus: 5000.0\n"
     ]
    }
   ],
   "source": [
    "# Problem 2: Employee Management\n",
    "# Create a class representing an employee with attributes like employee ID, name, and salary. \n",
    "# Implement methods to calculate the yearly bonus and display employee details.\n",
    "\n",
    "class Employee:\n",
    "    def __init__(self, employee_id, name, salary):\n",
    "        self.employee_id = employee_id\n",
    "        self.name = name\n",
    "        self.salary = salary\n",
    "\n",
    "    def calculate_yearly_bonus(self, percentage):\n",
    "        return self.salary * (percentage / 100)\n",
    "\n",
    "    def display_details(self):\n",
    "        print(f\"Employee ID: {self.employee_id}\")\n",
    "        print(f\"Name: {self.name}\")\n",
    "        print(f\"Salary: {self.salary}\")\n",
    "\n",
    "# Example usage:\n",
    "employee = Employee(\"E001\", \"Alice\", 50000)\n",
    "bonus = employee.calculate_yearly_bonus(10)\n",
    "employee.display_details()\n",
    "print(f\"Yearly Bonus: {bonus}\")\n"
   ]
  },
  {
   "cell_type": "code",
   "execution_count": 184,
   "id": "79b9b7d8-8f99-48c8-b67f-e1227b03df2c",
   "metadata": {},
   "outputs": [
    {
     "name": "stdout",
     "output_type": "stream",
     "text": [
      "Available vehicles: Car, Bike\n",
      "Car has been rented out.\n",
      "Available vehicles: Bike\n",
      "Car has been returned.\n",
      "Available vehicles: Bike, Car\n"
     ]
    }
   ],
   "source": [
    "# Problem 3: Vehicle Rental\n",
    "# Create a class representing a vehicle rental system. \n",
    "# Implement methods to rent a vehicle, return a vehicle, and display available vehicles.\n",
    "\n",
    "class VehicleRental:\n",
    "    def __init__(self):\n",
    "        self.available_vehicles = []\n",
    "\n",
    "    def add_vehicle(self, vehicle_name):\n",
    "        self.available_vehicles.append(vehicle_name)\n",
    "\n",
    "    def rent_vehicle(self, vehicle_name):\n",
    "        if vehicle_name in self.available_vehicles:\n",
    "            self.available_vehicles.remove(vehicle_name)\n",
    "            print(f\"{vehicle_name} has been rented out.\")\n",
    "        else:\n",
    "            print(f\"{vehicle_name} is not available.\")\n",
    "\n",
    "    def return_vehicle(self, vehicle_name):\n",
    "        self.available_vehicles.append(vehicle_name)\n",
    "        print(f\"{vehicle_name} has been returned.\")\n",
    "\n",
    "    def display_available_vehicles(self):\n",
    "        print(\"Available vehicles:\", \", \".join(self.available_vehicles))\n",
    "\n",
    "# Example usage:\n",
    "rental = VehicleRental()\n",
    "rental.add_vehicle(\"Car\")\n",
    "rental.add_vehicle(\"Bike\")\n",
    "rental.display_available_vehicles()\n",
    "rental.rent_vehicle(\"Car\")\n",
    "rental.display_available_vehicles()\n",
    "rental.return_vehicle(\"Car\")\n",
    "rental.display_available_vehicles()\n"
   ]
  },
  {
   "cell_type": "code",
   "execution_count": 186,
   "id": "b4c71d9c-46a0-425b-bcf8-5ec407dc816f",
   "metadata": {},
   "outputs": [
    {
     "name": "stdout",
     "output_type": "stream",
     "text": [
      "Available books: The Great Gatsby, 1984\n",
      "You have borrowed '1984'.\n",
      "Available books: The Great Gatsby\n"
     ]
    }
   ],
   "source": [
    "# Problem 4: Library Catalog\n",
    "# Create classes representing a library and a book. \n",
    "# Implement methods to add books to the library, borrow books, and display available books.\n",
    "\n",
    "class Book:\n",
    "    def __init__(self, title, author):\n",
    "        self.title = title\n",
    "        self.author = author\n",
    "        self.borrowed = False\n",
    "\n",
    "class Library:\n",
    "    def __init__(self):\n",
    "        self.books = []\n",
    "\n",
    "    def add_book(self, book):\n",
    "        self.books.append(book)\n",
    "\n",
    "    def borrow_book(self, title):\n",
    "        for book in self.books:\n",
    "            if book.title == title and not book.borrowed:\n",
    "                book.borrowed = True\n",
    "                print(f\"You have borrowed '{title}'.\")\n",
    "                return\n",
    "        print(f\"'{title}' is not available.\")\n",
    "\n",
    "    def display_available_books(self):\n",
    "        available_books = [book.title for book in self.books if not book.borrowed]\n",
    "        if available_books:\n",
    "            print(\"Available books:\", \", \".join(available_books))\n",
    "        else:\n",
    "            print(\"No books are available.\")\n",
    "\n",
    "# Example usage:\n",
    "library = Library()\n",
    "book1 = Book(\"The Great Gatsby\", \"F. Scott Fitzgerald\")\n",
    "book2 = Book(\"1984\", \"George Orwell\")\n",
    "library.add_book(book1)\n",
    "library.add_book(book2)\n",
    "library.display_available_books()\n",
    "library.borrow_book(\"1984\")\n",
    "library.display_available_books()\n"
   ]
  },
  {
   "cell_type": "code",
   "execution_count": null,
   "id": "2e7dbf41-1478-4df0-bcf8-f2830367378e",
   "metadata": {},
   "outputs": [],
   "source": []
  }
 ],
 "metadata": {
  "kernelspec": {
   "display_name": "Python 3 (ipykernel)",
   "language": "python",
   "name": "python3"
  },
  "language_info": {
   "codemirror_mode": {
    "name": "ipython",
    "version": 3
   },
   "file_extension": ".py",
   "mimetype": "text/x-python",
   "name": "python",
   "nbconvert_exporter": "python",
   "pygments_lexer": "ipython3",
   "version": "3.12.4"
  }
 },
 "nbformat": 4,
 "nbformat_minor": 5
}
