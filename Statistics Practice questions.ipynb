{
 "cells": [
  {
   "cell_type": "code",
   "execution_count": 1,
   "id": "54f3caa8-d310-4abe-ad6a-02d535df19a0",
   "metadata": {},
   "outputs": [
    {
     "name": "stdout",
     "output_type": "stream",
     "text": [
      "[108 101 110  95 126 130 124 115 128 110  90 127 106  92 114 113 124  99\n",
      " 124  98  97 124 121 124  97 100 127 118  92 111 115  94  98 109  96 106\n",
      " 100 102  93 101 126 121  90 113 129 124 128 117 101 119 120 125 128 110\n",
      "  98 119 117 127  91 110 123 114 128 122 109 123 125 102 110 111 100 126\n",
      "  98 104  90 110 110 120 121 112 124  99  96 102 127 124 104 107 126  92\n",
      " 117 124 112 113 129 123 120  90 106 120]\n"
     ]
    }
   ],
   "source": [
    "import numpy as np\n",
    "\n",
    "# 1. Generate a list of 100 integers between 90 and 130\n",
    "int_list = np.random.randint(90, 131, size=100)\n",
    "print(int_list)\n"
   ]
  },
  {
   "cell_type": "code",
   "execution_count": 2,
   "id": "1a7ec4c6-b02e-4b94-9699-ad35b6dda04e",
   "metadata": {},
   "outputs": [
    {
     "name": "stdout",
     "output_type": "stream",
     "text": [
      "Mean: 111.85\n"
     ]
    }
   ],
   "source": [
    "# (i) Function to calculate the mean\n",
    "def calculate_mean(numbers):\n",
    "    return np.mean(numbers)\n",
    "\n",
    "mean_value = calculate_mean(int_list)\n",
    "print(\"Mean:\", mean_value)\n"
   ]
  },
  {
   "cell_type": "code",
   "execution_count": 3,
   "id": "116e85cb-7931-44bf-a892-1b54e329e025",
   "metadata": {},
   "outputs": [
    {
     "name": "stdout",
     "output_type": "stream",
     "text": [
      "Median: 112.5\n"
     ]
    }
   ],
   "source": [
    "# Function to find the median\n",
    "def calculate_median(numbers):\n",
    "    return np.median(numbers)\n",
    "\n",
    "median_value = calculate_median(int_list)\n",
    "print(\"Median:\", median_value)\n"
   ]
  },
  {
   "cell_type": "code",
   "execution_count": 4,
   "id": "050d180d-ecc8-4315-86c8-09360ef89f70",
   "metadata": {},
   "outputs": [
    {
     "name": "stdout",
     "output_type": "stream",
     "text": [
      "Mode: 124 Frequency: 9\n"
     ]
    }
   ],
   "source": [
    "from collections import Counter\n",
    "\n",
    "# (ii) Program to compute the mode\n",
    "def calculate_mode(numbers):\n",
    "    mode_data = Counter(numbers)\n",
    "    mode_value = mode_data.most_common(1)[0]\n",
    "    return mode_value[0], mode_value[1]  # (mode, frequency)\n",
    "\n",
    "mode_value, mode_frequency = calculate_mode(int_list)\n",
    "print(\"Mode:\", mode_value, \"Frequency:\", mode_frequency)\n"
   ]
  },
  {
   "cell_type": "code",
   "execution_count": 5,
   "id": "de2ad995-eb34-43d9-b180-91153de2e107",
   "metadata": {},
   "outputs": [
    {
     "name": "stdout",
     "output_type": "stream",
     "text": [
      "Weighted Mean: 112.0439227305973\n"
     ]
    }
   ],
   "source": [
    "# (iii) Function to calculate the weighted mean\n",
    "def calculate_weighted_mean(values, weights):\n",
    "    return np.average(values, weights=weights)\n",
    "\n",
    "weights = np.random.rand(100)  # Random weights for demonstration\n",
    "weighted_mean_value = calculate_weighted_mean(int_list, weights)\n",
    "print(\"Weighted Mean:\", weighted_mean_value)\n"
   ]
  },
  {
   "cell_type": "code",
   "execution_count": 6,
   "id": "da465271-10f1-4c6f-bee9-6125ad3b213f",
   "metadata": {},
   "outputs": [
    {
     "name": "stdout",
     "output_type": "stream",
     "text": [
      "Geometric Mean: 111.1849885875055\n"
     ]
    }
   ],
   "source": [
    "import scipy.stats as stats\n",
    "\n",
    "# (iv) Function to find the geometric mean\n",
    "def calculate_geometric_mean(numbers):\n",
    "    return stats.gmean(numbers)\n",
    "\n",
    "geometric_mean_value = calculate_geometric_mean(int_list)\n",
    "print(\"Geometric Mean:\", geometric_mean_value)\n"
   ]
  },
  {
   "cell_type": "code",
   "execution_count": 7,
   "id": "90cc0a4a-9df7-402d-a9ce-67a998af12f7",
   "metadata": {},
   "outputs": [
    {
     "name": "stdout",
     "output_type": "stream",
     "text": [
      "Harmonic Mean: 110.50565621579139\n"
     ]
    }
   ],
   "source": [
    "# (v) Function to calculate the harmonic mean\n",
    "def calculate_harmonic_mean(numbers):\n",
    "    return stats.hmean(numbers)\n",
    "\n",
    "harmonic_mean_value = calculate_harmonic_mean(int_list)\n",
    "print(\"Harmonic Mean:\", harmonic_mean_value)\n"
   ]
  },
  {
   "cell_type": "code",
   "execution_count": 9,
   "id": "9a88f36e-4075-457d-9547-a0d3d5b0093d",
   "metadata": {},
   "outputs": [
    {
     "name": "stdout",
     "output_type": "stream",
     "text": [
      "Midrange: 110.0\n"
     ]
    }
   ],
   "source": [
    "# (vi) Function to find the midrange\n",
    "def calculate_midrange(numbers):\n",
    "    return (np.min(numbers) + np.max(numbers)) / 2\n",
    "\n",
    "midrange_value = calculate_midrange(int_list)\n",
    "print(\"Midrange:\", midrange_value)\n"
   ]
  },
  {
   "cell_type": "code",
   "execution_count": 10,
   "id": "6606b03d-ef18-4a21-9be2-6f8f8f09f609",
   "metadata": {},
   "outputs": [
    {
     "name": "stdout",
     "output_type": "stream",
     "text": [
      "Trimmed Mean: 112.375\n"
     ]
    }
   ],
   "source": [
    "# (vii) Function to find the trimmed mean\n",
    "def calculate_trimmed_mean(numbers, proportion):\n",
    "    return stats.trim_mean(numbers, proportion)\n",
    "\n",
    "trimmed_mean_value = calculate_trimmed_mean(int_list, 0.1)  # 10% trimming\n",
    "print(\"Trimmed Mean:\", trimmed_mean_value)\n"
   ]
  },
  {
   "cell_type": "code",
   "execution_count": 11,
   "id": "f0794343-a523-40ad-bd51-e3530d2ebad6",
   "metadata": {},
   "outputs": [
    {
     "name": "stdout",
     "output_type": "stream",
     "text": [
      "[269 278 206 236 238 225 212 276 230 247 248 203 220 280 206 237 249 278\n",
      " 267 286 268 258 244 264 287 291 298 251 218 287 225 204 220 201 211 272\n",
      " 289 299 281 202 232 299 296 235 255 220 209 254 259 240 251 241 260 208\n",
      " 230 284 235 267 292 264 203 207 275 286 222 248 230 226 225 208 294 220\n",
      " 299 230 286 241 241 281 243 235 215 299 278 271 202 215 258 261 233 255\n",
      " 200 206 258 213 201 285 245 211 260 275 250 247 267 264 263 256 224 216\n",
      " 280 212 229 202 201 283 273 208 237 203 229 235 260 237 283 272 217 292\n",
      " 272 209 281 300 213 287 234 282 273 298 222 285 284 203 282 219 265 248\n",
      " 291 260 295 249 260 273 254 274 218 234 271 239 236 283 248 212 283 215\n",
      " 266 208 231 277 290 228 298 200 207 293 235 202 296 296 238 254 222 243\n",
      " 300 212 234 275 225 262 241 235 269 271 221 206 288 260 274 281 210 219\n",
      " 254 245 223 270 270 238 233 217 222 231 238 234 279 277 296 224 243 292\n",
      " 239 276 234 293 200 257 281 275 237 296 253 265 288 276 254 234 270 288\n",
      " 261 293 209 290 205 265 267 210 209 226 239 260 279 298 295 239 282 205\n",
      " 248 204 211 262 257 292 251 277 270 216 260 278 244 283 229 294 218 256\n",
      " 234 235 282 237 282 296 209 257 268 294 274 244 247 273 241 215 219 266\n",
      " 277 214 300 264 252 212 219 239 240 291 284 218 211 276 296 203 241 210\n",
      " 220 203 200 214 223 226 268 227 218 260 253 276 229 297 219 269 212 260\n",
      " 240 218 280 291 203 241 234 253 288 292 211 285 220 261 207 252 240 295\n",
      " 264 216 200 282 207 268 284 223 214 219 249 268 211 269 242 230 259 207\n",
      " 250 236 274 236 271 232 217 284 218 295 229 200 260 239 258 252 254 294\n",
      " 247 286 294 292 264 221 256 287 271 235 294 241 205 292 202 300 222 205\n",
      " 224 279 262 254 221 290 219 214 255 259 283 207 212 272 239 224 254 285\n",
      " 235 200 280 200 228 266 300 273 241 251 248 207 294 211 220 277 277 205\n",
      " 207 200 265 200 282 256 294 287 286 286 224 240 230 213 293 211 246 282\n",
      " 262 282 200 213 203 281 281 300 225 218 271 222 224 203 251 300 282 246\n",
      " 248 283 253 293 228 275 213 287 288 240 288 289 202 218 253 287 242 247\n",
      " 292 232 277 286 264 234 261 300 219 254 260 235 277 241]\n"
     ]
    }
   ],
   "source": [
    "# 2. Generate a list of 500 integers between 200 and 300\n",
    "int_list2 = np.random.randint(200, 301, size=500)\n",
    "print(int_list2)\n"
   ]
  },
  {
   "cell_type": "code",
   "execution_count": 13,
   "id": "ed68ce6f-0ce8-4579-a5b6-b7643ee6db4d",
   "metadata": {},
   "outputs": [
    {
     "name": "stderr",
     "output_type": "stream",
     "text": [
      "C:\\ProgramData\\anaconda3\\Lib\\site-packages\\seaborn\\_oldcore.py:1119: FutureWarning: use_inf_as_na option is deprecated and will be removed in a future version. Convert inf values to NaN before operating instead.\n",
      "  with pd.option_context('mode.use_inf_as_na', True):\n",
      "C:\\ProgramData\\anaconda3\\Lib\\site-packages\\seaborn\\_oldcore.py:1119: FutureWarning: use_inf_as_na option is deprecated and will be removed in a future version. Convert inf values to NaN before operating instead.\n",
      "  with pd.option_context('mode.use_inf_as_na', True):\n"
     ]
    },
    {
     "data": {
      "image/png": "[encoded data removed]",
      "text/plain": [
       "<Figure size 1200x600 with 3 Axes>"
      ]
     },
     "metadata": {},
     "output_type": "display_data"
    }
   ],
   "source": [
    "import matplotlib.pyplot as plt\n",
    "import seaborn as sns\n",
    "\n",
    "# (i) Visualization: Frequency & Gaussian distribution\n",
    "plt.figure(figsize=(12, 6))\n",
    "\n",
    "# Frequency distribution\n",
    "plt.subplot(1, 3, 1)\n",
    "plt.hist(int_list2, bins=30, alpha=0.5, color='blue', density=True, label='Frequency')\n",
    "plt.title('Frequency Distribution')\n",
    "plt.xlabel('Value')\n",
    "plt.ylabel('Density')\n",
    "\n",
    "# Smoothened KDE plot\n",
    "plt.subplot(1, 3, 2)\n",
    "sns.kdeplot(int_list2, color='orange', label='KDE', fill=True)\n",
    "plt.title('Smoothened KDE Plot')\n",
    "plt.xlabel('Value')\n",
    "plt.ylabel('Density')\n",
    "\n",
    "# Gaussian distribution & smoothened KDE plot\n",
    "plt.subplot(1, 3, 3)\n",
    "sns.kdeplot(int_list2, color='orange', label='KDE', fill=True)\n",
    "plt.title('Gaussian & KDE Plot')\n",
    "plt.xlabel('Value')\n",
    "plt.ylabel('Density')\n",
    "plt.grid()\n",
    "\n",
    "plt.tight_layout()\n",
    "plt.show()\n"
   ]
  },
  {
   "cell_type": "code",
   "execution_count": 14,
   "id": "e73b0bcc-c7af-4604-b949-d518ce44b535",
   "metadata": {},
   "outputs": [
    {
     "name": "stdout",
     "output_type": "stream",
     "text": [
      "Range: 100\n"
     ]
    }
   ],
   "source": [
    "# (ii) Function to calculate the range\n",
    "def calculate_range(numbers):\n",
    "    return np.max(numbers) - np.min(numbers)\n",
    "\n",
    "range_value = calculate_range(int_list2)\n",
    "print(\"Range:\", range_value)\n"
   ]
  },
  {
   "cell_type": "code",
   "execution_count": 16,
   "id": "d5f15a84-5dc7-47a1-81f8-d67a1dc5c1b5",
   "metadata": {},
   "outputs": [
    {
     "name": "stdout",
     "output_type": "stream",
     "text": [
      "IQR: 55.0\n"
     ]
    }
   ],
   "source": [
    "# (iv) Function to compute the interquartile range (IQR)\n",
    "def calculate_iqr(numbers):\n",
    "    q75, q25 = np.percentile(numbers, [75, 25])\n",
    "    return q75 - q25\n",
    "\n",
    "iqr_value = calculate_iqr(int_list2)\n",
    "print(\"IQR:\", iqr_value)\n"
   ]
  },
  {
   "cell_type": "code",
   "execution_count": 17,
   "id": "90b31147-b905-4346-9aa8-04ba20452b89",
   "metadata": {},
   "outputs": [
    {
     "name": "stdout",
     "output_type": "stream",
     "text": [
      "Coefficient of Variation: 0.12073813366204526\n"
     ]
    }
   ],
   "source": [
    "# (v) Program to calculate the coefficient of variation\n",
    "def calculate_coefficient_of_variation(numbers):\n",
    "    mean = calculate_mean(numbers)\n",
    "    std_dev = np.std(numbers)\n",
    "    return std_dev / mean\n",
    "\n",
    "cv_value = calculate_coefficient_of_variation(int_list2)\n",
    "print(\"Coefficient of Variation:\", cv_value)\n"
   ]
  },
  {
   "cell_type": "code",
   "execution_count": 18,
   "id": "7ac04ef7-4c7c-46c2-afb8-22d5ca44a4ba",
   "metadata": {},
   "outputs": [
    {
     "name": "stdout",
     "output_type": "stream",
     "text": [
      "Mean Absolute Deviation: 26.433536\n"
     ]
    }
   ],
   "source": [
    "# (vi) Function to find mean absolute deviation (MAD)\n",
    "def calculate_mad(numbers):\n",
    "    mean = calculate_mean(numbers)\n",
    "    return np.mean(np.abs(numbers - mean))\n",
    "\n",
    "mad_value = calculate_mad(int_list2)\n",
    "print(\"Mean Absolute Deviation:\", mad_value)\n"
   ]
  },
  {
   "cell_type": "code",
   "execution_count": 19,
   "id": "92ae9fd8-364e-43f2-a240-8a4c75c59ea1",
   "metadata": {},
   "outputs": [
    {
     "name": "stdout",
     "output_type": "stream",
     "text": [
      "Quartile Deviation: 27.5\n"
     ]
    }
   ],
   "source": [
    "# (vii) Program to calculate quartile deviation\n",
    "def calculate_quartile_deviation(numbers):\n",
    "    q75, q25 = np.percentile(numbers, [75, 25])\n",
    "    return (q75 - q25) / 2\n",
    "\n",
    "quartile_deviation_value = calculate_quartile_deviation(int_list2)\n",
    "print(\"Quartile Deviation:\", quartile_deviation_value)\n"
   ]
  },
  {
   "cell_type": "code",
   "execution_count": 20,
   "id": "d31472d0-7ebd-4ee9-b66f-e2e851aa7619",
   "metadata": {},
   "outputs": [
    {
     "name": "stdout",
     "output_type": "stream",
     "text": [
      "Range-based Coefficient of Dispersion: 0.4003074361109332\n"
     ]
    }
   ],
   "source": [
    "# (viii) Function to find range-based coefficient of dispersion\n",
    "def calculate_range_based_dispersion(numbers):\n",
    "    return (np.max(numbers) - np.min(numbers)) / calculate_mean(numbers)\n",
    "\n",
    "range_based_dispersion_value = calculate_range_based_dispersion(int_list2)\n",
    "print(\"Range-based Coefficient of Dispersion:\", range_based_dispersion_value)\n"
   ]
  },
  {
   "cell_type": "code",
   "execution_count": 21,
   "id": "eedc2515-7104-4207-8825-5e5dc53c68ae",
   "metadata": {},
   "outputs": [
    {
     "name": "stdout",
     "output_type": "stream",
     "text": [
      "Expected Value: 1.4\n",
      "Variance: 0.44\n"
     ]
    }
   ],
   "source": [
    "class DiscreteRandomVariable:\n",
    "    def __init__(self, probabilities):\n",
    "        self.probabilities = probabilities\n",
    "        self.outcomes = list(probabilities.keys())\n",
    "        self.prob_dist = list(probabilities.values())\n",
    "\n",
    "    def expected_value(self):\n",
    "        return sum(outcome * prob for outcome, prob in zip(self.outcomes, self.prob_dist))\n",
    "\n",
    "    def variance(self):\n",
    "        mean = self.expected_value()\n",
    "        return sum(prob * (outcome - mean) ** 2 for outcome, prob in zip(self.outcomes, self.prob_dist))\n",
    "\n",
    "# Example usage\n",
    "rv = DiscreteRandomVariable({0: 0.1, 1: 0.4, 2: 0.5})\n",
    "print(\"Expected Value:\", rv.expected_value())\n",
    "print(\"Variance:\", rv.variance())\n"
   ]
  },
  {
   "cell_type": "code",
   "execution_count": 22,
   "id": "81604765-5e93-4427-b1a0-56be947c6676",
   "metadata": {},
   "outputs": [
    {
     "name": "stdout",
     "output_type": "stream",
     "text": [
      "Expected Value of Die Rolls: 3.478\n",
      "Variance of Die Rolls: 2.9115159999999998\n"
     ]
    }
   ],
   "source": [
    "import numpy as np\n",
    "\n",
    "# 4. Program to simulate rolling a fair six-sided die\n",
    "def simulate_die_rolls(num_rolls):\n",
    "    outcomes = np.random.randint(1, 7, size=num_rolls)\n",
    "    expected_value = np.mean(outcomes)\n",
    "    variance = np.var(outcomes)\n",
    "    return expected_value, variance\n",
    "\n",
    "expected_value, variance = simulate_die_rolls(10000)\n",
    "print(\"Expected Value of Die Rolls:\", expected_value)\n",
    "print(\"Variance of Die Rolls:\", variance)\n"
   ]
  },
  {
   "cell_type": "code",
   "execution_count": 23,
   "id": "c6d9078e-013e-4760-9588-83bd07a9c266",
   "metadata": {},
   "outputs": [
    {
     "name": "stdout",
     "output_type": "stream",
     "text": [
      "Binomial Mean: 4.974 Variance: 2.851323999999999\n",
      "Poisson Mean: 5.004 Variance: 4.953984\n"
     ]
    }
   ],
   "source": [
    "from scipy.stats import binom, poisson\n",
    "\n",
    "# 5. Function to generate random samples from a given probability distribution\n",
    "def generate_random_samples(distribution, params, size):\n",
    "    if distribution == 'binomial':\n",
    "        samples = binom.rvs(params['n'], params['p'], size=size)\n",
    "    elif distribution == 'poisson':\n",
    "        samples = poisson.rvs(params['mu'], size=size)\n",
    "    else:\n",
    "        raise ValueError(\"Unsupported distribution\")\n",
    "    \n",
    "    mean = np.mean(samples)\n",
    "    variance = np.var(samples)\n",
    "    return mean, variance\n",
    "\n",
    "# Example usage\n",
    "binomial_mean, binomial_variance = generate_random_samples('binomial', {'n': 10, 'p': 0.5}, 1000)\n",
    "poisson_mean, poisson_variance = generate_random_samples('poisson', {'mu': 5}, 1000)\n",
    "\n",
    "print(\"Binomial Mean:\", binomial_mean, \"Variance:\", binomial_variance)\n",
    "print(\"Poisson Mean:\", poisson_mean, \"Variance:\", poisson_variance)\n"
   ]
  },
  {
   "cell_type": "code",
   "execution_count": 24,
   "id": "703af709-1c9c-4b2b-8fcb-87b7975dbe77",
   "metadata": {},
   "outputs": [
    {
     "name": "stdout",
     "output_type": "stream",
     "text": [
      "Gaussian Mean: -0.03429196724480143\n",
      "Gaussian Variance: 1.0500891843853197\n",
      "Gaussian Standard Deviation: 1.0247385931960011\n"
     ]
    }
   ],
   "source": [
    "# 6. Script to generate random numbers from a Gaussian distribution\n",
    "def gaussian_random_samples(mean, std_dev, size):\n",
    "    samples = np.random.normal(mean, std_dev, size)\n",
    "    mean_val = np.mean(samples)\n",
    "    variance_val = np.var(samples)\n",
    "    std_dev_val = np.std(samples)\n",
    "    return mean_val, variance_val, std_dev_val\n",
    "\n",
    "mean_val, variance_val, std_dev_val = gaussian_random_samples(0, 1, 1000)\n",
    "print(\"Gaussian Mean:\", mean_val)\n",
    "print(\"Gaussian Variance:\", variance_val)\n",
    "print(\"Gaussian Standard Deviation:\", std_dev_val)\n"
   ]
  },
  {
   "cell_type": "code",
   "execution_count": 2,
   "id": "1b84a429-2d43-4219-a27f-3b5197e2f5a7",
   "metadata": {},
   "outputs": [
    {
     "name": "stdout",
     "output_type": "stream",
     "text": [
      "Skewness of Total Bill: 1.1332130376158205\n",
      "Skewness of Tip: 1.4654510370979401\n"
     ]
    }
   ],
   "source": [
    "import seaborn as sns\n",
    "import pandas as pd\n",
    "\n",
    "# Load the tips dataset\n",
    "tips = sns.load_dataset('tips')\n",
    "\n",
    "# (i) Function to calculate skewness\n",
    "def calculate_skewness(column):\n",
    "    return column.skew()\n",
    "\n",
    "skewness_total_bill = calculate_skewness(tips['total_bill'])\n",
    "skewness_tip = calculate_skewness(tips['tip'])\n",
    "print(\"Skewness of Total Bill:\", skewness_total_bill)\n",
    "print(\"Skewness of Tip:\", skewness_tip)\n"
   ]
  },
  {
   "cell_type": "code",
   "execution_count": 3,
   "id": "95d04220-0409-4c05-80db-bbb0d8a22142",
   "metadata": {},
   "outputs": [
    {
     "name": "stdout",
     "output_type": "stream",
     "text": [
      "Total Bill Skewness Type: Positive Skewness\n",
      "Tip Skewness Type: Positive Skewness\n"
     ]
    }
   ],
   "source": [
    "# (ii) Program to determine skewness type\n",
    "def determine_skewness_type(skewness):\n",
    "    if skewness > 0:\n",
    "        return \"Positive Skewness\"\n",
    "    elif skewness < 0:\n",
    "        return \"Negative Skewness\"\n",
    "    else:\n",
    "        return \"Approximately Symmetric\"\n",
    "\n",
    "total_bill_skewness_type = determine_skewness_type(skewness_total_bill)\n",
    "tip_skewness_type = determine_skewness_type(skewness_tip)\n",
    "print(\"Total Bill Skewness Type:\", total_bill_skewness_type)\n",
    "print(\"Tip Skewness Type:\", tip_skewness_type)\n"
   ]
  },
  {
   "cell_type": "code",
   "execution_count": 4,
   "id": "138faef3-e0a7-43e8-8af7-fe9b9a8c23a7",
   "metadata": {},
   "outputs": [
    {
     "name": "stdout",
     "output_type": "stream",
     "text": [
      "Covariance between Total Bill and Tip: 8.323501629224854\n"
     ]
    }
   ],
   "source": [
    "# (iii) Function to calculate covariance\n",
    "def calculate_covariance(col1, col2):\n",
    "    return col1.cov(col2)\n",
    "\n",
    "covariance = calculate_covariance(tips['total_bill'], tips['tip'])\n",
    "print(\"Covariance between Total Bill and Tip:\", covariance)\n"
   ]
  },
  {
   "cell_type": "code",
   "execution_count": 5,
   "id": "10c26512-be9e-436c-890f-ce10f71de7c2",
   "metadata": {},
   "outputs": [
    {
     "name": "stdout",
     "output_type": "stream",
     "text": [
      "Pearson Correlation Coefficient: 0.6757341092113641\n"
     ]
    }
   ],
   "source": [
    "# (iv) Program to calculate Pearson correlation coefficient\n",
    "def calculate_pearson_correlation(col1, col2):\n",
    "    return col1.corr(col2)\n",
    "\n",
    "pearson_correlation = calculate_pearson_correlation(tips['total_bill'], tips['tip'])\n",
    "print(\"Pearson Correlation Coefficient:\", pearson_correlation)\n"
   ]
  },
  {
   "cell_type": "code",
   "execution_count": 10,
   "id": "481ca925-73df-4773-befa-4020798b265b",
   "metadata": {},
   "outputs": [
    {
     "data": {
      "image/png": "[encoded data removed]",
      "text/plain": [
       "<Figure size 640x480 with 1 Axes>"
      ]
     },
     "metadata": {},
     "output_type": "display_data"
    }
   ],
   "source": [
    "# (v) Script to visualize correlation using scatter plots\n",
    "import matplotlib.pyplot as plt\n",
    "def visualize_correlation(df, col1, col2):\n",
    "    sns.scatterplot(data=df, x=col1, y=col2)\n",
    "    plt.title(f'Scatter Plot between {col1} and {col2}')\n",
    "    plt.xlabel(col1)\n",
    "    plt.ylabel(col2)\n",
    "    plt.show()\n",
    "\n",
    "visualize_correlation(tips, 'total_bill', 'tip')\n"
   ]
  },
  {
   "cell_type": "code",
   "execution_count": 12,
   "id": "f4ebdf85-72e3-4737-aa7e-1e2edfc6f0f9",
   "metadata": {},
   "outputs": [
    {
     "name": "stdout",
     "output_type": "stream",
     "text": [
      "PDF value at x=0 for N(0,1): 0.3989422804014327\n"
     ]
    }
   ],
   "source": [
    "# 8. Function to calculate the probability density function (PDF)\n",
    "import numpy as np\n",
    "def normal_pdf(x, mean, std_dev):\n",
    "    return (1 / (std_dev * np.sqrt(2 * np.pi))) * np.exp(-0.5 * ((x - mean) / std_dev) ** 2)\n",
    "\n",
    "# Example usage\n",
    "pdf_value = normal_pdf(0, 0, 1)\n",
    "print(\"PDF value at x=0 for N(0,1):\", pdf_value)\n"
   ]
  },
  {
   "cell_type": "code",
   "execution_count": 13,
   "id": "d6a1506c-dd49-4985-a4d0-182ede2f31f0",
   "metadata": {},
   "outputs": [
    {
     "name": "stdout",
     "output_type": "stream",
     "text": [
      "CDF value at x=1 for Exponential(1): 0.6321205588285577\n"
     ]
    }
   ],
   "source": [
    "from scipy.stats import expon\n",
    "\n",
    "# 9. Program to calculate the cumulative distribution function (CDF) of exponential distribution\n",
    "def exponential_cdf(x, rate):\n",
    "    return expon.cdf(x, scale=1/rate)\n",
    "\n",
    "# Example usage\n",
    "rate = 1.0\n",
    "cdf_value = exponential_cdf(1, rate)\n",
    "print(\"CDF value at x=1 for Exponential(1):\", cdf_value)\n"
   ]
  },
  {
   "cell_type": "code",
   "execution_count": 15,
   "id": "e6c0ad36-519e-4dc4-8798-ed08f7a1b70f",
   "metadata": {},
   "outputs": [
    {
     "name": "stdout",
     "output_type": "stream",
     "text": [
      "PMF value for k=3 and Poisson(5): 0.1403738958142805\n"
     ]
    }
   ],
   "source": [
    "from scipy.stats import poisson\n",
    "\n",
    "# Function to calculate the probability mass function (PMF) of Poisson distribution\n",
    "def poisson_pmf(k, mu):\n",
    "    return poisson.pmf(k, mu)\n",
    "\n",
    "# Example usage\n",
    "k = 3\n",
    "mu = 5\n",
    "pmf_value = poisson_pmf(k, mu)\n",
    "print(\"PMF value for k=3 and Poisson(5):\", pmf_value)\n"
   ]
  },
  {
   "cell_type": "code",
   "execution_count": 16,
   "id": "795b0650-d269-48f0-aee0-7f4e7c9255ec",
   "metadata": {},
   "outputs": [
    {
     "name": "stdout",
     "output_type": "stream",
     "text": [
      "Z-statistic: -1.883108942886774\n",
      "P-value: 0.059685605532426224\n",
      "Fail to reject the null hypothesis: No significant difference in conversion rates.\n"
     ]
    }
   ],
   "source": [
    "import numpy as np\n",
    "from statsmodels.stats.proportion import proportions_ztest\n",
    "\n",
    "# Data for old and new layouts\n",
    "# 50 purchases out of 1000 visitors for old layout\n",
    "old_layout = np.array([1] * 50 + [0] * 950)\n",
    "# 70 purchases out of 1000 visitors for new layout\n",
    "new_layout = np.array([1] * 70 + [0] * 930)\n",
    "\n",
    "# Perform z-test\n",
    "count = np.array([50, 70])  # Number of successes (purchases)\n",
    "nobs = np.array([1000, 1000])  # Total visitors\n",
    "\n",
    "z_stat, p_value = proportions_ztest(count, nobs)\n",
    "\n",
    "# Output results\n",
    "print(\"Z-statistic:\", z_stat)\n",
    "print(\"P-value:\", p_value)\n",
    "\n",
    "# Determine if the new layout is successful (using alpha = 0.05)\n",
    "alpha = 0.05\n",
    "if p_value < alpha:\n",
    "    print(\"Reject the null hypothesis: The new layout is successful.\")\n",
    "else:\n",
    "    print(\"Fail to reject the null hypothesis: No significant difference in conversion rates.\")\n"
   ]
  },
  {
   "cell_type": "code",
   "execution_count": 18,
   "id": "68f5d277-9e82-4494-bb3c-1bd93dd7fda8",
   "metadata": {},
   "outputs": [
    {
     "name": "stdout",
     "output_type": "stream",
     "text": [
      "Z-statistic: 1.3600371723457603\n",
      "P-value: 0.17381816101827674\n",
      "Fail to reject the null hypothesis: No significant improvement in exam scores.\n"
     ]
    }
   ],
   "source": [
    "from scipy import stats\n",
    "\n",
    "# Data for students' exam scores\n",
    "before_program = np.array([75, 80, 85, 70, 90, 78, 92, 88, 82, 87])\n",
    "after_program = np.array([80, 85, 90, 80, 92, 80, 95, 90, 85, 88])\n",
    "\n",
    "# Calculate means and standard deviations\n",
    "mean_before = np.mean(before_program)\n",
    "mean_after = np.mean(after_program)\n",
    "std_before = np.std(before_program, ddof=1)\n",
    "std_after = np.std(after_program, ddof=1)\n",
    "\n",
    "# Number of samples\n",
    "n_before = len(before_program)\n",
    "n_after = len(after_program)\n",
    "\n",
    "# Perform z-test\n",
    "z_stat = (mean_after - mean_before) / np.sqrt((std_before**2/n_before) + (std_after**2/n_after))\n",
    "# Calculate the p-value for a two-tailed test\n",
    "p_value = 2 * (1 - stats.norm.cdf(abs(z_stat)))\n",
    "\n",
    "# Output results\n",
    "print(\"Z-statistic:\", z_stat)\n",
    "print(\"P-value:\", p_value)\n",
    "\n",
    "# Determine if the claims are true (using alpha = 0.05)\n",
    "alpha = 0.05\n",
    "if p_value < alpha:\n",
    "    print(\"Reject the null hypothesis: The tutoring program improves exam scores.\")\n",
    "else:\n",
    "    print(\"Fail to reject the null hypothesis: No significant improvement in exam scores.\")\n"
   ]
  },
  {
   "cell_type": "code",
   "execution_count": 19,
   "id": "2b9a613d-d461-4d13-91b5-e7e014d18289",
   "metadata": {},
   "outputs": [
    {
     "name": "stdout",
     "output_type": "stream",
     "text": [
      "Z-statistic: -2.639577121919448\n",
      "P-value: 0.008300953387191612\n",
      "Reject the null hypothesis: The drug is effective in reducing blood pressure.\n"
     ]
    }
   ],
   "source": [
    "# Data for blood pressure measurements\n",
    "before_drug = np.array([145, 150, 140, 135, 155, 160, 152, 148, 130, 138])\n",
    "after_drug = np.array([130, 140, 132, 128, 145, 148, 138, 136, 125, 130])\n",
    "\n",
    "# Calculate means and standard deviations\n",
    "mean_before = np.mean(before_drug)\n",
    "mean_after = np.mean(after_drug)\n",
    "std_before = np.std(before_drug, ddof=1)\n",
    "std_after = np.std(after_drug, ddof=1)\n",
    "\n",
    "# Number of samples\n",
    "n_before = len(before_drug)\n",
    "n_after = len(after_drug)\n",
    "\n",
    "# Perform z-test\n",
    "z_stat = (mean_after - mean_before) / np.sqrt((std_before**2/n_before) + (std_after**2/n_after))\n",
    "# Calculate the p-value for a two-tailed test\n",
    "p_value = 2 * (1 - stats.norm.cdf(abs(z_stat)))\n",
    "\n",
    "# Output results\n",
    "print(\"Z-statistic:\", z_stat)\n",
    "print(\"P-value:\", p_value)\n",
    "\n",
    "# Determine if the drug works (using alpha = 0.05)\n",
    "alpha = 0.05\n",
    "if p_value < alpha:\n",
    "    print(\"Reject the null hypothesis: The drug is effective in reducing blood pressure.\")\n",
    "else:\n",
    "    print(\"Fail to reject the null hypothesis: No significant reduction in blood pressure.\")\n"
   ]
  },
  {
   "cell_type": "code",
   "execution_count": 20,
   "id": "01154c8a-50b6-4935-a932-74a79eafa1c8",
   "metadata": {},
   "outputs": [
    {
     "name": "stdout",
     "output_type": "stream",
     "text": [
      "Z-statistic: -3.184457226042963\n",
      "P-value: 0.0007251287113068958\n",
      "Reject the null hypothesis: The average response time is less than 5 minutes.\n"
     ]
    }
   ],
   "source": [
    "import numpy as np\n",
    "from scipy import stats\n",
    "\n",
    "# Response times recorded from customer interactions\n",
    "response_times = np.array([4.3, 3.8, 5.1, 4.9, 4.7, 4.2, 5.2, 4.5, 4.6, 4.4])\n",
    "\n",
    "# Hypothesized mean response time\n",
    "hypothesized_mean = 5\n",
    "\n",
    "# Perform one-sample z-test\n",
    "mean_response_time = np.mean(response_times)\n",
    "std_dev_response_time = np.std(response_times, ddof=1)  # Sample standard deviation\n",
    "n = len(response_times)\n",
    "\n",
    "# Calculate z-statistic\n",
    "z_stat = (mean_response_time - hypothesized_mean) / (std_dev_response_time / np.sqrt(n))\n",
    "# Calculate the p-value for a one-tailed test (testing if mean < 5)\n",
    "p_value = stats.norm.cdf(z_stat)\n",
    "\n",
    "# Output results\n",
    "print(\"Z-statistic:\", z_stat)\n",
    "print(\"P-value:\", p_value)\n",
    "\n",
    "# Determine if the claims are true (using alpha = 0.05)\n",
    "alpha = 0.05\n",
    "if p_value < alpha:\n",
    "    print(\"Reject the null hypothesis: The average response time is less than 5 minutes.\")\n",
    "else:\n",
    "    print(\"Fail to reject the null hypothesis: No significant evidence that the average response time is less than 5 minutes.\")\n"
   ]
  },
  {
   "cell_type": "code",
   "execution_count": 21,
   "id": "1c981748-3724-441b-82da-e689c8fda31d",
   "metadata": {},
   "outputs": [
    {
     "name": "stdout",
     "output_type": "stream",
     "text": [
      "T-statistic: -7.298102156175071\n",
      "Degrees of Freedom: 18\n",
      "P-value: 8.833437608046779e-07\n"
     ]
    }
   ],
   "source": [
    "# Click data for two website layouts\n",
    "layout_a_clicks = np.array([28, 32, 33, 29, 31, 34, 30, 35, 36, 37])\n",
    "layout_b_clicks = np.array([40, 41, 38, 42, 39, 44, 43, 41, 45, 47])\n",
    "\n",
    "# Function to perform A/B test analysis\n",
    "def ab_test(layout_a, layout_b):\n",
    "    # Calculate means\n",
    "    mean_a = np.mean(layout_a)\n",
    "    mean_b = np.mean(layout_b)\n",
    "    \n",
    "    # Calculate standard deviations\n",
    "    std_a = np.std(layout_a, ddof=1)\n",
    "    std_b = np.std(layout_b, ddof=1)\n",
    "    \n",
    "    # Number of samples\n",
    "    n_a = len(layout_a)\n",
    "    n_b = len(layout_b)\n",
    "    \n",
    "    # Calculate t-statistic and degrees of freedom\n",
    "    t_stat = (mean_a - mean_b) / np.sqrt((std_a**2/n_a) + (std_b**2/n_b))\n",
    "    df = n_a + n_b - 2  # degrees of freedom\n",
    "\n",
    "    # Calculate p-value for two-tailed test\n",
    "    p_value = 2 * (1 - stats.t.cdf(abs(t_stat), df))\n",
    "\n",
    "    return t_stat, df, p_value\n",
    "\n",
    "# Perform A/B test\n",
    "t_stat, df, p_value = ab_test(layout_a_clicks, layout_b_clicks)\n",
    "\n",
    "# Output results\n",
    "print(\"T-statistic:\", t_stat)\n",
    "print(\"Degrees of Freedom:\", df)\n",
    "print(\"P-value:\", p_value)\n"
   ]
  },
  {
   "cell_type": "code",
   "execution_count": 22,
   "id": "92987a07-dd8a-495e-8535-04a8adb80026",
   "metadata": {},
   "outputs": [
    {
     "name": "stdout",
     "output_type": "stream",
     "text": [
      "T-statistic: 4.140480986208661\n",
      "Degrees of Freedom: 18\n",
      "P-value: 0.0006143398442373105\n",
      "Reject the null hypothesis: The new drug is more effective than the existing drug.\n"
     ]
    }
   ],
   "source": [
    "# Cholesterol levels for existing and new drugs\n",
    "existing_drug_levels = np.array([180, 182, 175, 185, 178, 176, 172, 184, 179, 183])\n",
    "new_drug_levels = np.array([170, 172, 165, 168, 175, 173, 170, 178, 172, 176])\n",
    "\n",
    "# Calculate means and standard deviations\n",
    "mean_existing = np.mean(existing_drug_levels)\n",
    "mean_new = np.mean(new_drug_levels)\n",
    "std_existing = np.std(existing_drug_levels, ddof=1)\n",
    "std_new = np.std(new_drug_levels, ddof=1)\n",
    "\n",
    "# Number of samples\n",
    "n_existing = len(existing_drug_levels)\n",
    "n_new = len(new_drug_levels)\n",
    "\n",
    "# Calculate t-statistic\n",
    "t_stat = (mean_existing - mean_new) / np.sqrt((std_existing**2/n_existing) + (std_new**2/n_new))\n",
    "# Calculate degrees of freedom\n",
    "df = n_existing + n_new - 2\n",
    "\n",
    "# Calculate p-value for two-tailed test\n",
    "p_value = 2 * (1 - stats.t.cdf(abs(t_stat), df))\n",
    "\n",
    "# Output results\n",
    "print(\"T-statistic:\", t_stat)\n",
    "print(\"Degrees of Freedom:\", df)\n",
    "print(\"P-value:\", p_value)\n",
    "\n",
    "# Determine if the new drug is more effective (using alpha = 0.05)\n",
    "alpha = 0.05\n",
    "if p_value < alpha:\n",
    "    print(\"Reject the null hypothesis: The new drug is more effective than the existing drug.\")\n",
    "else:\n",
    "    print(\"Fail to reject the null hypothesis: No significant difference in effectiveness between the drugs.\")\n"
   ]
  },
  {
   "cell_type": "code",
   "execution_count": 23,
   "id": "a63a8b9a-f7a2-4baa-a03c-88283d7e3c3c",
   "metadata": {},
   "outputs": [
    {
     "name": "stdout",
     "output_type": "stream",
     "text": [
      "T-statistic: 4.080355128162117\n",
      "Degrees of Freedom: 18\n",
      "P-value: 0.0007022570725707666\n",
      "Reject the null hypothesis: The educational intervention significantly improved test scores.\n"
     ]
    }
   ],
   "source": [
    "# Test scores before and after the intervention\n",
    "pre_intervention_scores = np.array([80, 85, 90, 75, 88, 82, 92, 78, 85, 87])\n",
    "post_intervention_scores = np.array([90, 92, 88, 92, 95, 91, 96, 93, 89, 93])\n",
    "\n",
    "# Calculate means and standard deviations\n",
    "mean_pre = np.mean(pre_intervention_scores)\n",
    "mean_post = np.mean(post_intervention_scores)\n",
    "std_pre = np.std(pre_intervention_scores, ddof=1)\n",
    "std_post = np.std(post_intervention_scores, ddof=1)\n",
    "\n",
    "# Number of samples\n",
    "n_pre = len(pre_intervention_scores)\n",
    "n_post = len(post_intervention_scores)\n",
    "\n",
    "# Calculate t-statistic\n",
    "t_stat = (mean_post - mean_pre) / np.sqrt((std_pre**2/n_pre) + (std_post**2/n_post))\n",
    "# Calculate degrees of freedom\n",
    "df = n_pre + n_post - 2\n",
    "\n",
    "# Calculate p-value for two-tailed test\n",
    "p_value = 2 * (1 - stats.t.cdf(abs(t_stat), df))\n",
    "\n",
    "# Output results\n",
    "print(\"T-statistic:\", t_stat)\n",
    "print(\"Degrees of Freedom:\", df)\n",
    "print(\"P-value:\", p_value)\n",
    "\n",
    "# Determine if the intervention had a significant impact (using alpha = 0.05)\n",
    "alpha = 0.05\n",
    "if p_value < alpha:\n",
    "    print(\"Reject the null hypothesis: The educational intervention significantly improved test scores.\")\n",
    "else:\n",
    "    print(\"Fail to reject the null hypothesis: No significant improvement in test scores from the intervention.\")\n"
   ]
  },
  {
   "cell_type": "code",
   "execution_count": 24,
   "id": "77b5ff10-d412-41c1-9124-7e6c86b14db5",
   "metadata": {},
   "outputs": [
    {
     "name": "stdout",
     "output_type": "stream",
     "text": [
      "T-statistic: 0.061142089696313844\n",
      "Degrees of Freedom: 38\n",
      "P-value: 0.9515665020676465\n",
      "Fail to reject the null hypothesis: No significant gender-based salary gap.\n"
     ]
    }
   ],
   "source": [
    "import numpy as np\n",
    "from scipy import stats\n",
    "\n",
    "# Generate synthetic salary data for male and female employees\n",
    "np.random.seed(0)  # For reproducibility\n",
    "male_salaries = np.random.normal(loc=50000, scale=10000, size=20)\n",
    "female_salaries = np.random.normal(loc=55000, scale=9000, size=20)\n",
    "\n",
    "# Calculate means and standard deviations\n",
    "mean_male = np.mean(male_salaries)\n",
    "mean_female = np.mean(female_salaries)\n",
    "std_male = np.std(male_salaries, ddof=1)\n",
    "std_female = np.std(female_salaries, ddof=1)\n",
    "\n",
    "# Number of samples\n",
    "n_male = len(male_salaries)\n",
    "n_female = len(female_salaries)\n",
    "\n",
    "# Calculate t-statistic\n",
    "t_stat = (mean_male - mean_female) / np.sqrt((std_male**2/n_male) + (std_female**2/n_female))\n",
    "# Calculate degrees of freedom\n",
    "df = n_male + n_female - 2\n",
    "\n",
    "# Calculate p-value for two-tailed test\n",
    "p_value = 2 * (1 - stats.t.cdf(abs(t_stat), df))\n",
    "\n",
    "# Output results\n",
    "print(\"T-statistic:\", t_stat)\n",
    "print(\"Degrees of Freedom:\", df)\n",
    "print(\"P-value:\", p_value)\n",
    "\n",
    "# Determine if there's a significant difference (using alpha = 0.05)\n",
    "alpha = 0.05\n",
    "if p_value < alpha:\n",
    "    print(\"Reject the null hypothesis: There is a significant gender-based salary gap.\")\n",
    "else:\n",
    "    print(\"Fail to reject the null hypothesis: No significant gender-based salary gap.\")\n"
   ]
  },
  {
   "cell_type": "code",
   "execution_count": 26,
   "id": "30a37e05-8f18-41e1-ba32-d830ac52074c",
   "metadata": {},
   "outputs": [
    {
     "name": "stdout",
     "output_type": "stream",
     "text": [
      "T-statistic: 11.325830417646698\n",
      "Degrees of Freedom: 48\n",
      "P-value: 3.552713678800501e-15\n",
      "Reject the null hypothesis: There is a significant difference in quality between the two versions.\n"
     ]
    }
   ],
   "source": [
    "# Quality scores for two versions of a product\n",
    "version1_scores = np.array([85, 88, 82, 89, 87, 84, 90, 88, 85, 86, 91, 83, 87, 84, 89, 86, 84, 88, 85, 86, 89, 90, 87, 88, 85])\n",
    "version2_scores = np.array([80, 78, 83, 81, 79, 82, 76, 80, 78, 81, 77, 82, 80, 79, 82, 79, 80, 81, 79, 82, 79, 78, 80, 81, 82])\n",
    "\n",
    "# Function to analyze quality scores\n",
    "def analyze_quality_scores(scores1, scores2):\n",
    "    mean1 = np.mean(scores1)\n",
    "    mean2 = np.mean(scores2)\n",
    "    std1 = np.std(scores1, ddof=1)\n",
    "    std2 = np.std(scores2, ddof=1)\n",
    "\n",
    "    n1 = len(scores1)\n",
    "    n2 = len(scores2)\n",
    "\n",
    "    t_stat = (mean1 - mean2) / np.sqrt((std1**2/n1) + (std2**2/n2))\n",
    "    df = n1 + n2 - 2\n",
    "    p_value = 2 * (1 - stats.t.cdf(abs(t_stat), df))\n",
    "\n",
    "    return t_stat, df, p_value\n",
    "\n",
    "# Perform analysis\n",
    "t_stat, df, p_value = analyze_quality_scores(version1_scores, version2_scores)\n",
    "\n",
    "# Output results\n",
    "print(\"T-statistic:\", t_stat)\n",
    "print(\"Degrees of Freedom:\", df)\n",
    "print(\"P-value:\", p_value)\n",
    "\n",
    "# Determine if there's a significant difference\n",
    "if p_value < 0.05:\n",
    "    print(\"Reject the null hypothesis: There is a significant difference in quality between the two versions.\")\n",
    "else:\n",
    "    print(\"Fail to reject the null hypothesis: No significant difference in quality.\")\n"
   ]
  },
  {
   "cell_type": "code",
   "execution_count": 27,
   "id": "5c310bb7-1739-46ea-8249-69df6a027058",
   "metadata": {},
   "outputs": [
    {
     "name": "stdout",
     "output_type": "stream",
     "text": [
      "T-statistic: 5.480077554195743\n",
      "Degrees of Freedom: 60\n",
      "P-value: 8.895290508625919e-07\n",
      "Reject the null hypothesis: There is a significant difference in customer satisfaction between the branches.\n"
     ]
    }
   ],
   "source": [
    "# Customer satisfaction scores for two different branches\n",
    "branch_a_scores = np.array([4, 5, 3, 4, 5, 4, 5, 3, 4, 4, 5, 4, 4, 3, 4, 5, 5, 4, 3, 4, 5, 4, 3, 5, 4, 4, 5, 3, 4, 5, 4])\n",
    "branch_b_scores = np.array([3, 4, 2, 3, 4, 3, 4, 2, 3, 3, 4, 3, 3, 2, 3, 4, 4, 3, 2, 3, 4, 3, 2, 4, 3, 3, 4, 2, 3, 4, 3])\n",
    "\n",
    "# Perform t-test analysis\n",
    "t_stat, df, p_value = analyze_quality_scores(branch_a_scores, branch_b_scores)\n",
    "\n",
    "# Output results\n",
    "print(\"T-statistic:\", t_stat)\n",
    "print(\"Degrees of Freedom:\", df)\n",
    "print(\"P-value:\", p_value)\n",
    "\n",
    "# Determine if there's a significant difference\n",
    "if p_value < 0.05:\n",
    "    print(\"Reject the null hypothesis: There is a significant difference in customer satisfaction between the branches.\")\n",
    "else:\n",
    "    print(\"Fail to reject the null hypothesis: No significant difference in customer satisfaction.\")\n"
   ]
  },
  {
   "cell_type": "code",
   "execution_count": 28,
   "id": "ff2c66c3-5b5a-414b-84e1-3ff35a265875",
   "metadata": {},
   "outputs": [
    {
     "name": "stdout",
     "output_type": "stream",
     "text": [
      "Chi-Square Statistic: 0.7397720563072268\n",
      "P-value: 0.6908130593907253\n",
      "Degrees of Freedom: 2\n",
      "Fail to reject the null hypothesis: No significant association.\n"
     ]
    }
   ],
   "source": [
    "# Generate data for age groups and voter preferences\n",
    "np.random.seed(0)\n",
    "age_groups = np.random.choice(['18-30', '31-50', '51+', '51+'], size=500)\n",
    "voter_preferences = np.random.choice(['Candidate A', 'Candidate B'], size=500)\n",
    "\n",
    "# Create a contingency table\n",
    "contingency_table = pd.crosstab(age_groups, voter_preferences)\n",
    "\n",
    "# Perform Chi-Square test\n",
    "chi2_stat, p_value, df, expected = stats.chi2_contingency(contingency_table)\n",
    "\n",
    "# Output results\n",
    "print(\"Chi-Square Statistic:\", chi2_stat)\n",
    "print(\"P-value:\", p_value)\n",
    "print(\"Degrees of Freedom:\", df)\n",
    "\n",
    "# Determine if there's a significant association\n",
    "if p_value < 0.05:\n",
    "    print(\"Reject the null hypothesis: There is a significant association between age groups and voter preferences.\")\n",
    "else:\n",
    "    print(\"Fail to reject the null hypothesis: No significant association.\")\n"
   ]
  },
  {
   "cell_type": "code",
   "execution_count": 29,
   "id": "11434db3-fd5e-4b17-ba51-37514a93084d",
   "metadata": {},
   "outputs": [
    {
     "name": "stdout",
     "output_type": "stream",
     "text": [
      "Chi-Square Statistic: 27.777056277056275\n",
      "P-value: 0.00010349448486004387\n",
      "Degrees of Freedom: 6\n",
      "Reject the null hypothesis: There is a significant relationship between product satisfaction levels and customer regions.\n"
     ]
    }
   ],
   "source": [
    "# Sample data: Product satisfaction levels (rows) vs. Customer regions (columns)\n",
    "data = np.array([[50, 30, 40, 20],\n",
    "                 [30, 40, 30, 50],\n",
    "                 [20, 30, 40, 30]])\n",
    "\n",
    "# Perform Chi-Square test\n",
    "chi2_stat, p_value, df, expected = stats.chi2_contingency(data)\n",
    "\n",
    "# Output results\n",
    "print(\"Chi-Square Statistic:\", chi2_stat)\n",
    "print(\"P-value:\", p_value)\n",
    "print(\"Degrees of Freedom:\", df)\n",
    "\n",
    "# Determine if there's a significant relationship\n",
    "if p_value < 0.05:\n",
    "    print(\"Reject the null hypothesis: There is a significant relationship between product satisfaction levels and customer regions.\")\n",
    "else:\n",
    "    print(\"Fail to reject the null hypothesis: No significant relationship.\")\n"
   ]
  },
  {
   "cell_type": "code",
   "execution_count": 30,
   "id": "b961099d-354f-49ca-8dd1-554a556ea2b9",
   "metadata": {},
   "outputs": [
    {
     "name": "stdout",
     "output_type": "stream",
     "text": [
      "Chi-Square Statistic: 22.161728395061726\n",
      "P-value: 0.00018609719479882557\n",
      "Degrees of Freedom: 4\n",
      "Reject the null hypothesis: There is a significant difference in job performance levels before and after training.\n"
     ]
    }
   ],
   "source": [
    "# Sample data: Job performance levels before (rows) and after (columns) training\n",
    "data = np.array([[50, 30, 20],\n",
    "                 [30, 40, 30],\n",
    "                 [20, 30, 40]])\n",
    "\n",
    "# Perform Chi-Square test\n",
    "chi2_stat, p_value, df, expected = stats.chi2_contingency(data)\n",
    "\n",
    "# Output results\n",
    "print(\"Chi-Square Statistic:\", chi2_stat)\n",
    "print(\"P-value:\", p_value)\n",
    "print(\"Degrees of Freedom:\", df)\n",
    "\n",
    "# Determine if there's a significant difference\n",
    "if p_value < 0.05:\n",
    "    print(\"Reject the null hypothesis: There is a significant difference in job performance levels before and after training.\")\n",
    "else:\n",
    "    print(\"Fail to reject the null hypothesis: No significant difference in job performance levels.\")\n"
   ]
  },
  {
   "cell_type": "code",
   "execution_count": 31,
   "id": "234b948f-f2c6-444a-b4a1-54a7e06afe21",
   "metadata": {},
   "outputs": [
    {
     "name": "stdout",
     "output_type": "stream",
     "text": [
      "F-statistic: 27.03556231003039\n",
      "P-value: 3.5786328857349003e-07\n",
      "Reject the null hypothesis: There is a significant difference in customer satisfaction scores among the three product versions.\n"
     ]
    }
   ],
   "source": [
    "# Sample data: Customer satisfaction scores for each product version\n",
    "standard_scores = np.array([80, 85, 90, 78, 88, 82, 92, 78, 85, 87])\n",
    "premium_scores = np.array([90, 92, 88, 92, 95, 91, 96, 93, 89, 93])\n",
    "deluxe_scores = np.array([95, 98, 92, 97, 96, 94, 98, 97, 92, 99])\n",
    "\n",
    "# Perform ANOVA test\n",
    "f_stat, p_value = stats.f_oneway(standard_scores, premium_scores, deluxe_scores)\n",
    "\n",
    "# Output results\n",
    "print(\"F-statistic:\", f_stat)\n",
    "print(\"P-value:\", p_value)\n",
    "\n",
    "# Determine if there's a significant difference\n",
    "if p_value < 0.05:\n",
    "    print(\"Reject the null hypothesis: There is a significant difference in customer satisfaction scores among the three product versions.\")\n",
    "else:\n",
    "    print(\"Fail to reject the null hypothesis: No significant difference in customer satisfaction scores.\")\n"
   ]
  },
  {
   "cell_type": "code",
   "execution_count": null,
   "id": "abad3555-48c8-4c4b-97f9-afe5d32d26d0",
   "metadata": {},
   "outputs": [],
   "source": []
  }
 ],
 "metadata": {
  "kernelspec": {
   "display_name": "Python 3 (ipykernel)",
   "language": "python",
   "name": "python3"
  },
  "language_info": {
   "codemirror_mode": {
    "name": "ipython",
    "version": 3
   },
   "file_extension": ".py",
   "mimetype": "text/x-python",
   "name": "python",
   "nbconvert_exporter": "python",
   "pygments_lexer": "ipython3",
   "version": "3.11.7"
  }
 },
 "nbformat": 4,
 "nbformat_minor": 5
}
