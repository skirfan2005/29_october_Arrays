{
  "nbformat": 4,
  "nbformat_minor": 0,
  "metadata": {
    "colab": {
      "provenance": []
    },
    "kernelspec": {
      "name": "python3",
      "display_name": "Python 3"
    },
    "language_info": {
      "name": "python"
    }
  },
  "cells": [
    {
      "cell_type": "markdown",
      "source": [
        "Problem 1.Given an array of n numbers, give an algorithm which gives the element appearing maximum\n",
        "number of times?"
      ],
      "metadata": {
        "id": "6nBYP0EZ_gwC"
      }
    },
    {
      "cell_type": "code",
      "source": [
        "def maxm(arr):\n",
        "  ma=0\n",
        "  ele=-1\n",
        "  for i in range(0,len(arr)):\n",
        "    count=0\n",
        "    for j in range(i+1,len(arr)):\n",
        "      if arr[i]==arr[j]:\n",
        "        count+=1\n",
        "    if count>ma:\n",
        "      ma=count\n",
        "      ele=arr[i]\n",
        "  return ele\n",
        "print(maxm([1,3,5,1,7,3,3]))"
      ],
      "metadata": {
        "colab": {
          "base_uri": "https://localhost:8080/"
        },
        "id": "vCuriRBF_u8C",
        "outputId": "9ac8875a-f59e-4336-9c87-cad13342a5f0"
      },
      "execution_count": null,
      "outputs": [
        {
          "output_type": "stream",
          "name": "stdout",
          "text": [
            "3\n"
          ]
        }
      ]
    },
    {
      "cell_type": "markdown",
      "source": [
        "Problem 2 : We are given a list of n-1 integers and these integers are in the range of 1 to n . There are no\n",
        "duplicates in the list. One of the integers is missing in the list. Give an algorithm to find that element Ex:\n",
        "[1,2,4,6,3,7,8] 5 is the missing num."
      ],
      "metadata": {
        "id": "49g2akKnEO0h"
      }
    },
    {
      "cell_type": "code",
      "source": [
        "def miss(lis,si,n):\n",
        "  count=0\n",
        "  for i in range(si,n+1):\n",
        "    if lis[count]!=i:\n",
        "      return i\n",
        "    else:\n",
        "      count+=1\n",
        "print(miss([1,2,3,4,6,7,8],1,8))"
      ],
      "metadata": {
        "colab": {
          "base_uri": "https://localhost:8080/"
        },
        "id": "TmewlWqKCY5e",
        "outputId": "c27efe29-4c02-4b6a-ee12-074e4dd6ea11"
      },
      "execution_count": null,
      "outputs": [
        {
          "output_type": "stream",
          "name": "stdout",
          "text": [
            "5\n"
          ]
        }
      ]
    },
    {
      "cell_type": "markdown",
      "source": [
        "Problem 3 : Given an array of n positive numbers. All numbers occurs even number of times except 1 which\n",
        "occurs odd number of times. Find that number in O(n) time and O(1) space. Ex: [1,2,3,2,3,1,3]. 3 is repeats odd\n",
        "times."
      ],
      "metadata": {
        "id": "UhyQHE9cF39i"
      }
    },
    {
      "cell_type": "code",
      "source": [
        "def odd(arr):\n",
        "  total = 0\n",
        "  for num in arr:\n",
        "    total += num\n",
        "  unique_sum = sum(set(arr))\n",
        "  return total-2*unique_sum\n",
        "print(odd([1,2,3,2,3,1,3]))"
      ],
      "metadata": {
        "colab": {
          "base_uri": "https://localhost:8080/"
        },
        "id": "4AGPJbGZF5wy",
        "outputId": "e253d677-a0fe-496a-b202-5253a267e2ed"
      },
      "execution_count": null,
      "outputs": [
        {
          "output_type": "stream",
          "name": "stdout",
          "text": [
            "3\n"
          ]
        }
      ]
    },
    {
      "cell_type": "markdown",
      "source": [
        "Problem 4 : Given an array of n elements. Find two elements in the array such that their sum is equal to given\n",
        "element K."
      ],
      "metadata": {
        "id": "14Nz3Sf4ISNB"
      }
    },
    {
      "cell_type": "code",
      "source": [
        "def sum_k(arr,k):\n",
        "  l=[]\n",
        "  for i in range(0,len(arr)):\n",
        "    for j in range(i+1,len(arr)):\n",
        "      if arr[i]+arr[j]==k:\n",
        "        l.append([arr[i],arr[j]])\n",
        "  return l\n",
        "print(sum_k([1,4,2,5,8,0,3],6))"
      ],
      "metadata": {
        "colab": {
          "base_uri": "https://localhost:8080/"
        },
        "id": "QNRhntV-IXVq",
        "outputId": "6eac7649-22fc-444e-8356-51699ea30c2a"
      },
      "execution_count": null,
      "outputs": [
        {
          "output_type": "stream",
          "name": "stdout",
          "text": [
            "[[1, 5], [4, 2]]\n"
          ]
        }
      ]
    },
    {
      "cell_type": "markdown",
      "source": [
        "Problem 5 : Given an array of both positive and negative numbers, find two numbers such that their sum is\n",
        "closest to 0. Ex: [ 1 ,60 ,-10, 70, -80,85]. Ans : -80,85."
      ],
      "metadata": {
        "id": "eqwO_R46JsVC"
      }
    },
    {
      "cell_type": "code",
      "source": [
        "def close_0(arr):\n",
        "  a=100000\n",
        "  for i in range(0,len(arr)):\n",
        "    for j in range(i+1,len(arr)):\n",
        "      k=arr[i]+arr[j]\n",
        "      if abs(k)<a:\n",
        "        a=abs(k)\n",
        "        m=arr[i],arr[j]\n",
        "  return m\n",
        "print(close_0([1,60,-10,70,-80,85]))"
      ],
      "metadata": {
        "colab": {
          "base_uri": "https://localhost:8080/"
        },
        "id": "a9YeNhnuJwuy",
        "outputId": "8a7d88d6-9194-471f-c0fc-e566115513fe"
      },
      "execution_count": null,
      "outputs": [
        {
          "output_type": "stream",
          "name": "stdout",
          "text": [
            "(-80, 85)\n"
          ]
        }
      ]
    },
    {
      "cell_type": "markdown",
      "source": [
        "Problem 6 : Given an array of n elements . Find three elements such that their sum is equal to the given\n",
        "number."
      ],
      "metadata": {
        "id": "jSguVFJ2NnE0"
      }
    },
    {
      "cell_type": "code",
      "source": [
        "def sum_k(arr,n):\n",
        "  l=[]\n",
        "  for i in range(0,len(arr)):\n",
        "    for j in range(i+1,len(arr)):\n",
        "      for k in range(j+1,len(arr)):\n",
        "        if arr[i]+arr[j]+arr[k]==n:\n",
        "          l.append([arr[i],arr[j],arr[k]])\n",
        "  return l\n",
        "print(sum_k([1,4,2,5,8,0,3],6))"
      ],
      "metadata": {
        "colab": {
          "base_uri": "https://localhost:8080/"
        },
        "id": "yVsV5DHdLxJo",
        "outputId": "03ca38f9-7eaf-46e0-ff92-c8d1e7103ab8"
      },
      "execution_count": null,
      "outputs": [
        {
          "output_type": "stream",
          "name": "stdout",
          "text": [
            "[[1, 2, 3], [1, 5, 0], [4, 2, 0]]\n"
          ]
        }
      ]
    },
    {
      "cell_type": "markdown",
      "source": [
        "Problem 7 : Given an array of n elements . Find three elements i, j, k in the array such that\n",
        "i * i + j * j = k*k."
      ],
      "metadata": {
        "id": "FaQTL9Qum598"
      }
    },
    {
      "cell_type": "code",
      "source": [
        "def eqn(arr):\n",
        "  l=[]\n",
        "  for i in range(0,len(arr)):\n",
        "    for j in range(i+1,len(arr)):\n",
        "      for k in range(j+1,len(arr)):\n",
        "        if pow(arr[i],2)+pow(arr[j],2)==pow(arr[k],2):\n",
        "          l.append([arr[i],arr[j],arr[k]])\n",
        "  return l\n",
        "print(eqn([1,2,4,3,5,8,0,3]))"
      ],
      "metadata": {
        "colab": {
          "base_uri": "https://localhost:8080/"
        },
        "id": "FZ3E67jvm_37",
        "outputId": "48a16414-7472-41e8-d905-2314c3056208"
      },
      "execution_count": null,
      "outputs": [
        {
          "output_type": "stream",
          "name": "stdout",
          "text": [
            "[[4, 3, 5], [3, 0, 3]]\n"
          ]
        }
      ]
    },
    {
      "cell_type": "markdown",
      "source": [
        "Problem 8 : An element is a majority if it appears more than n/2 times. Give an algorithm takes an array of n\n",
        "element as argument and identifies a majority (if it exists)."
      ],
      "metadata": {
        "id": "-Dc25SDpQY_r"
      }
    },
    {
      "cell_type": "code",
      "source": [
        "def maj(arr):\n",
        "  ma=int((len(arr))/2)\n",
        "  for i in range(0,len(arr)):\n",
        "    count=1\n",
        "    for j in range(i+1,len(arr)):\n",
        "      if arr[i]==arr[j]:\n",
        "        count+=1\n",
        "    if count>ma:\n",
        "      return arr[i]\n",
        "  return -1\n",
        "print(maj([1,3,5,1,3,3,3,3]))"
      ],
      "metadata": {
        "colab": {
          "base_uri": "https://localhost:8080/"
        },
        "id": "OemKSmZEPc3h",
        "outputId": "16d745d2-7a60-4018-902d-27eaefde1697"
      },
      "execution_count": null,
      "outputs": [
        {
          "output_type": "stream",
          "name": "stdout",
          "text": [
            "3\n"
          ]
        }
      ]
    },
    {
      "cell_type": "markdown",
      "source": [
        "Problem 9 : Given n × n matrix, and in each row all 1’s are followed by 0’s. Find the row with the maximum\n",
        "number of 0’s."
      ],
      "metadata": {
        "id": "gtsf2PRJS5S4"
      }
    },
    {
      "cell_type": "code",
      "source": [
        "def max_0(matrix,n):\n",
        "  m=0\n",
        "  index=-1\n",
        "  for i in range(0,n):\n",
        "    count=0\n",
        "    for j in range(0,n):\n",
        "      if matrix[i][j]==0:\n",
        "        count+=1\n",
        "    if count>m:\n",
        "      m=count\n",
        "      index=i\n",
        "  return index\n",
        "matrix = [\n",
        "    [1, 1, 1, 0, 0],\n",
        "    [1, 1, 0, 0, 0],\n",
        "    [1, 0, 0, 0, 0],\n",
        "    [1, 1, 1, 1, 0],\n",
        "    [1, 1, 1, 1, 1]\n",
        "]\n",
        "print(max_0(matrix,5))"
      ],
      "metadata": {
        "colab": {
          "base_uri": "https://localhost:8080/"
        },
        "id": "39V0pNVQRHpx",
        "outputId": "b86e3295-38a6-4e40-c573-670fb412fa2c"
      },
      "execution_count": null,
      "outputs": [
        {
          "output_type": "stream",
          "name": "stdout",
          "text": [
            "2\n"
          ]
        }
      ]
    },
    {
      "cell_type": "markdown",
      "source": [
        "Problem 10 : Sort an array of 0’s, 1’s and 2’s [or R’s, G’s and B’s]: Given an array A[] consisting of 0’s, 1’s and\n",
        "2’s, give an algorithm for sorting A[].The algorithm should put all 0’s first, then all 1’s and finally all 2’s at the\n",
        "end. Example Input = {0,1,1,0,1,2,1,2,0,0,0,1}, Output = {0,0,0,0,0,1,1,1,1,1,2,2}"
      ],
      "metadata": {
        "id": "l6hzMY1FU-85"
      }
    },
    {
      "cell_type": "code",
      "source": [
        "def k(arr):\n",
        "  left,mid,right=0,0,len(arr)-1\n",
        "  while mid<=right:\n",
        "    if arr[mid]==0:\n",
        "      arr[left],arr[mid]=arr[mid],arr[left]\n",
        "      mid+=1\n",
        "      left+=1\n",
        "    elif arr[mid]==1:\n",
        "      mid+=1\n",
        "    else:\n",
        "      arr[right],arr[mid]=arr[mid],arr[right]\n",
        "      right-=1\n",
        "  return arr\n",
        "print(k([0,1,1,0,1,2,1,2,0,0,0,1]))"
      ],
      "metadata": {
        "colab": {
          "base_uri": "https://localhost:8080/"
        },
        "id": "9IWSqJr_VArW",
        "outputId": "a65551ea-9856-4db4-f76e-b42a1b498ad8"
      },
      "execution_count": null,
      "outputs": [
        {
          "output_type": "stream",
          "name": "stdout",
          "text": [
            "[0, 0, 0, 0, 0, 1, 1, 1, 1, 1, 2, 2]\n"
          ]
        }
      ]
    }
  ]
}