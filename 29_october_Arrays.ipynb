{
 "cells": [
  {
   "cell_type": "code",
   "execution_count": 28,
   "id": "17afa9fc-25b5-44db-9e73-a823b684bb98",
   "metadata": {},
   "outputs": [
    {
     "name": "stdout",
     "output_type": "stream",
     "text": [
      "contains duplicate\n"
     ]
    }
   ],
   "source": [
    "#1. Given an array, check if it contains any duplicates or not.\n",
    "#arr = [1, 2, 4, 2, 5, 9]\n",
    "arr=[1,2,4,2,5,9]\n",
    "t=0\n",
    "for i in range(len(arr)):\n",
    "    for j in range(i+1,len(arr)):\n",
    "        if arr[j]==arr[i]:\n",
    "            print(\"contains duplicate\")\n",
    "            t=1\n",
    "            break\n",
    "    \n",
    "if t==0:\n",
    "    print(\"no duplicates\")\n",
    "        \n",
    "    "
   ]
  },
  {
   "cell_type": "code",
   "execution_count": 29,
   "id": "4bb71e38-e48e-4248-a031-fc1a7b9f1dd2",
   "metadata": {},
   "outputs": [
    {
     "name": "stdout",
     "output_type": "stream",
     "text": [
      "[5, 6, 7, 1, 2, 3, 4]\n"
     ]
    }
   ],
   "source": [
    "#2. Given an array and an integer k, rotate the array to the right by k steps.\n",
    "#arr = [1, 2, 3, 4, 5, 6, 7] k = 3\n",
    "arr=[1,2,3,4,5,6,7]\n",
    "k=3\n",
    "for i in range(k):\n",
    "    a=arr.pop()\n",
    "    arr.insert(0,a)\n",
    "print(arr)"
   ]
  },
  {
   "cell_type": "code",
   "execution_count": 30,
   "id": "9c7e30ee-fa78-420e-9c13-ba87a863f5b3",
   "metadata": {},
   "outputs": [
    {
     "data": {
      "text/plain": [
       "[12, 9, 7, 5, 4, 2]"
      ]
     },
     "execution_count": 30,
     "metadata": {},
     "output_type": "execute_result"
    }
   ],
   "source": [
    "#3.Reverse the given array in-place, means without using any extra data structure.\n",
    "#arr = [2, 4, 5, 7, 9, 12]\n",
    "arr=[2,4,5,7,9,12]\n",
    "arr[::-1]"
   ]
  },
  {
   "cell_type": "code",
   "execution_count": 31,
   "id": "109fada6-719c-455f-9154-b3c245e53669",
   "metadata": {},
   "outputs": [
    {
     "data": {
      "text/plain": [
       "20"
      ]
     },
     "execution_count": 31,
     "metadata": {},
     "output_type": "execute_result"
    }
   ],
   "source": [
    "#4. Given an array of integers, find the maximum element in an array\n",
    "#arr = [10, 5, 20, 8, 15]\n",
    "arr=[10,5,20,8,15]\n",
    "max(arr)"
   ]
  },
  {
   "cell_type": "code",
   "execution_count": 32,
   "id": "c6e29f1d-a356-4c4f-b8d9-eefb50766813",
   "metadata": {},
   "outputs": [
    {
     "name": "stdout",
     "output_type": "stream",
     "text": [
      "[1, 2, 3, 4, 5]\n"
     ]
    }
   ],
   "source": [
    "#5. Given a sorted array, remove the duplicate element without using any extra data structure.\n",
    "#arr = [1, 1, 2, 2, 2, 3, 3, 4, 4, 4, 5, 5]\n",
    "arr=[1, 1, 2, 2, 2, 3, 3, 4, 4, 4, 5, 5]\n",
    "arr=list(set(arr))\n",
    "print(arr)"
   ]
  },
  {
   "cell_type": "code",
   "execution_count": null,
   "id": "0560d4d5-f0dd-40d1-9906-8bcfa4eccb72",
   "metadata": {},
   "outputs": [],
   "source": []
  }
 ],
 "metadata": {
  "kernelspec": {
   "display_name": "Python 3 (ipykernel)",
   "language": "python",
   "name": "python3"
  },
  "language_info": {
   "codemirror_mode": {
    "name": "ipython",
    "version": 3
   },
   "file_extension": ".py",
   "mimetype": "text/x-python",
   "name": "python",
   "nbconvert_exporter": "python",
   "pygments_lexer": "ipython3",
   "version": "3.10.8"
  }
 },
 "nbformat": 4,
 "nbformat_minor": 5
}
