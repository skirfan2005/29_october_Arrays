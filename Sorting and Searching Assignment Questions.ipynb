{
 "cells": [
  {
   "cell_type": "code",
   "execution_count": 1,
   "id": "887b2038-38d0-4259-951b-b57fbd14765e",
   "metadata": {},
   "outputs": [
    {
     "name": "stdout",
     "output_type": "stream",
     "text": [
      "Intersection: [5]\n"
     ]
    }
   ],
   "source": [
    "# Problem 1: Intersection of Two Sorted Arrays\n",
    "def intersection_of_sorted_arrays(A, B):\n",
    "    i, j = 0, 0\n",
    "    intersection = []\n",
    "    \n",
    "    while i < len(A) and j < len(B):\n",
    "        if A[i] < B[j]:\n",
    "            i += 1\n",
    "        elif A[i] > B[j]:\n",
    "            j += 1\n",
    "        else:\n",
    "            intersection.append(A[i])\n",
    "            i += 1\n",
    "            j += 1\n",
    "            \n",
    "    return intersection\n",
    "\n",
    "# Input\n",
    "A = [1, 3, 5, 7, 9]\n",
    "B = [2, 4, 5, 8]\n",
    "output = intersection_of_sorted_arrays(A, B)\n",
    "print(\"Intersection:\", output)  # Output: Intersection: [5]\n"
   ]
  },
  {
   "cell_type": "code",
   "execution_count": 2,
   "id": "b6b4bc7d-7408-4f02-9309-e948ca6456fe",
   "metadata": {},
   "outputs": [
    {
     "name": "stdout",
     "output_type": "stream",
     "text": [
      "The 3rd smallest element is 7\n"
     ]
    }
   ],
   "source": [
    "# Problem 2: Find the Kth Smallest Element\n",
    "def kth_smallest(nums, k):\n",
    "    nums.sort()\n",
    "    return nums[k - 1]\n",
    "\n",
    "# Input\n",
    "nums = [12, 3, 1, 7, 8, 20]\n",
    "k = 3\n",
    "output = kth_smallest(nums, k)\n",
    "print(f\"The {k}rd smallest element is {output}\")  # Output: The 3rd smallest element is 7\n"
   ]
  },
  {
   "cell_type": "code",
   "execution_count": 3,
   "id": "3027d69c-88db-4431-9b33-090572007385",
   "metadata": {},
   "outputs": [
    {
     "name": "stdout",
     "output_type": "stream",
     "text": [
      "Element 6 found at index 2\n"
     ]
    }
   ],
   "source": [
    "# Problem 3: Binary Search in a Rotated Sorted Array\n",
    "def binary_search_rotated(arr, target):\n",
    "    left, right = 0, len(arr) - 1\n",
    "    \n",
    "    while left <= right:\n",
    "        mid = (left + right) // 2\n",
    "        \n",
    "        if arr[mid] == target:\n",
    "            return mid\n",
    "        \n",
    "        if arr[left] <= arr[mid]:  # Left half is sorted\n",
    "            if arr[left] <= target < arr[mid]:\n",
    "                right = mid - 1\n",
    "            else:\n",
    "                left = mid + 1\n",
    "        else:  # Right half is sorted\n",
    "            if arr[mid] < target <= arr[right]:\n",
    "                left = mid + 1\n",
    "            else:\n",
    "                right = mid - 1\n",
    "                \n",
    "    return -1  # Element not found\n",
    "\n",
    "# Input\n",
    "arr = [4, 5, 6, 7, 8, 9, 1, 2, 3]\n",
    "target = 6\n",
    "index = binary_search_rotated(arr, target)\n",
    "print(f\"Element {target} found at index {index}\")  # Output: Element 6 found at index 2\n"
   ]
  },
  {
   "cell_type": "code",
   "execution_count": 4,
   "id": "d0b368ed-be02-49ad-bf79-15eefe7cacd7",
   "metadata": {},
   "outputs": [
    {
     "name": "stdout",
     "output_type": "stream",
     "text": [
      "Element 11 found at position (1, 2)\n"
     ]
    }
   ],
   "source": [
    "# Problem 4: Searching in a Matrix\n",
    "def search_in_matrix(matrix, target):\n",
    "    for i in range(len(matrix)):\n",
    "        for j in range(len(matrix[i])):\n",
    "            if matrix[i][j] == target:\n",
    "                return (i, j)\n",
    "    return None\n",
    "\n",
    "# Input\n",
    "matrix = [\n",
    "    [1, 3, 5],\n",
    "    [7, 9, 11],\n",
    "    [13, 15, 17]\n",
    "]\n",
    "element = 11\n",
    "position = search_in_matrix(matrix, element)\n",
    "print(f\"Element {element} found at position {position}\")  # Output: Element 11 found at position (1, 2)\n"
   ]
  },
  {
   "cell_type": "code",
   "execution_count": 5,
   "id": "c4b8c68e-adcc-4a4a-abf5-1fc807cfcb6e",
   "metadata": {},
   "outputs": [
    {
     "name": "stdout",
     "output_type": "stream",
     "text": [
      "['kiwi', 'apple', 'grape', 'banana', 'orange']\n"
     ]
    }
   ],
   "source": [
    "# Problem 5: Sorting Strings by Length\n",
    "def sort_strings_by_length(strings):\n",
    "    return sorted(strings, key=len)\n",
    "\n",
    "# Input\n",
    "strings = ['apple', 'banana', 'kiwi', 'orange', 'grape']\n",
    "output = sort_strings_by_length(strings)\n",
    "print(output)  # Output: ['kiwi', 'grape', 'apple', 'banana', 'orange']\n"
   ]
  },
  {
   "cell_type": "code",
   "execution_count": 8,
   "id": "cc16e9e0-c116-4141-bcb7-ee7d10ec370f",
   "metadata": {},
   "outputs": [
    {
     "name": "stdout",
     "output_type": "stream",
     "text": [
      "Sorted array using Merge Sort: [3, 9, 10, 27, 38, 43, 82]\n"
     ]
    }
   ],
   "source": [
    "# Problem 6: Implementing the Merge Sort\n",
    "def merge_sort(arr):\n",
    "    if len(arr) > 1:\n",
    "        mid = len(arr) // 2  # Finding the mid of the array\n",
    "        left_half = arr[:mid]  # Dividing the elements into 2 halves\n",
    "        right_half = arr[mid:]\n",
    "\n",
    "        merge_sort(left_half)  # Sorting the first half\n",
    "        merge_sort(right_half)  # Sorting the second half\n",
    "\n",
    "        i = j = k = 0\n",
    "\n",
    "        # Copy data to temp arrays L[] and R[]\n",
    "        while i < len(left_half) and j < len(right_half):\n",
    "            if left_half[i] < right_half[j]:\n",
    "                arr[k] = left_half[i]\n",
    "                i += 1\n",
    "            else:\n",
    "                arr[k] = right_half[j]\n",
    "                j += 1\n",
    "            k += 1\n",
    "\n",
    "        # Checking if any element was left\n",
    "        while i < len(left_half):\n",
    "            arr[k] = left_half[i]\n",
    "            i += 1\n",
    "            k += 1\n",
    "\n",
    "        while j < len(right_half):\n",
    "            arr[k] = right_half[j]\n",
    "            j += 1\n",
    "            k += 1\n",
    "\n",
    "    return arr\n",
    "\n",
    "# Test the merge sort function\n",
    "arr_merge = [38, 27, 43, 3, 9, 82, 10]\n",
    "print(\"Sorted array using Merge Sort:\", merge_sort(arr_merge))\n"
   ]
  },
  {
   "cell_type": "code",
   "execution_count": 9,
   "id": "0cd6d57a-25e9-4dff-a688-2c6a80c33046",
   "metadata": {},
   "outputs": [
    {
     "name": "stdout",
     "output_type": "stream",
     "text": [
      "Sorted array using Quick Sort: [3, 9, 10, 27, 38, 43, 82]\n"
     ]
    }
   ],
   "source": [
    "# Problem 7: Implementing the Quick Sort\n",
    "def quick_sort(arr):\n",
    "    if len(arr) <= 1:\n",
    "        return arr\n",
    "    else:\n",
    "        pivot = arr[len(arr) // 2]  # Choose the middle element as pivot\n",
    "        left = [x for x in arr if x < pivot]  # Elements less than pivot\n",
    "        middle = [x for x in arr if x == pivot]  # Elements equal to pivot\n",
    "        right = [x for x in arr if x > pivot]  # Elements greater than pivot\n",
    "        return quick_sort(left) + middle + quick_sort(right)\n",
    "\n",
    "# Test the quick sort function\n",
    "arr_quick = [38, 27, 43, 3, 9, 82, 10]\n",
    "print(\"Sorted array using Quick Sort:\", quick_sort(arr_quick))\n"
   ]
  },
  {
   "cell_type": "code",
   "execution_count": 10,
   "id": "77d1e873-d9c0-40ec-a542-cfaf8b00fd10",
   "metadata": {},
   "outputs": [
    {
     "name": "stdout",
     "output_type": "stream",
     "text": [
      "Sorted array using Count Sort: [1, 2, 2, 3, 3, 4, 8]\n"
     ]
    }
   ],
   "source": [
    "# Problem 8: Implementing the Count Sort\n",
    "def count_sort(arr):\n",
    "    if len(arr) == 0:\n",
    "        return arr\n",
    "    \n",
    "    max_val = max(arr)  # Find the maximum value in the array\n",
    "    count = [0] * (max_val + 1)  # Create a count array\n",
    "    output = [0] * len(arr)  # Output array to hold sorted values\n",
    "\n",
    "    # Store the count of each number\n",
    "    for num in arr:\n",
    "        count[num] += 1\n",
    "\n",
    "    # Change count[i] so that it contains the actual position of this number in output[]\n",
    "    for i in range(1, len(count)):\n",
    "        count[i] += count[i - 1]\n",
    "\n",
    "    # Build the output array\n",
    "    for num in reversed(arr):\n",
    "        output[count[num] - 1] = num\n",
    "        count[num] -= 1\n",
    "\n",
    "    return output\n",
    "\n",
    "# Test the count sort function\n",
    "arr_count = [4, 2, 2, 8, 3, 3, 1]\n",
    "print(\"Sorted array using Count Sort:\", count_sort(arr_count))\n"
   ]
  },
  {
   "cell_type": "code",
   "execution_count": 6,
   "id": "ba250d09-861a-49dc-94c4-137fe42a48a5",
   "metadata": {},
   "outputs": [
    {
     "name": "stdout",
     "output_type": "stream",
     "text": [
      "Peak element is 20\n"
     ]
    }
   ],
   "source": [
    "# Problem 9: Find a Peak Element\n",
    "def find_peak_element(arr):\n",
    "    n = len(arr)\n",
    "    if n == 0:\n",
    "        return None\n",
    "    if n == 1 or arr[0] >= arr[1]:\n",
    "        return arr[0]\n",
    "    if arr[n - 1] >= arr[n - 2]:\n",
    "        return arr[n - 1]\n",
    "    \n",
    "    for i in range(1, n - 1):\n",
    "        if arr[i] >= arr[i - 1] and arr[i] >= arr[i + 1]:\n",
    "            return arr[i]\n",
    "    return None\n",
    "\n",
    "# Input\n",
    "arr = [1, 3, 20, 4, 1, 0]\n",
    "output = find_peak_element(arr)\n",
    "print(f\"Peak element is {output}\")  # Output: Peak element is 20\n"
   ]
  },
  {
   "cell_type": "code",
   "execution_count": null,
   "id": "50cac45f-93a7-4026-8f4c-19ff0b45022b",
   "metadata": {},
   "outputs": [],
   "source": [
    "# Problem 10: Search in a Nearly Sorted Array\n",
    "def binary_search_nearly_sorted(arr, target, k):\n",
    "    n = len(arr)\n",
    "    for i in range(max(0, target - k), min(n, target + k + 1)):\n",
    "        if arr[i] == target:\n",
    "            return f\"Element {target} found at index {i}\"\n",
    "    return f\"Element {target} not found\"\n",
    "\n",
    "# Test the function\n",
    "arr = [2, 1, 3, 4, 6, 5, 7]\n",
    "target = 5\n",
    "k = 1\n",
    "print(binary_search_nearly_sorted(arr, target, k))"
   ]
  }
 ],
 "metadata": {
  "kernelspec": {
   "display_name": "Python 3 (ipykernel)",
   "language": "python",
   "name": "python3"
  },
  "language_info": {
   "codemirror_mode": {
    "name": "ipython",
    "version": 3
   },
   "file_extension": ".py",
   "mimetype": "text/x-python",
   "name": "python",
   "nbconvert_exporter": "python",
   "pygments_lexer": "ipython3",
   "version": "3.11.7"
  }
 },
 "nbformat": 4,
 "nbformat_minor": 5
}
