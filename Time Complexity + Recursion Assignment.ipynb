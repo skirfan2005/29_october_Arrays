{
 "cells": [
  {
   "cell_type": "code",
   "execution_count": null,
   "id": "c466b57c",
   "metadata": {},
   "outputs": [],
   "source": [
    "# Problem 1: Implement the QuickSort algorithm in Python.\n",
    "def quicksort(arr):\n",
    "    if len(arr) <= 1:\n",
    "        return arr\n",
    "    pivot = arr[len(arr) // 2]\n",
    "    left = [x for x in arr if x < pivot]\n",
    "    middle = [x for x in arr if x == pivot]\n",
    "    right = [x for x in arr if x > pivot]\n",
    "    return quicksort(left) + middle + quicksort(right)\n"
   ]
  },
  {
   "cell_type": "code",
   "execution_count": null,
   "id": "2e2347f8",
   "metadata": {},
   "outputs": [],
   "source": [
    "# Problem 2: Implement a function that calculates the sum of all elements in a 2D matrix using nested loops.\n",
    "def nested_loop_example(matrix):\n",
    "    rows, cols = len(matrix), len(matrix[0])\n",
    "    total = 0\n",
    "    for i in range(rows):\n",
    "        for j in range(cols):\n",
    "            total += matrix[i][j]\n",
    "    return total\n"
   ]
  },
  {
   "cell_type": "code",
   "execution_count": null,
   "id": "64d3f63d",
   "metadata": {},
   "outputs": [],
   "source": [
    "# Problem 3: Implement a function that calculates the sum of all elements in an array.\n",
    "def example_function(arr):\n",
    "    result = 0\n",
    "    for element in arr:\n",
    "        result += element\n",
    "    return result\n"
   ]
  },
  {
   "cell_type": "code",
   "execution_count": null,
   "id": "69a03119",
   "metadata": {},
   "outputs": [],
   "source": [
    "# Problem 4: Implement a function that calculates the length of the longest increasing subsequence in an array.\n",
    "def longest_increasing_subsequence(nums):\n",
    "    n = len(nums)\n",
    "    lis = [1] * n\n",
    "    for i in range(1, n):\n",
    "        for j in range(0, i):\n",
    "            if nums[i] > nums[j] and lis[i] < lis[j] + 1:\n",
    "                lis[i] = lis[j] + 1\n",
    "    return max(lis)\n"
   ]
  },
  {
   "cell_type": "code",
   "execution_count": null,
   "id": "e6f46299",
   "metadata": {},
   "outputs": [],
   "source": [
    "# Problem 5: Implement a function that calculates the sum of products of all pairs of elements in an array.\n",
    "def mysterious_function(arr):\n",
    "    n = len(arr)\n",
    "    result = 0\n",
    "    for i in range(n):\n",
    "        for j in range(i, n):\n",
    "            result += arr[i] * arr[j]\n",
    "    return result\n"
   ]
  },
  {
   "cell_type": "code",
   "execution_count": null,
   "id": "0435abd5",
   "metadata": {},
   "outputs": [],
   "source": [
    "# Problem 6: Write a recursive function to calculate the sum of digits of a given positive integer.\n",
    "# sum_of_digits(123) -> 6\n",
    "def sum_of_digits(n):\n",
    "    if n == 0:\n",
    "        return 0\n",
    "    else:\n",
    "        return n % 10 + sum_of_digits(n // 10)\n"
   ]
  },
  {
   "cell_type": "code",
   "execution_count": null,
   "id": "1769d865",
   "metadata": {},
   "outputs": [],
   "source": [
    "# Problem 7: Write a recursive function to generate the first n numbers of the Fibonacci series.\n",
    "# fibonacci_series(6) -> [0, 1, 1, 2, 3, 5]\n",
    "def fibonacci_series(n):\n",
    "    if n == 0:\n",
    "        return []\n",
    "    elif n == 1:\n",
    "        return [0]\n",
    "    elif n == 2:\n",
    "        return [0, 1]\n",
    "    else:\n",
    "        fib = fibonacci_series(n - 1)\n",
    "        return fib + [fib[-1] + fib[-2]]\n"
   ]
  },
  {
   "cell_type": "code",
   "execution_count": null,
   "id": "d897c057",
   "metadata": {},
   "outputs": [],
   "source": [
    "# Problem 8: Given a set of positive integers and a target sum, write a recursive function to determine if there exists a subset that adds up to the target sum.\n",
    "# subset_sum([3, 34, 4, 12, 5, 2], 9) -> True\n",
    "def subset_sum(nums, target):\n",
    "    if target == 0:\n",
    "        return True\n",
    "    if not nums:\n",
    "        return False\n",
    "    if nums[0] > target:\n",
    "        return subset_sum(nums[1:], target)\n",
    "    return subset_sum(nums[1:], target) or subset_sum(nums[1:], target - nums[0])\n"
   ]
  },
  {
   "cell_type": "code",
   "execution_count": null,
   "id": "e134addf",
   "metadata": {},
   "outputs": [],
   "source": [
    "# Problem 9: Given a non-empty string and a dictionary of words, write a recursive function to determine if the string can be segmented into a space-separated sequence of dictionary words.\n",
    "# word_break(\"leetcode\", [\"leet\", \"code\"]) -> True\n",
    "def word_break(s, word_dict):\n",
    "    if not s:\n",
    "        return True\n",
    "    for word in word_dict:\n",
    "        if s.startswith(word):\n",
    "            if word_break(s[len(word):], word_dict):\n",
    "                return True\n",
    "    return False\n"
   ]
  },
  {
   "cell_type": "code",
   "execution_count": null,
   "id": "e3d5e559",
   "metadata": {},
   "outputs": [],
   "source": [
    "# Problem 10: Implement a recursive function to solve the N-Queens problem, where you have to place N queens on an N×N chessboard in such a way that no two queens threaten each other.\n",
    "# n_queens(4) -> \n",
    "# [\n",
    "# [\".Q..\",\n",
    "# \"...Q\",\n",
    "# \"Q...\",\n",
    "# \"..Q.\"],\n",
    "# [\"..Q.\",\n",
    "# \"Q...\",\n",
    "# \"...Q\",\n",
    "# \".Q..\"]\n",
    "# ]\n",
    "def n_queens(n):\n",
    "    def is_valid(board, row, col):\n",
    "        for i in range(row):\n",
    "            if board[i] == col or board[i] - i == col - row or board[i] + i == col + row:\n",
    "                return False\n",
    "        return True\n",
    "\n",
    "    def solve_n_queens(row):\n",
    "        if row == n:\n",
    "            result.append([\".\" * i + \"Q\" + \".\" * (n - i - 1) for i in board])\n",
    "            return\n",
    "        for col in range(n):\n",
    "            if is_valid(board, row, col):\n",
    "                board[row] = col\n",
    "                solve_n_queens(row + 1)\n",
    "\n",
    "    result = []\n",
    "    board = [-1] * n\n",
    "    solve_n_queens(0)\n",
    "    return result\n"
   ]
  }
 ],
 "metadata": {
  "kernelspec": {
   "display_name": "Python 3 (ipykernel)",
   "language": "python",
   "name": "python3"
  },
  "language_info": {
   "codemirror_mode": {
    "name": "ipython",
    "version": 3
   },
   "file_extension": ".py",
   "mimetype": "text/x-python",
   "name": "python",
   "nbconvert_exporter": "python",
   "pygments_lexer": "ipython3",
   "version": "3.11.5"
  }
 },
 "nbformat": 4,
 "nbformat_minor": 5
}
