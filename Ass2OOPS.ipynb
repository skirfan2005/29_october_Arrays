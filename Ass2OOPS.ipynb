{
 "cells": [
  {
   "cell_type": "code",
   "execution_count": 1,
   "id": "0aeb9d55-0d19-4fda-8ef1-e7d3d6260060",
   "metadata": {},
   "outputs": [],
   "source": [
    "# 1. What is a constructor in Python? Explain its purpose and usage.\n",
    "class Example:\n",
    "    def __init__(self):\n",
    "        print(\"Constructor is called!\")\n"
   ]
  },
  {
   "cell_type": "code",
   "execution_count": 2,
   "id": "f3214449-7600-4deb-8412-d764c7b9fee4",
   "metadata": {},
   "outputs": [],
   "source": [
    "# 2. Differentiate between a parameterless constructor and a parameterized constructor in Python.\n",
    "# Parameterless constructor\n",
    "class A:\n",
    "    def __init__(self):\n",
    "        self.value = 10\n",
    "\n",
    "# Parameterized constructor\n",
    "class B:\n",
    "    def __init__(self, val):\n",
    "        self.value = val\n"
   ]
  },
  {
   "cell_type": "code",
   "execution_count": 3,
   "id": "ff5880ec-9564-4e34-988a-b486bbee289d",
   "metadata": {},
   "outputs": [],
   "source": [
    "# 3. How do you define a constructor in a Python class? Provide an example.\n",
    "class Person:\n",
    "    def __init__(self, name, age):\n",
    "        self.name = name\n",
    "        self.age = age\n"
   ]
  },
  {
   "cell_type": "code",
   "execution_count": 4,
   "id": "ffb3db63-4203-4b04-b422-f72e4cada53d",
   "metadata": {},
   "outputs": [],
   "source": [
    "# 4. Explain the `__init__` method in Python and its role in constructors.\n",
    "class Example:\n",
    "    def __init__(self):\n",
    "        print(\"This is the __init__ method, which is used as a constructor.\")\n"
   ]
  },
  {
   "cell_type": "code",
   "execution_count": 5,
   "id": "6343d55f-87f0-4754-853a-49724c49285b",
   "metadata": {},
   "outputs": [
    {
     "name": "stdout",
     "output_type": "stream",
     "text": [
      "John 25\n"
     ]
    }
   ],
   "source": [
    "# 5. In a class named `Person`, create a constructor that initializes the `name` and `age` attributes. Provide an example of creating an object of this class.\n",
    "class Person:\n",
    "    def __init__(self, name, age):\n",
    "        self.name = name\n",
    "        self.age = age\n",
    "\n",
    "# Creating an object of the class\n",
    "person1 = Person(\"John\", 25)\n",
    "print(person1.name, person1.age)\n"
   ]
  },
  {
   "cell_type": "code",
   "execution_count": 6,
   "id": "879991bd-b06f-48e9-8c49-c7d51f338ab1",
   "metadata": {},
   "outputs": [
    {
     "name": "stdout",
     "output_type": "stream",
     "text": [
      "Constructor called!\n"
     ]
    }
   ],
   "source": [
    "# 6. How can you call a constructor explicitly in Python? Give an example.\n",
    "class Example:\n",
    "    def __init__(self):\n",
    "        print(\"Constructor called!\")\n",
    "\n",
    "# Explicitly calling the constructor\n",
    "obj = Example.__new__(Example)\n",
    "obj.__init__()\n"
   ]
  },
  {
   "cell_type": "code",
   "execution_count": 7,
   "id": "825bca9d-4193-479d-9743-f2596b37fb3a",
   "metadata": {},
   "outputs": [
    {
     "name": "stdout",
     "output_type": "stream",
     "text": [
      "5\n"
     ]
    }
   ],
   "source": [
    "# 7. What is the significance of the `self` parameter in Python constructors? Explain with an example.\n",
    "class Example:\n",
    "    def __init__(self, value):\n",
    "        self.value = value\n",
    "\n",
    "# The `self` parameter allows the instance of the class to access its own attributes.\n",
    "example = Example(5)\n",
    "print(example.value)\n"
   ]
  },
  {
   "cell_type": "code",
   "execution_count": 8,
   "id": "a9f30f53-eaf9-4860-bf6c-b849b9c7feea",
   "metadata": {},
   "outputs": [
    {
     "name": "stdout",
     "output_type": "stream",
     "text": [
      "0\n"
     ]
    }
   ],
   "source": [
    "# 8. Discuss the concept of default constructors in Python. When are they used?\n",
    "class Example:\n",
    "    def __init__(self):\n",
    "        self.value = 0\n",
    "\n",
    "# Default constructors are used when no arguments are passed.\n",
    "example = Example()\n",
    "print(example.value)\n"
   ]
  },
  {
   "cell_type": "code",
   "execution_count": 9,
   "id": "3c9526aa-ec98-448b-bf8c-4d021b3bddac",
   "metadata": {},
   "outputs": [
    {
     "name": "stdout",
     "output_type": "stream",
     "text": [
      "50\n"
     ]
    }
   ],
   "source": [
    "# 9. Create a Python class called `Rectangle` with a constructor that initializes the `width` and `height` attributes. Provide a method to calculate the area of the rectangle.\n",
    "class Rectangle:\n",
    "    def __init__(self, width, height):\n",
    "        self.width = width\n",
    "        self.height = height\n",
    "\n",
    "    def area(self):\n",
    "        return self.width * self.height\n",
    "\n",
    "# Creating an object and calculating the area\n",
    "rect = Rectangle(5, 10)\n",
    "print(rect.area())\n"
   ]
  },
  {
   "cell_type": "code",
   "execution_count": 10,
   "id": "1a52fa24-698f-4d06-a106-a8c23b58fd9e",
   "metadata": {},
   "outputs": [
    {
     "name": "stdout",
     "output_type": "stream",
     "text": [
      "0 10\n"
     ]
    }
   ],
   "source": [
    "# 10. How can you have multiple constructors in a Python class? Explain with an example.\n",
    "class Example:\n",
    "    def __init__(self, value=None):\n",
    "        if value:\n",
    "            self.value = value\n",
    "        else:\n",
    "            self.value = 0\n",
    "\n",
    "example1 = Example()\n",
    "example2 = Example(10)\n",
    "print(example1.value, example2.value)\n"
   ]
  },
  {
   "cell_type": "code",
   "execution_count": 11,
   "id": "164b1a4e-8f8c-45fd-952b-287445cf4afe",
   "metadata": {},
   "outputs": [],
   "source": [
    "# 11. What is method overloading, and how is it related to constructors in Python?\n",
    "# Python does not support method overloading by default. However, you can use default arguments in constructors to achieve similar functionality.\n",
    "class Example:\n",
    "    def __init__(self, value=None):\n",
    "        if value is not None:\n",
    "            self.value = value\n",
    "        else:\n",
    "            self.value = 0\n"
   ]
  },
  {
   "cell_type": "code",
   "execution_count": 12,
   "id": "54b01a05-9628-4f23-b0d7-882d79550320",
   "metadata": {},
   "outputs": [
    {
     "name": "stdout",
     "output_type": "stream",
     "text": [
      "Alice 10\n"
     ]
    }
   ],
   "source": [
    "# 12. Explain the use of the `super()` function in Python constructors. Provide an example.\n",
    "class Parent:\n",
    "    def __init__(self, name):\n",
    "        self.name = name\n",
    "\n",
    "class Child(Parent):\n",
    "    def __init__(self, name, age):\n",
    "        super().__init__(name)\n",
    "        self.age = age\n",
    "\n",
    "# Creating an object of the Child class\n",
    "child = Child(\"Alice\", 10)\n",
    "print(child.name, child.age)\n"
   ]
  },
  {
   "cell_type": "code",
   "execution_count": 13,
   "id": "560cf1d5-6e33-437b-b87a-84cb7fae7eeb",
   "metadata": {},
   "outputs": [
    {
     "name": "stdout",
     "output_type": "stream",
     "text": [
      "Title: 1984, Author: George Orwell, Year: 1949\n"
     ]
    }
   ],
   "source": [
    "# 13. Create a class called `Book` with a constructor that initializes the `title`, `author`, and `published_year` attributes. Provide a method to display book details.\n",
    "class Book:\n",
    "    def __init__(self, title, author, published_year):\n",
    "        self.title = title\n",
    "        self.author = author\n",
    "        self.published_year = published_year\n",
    "\n",
    "    def display(self):\n",
    "        print(f\"Title: {self.title}, Author: {self.author}, Year: {self.published_year}\")\n",
    "\n",
    "# Creating an object of the class\n",
    "book = Book(\"1984\", \"George Orwell\", 1949)\n",
    "book.display()\n"
   ]
  },
  {
   "cell_type": "code",
   "execution_count": 14,
   "id": "1d5615c1-5183-4028-bb28-cf0dd8b4adf5",
   "metadata": {},
   "outputs": [
    {
     "name": "stdout",
     "output_type": "stream",
     "text": [
      "Constructor called\n",
      "Regular method called\n"
     ]
    }
   ],
   "source": [
    "# 14. Discuss the differences between constructors and regular methods in Python classes.\n",
    "# Constructors are called automatically when an object is created, while regular methods need to be called explicitly.\n",
    "class Example:\n",
    "    def __init__(self):\n",
    "        print(\"Constructor called\")\n",
    "\n",
    "    def method(self):\n",
    "        print(\"Regular method called\")\n",
    "\n",
    "example = Example()  # Constructor is called\n",
    "example.method()     # Regular method needs to be called explicitly\n"
   ]
  },
  {
   "cell_type": "code",
   "execution_count": 15,
   "id": "acfd9725-6696-4a97-a944-0f6438ba4e2d",
   "metadata": {},
   "outputs": [
    {
     "name": "stdout",
     "output_type": "stream",
     "text": [
      "10\n"
     ]
    }
   ],
   "source": [
    "# 15. Explain the role of the `self` parameter in instance variable initialization within a constructor.\n",
    "class Example:\n",
    "    def __init__(self, value):\n",
    "        self.value = value  # `self` is used to refer to the instance variable\n",
    "\n",
    "# Creating an object\n",
    "example = Example(10)\n",
    "print(example.value)\n"
   ]
  },
  {
   "cell_type": "code",
   "execution_count": 16,
   "id": "cd801b70-b446-42a7-9568-addd0de0bfd7",
   "metadata": {},
   "outputs": [
    {
     "name": "stdout",
     "output_type": "stream",
     "text": [
      "True\n"
     ]
    }
   ],
   "source": [
    "# 16. How do you prevent a class from having multiple instances by using constructors in Python? Provide an example.\n",
    "class Singleton:\n",
    "    _instance = None\n",
    "\n",
    "    def __new__(cls):\n",
    "        if cls._instance is None:\n",
    "            cls._instance = super(Singleton, cls).__new__(cls)\n",
    "        return cls._instance\n",
    "\n",
    "# Creating two objects, but both refer to the same instance\n",
    "obj1 = Singleton()\n",
    "obj2 = Singleton()\n",
    "print(obj1 is obj2)  # Output: True\n"
   ]
  },
  {
   "cell_type": "code",
   "execution_count": 17,
   "id": "83eb714c-647e-4df6-8b73-b0eb760a9e5d",
   "metadata": {},
   "outputs": [
    {
     "name": "stdout",
     "output_type": "stream",
     "text": [
      "['Math', 'Science', 'History']\n"
     ]
    }
   ],
   "source": [
    "# 17. Create a Python class called `Student` with a constructor that takes a list of subjects as a parameter and initializes the `subjects` attribute.\n",
    "class Student:\n",
    "    def __init__(self, subjects):\n",
    "        self.subjects = subjects\n",
    "\n",
    "# Creating an object of the class\n",
    "student = Student([\"Math\", \"Science\", \"History\"])\n",
    "print(student.subjects)\n"
   ]
  },
  {
   "cell_type": "code",
   "execution_count": 18,
   "id": "62ddf76b-6e56-4d09-a453-2ab69c20717e",
   "metadata": {},
   "outputs": [
    {
     "name": "stdout",
     "output_type": "stream",
     "text": [
      "Constructor called\n",
      "Destructor called\n"
     ]
    }
   ],
   "source": [
    "# 18. What is the purpose of the `__del__` method in Python classes, and how does it relate to constructors?\n",
    "class Example:\n",
    "    def __init__(self):\n",
    "        print(\"Constructor called\")\n",
    "\n",
    "    def __del__(self):\n",
    "        print(\"Destructor called\")\n",
    "\n",
    "# Creating and deleting an object\n",
    "example = Example()\n",
    "del example\n"
   ]
  },
  {
   "cell_type": "code",
   "execution_count": 19,
   "id": "70795ea9-19fa-4614-a33e-12f70a0b699c",
   "metadata": {},
   "outputs": [
    {
     "name": "stdout",
     "output_type": "stream",
     "text": [
      "Parent constructor called\n",
      "Child constructor called\n"
     ]
    }
   ],
   "source": [
    "# 19. Explain the use of constructor chaining in Python. Provide a practical example.\n",
    "class Parent:\n",
    "    def __init__(self, name):\n",
    "        self.name = name\n",
    "        print(\"Parent constructor called\")\n",
    "\n",
    "class Child(Parent):\n",
    "    def __init__(self, name, age):\n",
    "        super().__init__(name)\n",
    "        self.age = age\n",
    "        print(\"Child constructor called\")\n",
    "\n",
    "# Creating an object of the Child class\n",
    "child = Child(\"John\", 12)\n"
   ]
  },
  {
   "cell_type": "code",
   "execution_count": 20,
   "id": "2a07a71c-5ce3-4ee8-9cd7-c3a62437b899",
   "metadata": {},
   "outputs": [
    {
     "name": "stdout",
     "output_type": "stream",
     "text": [
      "Make: Toyota, Model: Camry\n"
     ]
    }
   ],
   "source": [
    "# 20. Create a Python class called `Car` with a default constructor that initializes the `make` and `model` attributes. Provide a method to display car information.\n",
    "class Car:\n",
    "    def __init__(self):\n",
    "        self.make = \"Toyota\"\n",
    "        self.model = \"Camry\"\n",
    "\n",
    "    def display(self):\n",
    "        print(f\"Make: {self.make}, Model: {self.model}\")\n",
    "\n",
    "# Creating an object of the class\n",
    "car = Car()\n",
    "car.display()\n"
   ]
  },
  {
   "cell_type": "code",
   "execution_count": 21,
   "id": "99cf8b37-1d7c-4c52-94ee-ed6b1939060f",
   "metadata": {},
   "outputs": [
    {
     "name": "stdout",
     "output_type": "stream",
     "text": [
      "Hello from Parent\n"
     ]
    }
   ],
   "source": [
    "# 1. What is inheritance in Python? Explain its significance in object-oriented programming.\n",
    "# Inheritance allows a child class to inherit attributes and methods from a parent class, promoting code reuse.\n",
    "class Parent:\n",
    "    def greet(self):\n",
    "        print(\"Hello from Parent\")\n",
    "\n",
    "class Child(Parent):\n",
    "    pass\n",
    "\n",
    "# Creating an object of Child class\n",
    "child = Child()\n",
    "child.greet()\n"
   ]
  },
  {
   "cell_type": "code",
   "execution_count": 22,
   "id": "70941591-83b8-40d8-be16-0f684c4c5f21",
   "metadata": {},
   "outputs": [
    {
     "name": "stdout",
     "output_type": "stream",
     "text": [
      "Hello from Parent1\n",
      "Hello from Parent2\n"
     ]
    }
   ],
   "source": [
    "# 2. Differentiate between single inheritance and multiple inheritance in Python. Provide examples for each.\n",
    "\n",
    "# Single inheritance\n",
    "class Parent:\n",
    "    def greet(self):\n",
    "        print(\"Hello from Parent\")\n",
    "\n",
    "class Child(Parent):\n",
    "    pass\n",
    "\n",
    "# Multiple inheritance\n",
    "class Parent1:\n",
    "    def greet1(self):\n",
    "        print(\"Hello from Parent1\")\n",
    "\n",
    "class Parent2:\n",
    "    def greet2(self):\n",
    "        print(\"Hello from Parent2\")\n",
    "\n",
    "class Child(Parent1, Parent2):\n",
    "    pass\n",
    "\n",
    "# Creating an object of Child class for both\n",
    "child_single = Child()  # Single inheritance\n",
    "child_multi = Child()   # Multiple inheritance\n",
    "child_single.greet1()\n",
    "child_multi.greet2()\n"
   ]
  },
  {
   "cell_type": "code",
   "execution_count": 23,
   "id": "190d223b-49c5-4d38-9509-a25845d8817e",
   "metadata": {},
   "outputs": [
    {
     "name": "stdout",
     "output_type": "stream",
     "text": [
      "Red 150 Toyota\n"
     ]
    }
   ],
   "source": [
    "# 3. Create a Python class called `Vehicle` with attributes `color` and `speed`. Then, create a child class called `Car` that inherits from `Vehicle` and adds a `brand` attribute.\n",
    "class Vehicle:\n",
    "    def __init__(self, color, speed):\n",
    "        self.color = color\n",
    "        self.speed = speed\n",
    "\n",
    "class Car(Vehicle):\n",
    "    def __init__(self, color, speed, brand):\n",
    "        super().__init__(color, speed)\n",
    "        self.brand = brand\n",
    "\n",
    "# Creating a Car object\n",
    "car = Car(\"Red\", 150, \"Toyota\")\n",
    "print(car.color, car.speed, car.brand)\n"
   ]
  },
  {
   "cell_type": "code",
   "execution_count": 24,
   "id": "3804bbd0-c971-4b1b-8b22-9da476c4bcee",
   "metadata": {},
   "outputs": [
    {
     "name": "stdout",
     "output_type": "stream",
     "text": [
      "This is Child's method\n"
     ]
    }
   ],
   "source": [
    "# 4. Explain the concept of method overriding in inheritance. Provide a practical example.\n",
    "class Parent:\n",
    "    def show(self):\n",
    "        print(\"This is Parent's method\")\n",
    "\n",
    "class Child(Parent):\n",
    "    def show(self):\n",
    "        print(\"This is Child's method\")\n",
    "\n",
    "# Method overriding\n",
    "child = Child()\n",
    "child.show()\n"
   ]
  },
  {
   "cell_type": "code",
   "execution_count": 25,
   "id": "34d29d2d-1dcc-44b5-9ad3-35d79cf63b45",
   "metadata": {},
   "outputs": [
    {
     "name": "stdout",
     "output_type": "stream",
     "text": [
      "Hello from Child\n",
      "Hello from Parent\n"
     ]
    }
   ],
   "source": [
    "# 5. How can you access the methods and attributes of a parent class from a child class in Python? Give an example.\n",
    "class Parent:\n",
    "    def greet(self):\n",
    "        print(\"Hello from Parent\")\n",
    "\n",
    "class Child(Parent):\n",
    "    def greet(self):\n",
    "        print(\"Hello from Child\")\n",
    "        super().greet()  # Accessing parent class method\n",
    "\n",
    "# Creating an object of Child class\n",
    "child = Child()\n",
    "child.greet()\n"
   ]
  },
  {
   "cell_type": "code",
   "execution_count": 26,
   "id": "0fdbf3a2-f628-43d1-b62e-c10be85ad186",
   "metadata": {},
   "outputs": [
    {
     "name": "stdout",
     "output_type": "stream",
     "text": [
      "Alice 10\n"
     ]
    }
   ],
   "source": [
    "# 6. Discuss the use of the `super()` function in Python inheritance. When and why is it used? Provide an example.\n",
    "# `super()` is used to call methods from a parent class in a child class.\n",
    "class Parent:\n",
    "    def __init__(self, name):\n",
    "        self.name = name\n",
    "\n",
    "class Child(Parent):\n",
    "    def __init__(self, name, age):\n",
    "        super().__init__(name)  # Calling parent class constructor\n",
    "        self.age = age\n",
    "\n",
    "# Creating an object of Child class\n",
    "child = Child(\"Alice\", 10)\n",
    "print(child.name, child.age)\n"
   ]
  },
  {
   "cell_type": "code",
   "execution_count": 27,
   "id": "a9df1143-6145-4deb-96d1-224aaba79cc1",
   "metadata": {},
   "outputs": [
    {
     "name": "stdout",
     "output_type": "stream",
     "text": [
      "Woof! Meow!\n"
     ]
    }
   ],
   "source": [
    "# 7. Create a Python class called `Animal` with a method `speak()`. Then, create child classes `Dog` and `Cat` that inherit from `Animal` and override the `speak()` method.\n",
    "class Animal:\n",
    "    def speak(self):\n",
    "        pass\n",
    "\n",
    "class Dog(Animal):\n",
    "    def speak(self):\n",
    "        return \"Woof!\"\n",
    "\n",
    "class Cat(Animal):\n",
    "    def speak(self):\n",
    "        return \"Meow!\"\n",
    "\n",
    "# Creating objects\n",
    "dog = Dog()\n",
    "cat = Cat()\n",
    "print(dog.speak(), cat.speak())\n"
   ]
  },
  {
   "cell_type": "code",
   "execution_count": 28,
   "id": "db399716-dfc0-4f0c-8243-6c7864e8bf41",
   "metadata": {},
   "outputs": [
    {
     "name": "stdout",
     "output_type": "stream",
     "text": [
      "True\n"
     ]
    }
   ],
   "source": [
    "# 8. Explain the role of the `isinstance()` function in Python and how it relates to inheritance.\n",
    "class Animal:\n",
    "    pass\n",
    "\n",
    "class Dog(Animal):\n",
    "    pass\n",
    "\n",
    "dog = Dog()\n",
    "print(isinstance(dog, Animal))  # True because Dog inherits from Animal\n"
   ]
  },
  {
   "cell_type": "code",
   "execution_count": 29,
   "id": "b31b4868-a162-4f2f-bf4c-d19ec06333a5",
   "metadata": {},
   "outputs": [
    {
     "name": "stdout",
     "output_type": "stream",
     "text": [
      "True\n"
     ]
    }
   ],
   "source": [
    "# 9. What is the purpose of the `issubclass()` function in Python? Provide an example.\n",
    "class Animal:\n",
    "    pass\n",
    "\n",
    "class Dog(Animal):\n",
    "    pass\n",
    "\n",
    "print(issubclass(Dog, Animal))  # True because Dog is a subclass of Animal\n"
   ]
  },
  {
   "cell_type": "code",
   "execution_count": 30,
   "id": "06a73a00-abb0-4707-aca7-3f49bd3773e7",
   "metadata": {},
   "outputs": [
    {
     "name": "stdout",
     "output_type": "stream",
     "text": [
      "John 15\n"
     ]
    }
   ],
   "source": [
    "# 10. Discuss the concept of constructor inheritance in Python. How are constructors inherited in child classes?\n",
    "class Parent:\n",
    "    def __init__(self, name):\n",
    "        self.name = name\n",
    "\n",
    "class Child(Parent):\n",
    "    def __init__(self, name, age):\n",
    "        super().__init__(name)  # Inherits constructor of Parent\n",
    "        self.age = age\n",
    "\n",
    "# Creating an object\n",
    "child = Child(\"John\", 15)\n",
    "print(child.name, child.age)\n"
   ]
  },
  {
   "cell_type": "code",
   "execution_count": 31,
   "id": "0a06b259-0078-40a3-bf3a-f0e0cae097d1",
   "metadata": {},
   "outputs": [
    {
     "name": "stdout",
     "output_type": "stream",
     "text": [
      "78.53981633974483 24\n"
     ]
    }
   ],
   "source": [
    "# 11. Create a Python class called `Shape` with a method `area()` that calculates the area of a shape. Then, create child classes `Circle` and `Rectangle` that inherit from `Shape` and implement the `area()` method.\n",
    "import math\n",
    "\n",
    "class Shape:\n",
    "    def area(self):\n",
    "        pass\n",
    "\n",
    "class Circle(Shape):\n",
    "    def __init__(self, radius):\n",
    "        self.radius = radius\n",
    "\n",
    "    def area(self):\n",
    "        return math.pi * self.radius ** 2\n",
    "\n",
    "class Rectangle(Shape):\n",
    "    def __init__(self, width, height):\n",
    "        self.width = width\n",
    "        self.height = height\n",
    "\n",
    "    def area(self):\n",
    "        return self.width * self.height\n",
    "\n",
    "# Creating objects\n",
    "circle = Circle(5)\n",
    "rectangle = Rectangle(4, 6)\n",
    "print(circle.area(), rectangle.area())\n"
   ]
  },
  {
   "cell_type": "code",
   "execution_count": 32,
   "id": "a8677f02-3d47-4e35-af50-9ecbc99f13af",
   "metadata": {},
   "outputs": [
    {
     "name": "stdout",
     "output_type": "stream",
     "text": [
      "78.5\n"
     ]
    }
   ],
   "source": [
    "# 12. Explain the use of abstract base classes (ABCs) in Python and how they relate to inheritance. Provide an example using the `abc` module.\n",
    "from abc import ABC, abstractmethod\n",
    "\n",
    "class Shape(ABC):\n",
    "    @abstractmethod\n",
    "    def area(self):\n",
    "        pass\n",
    "\n",
    "class Circle(Shape):\n",
    "    def __init__(self, radius):\n",
    "        self.radius = radius\n",
    "\n",
    "    def area(self):\n",
    "        return 3.14 * self.radius ** 2\n",
    "\n",
    "# Creating an object\n",
    "circle = Circle(5)\n",
    "print(circle.area())\n"
   ]
  },
  {
   "cell_type": "code",
   "execution_count": 33,
   "id": "417b253e-1a0f-40af-8b5b-5d583dd0574d",
   "metadata": {},
   "outputs": [
    {
     "name": "stdout",
     "output_type": "stream",
     "text": [
      "Overridden method\n"
     ]
    }
   ],
   "source": [
    "# 13. How can you prevent a child class from modifying certain attributes or methods inherited from a parent class in Python?\n",
    "class Parent:\n",
    "    def _protected_method(self):\n",
    "        print(\"This method is protected\")\n",
    "\n",
    "class Child(Parent):\n",
    "    def _protected_method(self):  # Can still be overridden, but it's convention not to\n",
    "        print(\"Overridden method\")\n",
    "\n",
    "# Creating an object\n",
    "child = Child()\n",
    "child._protected_method()\n"
   ]
  },
  {
   "cell_type": "code",
   "execution_count": 34,
   "id": "78f37733-2909-4b73-a308-80b47ad5b587",
   "metadata": {},
   "outputs": [
    {
     "name": "stdout",
     "output_type": "stream",
     "text": [
      "Alice 75000 HR\n"
     ]
    }
   ],
   "source": [
    "# 14. Create a Python class called `Employee` with attributes `name` and `salary`. Then, create a child class `Manager` that inherits from `Employee` and adds an attribute `department`.\n",
    "class Employee:\n",
    "    def __init__(self, name, salary):\n",
    "        self.name = name\n",
    "        self.salary = salary\n",
    "\n",
    "class Manager(Employee):\n",
    "    def __init__(self, name, salary, department):\n",
    "        super().__init__(name, salary)\n",
    "        self.department = department\n",
    "\n",
    "# Creating a Manager object\n",
    "manager = Manager(\"Alice\", 75000, \"HR\")\n",
    "print(manager.name, manager.salary, manager.department)\n"
   ]
  },
  {
   "cell_type": "code",
   "execution_count": 35,
   "id": "04fb1f03-4f14-4f8a-a91c-f04c30b03b90",
   "metadata": {},
   "outputs": [
    {
     "name": "stdout",
     "output_type": "stream",
     "text": [
      "Child method overriding Parent method\n"
     ]
    }
   ],
   "source": [
    "# 15. Discuss the concept of method overloading in Python inheritance. How does it differ from method overriding?\n",
    "# Python does not support method overloading directly, but method overriding can be used.\n",
    "class Parent:\n",
    "    def show(self, x=None):\n",
    "        if x is not None:\n",
    "            print(f\"Parent method called with argument {x}\")\n",
    "        else:\n",
    "            print(\"Parent method called without argument\")\n",
    "\n",
    "class Child(Parent):\n",
    "    def show(self, x=None):\n",
    "        print(\"Child method overriding Parent method\")\n",
    "\n",
    "# Creating an object\n",
    "child = Child()\n",
    "child.show(5)\n"
   ]
  },
  {
   "cell_type": "code",
   "execution_count": 36,
   "id": "d8ab479d-6593-407f-a44f-0e0abddc44b5",
   "metadata": {},
   "outputs": [
    {
     "name": "stdout",
     "output_type": "stream",
     "text": [
      "Alice 10\n"
     ]
    }
   ],
   "source": [
    "# 16. Explain the purpose of the `__init__()` method in Python inheritance and how it is utilized in child classes.\n",
    "class Parent:\n",
    "    def __init__(self, name):\n",
    "        self.name = name\n",
    "\n",
    "class Child(Parent):\n",
    "    def __init__(self, name, age):\n",
    "        super().__init__(name)\n",
    "        self.age = age\n",
    "\n",
    "# Creating an object\n",
    "child = Child(\"Alice\", 10)\n",
    "print(child.name, child.age)\n"
   ]
  },
  {
   "cell_type": "code",
   "execution_count": 37,
   "id": "1b229d84-7d56-45ff-95f3-838905d655d8",
   "metadata": {},
   "outputs": [
    {
     "name": "stdout",
     "output_type": "stream",
     "text": [
      "Eagle is flying high! Sparrow is flying low!\n"
     ]
    }
   ],
   "source": [
    "# 17. Create a Python class called `Bird` with a method `fly()`. Then, create child classes `Eagle` and `Sparrow` that inherit from `Bird` and implement the `fly()` method differently.\n",
    "class Bird:\n",
    "    def fly(self):\n",
    "        pass\n",
    "\n",
    "class Eagle(Bird):\n",
    "    def fly(self):\n",
    "        return \"Eagle is flying high!\"\n",
    "\n",
    "class Sparrow(Bird):\n",
    "    def fly(self):\n",
    "        return \"Sparrow is flying low!\"\n",
    "\n",
    "# Creating objects\n",
    "eagle = Eagle()\n",
    "sparrow = Sparrow()\n",
    "print(eagle.fly(), sparrow.fly())\n"
   ]
  },
  {
   "cell_type": "code",
   "execution_count": 38,
   "id": "18fbac2d-45a6-491e-b715-77f89864abaf",
   "metadata": {},
   "outputs": [
    {
     "name": "stdout",
     "output_type": "stream",
     "text": [
      "Hello from B\n"
     ]
    }
   ],
   "source": [
    "# 18. What is the \"diamond problem\" in multiple inheritance, and how does Python address it?\n",
    "# Python uses the C3 Linearization (Method Resolution Order, MRO) to resolve the \"diamond problem.\"\n",
    "class A:\n",
    "    def greet(self):\n",
    "        print(\"Hello from A\")\n",
    "\n",
    "class B(A):\n",
    "    def greet(self):\n",
    "        print(\"Hello from B\")\n",
    "\n",
    "class C(A):\n",
    "    def greet(self):\n",
    "        print(\"Hello from C\")\n",
    "\n",
    "class D(B, C):\n",
    "    pass\n",
    "\n",
    "d = D()\n",
    "d.greet()  # This will call B's greet method due to MRO\n"
   ]
  },
  {
   "cell_type": "code",
   "execution_count": 39,
   "id": "2402e55e-89e9-478f-a174-02c4a40b3440",
   "metadata": {},
   "outputs": [
    {
     "name": "stdout",
     "output_type": "stream",
     "text": [
      "Bark\n",
      "Engine started\n"
     ]
    }
   ],
   "source": [
    "# 19. Discuss the concept of \"is-a\" and \"has-a\" relationships in inheritance, and provide examples of each.\n",
    "\n",
    "# \"is-a\" relationship (Inheritance):\n",
    "class Animal:\n",
    "    def sound(self):\n",
    "        pass\n",
    "\n",
    "class Dog(Animal):  # Dog is an Animal\n",
    "    def sound(self):\n",
    "        return \"Bark\"\n",
    "\n",
    "# \"has-a\" relationship (Composition):\n",
    "class Engine:\n",
    "    def start(self):\n",
    "        return \"Engine started\"\n",
    "\n",
    "class Car:\n",
    "    def __init__(self):\n",
    "        self.engine = Engine()  # Car has an Engine\n",
    "\n",
    "# Examples\n",
    "dog = Dog()  # \"is-a\" relationship\n",
    "print(dog.sound())\n",
    "\n",
    "car = Car()  # \"has-a\" relationship\n",
    "print(car.engine.start())\n"
   ]
  },
  {
   "cell_type": "code",
   "execution_count": 40,
   "id": "8cb150f7-17df-4591-8d0d-29782f387549",
   "metadata": {},
   "outputs": [
    {
     "name": "stdout",
     "output_type": "stream",
     "text": [
      "Name: John Doe, Age: 20\n",
      "Student ID: S1234\n",
      "Name: Dr. Smith, Age: 45\n",
      "Subject: Physics\n"
     ]
    }
   ],
   "source": [
    "# 20. Create a Python class hierarchy for a university system. \n",
    "# Start with a base class `Person` and create child classes `Student` and `Professor`, \n",
    "# each with their own attributes and methods. Provide an example of using these classes in a university context.\n",
    "\n",
    "class Person:\n",
    "    def __init__(self, name, age):\n",
    "        self.name = name\n",
    "        self.age = age\n",
    "\n",
    "    def show_details(self):\n",
    "        print(f\"Name: {self.name}, Age: {self.age}\")\n",
    "\n",
    "class Student(Person):\n",
    "    def __init__(self, name, age, student_id):\n",
    "        super().__init__(name, age)\n",
    "        self.student_id = student_id\n",
    "\n",
    "    def show_details(self):\n",
    "        super().show_details()\n",
    "        print(f\"Student ID: {self.student_id}\")\n",
    "\n",
    "class Professor(Person):\n",
    "    def __init__(self, name, age, subject):\n",
    "        super().__init__(name, age)\n",
    "        self.subject = subject\n",
    "\n",
    "    def show_details(self):\n",
    "        super().show_details()\n",
    "        print(f\"Subject: {self.subject}\")\n",
    "\n",
    "# Creating objects\n",
    "student = Student(\"John Doe\", 20, \"S1234\")\n",
    "professor = Professor(\"Dr. Smith\", 45, \"Physics\")\n",
    "\n",
    "# Example of using these classes\n",
    "student.show_details()\n",
    "professor.show_details()\n"
   ]
  },
  {
   "cell_type": "code",
   "execution_count": 41,
   "id": "e4be0183-2241-4dd9-b999-a841f196a2e8",
   "metadata": {},
   "outputs": [],
   "source": [
    "#Encapsulation:"
   ]
  },
  {
   "cell_type": "code",
   "execution_count": 42,
   "id": "30742b97-0188-45bb-be47-d49988a62786",
   "metadata": {},
   "outputs": [
    {
     "name": "stdout",
     "output_type": "stream",
     "text": [
      "Protected Variable\n",
      "Private Variable\n"
     ]
    }
   ],
   "source": [
    "# 1. Explain the concept of encapsulation in Python. What is its role in object-oriented programming?\n",
    "# Encapsulation bundles data and methods that work on the data within a class, restricting direct access to some attributes.\n",
    "class Encapsulated:\n",
    "    def __init__(self):\n",
    "        self._protected = \"Protected Variable\"\n",
    "        self.__private = \"Private Variable\"  # Encapsulation of private data\n",
    "\n",
    "    def show(self):\n",
    "        print(self._protected)\n",
    "        print(self.__private)\n",
    "\n",
    "obj = Encapsulated()\n",
    "obj.show()\n"
   ]
  },
  {
   "cell_type": "code",
   "execution_count": 43,
   "id": "b9fcf0db-ea2d-4ec0-a15f-9265a2e24b03",
   "metadata": {},
   "outputs": [
    {
     "name": "stdout",
     "output_type": "stream",
     "text": [
      "I am public\n",
      "I am protected\n"
     ]
    }
   ],
   "source": [
    "# 2. Describe the key principles of encapsulation, including access control and data hiding.\n",
    "# Access control: Defines how attributes can be accessed (public, protected, private).\n",
    "# Data hiding: Ensures certain attributes are not directly accessible, promoting security and integrity.\n",
    "class EncapsulationExample:\n",
    "    public_data = \"I am public\"\n",
    "    _protected_data = \"I am protected\"\n",
    "    __private_data = \"I am private\"\n",
    "\n",
    "example = EncapsulationExample()\n",
    "print(example.public_data)   # Accessible\n",
    "print(example._protected_data)  # Accessible but discouraged\n",
    "# print(example.__private_data)  # Not directly accessible due to encapsulation (data hiding)\n"
   ]
  },
  {
   "cell_type": "code",
   "execution_count": 44,
   "id": "1c75300b-2754-4898-bdef-6abc8de42391",
   "metadata": {},
   "outputs": [
    {
     "name": "stdout",
     "output_type": "stream",
     "text": [
      "Name: John, Age: 25\n"
     ]
    }
   ],
   "source": [
    "# 3. How can you achieve encapsulation in Python classes? Provide an example.\n",
    "class Example:\n",
    "    def __init__(self, name, age):\n",
    "        self.__name = name  # Encapsulating private data\n",
    "        self.__age = age\n",
    "\n",
    "    def get_info(self):\n",
    "        return f\"Name: {self.__name}, Age: {self.__age}\"\n",
    "\n",
    "example = Example(\"John\", 25)\n",
    "print(example.get_info())\n"
   ]
  },
  {
   "cell_type": "code",
   "execution_count": 45,
   "id": "0278cfde-f6f1-4d85-9308-73b6ccc67d65",
   "metadata": {},
   "outputs": [
    {
     "name": "stdout",
     "output_type": "stream",
     "text": [
      "I am Public\n",
      "I am Protected\n",
      "I am Private\n"
     ]
    }
   ],
   "source": [
    "# 4. Discuss the difference between public, private, and protected access modifiers in Python.\n",
    "class AccessModifiers:\n",
    "    public_var = \"I am Public\"\n",
    "    _protected_var = \"I am Protected\"\n",
    "    __private_var = \"I am Private\"\n",
    "\n",
    "    def access_private(self):\n",
    "        return self.__private_var\n",
    "\n",
    "obj = AccessModifiers()\n",
    "print(obj.public_var)           # Public\n",
    "print(obj._protected_var)        # Protected (Convention)\n",
    "# print(obj.__private_var)       # Error, Private\n",
    "print(obj.access_private())      # Accessing private variable via method\n"
   ]
  },
  {
   "cell_type": "code",
   "execution_count": 46,
   "id": "c95f506e-786a-43c8-9c93-7775e0eae043",
   "metadata": {},
   "outputs": [
    {
     "name": "stdout",
     "output_type": "stream",
     "text": [
      "Alice\n",
      "Bob\n"
     ]
    }
   ],
   "source": [
    "# 5. Create a Python class called `Person` with a private attribute `__name`. Provide methods to get and set the name attribute.\n",
    "class Person:\n",
    "    def __init__(self, name):\n",
    "        self.__name = name\n",
    "\n",
    "    def get_name(self):\n",
    "        return self.__name\n",
    "\n",
    "    def set_name(self, name):\n",
    "        self.__name = name\n",
    "\n",
    "person = Person(\"Alice\")\n",
    "print(person.get_name())  # Getting name\n",
    "person.set_name(\"Bob\")    # Setting name\n",
    "print(person.get_name())\n"
   ]
  },
  {
   "cell_type": "code",
   "execution_count": 47,
   "id": "e7f04a82-bf1c-4c45-b736-270033dbba78",
   "metadata": {},
   "outputs": [
    {
     "name": "stdout",
     "output_type": "stream",
     "text": [
      "25\n",
      "30\n",
      "Invalid age\n"
     ]
    }
   ],
   "source": [
    "# 6. Explain the purpose of getter and setter methods in encapsulation. Provide examples.\n",
    "class Example:\n",
    "    def __init__(self, age):\n",
    "        self.__age = age\n",
    "\n",
    "    def get_age(self):\n",
    "        return self.__age  # Getter method to access private data\n",
    "\n",
    "    def set_age(self, age):\n",
    "        if age > 0:        # Setter method to control data modification\n",
    "            self.__age = age\n",
    "        else:\n",
    "            print(\"Invalid age\")\n",
    "\n",
    "person = Example(25)\n",
    "print(person.get_age())  # Accessing via getter\n",
    "person.set_age(30)       # Setting valid age\n",
    "print(person.get_age())\n",
    "person.set_age(-5)       # Invalid age check\n"
   ]
  },
  {
   "cell_type": "code",
   "execution_count": 48,
   "id": "06df4139-f6d6-4e9d-9ce4-d06dd358ff4a",
   "metadata": {},
   "outputs": [
    {
     "name": "stdout",
     "output_type": "stream",
     "text": [
      "Private\n"
     ]
    }
   ],
   "source": [
    "# 7. What is name mangling in Python, and how does it affect encapsulation?\n",
    "class NameMangle:\n",
    "    def __init__(self):\n",
    "        self.__private = \"Private\"\n",
    "\n",
    "    def access_private(self):\n",
    "        return self.__private\n",
    "\n",
    "obj = NameMangle()\n",
    "# Accessing private variable using name mangling\n",
    "print(obj._NameMangle__private)\n"
   ]
  },
  {
   "cell_type": "code",
   "execution_count": 49,
   "id": "bc36069d-cfed-49f1-b2f7-717253864467",
   "metadata": {},
   "outputs": [
    {
     "name": "stdout",
     "output_type": "stream",
     "text": [
      "1300\n"
     ]
    }
   ],
   "source": [
    "# 8. Create a Python class called `BankAccount` with private attributes for the account balance (`__balance`) and account number (`__account_number`). Provide methods for depositing and withdrawing money.\n",
    "class BankAccount:\n",
    "    def __init__(self, account_number, balance):\n",
    "        self.__account_number = account_number\n",
    "        self.__balance = balance\n",
    "\n",
    "    def deposit(self, amount):\n",
    "        self.__balance += amount\n",
    "\n",
    "    def withdraw(self, amount):\n",
    "        if amount <= self.__balance:\n",
    "            self.__balance -= amount\n",
    "        else:\n",
    "            print(\"Insufficient funds\")\n",
    "\n",
    "    def get_balance(self):\n",
    "        return self.__balance\n",
    "\n",
    "account = BankAccount(\"123456\", 1000)\n",
    "account.deposit(500)\n",
    "account.withdraw(200)\n",
    "print(account.get_balance())\n"
   ]
  },
  {
   "cell_type": "code",
   "execution_count": 50,
   "id": "c0af6a42-1371-4d5c-9af0-516ce5065693",
   "metadata": {},
   "outputs": [
    {
     "name": "stdout",
     "output_type": "stream",
     "text": [
      "Sensitive Data\n"
     ]
    }
   ],
   "source": [
    "# 9. Discuss the advantages of encapsulation in terms of code maintainability and security.\n",
    "# Encapsulation allows control over how attributes are accessed or modified, ensuring data integrity and protecting sensitive information.\n",
    "\n",
    "class SecureData:\n",
    "    def __init__(self):\n",
    "        self.__data = \"Sensitive Data\"\n",
    "\n",
    "    def get_data(self):\n",
    "        # Controlled access to private data\n",
    "        return self.__data\n",
    "\n",
    "    def set_data(self, data):\n",
    "        # Validating and securely modifying private data\n",
    "        if isinstance(data, str):\n",
    "            self.__data = data\n",
    "        else:\n",
    "            print(\"Invalid data type\")\n",
    "\n",
    "secure = SecureData()\n",
    "print(secure.get_data())  # Accessing via getter\n",
    "secure.set_data(\"New Data\")  # Setting new data securely\n"
   ]
  },
  {
   "cell_type": "code",
   "execution_count": 51,
   "id": "0df0afca-3302-4b58-9c99-f624b77da00a",
   "metadata": {},
   "outputs": [
    {
     "name": "stdout",
     "output_type": "stream",
     "text": [
      "Private\n"
     ]
    }
   ],
   "source": [
    "# 10. How can you access private attributes in Python? Provide an example demonstrating the use of name mangling.\n",
    "class Example:\n",
    "    def __init__(self):\n",
    "        self.__private_attr = \"Private\"\n",
    "\n",
    "    def show(self):\n",
    "        return self.__private_attr\n",
    "\n",
    "example = Example()\n",
    "# Accessing private attribute via name mangling\n",
    "print(example._Example__private_attr)\n"
   ]
  },
  {
   "cell_type": "code",
   "execution_count": 52,
   "id": "f76f1e59-dc2f-4c07-8920-1d58201abc01",
   "metadata": {},
   "outputs": [
    {
     "name": "stdout",
     "output_type": "stream",
     "text": [
      "Name: John, Age: 16, Student ID: S123\n",
      "Name: Mr. Smith, Age: 40, Subject: Math\n"
     ]
    }
   ],
   "source": [
    "# 11. Create a Python class hierarchy for a school system, including classes for students, teachers, and courses, and implement encapsulation principles to protect sensitive information.\n",
    "class Person:\n",
    "    def __init__(self, name, age):\n",
    "        self.__name = name\n",
    "        self.__age = age\n",
    "\n",
    "    def get_details(self):\n",
    "        return f\"Name: {self.__name}, Age: {self.__age}\"\n",
    "\n",
    "class Student(Person):\n",
    "    def __init__(self, name, age, student_id):\n",
    "        super().__init__(name, age)\n",
    "        self.__student_id = student_id\n",
    "\n",
    "    def get_details(self):\n",
    "        return super().get_details() + f\", Student ID: {self.__student_id}\"\n",
    "\n",
    "class Teacher(Person):\n",
    "    def __init__(self, name, age, subject):\n",
    "        super().__init__(name, age)\n",
    "        self.__subject = subject\n",
    "\n",
    "    def get_details(self):\n",
    "        return super().get_details() + f\", Subject: {self.__subject}\"\n",
    "\n",
    "student = Student(\"John\", 16, \"S123\")\n",
    "teacher = Teacher(\"Mr. Smith\", 40, \"Math\")\n",
    "print(student.get_details())\n",
    "print(teacher.get_details())\n"
   ]
  },
  {
   "cell_type": "code",
   "execution_count": 53,
   "id": "dca7e297-7d7a-40b6-a902-624d396a3236",
   "metadata": {},
   "outputs": [
    {
     "name": "stdout",
     "output_type": "stream",
     "text": [
      "Alice\n",
      "Bob\n"
     ]
    }
   ],
   "source": [
    "# 12. Explain the concept of property decorators in Python and how they relate to encapsulation.\n",
    "class Person:\n",
    "    def __init__(self, name):\n",
    "        self.__name = name\n",
    "\n",
    "    @property\n",
    "    def name(self):\n",
    "        return self.__name  # Getter\n",
    "\n",
    "    @name.setter\n",
    "    def name(self, new_name):\n",
    "        if isinstance(new_name, str):\n",
    "            self.__name = new_name  # Setter\n",
    "\n",
    "person = Person(\"Alice\")\n",
    "print(person.name)  # Accessing property via getter\n",
    "person.name = \"Bob\"  # Setting new name via setter\n",
    "print(person.name)\n"
   ]
  },
  {
   "cell_type": "code",
   "execution_count": 54,
   "id": "5051f04b-ea76-449b-9e74-14a6c1a2032e",
   "metadata": {},
   "outputs": [
    {
     "name": "stdout",
     "output_type": "stream",
     "text": [
      "Sensitive Info\n",
      "Updated Info\n"
     ]
    }
   ],
   "source": [
    "# 13. What is data hiding, and why is it important in encapsulation? Provide examples.\n",
    "# Data hiding is the practice of restricting access to internal object details, ensuring sensitive data is protected and accessed properly.\n",
    "class DataHiding:\n",
    "    def __init__(self):\n",
    "        self.__hidden_data = \"Sensitive Info\"\n",
    "\n",
    "    def get_data(self):\n",
    "        return self.__hidden_data  # Controlled access\n",
    "\n",
    "    def set_data(self, value):\n",
    "        if isinstance(value, str):\n",
    "            self.__hidden_data = value\n",
    "\n",
    "obj = DataHiding()\n",
    "print(obj.get_data())\n",
    "obj.set_data(\"Updated Info\")\n",
    "print(obj.get_data())\n"
   ]
  },
  {
   "cell_type": "code",
   "execution_count": 55,
   "id": "e5e1554d-6a0a-4e17-8c05-730b251d25f5",
   "metadata": {},
   "outputs": [
    {
     "name": "stdout",
     "output_type": "stream",
     "text": [
      "5000.0\n"
     ]
    }
   ],
   "source": [
    "# 14. Create a Python class called `Employee` with private attributes for salary (`__salary`) and employee ID (`__employee_id`). Provide a method to calculate yearly bonuses.\n",
    "class Employee:\n",
    "    def __init__(self, employee_id, salary):\n",
    "        self.__employee_id = employee_id\n",
    "        self.__salary = salary\n",
    "\n",
    "    def calculate_bonus(self, percentage):\n",
    "        return self.__salary * percentage / 100\n",
    "\n",
    "employee = Employee(\"E123\", 50000)\n",
    "print(employee.calculate_bonus(10))\n"
   ]
  },
  {
   "cell_type": "code",
   "execution_count": 56,
   "id": "d78d4e75-b625-44ea-9a62-c779998da1f2",
   "metadata": {},
   "outputs": [
    {
     "name": "stdout",
     "output_type": "stream",
     "text": [
      "10\n",
      "20\n"
     ]
    }
   ],
   "source": [
    "# 15. Discuss the use of accessors and mutators in encapsulation. How do they help maintain control over attribute access?\n",
    "# Accessors (getters) retrieve attribute values, and mutators (setters) modify them, ensuring controlled and secure access to data.\n",
    "class Example:\n",
    "    def __init__(self, value):\n",
    "        self.__value = value\n",
    "\n",
    "    def get_value(self):  # Accessor\n",
    "        return self.__value\n",
    "\n",
    "    def set_value(self, value):  # Mutator\n",
    "        if isinstance(value, int):\n",
    "            self.__value = value\n",
    "\n",
    "obj = Example(10)\n",
    "print(obj.get_value())\n",
    "obj.set_value(20)\n",
    "print(obj.get_value())\n"
   ]
  },
  {
   "cell_type": "code",
   "execution_count": 57,
   "id": "ba5bf2ba-813f-4f4c-b0f5-477302403327",
   "metadata": {},
   "outputs": [
    {
     "name": "stdout",
     "output_type": "stream",
     "text": [
      "Private\n",
      "New Private Data\n"
     ]
    }
   ],
   "source": [
    "# 16. What are the potential drawbacks or disadvantages of using encapsulation in Python?\n",
    "# Drawbacks:\n",
    "# 1. Overhead in writing extra code for accessors and mutators (getters and setters).\n",
    "# 2. Reduced performance due to the need to call methods for data access.\n",
    "# 3. Complexity in handling too many private attributes and methods.\n",
    "\n",
    "class EncapsulationDrawbacks:\n",
    "    def __init__(self):\n",
    "        self.__private_data = \"Private\"\n",
    "\n",
    "    def get_data(self):\n",
    "        return self.__private_data\n",
    "\n",
    "    def set_data(self, value):\n",
    "        self.__private_data = value\n",
    "\n",
    "obj = EncapsulationDrawbacks()\n",
    "print(obj.get_data())\n",
    "obj.set_data(\"New Private Data\")\n",
    "print(obj.get_data())\n"
   ]
  },
  {
   "cell_type": "code",
   "execution_count": 59,
   "id": "df31df26-06da-4e64-ad22-ba565570d643",
   "metadata": {},
   "outputs": [
    {
     "name": "stdout",
     "output_type": "stream",
     "text": [
      "Title: 1984, Author: George Orwell, Available: True\n",
      "You've borrowed the book.\n",
      "Title: 1984, Author: George Orwell, Available: False\n",
      "You've returned the book.\n",
      "Title: 1984, Author: George Orwell, Available: True\n"
     ]
    }
   ],
   "source": [
    "# 17. Create a Python class for a library system that encapsulates book information, including titles, authors, and availability status.\n",
    "class Book:\n",
    "    def __init__(self, title, author, available=True):\n",
    "        self.__title = title\n",
    "        self.__author = author\n",
    "        self.__available = available\n",
    "\n",
    "    def get_book_info(self):\n",
    "        return f\"Title: {self.__title}, Author: {self.__author}, Available: {self.__available}\"\n",
    "\n",
    "    def borrow(self):\n",
    "        if self.__available:\n",
    "            self.__available = False\n",
    "            return \"You've borrowed the book.\"\n",
    "        else:\n",
    "            return \"The book is currently unavailable.\"\n",
    "\n",
    "    def return_book(self):\n",
    "        self.__available = True\n",
    "        return \"You've returned the book.\"\n",
    "\n",
    "book = Book(\"1984\", \"George Orwell\")\n",
    "print(book.get_book_info())\n",
    "print(book.borrow())\n",
    "print(book.get_book_info())\n",
    "print(book.return_book())\n",
    "print(book.get_book_info())\n"
   ]
  },
  {
   "cell_type": "code",
   "execution_count": 60,
   "id": "a2b850db-57da-4421-b3c1-9700a908e223",
   "metadata": {},
   "outputs": [
    {
     "name": "stdout",
     "output_type": "stream",
     "text": [
      "Sample Data\n",
      "Another Data\n"
     ]
    }
   ],
   "source": [
    "# 18. Explain how encapsulation enhances code reusability and modularity in Python programs.\n",
    "# Encapsulation allows code to be reused by hiding the implementation details and exposing only necessary functions to the user. \n",
    "# It also promotes modularity by logically grouping data and methods.\n",
    "\n",
    "class ReusableCode:\n",
    "    def __init__(self, data):\n",
    "        self.__data = data\n",
    "\n",
    "    def get_data(self):\n",
    "        return self.__data\n",
    "\n",
    "    def set_data(self, new_data):\n",
    "        self.__data = new_data\n",
    "\n",
    "# The ReusableCode class can be used across multiple parts of a program without changing its internal workings.\n",
    "data1 = ReusableCode(\"Sample Data\")\n",
    "data2 = ReusableCode(\"Another Data\")\n",
    "print(data1.get_data())\n",
    "print(data2.get_data())\n"
   ]
  },
  {
   "cell_type": "code",
   "execution_count": 61,
   "id": "221cf622-70c1-4f0e-8ff3-d324b6585144",
   "metadata": {},
   "outputs": [
    {
     "name": "stdout",
     "output_type": "stream",
     "text": [
      "Hidden Secret\n",
      "New Secret\n"
     ]
    }
   ],
   "source": [
    "# 19. Describe the concept of information hiding in encapsulation. Why is it essential in software development?\n",
    "# Information hiding restricts access to internal details of an object, exposing only necessary parts.\n",
    "# This prevents accidental misuse and protects the integrity of the object's data.\n",
    "\n",
    "class HiddenInfo:\n",
    "    def __init__(self, secret):\n",
    "        self.__secret = secret\n",
    "\n",
    "    def reveal_secret(self):\n",
    "        return self.__secret\n",
    "\n",
    "    def change_secret(self, new_secret):\n",
    "        self.__secret = new_secret\n",
    "\n",
    "info = HiddenInfo(\"Hidden Secret\")\n",
    "print(info.reveal_secret())\n",
    "info.change_secret(\"New Secret\")\n",
    "print(info.reveal_secret())\n"
   ]
  },
  {
   "cell_type": "code",
   "execution_count": 62,
   "id": "af4ded69-977b-42aa-b54d-8976125777df",
   "metadata": {},
   "outputs": [
    {
     "name": "stdout",
     "output_type": "stream",
     "text": [
      "Name: Alice, Address: 123 Main St, Contact: 555-1234\n",
      "Name: Alice, Address: 456 Elm St, Contact: 555-5678\n"
     ]
    }
   ],
   "source": [
    "# 20. Create a Python class called `Customer` with private attributes for customer details like name, address, and contact information. Implement encapsulation to ensure data integrity and security.\n",
    "class Customer:\n",
    "    def __init__(self, name, address, contact):\n",
    "        self.__name = name\n",
    "        self.__address = address\n",
    "        self.__contact = contact\n",
    "\n",
    "    def get_customer_info(self):\n",
    "        return f\"Name: {self.__name}, Address: {self.__address}, Contact: {self.__contact}\"\n",
    "\n",
    "    def update_address(self, new_address):\n",
    "        self.__address = new_address\n",
    "\n",
    "    def update_contact(self, new_contact):\n",
    "        self.__contact = new_contact\n",
    "\n",
    "customer = Customer(\"Alice\", \"123 Main St\", \"555-1234\")\n",
    "print(customer.get_customer_info())\n",
    "customer.update_address(\"456 Elm St\")\n",
    "customer.update_contact(\"555-5678\")\n",
    "print(customer.get_customer_info())\n"
   ]
  },
  {
   "cell_type": "code",
   "execution_count": 63,
   "id": "d1dfa68b-42a1-44f3-972a-2f055342b3b2",
   "metadata": {},
   "outputs": [],
   "source": [
    "#Polymorphism"
   ]
  },
  {
   "cell_type": "code",
   "execution_count": 64,
   "id": "16c32675-9955-4e8b-9392-20ac6654ac08",
   "metadata": {},
   "outputs": [
    {
     "name": "stdout",
     "output_type": "stream",
     "text": [
      "Bird is flying\n",
      "Airplane is flying\n"
     ]
    }
   ],
   "source": [
    "# 1. What is polymorphism in Python? Explain how it is related to object-oriented programming.\n",
    "# Polymorphism allows objects of different types to be treated as instances of the same class through a common interface.\n",
    "# In OOP, it helps in designing flexible and reusable code.\n",
    "\n",
    "class Bird:\n",
    "    def fly(self):\n",
    "        return \"Bird is flying\"\n",
    "\n",
    "class Airplane:\n",
    "    def fly(self):\n",
    "        return \"Airplane is flying\"\n",
    "\n",
    "def flight_test(flyable_object):\n",
    "    print(flyable_object.fly())\n",
    "\n",
    "bird = Bird()\n",
    "airplane = Airplane()\n",
    "\n",
    "flight_test(bird)\n",
    "flight_test(airplane)\n"
   ]
  },
  {
   "cell_type": "code",
   "execution_count": 65,
   "id": "cf4314b5-1274-41aa-a1cd-873a02d03791",
   "metadata": {},
   "outputs": [
    {
     "name": "stdout",
     "output_type": "stream",
     "text": [
      "Bark\n",
      "Meow\n"
     ]
    }
   ],
   "source": [
    "# 2. Describe the difference between compile-time polymorphism and runtime polymorphism in Python.\n",
    "# Compile-time polymorphism is generally achieved using method overloading or operator overloading (Python lacks method overloading).\n",
    "# Runtime polymorphism is achieved using method overriding and is more commonly used in Python.\n",
    "\n",
    "# Example of runtime polymorphism\n",
    "class Animal:\n",
    "    def sound(self):\n",
    "        return \"Some sound\"\n",
    "\n",
    "class Dog(Animal):\n",
    "    def sound(self):\n",
    "        return \"Bark\"\n",
    "\n",
    "class Cat(Animal):\n",
    "    def sound(self):\n",
    "        return \"Meow\"\n",
    "\n",
    "animals = [Dog(), Cat()]\n",
    "\n",
    "for animal in animals:\n",
    "    print(animal.sound())\n"
   ]
  },
  {
   "cell_type": "code",
   "execution_count": 66,
   "id": "0384fe11-710d-4216-a235-536d8f6bd6ec",
   "metadata": {},
   "outputs": [
    {
     "name": "stdout",
     "output_type": "stream",
     "text": [
      "78.5\n",
      "16\n"
     ]
    }
   ],
   "source": [
    "# 3. Create a Python class hierarchy for shapes (e.g., circle, square, triangle) and demonstrate polymorphism through a common method, such as calculate_area().\n",
    "class Shape:\n",
    "    def calculate_area(self):\n",
    "        pass\n",
    "\n",
    "class Circle(Shape):\n",
    "    def __init__(self, radius):\n",
    "        self.radius = radius\n",
    "\n",
    "    def calculate_area(self):\n",
    "        return 3.14 * self.radius * self.radius\n",
    "\n",
    "class Square(Shape):\n",
    "    def __init__(self, side):\n",
    "        self.side = side\n",
    "\n",
    "    def calculate_area(self):\n",
    "        return self.side * self.side\n",
    "\n",
    "shapes = [Circle(5), Square(4)]\n",
    "\n",
    "for shape in shapes:\n",
    "    print(shape.calculate_area())\n"
   ]
  },
  {
   "cell_type": "code",
   "execution_count": 67,
   "id": "fb704de9-8752-41e5-9b4e-90eaaae97459",
   "metadata": {},
   "outputs": [
    {
     "name": "stdout",
     "output_type": "stream",
     "text": [
      "Hello from Child!\n"
     ]
    }
   ],
   "source": [
    "# 4. Explain the concept of method overriding in polymorphism. Provide an example.\n",
    "# Method overriding occurs when a child class provides a specific implementation of a method that is already defined in its parent class.\n",
    "\n",
    "class Parent:\n",
    "    def greet(self):\n",
    "        return \"Hello from Parent!\"\n",
    "\n",
    "class Child(Parent):\n",
    "    def greet(self):\n",
    "        return \"Hello from Child!\"\n",
    "\n",
    "obj = Child()\n",
    "print(obj.greet())  # Output: Hello from Child!\n"
   ]
  },
  {
   "cell_type": "code",
   "execution_count": 68,
   "id": "c60eeec6-e0c8-4779-8dce-f2145ad94aa5",
   "metadata": {},
   "outputs": [
    {
     "name": "stdout",
     "output_type": "stream",
     "text": [
      "Chirp\n",
      "Bark\n",
      "4 6\n"
     ]
    }
   ],
   "source": [
    "# 5. How is polymorphism different from method overloading in Python? Provide examples for both.\n",
    "# Method overloading is not natively supported in Python (you can't have multiple methods with the same name).\n",
    "# Polymorphism, on the other hand, is achieved using method overriding.\n",
    "\n",
    "# Polymorphism example\n",
    "class Bird:\n",
    "    def sound(self):\n",
    "        return \"Chirp\"\n",
    "\n",
    "class Dog:\n",
    "    def sound(self):\n",
    "        return \"Bark\"\n",
    "\n",
    "animals = [Bird(), Dog()]\n",
    "for animal in animals:\n",
    "    print(animal.sound())\n",
    "\n",
    "# Operator Overloading example\n",
    "class Vector:\n",
    "    def __init__(self, x, y):\n",
    "        self.x = x\n",
    "        self.y = y\n",
    "\n",
    "    def __add__(self, other):\n",
    "        return Vector(self.x + other.x, self.y + other.y)\n",
    "\n",
    "v1 = Vector(1, 2)\n",
    "v2 = Vector(3, 4)\n",
    "result = v1 + v2\n",
    "print(result.x, result.y)\n"
   ]
  },
  {
   "cell_type": "code",
   "execution_count": 69,
   "id": "fd09a8cf-5d1f-4b79-92e3-1e39c84b6410",
   "metadata": {},
   "outputs": [
    {
     "name": "stdout",
     "output_type": "stream",
     "text": [
      "Woof\n",
      "Meow\n",
      "Chirp\n"
     ]
    }
   ],
   "source": [
    "# 6. Create a Python class called `Animal` with a method `speak()`. Then, create child classes like `Dog`, `Cat`, and `Bird`, each with their own `speak()` method. Demonstrate polymorphism by calling the `speak()` method on objects of different subclasses.\n",
    "class Animal:\n",
    "    def speak(self):\n",
    "        pass\n",
    "\n",
    "class Dog(Animal):\n",
    "    def speak(self):\n",
    "        return \"Woof\"\n",
    "\n",
    "class Cat(Animal):\n",
    "    def speak(self):\n",
    "        return \"Meow\"\n",
    "\n",
    "class Bird(Animal):\n",
    "    def speak(self):\n",
    "        return \"Chirp\"\n",
    "\n",
    "animals = [Dog(), Cat(), Bird()]\n",
    "for animal in animals:\n",
    "    print(animal.speak())\n"
   ]
  },
  {
   "cell_type": "code",
   "execution_count": 70,
   "id": "147b0d52-338d-4635-9f72-0a5b0cb63796",
   "metadata": {},
   "outputs": [
    {
     "name": "stdout",
     "output_type": "stream",
     "text": [
      "Car is starting\n",
      "Bike is starting\n"
     ]
    }
   ],
   "source": [
    "# 7. Discuss the use of abstract methods and classes in achieving polymorphism in Python. Provide an example using the abc module.\n",
    "from abc import ABC, abstractmethod\n",
    "\n",
    "class Vehicle(ABC):\n",
    "    @abstractmethod\n",
    "    def start(self):\n",
    "        pass\n",
    "\n",
    "class Car(Vehicle):\n",
    "    def start(self):\n",
    "        return \"Car is starting\"\n",
    "\n",
    "class Bike(Vehicle):\n",
    "    def start(self):\n",
    "        return \"Bike is starting\"\n",
    "\n",
    "vehicles = [Car(), Bike()]\n",
    "for vehicle in vehicles:\n",
    "    print(vehicle.start())\n"
   ]
  },
  {
   "cell_type": "code",
   "execution_count": 71,
   "id": "df8b2ad4-7f5c-4877-8446-4697f080b6d1",
   "metadata": {},
   "outputs": [
    {
     "name": "stdout",
     "output_type": "stream",
     "text": [
      "Car is starting.\n",
      "Bicycle is starting.\n",
      "Boat is starting.\n"
     ]
    }
   ],
   "source": [
    "# 8. Create a Python class hierarchy for a vehicle system (e.g., car, bicycle, boat) and implement a polymorphic start() method that prints a message specific to each vehicle type.\n",
    "class Vehicle:\n",
    "    def start(self):\n",
    "        pass\n",
    "\n",
    "class Car(Vehicle):\n",
    "    def start(self):\n",
    "        return \"Car is starting.\"\n",
    "\n",
    "class Bicycle(Vehicle):\n",
    "    def start(self):\n",
    "        return \"Bicycle is starting.\"\n",
    "\n",
    "class Boat(Vehicle):\n",
    "    def start(self):\n",
    "        return \"Boat is starting.\"\n",
    "\n",
    "vehicles = [Car(), Bicycle(), Boat()]\n",
    "for vehicle in vehicles:\n",
    "    print(vehicle.start())\n"
   ]
  },
  {
   "cell_type": "code",
   "execution_count": 72,
   "id": "6a5e393a-3ebd-4b77-babf-583bacbe80ed",
   "metadata": {},
   "outputs": [
    {
     "name": "stdout",
     "output_type": "stream",
     "text": [
      "True\n",
      "True\n"
     ]
    }
   ],
   "source": [
    "# 9. Explain the significance of the isinstance() and issubclass() functions in Python polymorphism.\n",
    "# isinstance() checks if an object is an instance of a specific class or its subclass.\n",
    "# issubclass() checks if a class is a subclass of another class.\n",
    "\n",
    "class Animal:\n",
    "    pass\n",
    "\n",
    "class Dog(Animal):\n",
    "    pass\n",
    "\n",
    "dog = Dog()\n",
    "\n",
    "print(isinstance(dog, Animal))  # True\n",
    "print(issubclass(Dog, Animal))  # True\n"
   ]
  },
  {
   "cell_type": "code",
   "execution_count": 73,
   "id": "46484316-ef21-4696-a156-185116523258",
   "metadata": {},
   "outputs": [
    {
     "name": "stdout",
     "output_type": "stream",
     "text": [
      "Fan is turning on\n",
      "Light is turning on\n"
     ]
    }
   ],
   "source": [
    "# 10. What is the role of the @abstractmethod decorator in achieving polymorphism in Python? Provide an example.\n",
    "from abc import ABC, abstractmethod\n",
    "\n",
    "class Appliance(ABC):\n",
    "    @abstractmethod\n",
    "    def turn_on(self):\n",
    "        pass\n",
    "\n",
    "class Fan(Appliance):\n",
    "    def turn_on(self):\n",
    "        return \"Fan is turning on\"\n",
    "\n",
    "class Light(Appliance):\n",
    "    def turn_on(self):\n",
    "        return \"Light is turning on\"\n",
    "\n",
    "appliances = [Fan(), Light()]\n",
    "for appliance in appliances:\n",
    "    print(appliance.turn_on())\n"
   ]
  },
  {
   "cell_type": "code",
   "execution_count": 74,
   "id": "932b0a29-64fd-485e-9971-4efca78773d3",
   "metadata": {},
   "outputs": [
    {
     "name": "stdout",
     "output_type": "stream",
     "text": [
      "78.53981633974483\n",
      "24\n",
      "10.5\n"
     ]
    }
   ],
   "source": [
    "# 11. Create a Python class called `Shape` with a polymorphic method `area()` that calculates the area of different shapes (e.g., circle, rectangle, triangle).\n",
    "import math\n",
    "\n",
    "class Shape:\n",
    "    def area(self):\n",
    "        pass\n",
    "\n",
    "class Circle(Shape):\n",
    "    def __init__(self, radius):\n",
    "        self.radius = radius\n",
    "\n",
    "    def area(self):\n",
    "        return math.pi * self.radius ** 2\n",
    "\n",
    "class Rectangle(Shape):\n",
    "    def __init__(self, width, height):\n",
    "        self.width = width\n",
    "        self.height = height\n",
    "\n",
    "    def area(self):\n",
    "        return self.width * self.height\n",
    "\n",
    "class Triangle(Shape):\n",
    "    def __init__(self, base, height):\n",
    "        self.base = base\n",
    "        self.height = height\n",
    "\n",
    "    def area(self):\n",
    "        return 0.5 * self.base * self.height\n",
    "\n",
    "shapes = [Circle(5), Rectangle(4, 6), Triangle(3, 7)]\n",
    "for shape in shapes:\n",
    "    print(shape.area())\n"
   ]
  },
  {
   "cell_type": "code",
   "execution_count": 75,
   "id": "645aa653-e581-4a08-b5fe-9849ee14cba5",
   "metadata": {},
   "outputs": [
    {
     "name": "stdout",
     "output_type": "stream",
     "text": [
      "Hello, Alice!\n",
      "Welcome, Bob!\n"
     ]
    }
   ],
   "source": [
    "# 12. Discuss the benefits of polymorphism in terms of code reusability and flexibility in Python programs.\n",
    "# Polymorphism allows the same method to be used for different objects, making code more flexible and reusable. It enables easier maintenance and extension of code by allowing new classes to be added with minimal changes to existing code.\n",
    "\n",
    "class PolymorphismExample:\n",
    "    def __init__(self, name):\n",
    "        self.name = name\n",
    "\n",
    "    def greet(self):\n",
    "        return f\"Hello, {self.name}!\"\n",
    "\n",
    "class SpecialGreeting(PolymorphismExample):\n",
    "    def greet(self):\n",
    "        return f\"Welcome, {self.name}!\"\n",
    "\n",
    "greetings = [PolymorphismExample(\"Alice\"), SpecialGreeting(\"Bob\")]\n",
    "for greeting in greetings:\n",
    "    print(greeting.greet())\n"
   ]
  },
  {
   "cell_type": "code",
   "execution_count": 76,
   "id": "316236fa-a40d-451b-b1e6-e6839f46abbd",
   "metadata": {},
   "outputs": [
    {
     "name": "stdout",
     "output_type": "stream",
     "text": [
      "Hello from Parent and Child\n"
     ]
    }
   ],
   "source": [
    "# 13. Explain the use of the `super()` function in Python polymorphism. How does it help call methods of parent classes?\n",
    "# The `super()` function allows calling methods of a parent class from a derived class, enabling access to inherited methods while extending or modifying behavior.\n",
    "\n",
    "class Parent:\n",
    "    def greet(self):\n",
    "        return \"Hello from Parent\"\n",
    "\n",
    "class Child(Parent):\n",
    "    def greet(self):\n",
    "        return super().greet() + \" and Child\"\n",
    "\n",
    "child = Child()\n",
    "print(child.greet())  # Output: Hello from Parent and Child\n"
   ]
  },
  {
   "cell_type": "code",
   "execution_count": 78,
   "id": "63f70e88-d2bd-4b3f-8433-abd3b4f9d120",
   "metadata": {},
   "outputs": [
    {
     "name": "stdout",
     "output_type": "stream",
     "text": [
      "Withdrawn 100 from Savings Account.\n",
      "Withdrawn 100 from Checking Account.\n",
      "Charged 100 to Credit Card.\n"
     ]
    }
   ],
   "source": [
    "# 14. Create a Python class hierarchy for a banking system with various account types (e.g., savings, checking, credit card) and demonstrate polymorphism by implementing a common `withdraw()` method.\n",
    "class BankAccount:\n",
    "    def withdraw(self, amount):\n",
    "        pass\n",
    "\n",
    "class SavingsAccount(BankAccount):\n",
    "    def withdraw(self, amount):\n",
    "        return f\"Withdrawn {amount} from Savings Account.\"\n",
    "\n",
    "class CheckingAccount(BankAccount):\n",
    "    def withdraw(self, amount):\n",
    "        return f\"Withdrawn {amount} from Checking Account.\"\n",
    "\n",
    "class CreditCard(BankAccount):\n",
    "    def withdraw(self, amount):\n",
    "        return f\"Charged {amount} to Credit Card.\"\n",
    "\n",
    "accounts = [SavingsAccount(), CheckingAccount(), CreditCard()]\n",
    "for account in accounts:\n",
    "    print(account.withdraw(100))\n"
   ]
  },
  {
   "cell_type": "code",
   "execution_count": 79,
   "id": "7e1a059c-99a2-4e3d-9960-07992678fbdd",
   "metadata": {},
   "outputs": [
    {
     "name": "stdout",
     "output_type": "stream",
     "text": [
      "Vector(6, 8)\n",
      "Vector(6, 9)\n"
     ]
    }
   ],
   "source": [
    "# 15. Describe the concept of operator overloading in Python and how it relates to polymorphism. Provide examples using operators like `+` and `*`.\n",
    "# Operator overloading allows defining custom behavior for standard operators (e.g., +, *) for user-defined classes.\n",
    "# It relates to polymorphism by letting different classes handle operators in their own way.\n",
    "\n",
    "class Vector:\n",
    "    def __init__(self, x, y):\n",
    "        self.x = x\n",
    "        self.y = y\n",
    "\n",
    "    def __add__(self, other):\n",
    "        return Vector(self.x + other.x, self.y + other.y)\n",
    "\n",
    "    def __mul__(self, scalar):\n",
    "        return Vector(self.x * scalar, self.y * scalar)\n",
    "\n",
    "    def __repr__(self):\n",
    "        return f\"Vector({self.x}, {self.y})\"\n",
    "\n",
    "v1 = Vector(2, 3)\n",
    "v2 = Vector(4, 5)\n",
    "print(v1 + v2)         # Output: Vector(6, 8)\n",
    "print(v1 * 3)          # Output: Vector(6, 9)\n"
   ]
  },
  {
   "cell_type": "code",
   "execution_count": 80,
   "id": "71c3a3fd-490b-4a0c-a98d-e359d24d7664",
   "metadata": {},
   "outputs": [
    {
     "name": "stdout",
     "output_type": "stream",
     "text": [
      "First Action\n",
      "Second Action\n"
     ]
    }
   ],
   "source": [
    "# 16. What is dynamic polymorphism, and how is it achieved in Python?\n",
    "# Dynamic polymorphism refers to the ability to call methods on objects of different classes through a common interface at runtime. It is achieved through method overriding.\n",
    "\n",
    "class DynamicPolymorphismExample:\n",
    "    def action(self):\n",
    "        pass\n",
    "\n",
    "class FirstAction(DynamicPolymorphismExample):\n",
    "    def action(self):\n",
    "        return \"First Action\"\n",
    "\n",
    "class SecondAction(DynamicPolymorphismExample):\n",
    "    def action(self):\n",
    "        return \"Second Action\"\n",
    "\n",
    "def perform_action(obj):\n",
    "    print(obj.action())\n",
    "\n",
    "perform_action(FirstAction())  # Output: First Action\n",
    "perform_action(SecondAction()) # Output: Second Action\n"
   ]
  },
  {
   "cell_type": "code",
   "execution_count": 81,
   "id": "71a78ec2-a01e-4a71-8f1a-6236eb35a54b",
   "metadata": {},
   "outputs": [
    {
     "name": "stdout",
     "output_type": "stream",
     "text": [
      "Salary: $80,000\n",
      "Salary: $70,000\n",
      "Salary: $60,000\n"
     ]
    }
   ],
   "source": [
    "# 17. Create a Python class hierarchy for employees in a company (e.g., manager, developer, designer) and implement polymorphism through a common `calculate_salary()` method.\n",
    "class Employee:\n",
    "    def calculate_salary(self):\n",
    "        pass\n",
    "\n",
    "class Manager(Employee):\n",
    "    def calculate_salary(self):\n",
    "        return \"Salary: $80,000\"\n",
    "\n",
    "class Developer(Employee):\n",
    "    def calculate_salary(self):\n",
    "        return \"Salary: $70,000\"\n",
    "\n",
    "class Designer(Employee):\n",
    "    def calculate_salary(self):\n",
    "        return \"Salary: $60,000\"\n",
    "\n",
    "employees = [Manager(), Developer(), Designer()]\n",
    "for employee in employees:\n",
    "    print(employee.calculate_salary())\n"
   ]
  },
  {
   "cell_type": "code",
   "execution_count": 82,
   "id": "fc70f043-4240-4b2b-b51a-98fa5f7a6b5c",
   "metadata": {},
   "outputs": [
    {
     "name": "stdout",
     "output_type": "stream",
     "text": [
      "Hello!\n",
      "Goodbye!\n"
     ]
    }
   ],
   "source": [
    "# 18. Discuss the concept of function pointers and how they can be used to achieve polymorphism in Python.\n",
    "# Function pointers (or callable objects) in Python can be used to achieve polymorphism by allowing functions to be passed around and invoked dynamically.\n",
    "\n",
    "class FunctionPointerExample:\n",
    "    def __init__(self, function):\n",
    "        self.function = function\n",
    "\n",
    "    def execute(self):\n",
    "        return self.function()\n",
    "\n",
    "def hello():\n",
    "    return \"Hello!\"\n",
    "\n",
    "def goodbye():\n",
    "    return \"Goodbye!\"\n",
    "\n",
    "example1 = FunctionPointerExample(hello)\n",
    "example2 = FunctionPointerExample(goodbye)\n",
    "print(example1.execute())  # Output: Hello!\n",
    "print(example2.execute())  # Output: Goodbye!\n"
   ]
  },
  {
   "cell_type": "code",
   "execution_count": 83,
   "id": "3a8ccdb5-a769-454f-9d29-50104b1e42ac",
   "metadata": {},
   "outputs": [
    {
     "name": "stdout",
     "output_type": "stream",
     "text": [
      "Drawing a circle\n",
      "Drawing a square\n"
     ]
    }
   ],
   "source": [
    "# 19. Explain the role of interfaces and abstract classes in polymorphism, drawing comparisons between them.\n",
    "# Interfaces and abstract classes both define methods that must be implemented by subclasses, enabling polymorphism.\n",
    "# Abstract classes can provide some method implementations, while interfaces only define method signatures.\n",
    "\n",
    "from abc import ABC, abstractmethod\n",
    "\n",
    "class AbstractShape(ABC):\n",
    "    @abstractmethod\n",
    "    def draw(self):\n",
    "        pass\n",
    "\n",
    "class Circle(AbstractShape):\n",
    "    def draw(self):\n",
    "        return \"Drawing a circle\"\n",
    "\n",
    "class Square(AbstractShape):\n",
    "    def draw(self):\n",
    "        return \"Drawing a square\"\n",
    "\n",
    "shapes = [Circle(), Square()]\n",
    "for shape in shapes:\n",
    "    print(shape.draw())\n"
   ]
  },
  {
   "cell_type": "code",
   "execution_count": 84,
   "id": "c85cf5ed-311e-426a-8c27-1a58cf56f143",
   "metadata": {},
   "outputs": [
    {
     "name": "stdout",
     "output_type": "stream",
     "text": [
      "Roar\n",
      "Trumpet\n",
      "Neigh\n"
     ]
    }
   ],
   "source": [
    "# 20. Create a Python class for a zoo simulation, demonstrating polymorphism with different animal types.\n",
    "class Animal:\n",
    "    def make_sound(self):\n",
    "        pass\n",
    "\n",
    "class Lion(Animal):\n",
    "    def make_sound(self):\n",
    "        return \"Roar\"\n",
    "\n",
    "class Elephant(Animal):\n",
    "    def make_sound(self):\n",
    "        return \"Trumpet\"\n",
    "\n",
    "class Zebra(Animal):\n",
    "    def make_sound(self):\n",
    "        return \"Neigh\"\n",
    "\n",
    "animals = [Lion(), Elephant(), Zebra()]\n",
    "for animal in animals:\n",
    "    print(animal.make_sound())\n"
   ]
  },
  {
   "cell_type": "code",
   "execution_count": 85,
   "id": "088cc3ad-b8da-4f9b-85ef-22f0515118d2",
   "metadata": {},
   "outputs": [],
   "source": [
    "# 1. What is abstraction in Python, and how does it relate to object-oriented programming?\n",
    "# Abstraction is the concept of hiding complex implementation details and showing only the essential features of an object. It helps in reducing complexity and improving code manageability.\n",
    "\n",
    "# Example: Using abstract base classes to define a common interface for various shapes.\n",
    "\n",
    "from abc import ABC, abstractmethod\n",
    "\n",
    "class Shape(ABC):\n",
    "    @abstractmethod\n",
    "    def calculate_area(self):\n",
    "        pass\n"
   ]
  },
  {
   "cell_type": "code",
   "execution_count": 86,
   "id": "96d0e258-029d-484a-ab72-9372d543df21",
   "metadata": {},
   "outputs": [],
   "source": [
    "# 2. Describe the benefits of abstraction in terms of code organization and complexity reduction.\n",
    "# Abstraction helps in simplifying complex systems by breaking them into manageable components and hiding implementation details. This leads to better code organization and reduces overall complexity."
   ]
  },
  {
   "cell_type": "code",
   "execution_count": 87,
   "id": "ddcbe29d-3728-4ea9-8ec8-3a06ec2cafed",
   "metadata": {},
   "outputs": [
    {
     "name": "stdout",
     "output_type": "stream",
     "text": [
      "Circle area: 78.53981633974483\n",
      "Rectangle area: 24\n"
     ]
    }
   ],
   "source": [
    "# 3. Create a Python class called `Shape` with an abstract method `calculate_area()`. Then, create child classes (e.g., `Circle`, `Rectangle`) that implement the `calculate_area()` method. Provide an example of using these classes.\n",
    "from abc import ABC, abstractmethod\n",
    "import math\n",
    "\n",
    "class Shape(ABC):\n",
    "    @abstractmethod\n",
    "    def calculate_area(self):\n",
    "        pass\n",
    "\n",
    "class Circle(Shape):\n",
    "    def __init__(self, radius):\n",
    "        self.radius = radius\n",
    "    \n",
    "    def calculate_area(self):\n",
    "        return math.pi * self.radius ** 2\n",
    "\n",
    "class Rectangle(Shape):\n",
    "    def __init__(self, width, height):\n",
    "        self.width = width\n",
    "        self.height = height\n",
    "    \n",
    "    def calculate_area(self):\n",
    "        return self.width * self.height\n",
    "\n",
    "circle = Circle(5)\n",
    "rectangle = Rectangle(4, 6)\n",
    "\n",
    "print(f\"Circle area: {circle.calculate_area()}\")        \n",
    "print(f\"Rectangle area: {rectangle.calculate_area()}\")  \n"
   ]
  },
  {
   "cell_type": "code",
   "execution_count": 88,
   "id": "cbaef6d9-dc07-49fc-ad95-90f848c70a76",
   "metadata": {},
   "outputs": [
    {
     "name": "stdout",
     "output_type": "stream",
     "text": [
      "Woof\n",
      "Meow\n"
     ]
    }
   ],
   "source": [
    "# 4. Explain the concept of abstract classes in Python and how they are defined using the `abc` module. Provide an example.\n",
    "# Abstract classes in Python are classes that cannot be instantiated directly and are meant to be subclassed. They are defined using the `abc` module and must include one or more abstract methods.\n",
    "\n",
    "from abc import ABC, abstractmethod\n",
    "\n",
    "class Animal(ABC):\n",
    "    @abstractmethod\n",
    "    def make_sound(self):\n",
    "        pass\n",
    "\n",
    "class Dog(Animal):\n",
    "    def make_sound(self):\n",
    "        return \"Woof\"\n",
    "\n",
    "class Cat(Animal):\n",
    "    def make_sound(self):\n",
    "        return \"Meow\"\n",
    "\n",
    "dog = Dog()\n",
    "cat = Cat()\n",
    "\n",
    "print(dog.make_sound())  # Output: Woof\n",
    "print(cat.make_sound())  # Output: Meow\n"
   ]
  },
  {
   "cell_type": "code",
   "execution_count": 89,
   "id": "7aeb57ba-3146-4fd9-8a21-aba4047ace9e",
   "metadata": {},
   "outputs": [
    {
     "name": "stdout",
     "output_type": "stream",
     "text": [
      "Woof\n"
     ]
    }
   ],
   "source": [
    "# 5. How do abstract classes differ from regular classes in Python? Discuss their use cases.\n",
    "# Abstract classes cannot be instantiated and are meant to be used as a base for other classes. They define a common interface for subclasses, which must implement abstract methods. Regular classes can be instantiated and can have complete implementations.\n",
    "\n",
    "# Example: Abstract class `Animal` vs. concrete class `Dog`.\n",
    "\n",
    "from abc import ABC, abstractmethod\n",
    "\n",
    "class Animal(ABC):\n",
    "    @abstractmethod\n",
    "    def make_sound(self):\n",
    "        pass\n",
    "\n",
    "class Dog(Animal):\n",
    "    def make_sound(self):\n",
    "        return \"Woof\"\n",
    "\n",
    "# Animal cannot be instantiated:\n",
    "# animal = Animal()  # This will raise an error\n",
    "\n",
    "# Dog can be instantiated:\n",
    "dog = Dog()\n",
    "print(dog.make_sound())  # Output: Woof\n"
   ]
  },
  {
   "cell_type": "code",
   "execution_count": 90,
   "id": "7d9f5066-b121-4b10-9369-9069b6947b0a",
   "metadata": {},
   "outputs": [
    {
     "name": "stdout",
     "output_type": "stream",
     "text": [
      "Deposited 500. New balance: 1500\n",
      "Withdrew 200. New balance: 1300\n"
     ]
    }
   ],
   "source": [
    "# 6. Create a Python class for a bank account and demonstrate abstraction by hiding the account balance and providing methods to deposit and withdraw funds.\n",
    "class BankAccount:\n",
    "    def __init__(self, balance):\n",
    "        self.__balance = balance\n",
    "    \n",
    "    def deposit(self, amount):\n",
    "        self.__balance += amount\n",
    "        return f\"Deposited {amount}. New balance: {self.__balance}\"\n",
    "\n",
    "    def withdraw(self, amount):\n",
    "        if amount > self.__balance:\n",
    "            return \"Insufficient funds\"\n",
    "        self.__balance -= amount\n",
    "        return f\"Withdrew {amount}. New balance: {self.__balance}\"\n",
    "\n",
    "account = BankAccount(1000)\n",
    "print(account.deposit(500))  # Output: Deposited 500. New balance: 1500\n",
    "print(account.withdraw(200))  # Output: Withdrew 200. New balance: 1300\n"
   ]
  },
  {
   "cell_type": "code",
   "execution_count": 91,
   "id": "9cfbc5a5-f1e1-47a1-acd5-165f2ee6485a",
   "metadata": {},
   "outputs": [
    {
     "name": "stdout",
     "output_type": "stream",
     "text": [
      "Drawing a circle\n",
      "Drawing a square\n"
     ]
    }
   ],
   "source": [
    "# 7. Discuss the concept of interface classes in Python and their role in achieving abstraction.\n",
    "# Interface classes define a set of methods that must be implemented by any subclass. They are used to ensure that derived classes adhere to a specific contract.\n",
    "\n",
    "from abc import ABC, abstractmethod\n",
    "\n",
    "class Drawable(ABC):\n",
    "    @abstractmethod\n",
    "    def draw(self):\n",
    "        pass\n",
    "\n",
    "class Circle(Drawable):\n",
    "    def draw(self):\n",
    "        return \"Drawing a circle\"\n",
    "\n",
    "class Square(Drawable):\n",
    "    def draw(self):\n",
    "        return \"Drawing a square\"\n",
    "\n",
    "shapes = [Circle(), Square()]\n",
    "for shape in shapes:\n",
    "    print(shape.draw())\n"
   ]
  },
  {
   "cell_type": "code",
   "execution_count": 92,
   "id": "9e254057-238c-44a0-9bbc-25dcf0084ff6",
   "metadata": {},
   "outputs": [
    {
     "name": "stdout",
     "output_type": "stream",
     "text": [
      "Lion eats meat\n",
      "Elephant sleeps under the tree\n"
     ]
    }
   ],
   "source": [
    "# 8. Create a Python class hierarchy for animals and implement abstraction by defining common methods (e.g., `eat()`, `sleep()`) in an abstract base class.\n",
    "from abc import ABC, abstractmethod\n",
    "\n",
    "class Animal(ABC):\n",
    "    @abstractmethod\n",
    "    def eat(self):\n",
    "        pass\n",
    "\n",
    "    @abstractmethod\n",
    "    def sleep(self):\n",
    "        pass\n",
    "\n",
    "class Lion(Animal):\n",
    "    def eat(self):\n",
    "        return \"Lion eats meat\"\n",
    "\n",
    "    def sleep(self):\n",
    "        return \"Lion sleeps in the den\"\n",
    "\n",
    "class Elephant(Animal):\n",
    "    def eat(self):\n",
    "        return \"Elephant eats plants\"\n",
    "\n",
    "    def sleep(self):\n",
    "        return \"Elephant sleeps under the tree\"\n",
    "\n",
    "lion = Lion()\n",
    "elephant = Elephant()\n",
    "\n",
    "print(lion.eat())     # Output: Lion eats meat\n",
    "print(elephant.sleep())  # Output: Elephant sleeps under the tree\n"
   ]
  },
  {
   "cell_type": "code",
   "execution_count": 93,
   "id": "09466542-2347-4da4-9673-ef6930a338d7",
   "metadata": {},
   "outputs": [
    {
     "name": "stdout",
     "output_type": "stream",
     "text": [
      "Deposited 500. New balance: 1500\n",
      "1500\n"
     ]
    }
   ],
   "source": [
    "# 9. Explain the significance of encapsulation in achieving abstraction. Provide examples.\n",
    "# Encapsulation hides the internal state and requires all interaction to be performed through an object's methods. This helps in achieving abstraction by exposing only necessary details.\n",
    "\n",
    "class BankAccount:\n",
    "    def __init__(self, balance):\n",
    "        self.__balance = balance\n",
    "    \n",
    "    def deposit(self, amount):\n",
    "        self.__balance += amount\n",
    "        return f\"Deposited {amount}. New balance: {self.__balance}\"\n",
    "\n",
    "    def get_balance(self):\n",
    "        return self.__balance\n",
    "\n",
    "account = BankAccount(1000)\n",
    "print(account.deposit(500))  # Output: Deposited 500. New balance: 1500\n",
    "print(account.get_balance())  # Output: 1500\n"
   ]
  },
  {
   "cell_type": "code",
   "execution_count": 94,
   "id": "44a47437-c9e3-46d2-8bdc-31bd663f478c",
   "metadata": {},
   "outputs": [
    {
     "name": "stdout",
     "output_type": "stream",
     "text": [
      "Car engine started\n",
      "Bike engine started\n"
     ]
    }
   ],
   "source": [
    "# 10. What is the purpose of abstract methods, and how do they enforce abstraction in Python classes?\n",
    "# Abstract methods define a method signature without implementation. They enforce that all subclasses must provide an implementation, thus ensuring a consistent interface.\n",
    "\n",
    "from abc import ABC, abstractmethod\n",
    "\n",
    "class Vehicle(ABC):\n",
    "    @abstractmethod\n",
    "    def start_engine(self):\n",
    "        pass\n",
    "\n",
    "class Car(Vehicle):\n",
    "    def start_engine(self):\n",
    "        return \"Car engine started\"\n",
    "\n",
    "class Bike(Vehicle):\n",
    "    def start_engine(self):\n",
    "        return \"Bike engine started\"\n",
    "\n",
    "car = Car()\n",
    "bike = Bike()\n",
    "\n",
    "print(car.start_engine())  # Output: Car engine started\n",
    "print(bike.start_engine())  # Output: Bike engine started\n"
   ]
  },
  {
   "cell_type": "code",
   "execution_count": 95,
   "id": "a4b08c19-3efe-4828-93a8-adc0ca0a016b",
   "metadata": {},
   "outputs": [
    {
     "name": "stdout",
     "output_type": "stream",
     "text": [
      "Car started\n",
      "Bike stopped\n"
     ]
    }
   ],
   "source": [
    "# 11. Create a Python class for a vehicle system and demonstrate abstraction by defining common methods (e.g., `start()`, `stop()`) in an abstract base class.\n",
    "from abc import ABC, abstractmethod\n",
    "\n",
    "class Vehicle(ABC):\n",
    "    @abstractmethod\n",
    "    def start(self):\n",
    "        pass\n",
    "\n",
    "    @abstractmethod\n",
    "    def stop(self):\n",
    "        pass\n",
    "\n",
    "class Car(Vehicle):\n",
    "    def start(self):\n",
    "        return \"Car started\"\n",
    "\n",
    "    def stop(self):\n",
    "        return \"Car stopped\"\n",
    "\n",
    "class Bike(Vehicle):\n",
    "    def start(self):\n",
    "        return \"Bike started\"\n",
    "\n",
    "    def stop(self):\n",
    "        return \"Bike stopped\"\n",
    "\n",
    "car = Car()\n",
    "bike = Bike()\n",
    "\n",
    "print(car.start())  # Output: Car started\n",
    "print(bike.stop())  # Output: Bike stopped\n"
   ]
  },
  {
   "cell_type": "code",
   "execution_count": 96,
   "id": "1e86d263-8065-4ddb-9830-1286b18666bc",
   "metadata": {},
   "outputs": [
    {
     "name": "stdout",
     "output_type": "stream",
     "text": [
      "78.5\n"
     ]
    }
   ],
   "source": [
    "# 12. Describe the use of abstract properties in Python and how they can be employed in abstract classes.\n",
    "# Abstract properties define attributes that must be implemented by subclasses. They are defined using the `@property` decorator along with the `@abstractmethod` decorator.\n",
    "\n",
    "from abc import ABC, abstractmethod\n",
    "\n",
    "class Shape(ABC):\n",
    "    @property\n",
    "    @abstractmethod\n",
    "    def area(self):\n",
    "        pass\n",
    "\n",
    "class Circle(Shape):\n",
    "    def __init__(self, radius):\n",
    "        self.radius = radius\n",
    "    \n",
    "    @property\n",
    "    def area(self):\n",
    "        return 3.14 * self.radius ** 2\n",
    "\n",
    "circle = Circle(5)\n",
    "print(circle.area)  # Output: 78.5\n"
   ]
  },
  {
   "cell_type": "code",
   "execution_count": 97,
   "id": "e4da9f95-539a-43e5-ae83-c2cffd8c9cda",
   "metadata": {},
   "outputs": [
    {
     "name": "stdout",
     "output_type": "stream",
     "text": [
      "$80,000\n",
      "$70,000\n",
      "$60,000\n"
     ]
    }
   ],
   "source": [
    "# 13. Create a Python class hierarchy for employees in a company (e.g., manager, developer, designer) and implement abstraction by defining a common `get_salary()` method.\n",
    "from abc import ABC, abstractmethod\n",
    "\n",
    "class Employee(ABC):\n",
    "    @abstractmethod\n",
    "    def get_salary(self):\n",
    "        pass\n",
    "\n",
    "class Manager(Employee):\n",
    "    def get_salary(self):\n",
    "        return \"$80,000\"\n",
    "\n",
    "class Developer(Employee):\n",
    "    def get_salary(self):\n",
    "        return \"$70,000\"\n",
    "\n",
    "class Designer(Employee):\n",
    "    def get_salary(self):\n",
    "        return \"$60,000\"\n",
    "\n",
    "manager = Manager()\n",
    "developer = Developer()\n",
    "designer = Designer()\n",
    "\n",
    "print(manager.get_salary())  # Output: $80,000\n",
    "print(developer.get_salary())  # Output: $70,000\n",
    "print(designer.get_salary())  # Output: $60,000\n"
   ]
  },
  {
   "cell_type": "code",
   "execution_count": 98,
   "id": "e575235d-1771-4cff-82e7-ecba7f29d289",
   "metadata": {},
   "outputs": [
    {
     "name": "stdout",
     "output_type": "stream",
     "text": [
      "Doing something\n"
     ]
    }
   ],
   "source": [
    "# 14. Discuss the differences between abstract classes and concrete classes in Python, including their instantiation.\n",
    "# Abstract classes cannot be instantiated and are meant to be subclassed. They define methods that must be implemented by derived classes. Concrete classes can be instantiated and provide complete implementations.\n",
    "\n",
    "# Example:\n",
    "from abc import ABC, abstractmethod\n",
    "\n",
    "class AbstractClass(ABC):\n",
    "    @abstractmethod\n",
    "    def do_something(self):\n",
    "        pass\n",
    "\n",
    "class ConcreteClass(AbstractClass):\n",
    "    def do_something(self):\n",
    "        return \"Doing something\"\n",
    "\n",
    "# AbstractClass cannot be instantiated:\n",
    "# abstract_instance = AbstractClass()  # This will raise an error\n",
    "\n",
    "# ConcreteClass can be instantiated:\n",
    "concrete_instance = ConcreteClass()\n",
    "print(concrete_instance.do_something())  # Output: Doing something\n"
   ]
  },
  {
   "cell_type": "code",
   "execution_count": 100,
   "id": "7f226019-d835-4e70-8a89-4e680dd8179a",
   "metadata": {},
   "outputs": [
    {
     "name": "stdout",
     "output_type": "stream",
     "text": [
      "2\n",
      "1\n"
     ]
    }
   ],
   "source": [
    "# 15. Explain the concept of abstract data types (ADTs) and their role in achieving abstraction in Python.\n",
    "# Abstract Data Types (ADTs) define operations on data without specifying the implementation. They provide a high-level interface for data manipulation, promoting abstraction.\n",
    "\n",
    "# Example: Implementing a simple ADT for a stack.\n",
    "class Stack:\n",
    "    def __init__(self):\n",
    "        self._items = []\n",
    "    \n",
    "    def push(self, item):\n",
    "        self._items.append(item)\n",
    "    \n",
    "    def pop(self):\n",
    "        return self._items.pop() if self._items else None\n",
    "    \n",
    "    def peek(self):\n",
    "        return self._items[-1] if self._items else None\n",
    "\n",
    "stack = Stack()\n",
    "stack.push(1)\n",
    "stack.push(2)\n",
    "print(stack.pop())  \n",
    "print(stack.peek()) \n"
   ]
  },
  {
   "cell_type": "code",
   "execution_count": 102,
   "id": "ef27be40-61e7-4f65-ac0d-2b310f7284ca",
   "metadata": {},
   "outputs": [
    {
     "name": "stdout",
     "output_type": "stream",
     "text": [
      "Desktop powering on\n",
      "Laptop shutting down\n"
     ]
    }
   ],
   "source": [
    "# 16. Create a Python class for a computer system, demonstrating abstraction by defining common methods (e.g., `power_on()`, `shutdown()`) in an abstract base class.\n",
    "from abc import ABC, abstractmethod\n",
    "\n",
    "class Computer(ABC):\n",
    "    @abstractmethod\n",
    "    def power_on(self):\n",
    "        pass\n",
    "\n",
    "    @abstractmethod\n",
    "    def shutdown(self):\n",
    "        pass\n",
    "\n",
    "class Desktop(Computer):\n",
    "    def power_on(self):\n",
    "        return \"Desktop powering on\"\n",
    "\n",
    "    def shutdown(self):\n",
    "        return \"Desktop shutting down\"\n",
    "\n",
    "class Laptop(Computer):\n",
    "    def power_on(self):\n",
    "        return \"Laptop powering on\"\n",
    "\n",
    "    def shutdown(self):\n",
    "        return \"Laptop shutting down\"\n",
    "\n",
    "desktop = Desktop()\n",
    "laptop = Laptop()\n",
    "\n",
    "print(desktop.power_on())  \n",
    "print(laptop.shutdown())  \n"
   ]
  },
  {
   "cell_type": "code",
   "execution_count": 104,
   "id": "169eb661-9662-4e26-86a2-8ea3e1994ef0",
   "metadata": {},
   "outputs": [],
   "source": [
    "# 17. Discuss the benefits of using abstraction in large-scale software development projects.\n",
    "# Abstraction helps manage complexity by defining clear interfaces and hiding implementation details. It improves code maintainability, reusability, and scalability in large-scale projects.\n",
    "\n",
    "# Example: Abstraction helps in defining a common interface for various components, making it easier to integrate and manage different parts of a large system.\n"
   ]
  },
  {
   "cell_type": "code",
   "execution_count": 105,
   "id": "0d732b49-76d0-41ec-a601-c7bc9541fa44",
   "metadata": {},
   "outputs": [],
   "source": [
    "# 18. Explain how abstraction enhances code reusability and modularity in Python programs.\n",
    "# Abstraction promotes code reusability by allowing components to be used interchangeably through common interfaces. It enhances modularity by separating the implementation details from the interface.\n",
    "\n",
    "# Example: Different shapes (e.g., Circle, Rectangle) can be used interchangeably through a common Shape interface.\n",
    "\n"
   ]
  },
  {
   "cell_type": "code",
   "execution_count": 106,
   "id": "7bb2d55f-6d46-4f8f-ac61-50ba111cbe52",
   "metadata": {},
   "outputs": [
    {
     "name": "stdout",
     "output_type": "stream",
     "text": [
      "Book 'Python Programming' added.\n",
      "Book 'Python Programming' borrowed.\n"
     ]
    }
   ],
   "source": [
    "# 19. Create a Python class for a library system, implementing abstraction by defining common methods (e.g., `add_book()`, `borrow_book()`) in an abstract base class.\n",
    "from abc import ABC, abstractmethod\n",
    "\n",
    "class Library(ABC):\n",
    "    @abstractmethod\n",
    "    def add_book(self, book):\n",
    "        pass\n",
    "\n",
    "    @abstractmethod\n",
    "    def borrow_book(self, book):\n",
    "        pass\n",
    "\n",
    "class PublicLibrary(Library):\n",
    "    def __init__(self):\n",
    "        self.books = []\n",
    "\n",
    "    def add_book(self, book):\n",
    "        self.books.append(book)\n",
    "        return f\"Book '{book}' added.\"\n",
    "\n",
    "    def borrow_book(self, book):\n",
    "        if book in self.books:\n",
    "            self.books.remove(book)\n",
    "            return f\"Book '{book}' borrowed.\"\n",
    "        return \"Book not available.\"\n",
    "\n",
    "library = PublicLibrary()\n",
    "print(library.add_book(\"Python Programming\"))  # Output: Book 'Python Programming' added.\n",
    "print(library.borrow_book(\"Python Programming\"))  # Output: Book 'Python Programming' borrowed.\n"
   ]
  },
  {
   "cell_type": "code",
   "execution_count": 107,
   "id": "0dceea15-6bd0-47b1-bcee-3802bf673365",
   "metadata": {},
   "outputs": [
    {
     "name": "stdout",
     "output_type": "stream",
     "text": [
      "Woof\n",
      "Meow\n"
     ]
    }
   ],
   "source": [
    "# 20. Describe the concept of method abstraction in Python and how it relates to polymorphism.\n",
    "# Method abstraction hides the implementation details of a method, requiring derived classes to provide their own implementation. It allows different classes to implement the method differently, supporting polymorphism.\n",
    "\n",
    "from abc import ABC, abstractmethod\n",
    "\n",
    "class Animal(ABC):\n",
    "    @abstractmethod\n",
    "    def make_sound(self):\n",
    "        pass\n",
    "\n",
    "class Dog(Animal):\n",
    "    def make_sound(self):\n",
    "        return \"Woof\"\n",
    "\n",
    "class Cat(Animal):\n",
    "    def make_sound(self):\n",
    "        return \"Meow\"\n",
    "\n",
    "def animal_sound(animal):\n",
    "    print(animal.make_sound())\n",
    "\n",
    "dog = Dog()\n",
    "cat = Cat()\n",
    "animal_sound(dog)  # Output: Woof\n",
    "animal_sound(cat)  # Output: Meow\n"
   ]
  },
  {
   "cell_type": "code",
   "execution_count": 108,
   "id": "7417add5-508b-4549-80e2-0fed297aac8e",
   "metadata": {},
   "outputs": [],
   "source": [
    "#composition"
   ]
  },
  {
   "cell_type": "code",
   "execution_count": 109,
   "id": "bcb34f07-7157-4a07-a50f-9a996326f283",
   "metadata": {},
   "outputs": [
    {
     "name": "stdout",
     "output_type": "stream",
     "text": [
      "200\n"
     ]
    }
   ],
   "source": [
    "# 1. Explain the concept of composition in Python and how it is used to build complex objects from simpler ones.\n",
    "# Composition is a design principle where a class is composed of one or more objects of other classes. It allows building complex objects by combining simpler objects.\n",
    "\n",
    "# Example:\n",
    "class Engine:\n",
    "    def __init__(self, horsepower):\n",
    "        self.horsepower = horsepower\n",
    "\n",
    "class Car:\n",
    "    def __init__(self, engine):\n",
    "        self.engine = engine\n",
    "\n",
    "engine = Engine(200)\n",
    "car = Car(engine)\n",
    "print(car.engine.horsepower)  # Output: 200\n"
   ]
  },
  {
   "cell_type": "code",
   "execution_count": 110,
   "id": "fb9970c2-71b4-4928-9f79-329f3a061c81",
   "metadata": {},
   "outputs": [],
   "source": [
    "# 2. Describe the difference between composition and inheritance in object-oriented programming.\n",
    "# Composition involves creating objects by combining instances of other classes, whereas inheritance involves creating a new class based on an existing class, inheriting its attributes and methods.\n",
    "\n",
    "# Example:\n",
    "# Inheritance:\n",
    "class Animal:\n",
    "    def eat(self):\n",
    "        pass\n",
    "\n",
    "class Dog(Animal):\n",
    "    def bark(self):\n",
    "        pass\n",
    "\n",
    "# Composition:\n",
    "class Engine:\n",
    "    def start(self):\n",
    "        pass\n",
    "\n",
    "class Car:\n",
    "    def __init__(self, engine):\n",
    "        self.engine = engine\n"
   ]
  },
  {
   "cell_type": "code",
   "execution_count": 111,
   "id": "3ca9d9ca-2ef1-4fb3-9089-f445f086503d",
   "metadata": {},
   "outputs": [
    {
     "name": "stdout",
     "output_type": "stream",
     "text": [
      "Harry Potter and the Philosopher's Stone\n",
      "J.K. Rowling\n"
     ]
    }
   ],
   "source": [
    "# 3. Create a Python class called `Author` with attributes for name and birthdate. Then, create a `Book` class that contains an instance of `Author` as a composition. Provide an example of creating a `Book` object.\n",
    "class Author:\n",
    "    def __init__(self, name, birthdate):\n",
    "        self.name = name\n",
    "        self.birthdate = birthdate\n",
    "\n",
    "class Book:\n",
    "    def __init__(self, title, author):\n",
    "        self.title = title\n",
    "        self.author = author\n",
    "\n",
    "author = Author(\"J.K. Rowling\", \"1965-07-31\")\n",
    "book = Book(\"Harry Potter and the Philosopher's Stone\", author)\n",
    "print(book.title)          # Output: Harry Potter and the Philosopher's Stone\n",
    "print(book.author.name)   # Output: J.K. Rowling\n"
   ]
  },
  {
   "cell_type": "code",
   "execution_count": 112,
   "id": "7ee71300-b497-4063-a302-fea3ce0184c4",
   "metadata": {},
   "outputs": [],
   "source": [
    "# 4. Discuss the benefits of using composition over inheritance in Python, especially in terms of code flexibility and reusability.\n",
    "# Composition offers better flexibility and reusability by allowing objects to be composed and recomposed dynamically. It avoids the tight coupling seen in inheritance hierarchies and promotes more modular design.\n",
    "\n",
    "# Example:\n",
    "class Engine:\n",
    "    def start(self):\n",
    "        pass\n",
    "\n",
    "class Car:\n",
    "    def __init__(self, engine):\n",
    "        self.engine = engine\n",
    "\n",
    "# Composition allows swapping different engines without modifying the Car class.\n"
   ]
  },
  {
   "cell_type": "code",
   "execution_count": 113,
   "id": "e0b3356d-3705-4f69-b910-6acdbd0aee48",
   "metadata": {},
   "outputs": [
    {
     "name": "stdout",
     "output_type": "stream",
     "text": [
      "Intel i7\n",
      "16GB\n"
     ]
    }
   ],
   "source": [
    "# 5. How can you implement composition in Python classes? Provide examples of using composition to create complex objects.\n",
    "# Composition can be implemented by including instances of other classes as attributes within a class.\n",
    "\n",
    "# Example:\n",
    "class CPU:\n",
    "    def __init__(self, model):\n",
    "        self.model = model\n",
    "\n",
    "class RAM:\n",
    "    def __init__(self, size):\n",
    "        self.size = size\n",
    "\n",
    "class Computer:\n",
    "    def __init__(self, cpu, ram):\n",
    "        self.cpu = cpu\n",
    "        self.ram = ram\n",
    "\n",
    "cpu = CPU(\"Intel i7\")\n",
    "ram = RAM(\"16GB\")\n",
    "computer = Computer(cpu, ram)\n",
    "print(computer.cpu.model)  # Output: Intel i7\n",
    "print(computer.ram.size)   # Output: 16GB\n"
   ]
  },
  {
   "cell_type": "code",
   "execution_count": 114,
   "id": "ccb44655-07a7-40cd-bc84-8ab33b65773f",
   "metadata": {},
   "outputs": [
    {
     "name": "stdout",
     "output_type": "stream",
     "text": [
      "Song 1 by Artist 1\n",
      "Song 2 by Artist 2\n"
     ]
    }
   ],
   "source": [
    "# 6. Create a Python class hierarchy for a music player system, using composition to represent playlists and songs.\n",
    "class Song:\n",
    "    def __init__(self, title, artist):\n",
    "        self.title = title\n",
    "        self.artist = artist\n",
    "\n",
    "class Playlist:\n",
    "    def __init__(self):\n",
    "        self.songs = []\n",
    "\n",
    "    def add_song(self, song):\n",
    "        self.songs.append(song)\n",
    "\n",
    "class MusicPlayer:\n",
    "    def __init__(self, playlist):\n",
    "        self.playlist = playlist\n",
    "\n",
    "song1 = Song(\"Song 1\", \"Artist 1\")\n",
    "song2 = Song(\"Song 2\", \"Artist 2\")\n",
    "\n",
    "playlist = Playlist()\n",
    "playlist.add_song(song1)\n",
    "playlist.add_song(song2)\n",
    "\n",
    "player = MusicPlayer(playlist)\n",
    "for song in player.playlist.songs:\n",
    "    print(f\"{song.title} by {song.artist}\")\n"
   ]
  },
  {
   "cell_type": "code",
   "execution_count": 115,
   "id": "cc576de7-9bf2-4ad8-bcca-297f08522657",
   "metadata": {},
   "outputs": [],
   "source": [
    "# 7. Explain the concept of \"has-a\" relationships in composition and how it helps design software systems.\n",
    "# A \"has-a\" relationship represents a scenario where one class contains an instance of another class as an attribute. It helps in designing software systems by allowing objects to be composed of other objects, promoting modularity.\n",
    "\n",
    "# Example:\n",
    "# A Car \"has-a\" Engine.\n",
    "class Engine:\n",
    "    pass\n",
    "\n",
    "class Car:\n",
    "    def __init__(self, engine):\n",
    "        self.engine = engine\n"
   ]
  },
  {
   "cell_type": "code",
   "execution_count": 116,
   "id": "4b4cc8e9-fe59-4ddb-a6a6-4f58c962f2e5",
   "metadata": {},
   "outputs": [
    {
     "name": "stdout",
     "output_type": "stream",
     "text": [
      "AMD Ryzen 5\n",
      "32GB\n",
      "1TB SSD\n"
     ]
    }
   ],
   "source": [
    "# 8. Create a Python class for a computer system, using composition to represent components like CPU, RAM, and storage devices.\n",
    "class CPU:\n",
    "    def __init__(self, model):\n",
    "        self.model = model\n",
    "\n",
    "class RAM:\n",
    "    def __init__(self, size):\n",
    "        self.size = size\n",
    "\n",
    "class Storage:\n",
    "    def __init__(self, capacity):\n",
    "        self.capacity = capacity\n",
    "\n",
    "class ComputerSystem:\n",
    "    def __init__(self, cpu, ram, storage):\n",
    "        self.cpu = cpu\n",
    "        self.ram = ram\n",
    "        self.storage = storage\n",
    "\n",
    "cpu = CPU(\"AMD Ryzen 5\")\n",
    "ram = RAM(\"32GB\")\n",
    "storage = Storage(\"1TB SSD\")\n",
    "\n",
    "computer = ComputerSystem(cpu, ram, storage)\n",
    "print(computer.cpu.model)     # Output: AMD Ryzen 5\n",
    "print(computer.ram.size)      # Output: 32GB\n",
    "print(computer.storage.capacity)  # Output: 1TB SSD\n"
   ]
  },
  {
   "cell_type": "code",
   "execution_count": 117,
   "id": "877e5a53-810f-4acf-a861-333dda2ae6b0",
   "metadata": {},
   "outputs": [
    {
     "name": "stdout",
     "output_type": "stream",
     "text": [
      "Engine started\n"
     ]
    }
   ],
   "source": [
    "# 9. Describe the concept of \"delegation\" in composition and how it simplifies the design of complex systems.\n",
    "# Delegation involves passing responsibilities from one object to another. It simplifies complex system design by allowing one object to delegate certain tasks to another, promoting modular design.\n",
    "\n",
    "# Example:\n",
    "class Engine:\n",
    "    def start(self):\n",
    "        return \"Engine started\"\n",
    "\n",
    "class Car:\n",
    "    def __init__(self, engine):\n",
    "        self.engine = engine\n",
    "\n",
    "    def start(self):\n",
    "        return self.engine.start()\n",
    "\n",
    "engine = Engine()\n",
    "car = Car(engine)\n",
    "print(car.start())  # Output: Engine started\n"
   ]
  },
  {
   "cell_type": "code",
   "execution_count": 118,
   "id": "64737f42-67e2-457d-9329-bf537364a997",
   "metadata": {},
   "outputs": [
    {
     "name": "stdout",
     "output_type": "stream",
     "text": [
      "Engine started, Wheels rotating, Transmission shifting\n"
     ]
    }
   ],
   "source": [
    "# 10. Create a Python class for a car, using composition to represent components like the engine, wheels, and transmission.\n",
    "class Engine:\n",
    "    def start(self):\n",
    "        return \"Engine started\"\n",
    "\n",
    "class Wheels:\n",
    "    def rotate(self):\n",
    "        return \"Wheels rotating\"\n",
    "\n",
    "class Transmission:\n",
    "    def shift(self):\n",
    "        return \"Transmission shifting\"\n",
    "\n",
    "class Car:\n",
    "    def __init__(self, engine, wheels, transmission):\n",
    "        self.engine = engine\n",
    "        self.wheels = wheels\n",
    "        self.transmission = transmission\n",
    "\n",
    "    def drive(self):\n",
    "        return f\"{self.engine.start()}, {self.wheels.rotate()}, {self.transmission.shift()}\"\n",
    "\n",
    "engine = Engine()\n",
    "wheels = Wheels()\n",
    "transmission = Transmission()\n",
    "car = Car(engine, wheels, transmission)\n",
    "\n",
    "print(car.drive())  # Output: Engine started, Wheels rotating, Transmission shifting\n"
   ]
  },
  {
   "cell_type": "code",
   "execution_count": 119,
   "id": "cedddaeb-e5a6-4a61-bc32-d8bfde6a3714",
   "metadata": {},
   "outputs": [
    {
     "name": "stdout",
     "output_type": "stream",
     "text": [
      "None\n"
     ]
    }
   ],
   "source": [
    "# 11. How can you encapsulate and hide the details of composed objects in Python classes to maintain abstraction?\n",
    "# Encapsulation in composition can be achieved by providing public methods to interact with composed objects while hiding their internal details.\n",
    "\n",
    "# Example:\n",
    "class Engine:\n",
    "    def start(self):\n",
    "        pass\n",
    "\n",
    "class Car:\n",
    "    def __init__(self, engine):\n",
    "        self.__engine = engine\n",
    "\n",
    "    def drive(self):\n",
    "        return self.__engine.start()\n",
    "\n",
    "# The internal details of Engine are hidden from the Car class users.\n",
    "engine = Engine()\n",
    "car = Car(engine)\n",
    "print(car.drive())\n"
   ]
  },
  {
   "cell_type": "code",
   "execution_count": 120,
   "id": "eb9b10f0-1805-4ddd-a0a3-670424d365a6",
   "metadata": {},
   "outputs": [
    {
     "name": "stdout",
     "output_type": "stream",
     "text": [
      "Computer Science 101\n",
      "Dr. Smith\n",
      "['Alice']\n"
     ]
    }
   ],
   "source": [
    "# 12. Create a Python class for a university course, using composition to represent students, instructors, and course materials.\n",
    "class Student:\n",
    "    def __init__(self, name):\n",
    "        self.name = name\n",
    "\n",
    "class Instructor:\n",
    "    def __init__(self, name):\n",
    "        self.name = name\n",
    "\n",
    "class CourseMaterial:\n",
    "    def __init__(self, content):\n",
    "        self.content = content\n",
    "\n",
    "class UniversityCourse:\n",
    "    def __init__(self, title, instructor, materials):\n",
    "        self.title = title\n",
    "        self.instructor = instructor\n",
    "        self.materials = materials\n",
    "        self.students = []\n",
    "\n",
    "    def add_student(self, student):\n",
    "        self.students.append(student)\n",
    "\n",
    "instructor = Instructor(\"Dr. Smith\")\n",
    "materials = CourseMaterial(\"Course notes and assignments\")\n",
    "course = UniversityCourse(\"Computer Science 101\", instructor, materials)\n",
    "\n",
    "student = Student(\"Alice\")\n",
    "course.add_student(student)\n",
    "\n",
    "print(course.title)           # Output: Computer Science 101\n",
    "print(course.instructor.name) # Output: Dr. Smith\n",
    "print([student.name for student in course.students])  # Output: ['Alice']\n"
   ]
  },
  {
   "cell_type": "code",
   "execution_count": 121,
   "id": "cb990d80-0f67-4ae4-9ccd-28620c46a0fa",
   "metadata": {},
   "outputs": [],
   "source": [
    "# 13. Discuss the challenges and drawbacks of composition, such as increased complexity and potential for tight coupling between objects.\n",
    "# Composition can introduce complexity, especially if objects are deeply nested or if there are many dependencies. It can also lead to tight coupling if the composed objects are highly interdependent.\n",
    "\n",
    "# Example:\n",
    "# Complex systems may require careful management of object lifecycles and interactions to avoid issues.\n"
   ]
  },
  {
   "cell_type": "code",
   "execution_count": 122,
   "id": "d2473030-7d88-457e-96ad-7880df238221",
   "metadata": {},
   "outputs": [
    {
     "name": "stdout",
     "output_type": "stream",
     "text": [
      "Italian Bistro\n",
      "['Pizza']\n"
     ]
    }
   ],
   "source": [
    "# 14. Create a Python class hierarchy for a restaurant system, using composition to represent menus, dishes, and ingredients.\n",
    "class Ingredient:\n",
    "    def __init__(self, name):\n",
    "        self.name = name\n",
    "\n",
    "class Dish:\n",
    "    def __init__(self, name, ingredients):\n",
    "        self.name = name\n",
    "        self.ingredients = ingredients\n",
    "\n",
    "class Menu:\n",
    "    def __init__(self):\n",
    "        self.dishes = []\n",
    "\n",
    "    def add_dish(self, dish):\n",
    "        self.dishes.append(dish)\n",
    "\n",
    "class Restaurant:\n",
    "    def __init__(self, name):\n",
    "        self.name = name\n",
    "        self.menu = Menu()\n",
    "\n",
    "ingredient1 = Ingredient(\"Tomato\")\n",
    "ingredient2 = Ingredient(\"Cheese\")\n",
    "\n",
    "dish1 = Dish(\"Pizza\", [ingredient1, ingredient2])\n",
    "restaurant = Restaurant(\"Italian Bistro\")\n",
    "restaurant.menu.add_dish(dish1)\n",
    "\n",
    "print(restaurant.name)  # Output: Italian Bistro\n",
    "print([dish.name for dish in restaurant.menu.dishes])  # Output: ['Pizza']\n"
   ]
  },
  {
   "cell_type": "code",
   "execution_count": 123,
   "id": "fdf33d3f-7ad1-4126-8d06-af4b3401c338",
   "metadata": {},
   "outputs": [],
   "source": [
    "# 15. Explain how composition enhances code maintainability and modularity in Python programs.\n",
    "# Composition enhances maintainability and modularity by allowing classes to be built from reusable components. It promotes separation of concerns, making it easier to modify or extend individual components without affecting the entire system.\n",
    "\n",
    "# Example:\n",
    "# Modifying or extending an Engine class does not impact the Car class directly, as long as the interface remains consistent.\n",
    "\n"
   ]
  },
  {
   "cell_type": "code",
   "execution_count": 124,
   "id": "0ae374c8-70f9-450a-8b87-192737f35e56",
   "metadata": {},
   "outputs": [
    {
     "name": "stdout",
     "output_type": "stream",
     "text": [
      "Warrior\n",
      "Sword\n",
      "Shield\n",
      "['Health Potion']\n"
     ]
    }
   ],
   "source": [
    "# 16. Create a Python class for a computer game character, using composition to represent attributes like weapons, armor, and inventory.\n",
    "class Weapon:\n",
    "    def __init__(self, name):\n",
    "        self.name = name\n",
    "\n",
    "class Armor:\n",
    "    def __init__(self, type):\n",
    "        self.type = type\n",
    "\n",
    "class Inventory:\n",
    "    def __init__(self):\n",
    "        self.items = []\n",
    "\n",
    "    def add_item(self, item):\n",
    "        self.items.append(item)\n",
    "\n",
    "class GameCharacter:\n",
    "    def __init__(self, name, weapon, armor, inventory):\n",
    "        self.name = name\n",
    "        self.weapon = weapon\n",
    "        self.armor = armor\n",
    "        self.inventory = inventory\n",
    "\n",
    "sword = Weapon(\"Sword\")\n",
    "shield = Armor(\"Shield\")\n",
    "inventory = Inventory()\n",
    "inventory.add_item(\"Health Potion\")\n",
    "\n",
    "character = GameCharacter(\"Warrior\", sword, shield, inventory)\n",
    "print(character.name)            # Output: Warrior\n",
    "print(character.weapon.name)     # Output: Sword\n",
    "print(character.armor.type)      # Output: Shield\n",
    "print(character.inventory.items) # Output: ['Health Potion']\n"
   ]
  },
  {
   "cell_type": "code",
   "execution_count": 125,
   "id": "af8600e2-ddd2-4c1d-aff9-77f67bdd7182",
   "metadata": {},
   "outputs": [],
   "source": [
    "# 17. Describe the concept of \"aggregation\" in composition and how it differs from simple composition.\n",
    "# Aggregation is a special form of composition where the lifecycle of the contained objects is not strictly tied to the lifecycle of the container object. It represents a \"has-a\" relationship with weaker coupling compared to composition.\n",
    "\n",
    "# Example:\n",
    "class Engine:\n",
    "    pass\n",
    "\n",
    "class Car:\n",
    "    def __init__(self, engine):\n",
    "        self.engine = engine\n",
    "\n",
    "# Engine can exist independently of the Car, demonstrating aggregation.\n"
   ]
  },
  {
   "cell_type": "code",
   "execution_count": 126,
   "id": "e7edfcae-2966-4bda-ac09-312fb6d75986",
   "metadata": {},
   "outputs": [
    {
     "name": "stdout",
     "output_type": "stream",
     "text": [
      "['Living Room', 'Kitchen']\n",
      "['Sofa']\n",
      "['Refrigerator']\n"
     ]
    }
   ],
   "source": [
    "# 18. Create a Python class for a house, using composition to represent rooms, furniture, and appliances.\n",
    "class Room:\n",
    "    def __init__(self, name):\n",
    "        self.name = name\n",
    "\n",
    "class Furniture:\n",
    "    def __init__(self, type):\n",
    "        self.type = type\n",
    "\n",
    "class Appliance:\n",
    "    def __init__(self, name):\n",
    "        self.name = name\n",
    "\n",
    "class House:\n",
    "    def __init__(self):\n",
    "        self.rooms = []\n",
    "        self.furniture = []\n",
    "        self.appliances = []\n",
    "\n",
    "    def add_room(self, room):\n",
    "        self.rooms.append(room)\n",
    "\n",
    "    def add_furniture(self, furniture):\n",
    "        self.furniture.append(furniture)\n",
    "\n",
    "    def add_appliance(self, appliance):\n",
    "        self.appliances.append(appliance)\n",
    "\n",
    "room1 = Room(\"Living Room\")\n",
    "room2 = Room(\"Kitchen\")\n",
    "furniture1 = Furniture(\"Sofa\")\n",
    "appliance1 = Appliance(\"Refrigerator\")\n",
    "\n",
    "house = House()\n",
    "house.add_room(room1)\n",
    "house.add_room(room2)\n",
    "house.add_furniture(furniture1)\n",
    "house.add_appliance(appliance1)\n",
    "\n",
    "print([room.name for room in house.rooms])  # Output: ['Living Room', 'Kitchen']\n",
    "print([furniture.type for furniture in house.furniture])  # Output: ['Sofa']\n",
    "print([appliance.name for appliance in house.appliances])  # Output: ['Refrigerator']\n"
   ]
  },
  {
   "cell_type": "code",
   "execution_count": 127,
   "id": "e9df8e5e-4b3a-453b-9ff4-591ec7ff96c3",
   "metadata": {},
   "outputs": [
    {
     "name": "stdout",
     "output_type": "stream",
     "text": [
      "Engine started\n",
      "Engine started\n"
     ]
    }
   ],
   "source": [
    "# 19. How can you achieve flexibility in composed objects by allowing them to be replaced or modified dynamically at runtime?\n",
    "# Flexibility in composed objects can be achieved by allowing the replacement or modification of components at runtime through setters or configuration methods.\n",
    "\n",
    "# Example:\n",
    "class Engine:\n",
    "    def start(self):\n",
    "        return \"Engine started\"\n",
    "\n",
    "class Car:\n",
    "    def __init__(self, engine):\n",
    "        self.engine = engine\n",
    "\n",
    "    def replace_engine(self, new_engine):\n",
    "        self.engine = new_engine\n",
    "\n",
    "engine1 = Engine()\n",
    "engine2 = Engine()\n",
    "\n",
    "car = Car(engine1)\n",
    "print(car.engine.start())  # Output: Engine started\n",
    "\n",
    "car.replace_engine(engine2)\n",
    "print(car.engine.start())  # Output: Engine started\n"
   ]
  },
  {
   "cell_type": "code",
   "execution_count": 128,
   "id": "f90bf085-e08c-442a-be27-2f50d7dbf503",
   "metadata": {},
   "outputs": [
    {
     "name": "stdout",
     "output_type": "stream",
     "text": [
      "['My First Post']\n",
      "['Nice post!']\n",
      "['bob']\n"
     ]
    }
   ],
   "source": [
    "# 20. Create a Python class for a social media application, using composition to represent users, posts, and comments.\n",
    "class User:\n",
    "    def __init__(self, username):\n",
    "        self.username = username\n",
    "\n",
    "class Comment:\n",
    "    def __init__(self, content, user):\n",
    "        self.content = content\n",
    "        self.user = user\n",
    "\n",
    "class Post:\n",
    "    def __init__(self, title, content):\n",
    "        self.title = title\n",
    "        self.content = content\n",
    "        self.comments = []\n",
    "\n",
    "    def add_comment(self, comment):\n",
    "        self.comments.append(comment)\n",
    "\n",
    "class SocialMediaApp:\n",
    "    def __init__(self):\n",
    "        self.users = []\n",
    "        self.posts = []\n",
    "\n",
    "    def add_user(self, user):\n",
    "        self.users.append(user)\n",
    "\n",
    "    def add_post(self, post):\n",
    "        self.posts.append(post)\n",
    "\n",
    "user1 = User(\"alice\")\n",
    "user2 = User(\"bob\")\n",
    "post = Post(\"My First Post\", \"Hello, world!\")\n",
    "comment = Comment(\"Nice post!\", user2)\n",
    "\n",
    "post.add_comment(comment)\n",
    "\n",
    "app = SocialMediaApp()\n",
    "app.add_user(user1)\n",
    "app.add_user(user2)\n",
    "app.add_post(post)\n",
    "\n",
    "print([post.title for post in app.posts])  # Output: ['My First Post']\n",
    "print([comment.content for comment in post.comments])  # Output: ['Nice post!']\n",
    "print([comment.user.username for comment in post.comments])  # Output: ['bob']\n"
   ]
  },
  {
   "cell_type": "code",
   "execution_count": null,
   "id": "43600d5d-2969-4156-88f6-96b63b7d5e58",
   "metadata": {},
   "outputs": [],
   "source": []
  }
 ],
 "metadata": {
  "kernelspec": {
   "display_name": "Python 3 (ipykernel)",
   "language": "python",
   "name": "python3"
  },
  "language_info": {
   "codemirror_mode": {
    "name": "ipython",
    "version": 3
   },
   "file_extension": ".py",
   "mimetype": "text/x-python",
   "name": "python",
   "nbconvert_exporter": "python",
   "pygments_lexer": "ipython3",
   "version": "3.10.8"
  }
 },
 "nbformat": 4,
 "nbformat_minor": 5
}
