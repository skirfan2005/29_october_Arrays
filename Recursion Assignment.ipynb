{
 "cells": [
  {
   "cell_type": "code",
   "execution_count": 7,
   "id": "6107d4d8-7310-4bf7-af51-1fb271d00839",
   "metadata": {},
   "outputs": [
    {
     "data": {
      "text/plain": [
       "'class TowerOfHanoi {\\n    public static void main(String[] args) {\\n        int n = 3; // Number of disks\\n        towerOfHanoi(n, \\'A\\', \\'C\\', \\'B\\'); // A, B and C are names of rods\\n    }\\n\\n    static void towerOfHanoi(int n, char fromRod, char toRod, char auxRod) {\\n        if (n == 1) {\\n            System.out.println(\"Move disk 1 from rod \" + fromRod + \" to rod \" + toRod);\\n            return;\\n        }\\n        towerOfHanoi(n - 1, fromRod, auxRod, toRod);\\n        System.out.println(\"Move disk \" + n + \" from rod \" + fromRod + \" to rod \" + toRod);\\n        towerOfHanoi(n - 1, auxRod, toRod, fromRod);\\n    }\\n}'"
      ]
     },
     "execution_count": 7,
     "metadata": {},
     "output_type": "execute_result"
    }
   ],
   "source": [
    "# Q.1 Tower of Hanoi Algorithm in Java\n",
    "\n",
    "'''class TowerOfHanoi {\n",
    "    public static void main(String[] args) {\n",
    "        int n = 3; // Number of disks\n",
    "        towerOfHanoi(n, 'A', 'C', 'B'); // A, B and C are names of rods\n",
    "    }\n",
    "\n",
    "    static void towerOfHanoi(int n, char fromRod, char toRod, char auxRod) {\n",
    "        if (n == 1) {\n",
    "            System.out.println(\"Move disk 1 from rod \" + fromRod + \" to rod \" + toRod);\n",
    "            return;\n",
    "        }\n",
    "        towerOfHanoi(n - 1, fromRod, auxRod, toRod);\n",
    "        System.out.println(\"Move disk \" + n + \" from rod \" + fromRod + \" to rod \" + toRod);\n",
    "        towerOfHanoi(n - 1, auxRod, toRod, fromRod);\n",
    "    }\n",
    "}'''\n"
   ]
  },
  {
   "cell_type": "code",
   "execution_count": 3,
   "id": "873b7c45-7b13-4519-8801-03b3b082cf80",
   "metadata": {},
   "outputs": [
    {
     "name": "stdout",
     "output_type": "stream",
     "text": [
      "Q.2 Output: 3\n",
      "Q.2 Output: 5\n"
     ]
    }
   ],
   "source": [
    "# Q.2 Minimum Edit Distance in Python\n",
    "\n",
    "def minDistance(word1, word2):\n",
    "    m, n = len(word1), len(word2)\n",
    "    dp = [[0] * (n + 1) for _ in range(m + 1)]\n",
    "\n",
    "    for i in range(m + 1):\n",
    "        for j in range(n + 1):\n",
    "            if i == 0:\n",
    "                dp[i][j] = j\n",
    "            elif j == 0:\n",
    "                dp[i][j] = i\n",
    "            elif word1[i - 1] == word2[j - 1]:\n",
    "                dp[i][j] = dp[i - 1][j - 1]\n",
    "            else:\n",
    "                dp[i][j] = 1 + min(dp[i - 1][j], dp[i][j - 1], dp[i - 1][j - 1])\n",
    "    return dp[m][n]\n",
    "\n",
    "# Example 1\n",
    "word1 = \"horse\"\n",
    "word2 = \"ros\"\n",
    "print(\"Output:\", minDistance(word1, word2)) # Output: 3\n",
    "\n",
    "# Example 2\n",
    "word1 = \"intention\"\n",
    "word2 = \"execution\"\n",
    "print(\"Output:\", minDistance(word1, word2)) # Output: 5\n"
   ]
  },
  {
   "cell_type": "code",
   "execution_count": 4,
   "id": "5917e1e7-ce0b-4ae1-84ab-2281854798a4",
   "metadata": {},
   "outputs": [
    {
     "name": "stdout",
     "output_type": "stream",
     "text": [
      "The maximum value in the array is: 22\n"
     ]
    }
   ],
   "source": [
    "# Q.3 Maximum Value in Array (Python)\n",
    "\n",
    "array_q3 = [13, 1, -3, 22, 5]\n",
    "max_value = max(array_q3)\n",
    "print(\"The maximum value in the array is:\", max_value)\n"
   ]
  },
  {
   "cell_type": "code",
   "execution_count": 5,
   "id": "15ff4655-9c9e-4531-9c9b-03da96d67566",
   "metadata": {},
   "outputs": [
    {
     "name": "stdout",
     "output_type": "stream",
     "text": [
      "The sum of the values in the array is: 120\n"
     ]
    }
   ],
   "source": [
    "# Q.4 Sum of Values in Array (Python)\n",
    "\n",
    "array_q4 = [92, 23, 15, -20, 10]\n",
    "sum_value = sum(array_q4)\n",
    "print(\"The sum of the values in the array is:\", sum_value)\n"
   ]
  },
  {
   "cell_type": "code",
   "execution_count": 6,
   "id": "b7db0aa8-3bfc-446d-843a-e0cea2b9c938",
   "metadata": {},
   "outputs": [
    {
     "name": "stdout",
     "output_type": "stream",
     "text": [
      "Output1: Yes\n",
      "Output2: No\n"
     ]
    }
   ],
   "source": [
    "# Q.5 Check for Armstrong Number (Python)\n",
    "\n",
    "def is_armstrong_number(n):\n",
    "    num_str = str(n)\n",
    "    power = len(num_str)\n",
    "    armstrong_sum = sum(int(digit) ** power for digit in num_str)\n",
    "    return n == armstrong_sum\n",
    "\n",
    "# Example 1\n",
    "n1 = 153\n",
    "print(\"Output1:\", \"Yes\" if is_armstrong_number(n1) else \"No\") # Output1: Yes\n",
    "\n",
    "# Example 2\n",
    "n2 = 134\n",
    "print(\"Output2:\", \"No\" if not is_armstrong_number(n2) else \"Yes\") # Output2: No\n"
   ]
  },
  {
   "cell_type": "code",
   "execution_count": null,
   "id": "c71706d1-888d-4394-bb37-cf4d381157c6",
   "metadata": {},
   "outputs": [],
   "source": []
  }
 ],
 "metadata": {
  "kernelspec": {
   "display_name": "Python 3 (ipykernel)",
   "language": "python",
   "name": "python3"
  },
  "language_info": {
   "codemirror_mode": {
    "name": "ipython",
    "version": 3
   },
   "file_extension": ".py",
   "mimetype": "text/x-python",
   "name": "python",
   "nbconvert_exporter": "python",
   "pygments_lexer": "ipython3",
   "version": "3.11.7"
  }
 },
 "nbformat": 4,
 "nbformat_minor": 5
}
