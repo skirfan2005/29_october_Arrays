{
 "cells": [
  {
   "cell_type": "code",
   "execution_count": null,
   "id": "e439bcac",
   "metadata": {},
   "outputs": [],
   "source": [
    "import pandas as pd\n",
    "import matplotlib.pyplot as plt\n",
    "import seaborn as sns\n",
    "\n",
    "# Load the dataset\n",
    "df = pd.read_csv('heart_failure_clinical_records_dataset.csv')\n",
    "\n",
    "# Question 1: Distribution of Age Among Heart Failure Patients\n",
    "plt.figure(figsize=(10, 6))\n",
    "sns.histplot(df['age'], bins=20, kde=True)\n",
    "plt.title('Distribution of Age Among Heart Failure Patients')\n",
    "plt.xlabel('Age')\n",
    "plt.ylabel('Frequency')\n",
    "plt.show()"
   ]
  },
  {
   "cell_type": "code",
   "execution_count": null,
   "id": "4777a35e",
   "metadata": {},
   "outputs": [],
   "source": [
    "# Question 2: Death Rate Variation with Age\n",
    "df['age_group'] = pd.cut(df['age'], bins=[40, 50, 60, 70, 80, 90], labels=['40-50', '50-60', '60-70', '70-80', '80-90'])\n",
    "age_death_rate = df.groupby('age_group')['DEATH_EVENT'].mean() * 100\n",
    "\n",
    "plt.figure(figsize=(10, 6))\n",
    "age_death_rate.plot(kind='bar', color='salmon')\n",
    "plt.title('Death Rate by Age Group')\n",
    "plt.xlabel('Age Group')\n",
    "plt.ylabel('Death Rate (%)')\n",
    "plt.show()"
   ]
  },
  {
   "cell_type": "code",
   "execution_count": null,
   "id": "e3af81c5",
   "metadata": {},
   "outputs": [],
   "source": [
    "# Question 3: Percentage of Male and Female Patients\n",
    "gender_distribution = df['sex'].value_counts(normalize=True) * 100\n",
    "gender_distribution.plot(kind='pie', autopct='%1.1f%%', labels=['Male', 'Female'], colors=['lightblue', 'lightgreen'])\n",
    "plt.title('Percentage of Male and Female Patients')\n",
    "plt.ylabel('')\n",
    "plt.show()"
   ]
  },
  {
   "cell_type": "code",
   "execution_count": null,
   "id": "317241d2",
   "metadata": {},
   "outputs": [],
   "source": [
    "# Question 4: Platelet Count Variation Among Different Age Groups\n",
    "plt.figure(figsize=(10, 6))\n",
    "sns.boxplot(x='age_group', y='platelets', data=df, palette='viridis')\n",
    "plt.title('Platelet Count Variation Among Different Age Groups')\n",
    "plt.xlabel('Age Group')\n",
    "plt.ylabel('Platelet Count')\n",
    "plt.show()"
   ]
  },
  {
   "cell_type": "code",
   "execution_count": null,
   "id": "57e3ae80",
   "metadata": {},
   "outputs": [],
   "source": [
    "# Question 5: Correlation Between Creatinine and Sodium Levels\n",
    "correlation = df['serum_creatinine'].corr(df['serum_sodium'])\n",
    "print(f'Correlation between Serum Creatinine and Serum Sodium: {correlation:.2f}')\n",
    "\n",
    "plt.figure(figsize=(10, 6))\n",
    "sns.scatterplot(x='serum_creatinine', y='serum_sodium', data=df)\n",
    "plt.title('Correlation Between Serum Creatinine and Serum Sodium')\n",
    "plt.xlabel('Serum Creatinine')\n",
    "plt.ylabel('Serum Sodium')\n",
    "plt.show()"
   ]
  },
  {
   "cell_type": "code",
   "execution_count": null,
   "id": "a503fbf7",
   "metadata": {},
   "outputs": [],
   "source": [
    "# Question 6: High Blood Pressure Prevalence Between Male and Female Patients\n",
    "hbp_by_gender = df.groupby('sex')['high_blood_pressure'].mean() * 100\n",
    "hbp_by_gender.plot(kind='bar', color=['blue', 'green'])\n",
    "plt.title('High Blood Pressure Prevalence by Gender')\n",
    "plt.xlabel('Gender')\n",
    "plt.ylabel('Percentage with High Blood Pressure')\n",
    "plt.xticks([0, 1], ['Male', 'Female'], rotation=0)\n",
    "plt.show()"
   ]
  },
  {
   "cell_type": "code",
   "execution_count": null,
   "id": "3b323797",
   "metadata": {},
   "outputs": [],
   "source": [
    "# Question 7: Relationship Between Smoking Habits and Heart Failure\n",
    "smoking_death_rate = df.groupby('smoking')['DEATH_EVENT'].mean() * 100\n",
    "smoking_death_rate.plot(kind='bar', color='orange')\n",
    "plt.title('Death Rate by Smoking Status')\n",
    "plt.xlabel('Smoking')\n",
    "plt.ylabel('Death Rate (%)')\n",
    "plt.xticks([0, 1], ['Non-Smoker', 'Smoker'], rotation=0)\n",
    "plt.show()"
   ]
  },
  {
   "cell_type": "code",
   "execution_count": null,
   "id": "ae49c6b3",
   "metadata": {},
   "outputs": [],
   "source": [
    "# Question 8: Patterns in Death Events Across Different Age Groups\n",
    "death_by_age_group = df.groupby('age_group')['DEATH_EVENT'].mean() * 100\n",
    "death_by_age_group.plot(kind='bar', color='red')\n",
    "plt.title('Death Events Across Age Groups')\n",
    "plt.xlabel('Age Group')\n",
    "plt.ylabel('Death Event Rate (%)')\n",
    "plt.show()"
   ]
  },
  {
   "cell_type": "code",
   "execution_count": null,
   "id": "3a00bb56",
   "metadata": {},
   "outputs": [],
   "source": [
    "# Question 9: Difference in Ejection Fraction Between Patients with and without Diabetes\n",
    "plt.figure(figsize=(10, 6))\n",
    "sns.boxplot(x='diabetes', y='ejection_fraction', data=df, palette='coolwarm')\n",
    "plt.title('Ejection Fraction for Diabetic vs Non-Diabetic Patients')\n",
    "plt.xlabel('Diabetes')\n",
    "plt.ylabel('Ejection Fraction')\n",
    "plt.xticks([0, 1], ['No Diabetes', 'Diabetes'])\n",
    "plt.show()"
   ]
  },
  {
   "cell_type": "code",
   "execution_count": null,
   "id": "8711fbf8",
   "metadata": {},
   "outputs": [],
   "source": [
    "# Question 10: Serum Creatinine Level Variation Between Survivors and Non-Survivors\n",
    "plt.figure(figsize=(10, 6))\n",
    "sns.boxplot(x='DEATH_EVENT', y='serum_creatinine', data=df, palette='magma')\n",
    "plt.title('Serum Creatinine Level by Survival Status')\n",
    "plt.xlabel('Survived')\n",
    "plt.ylabel('Serum Creatinine')\n",
    "plt.xticks([0, 1], ['Survived', 'Did Not Survive'])\n",
    "plt.show()"
   ]
  }
 ],
 "metadata": {
  "kernelspec": {
   "display_name": "Python 3 (ipykernel)",
   "language": "python",
   "name": "python3"
  },
  "language_info": {
   "codemirror_mode": {
    "name": "ipython",
    "version": 3
   },
   "file_extension": ".py",
   "mimetype": "text/x-python",
   "name": "python",
   "nbconvert_exporter": "python",
   "pygments_lexer": "ipython3",
   "version": "3.11.5"
  }
 },
 "nbformat": 4,
 "nbformat_minor": 5
}
