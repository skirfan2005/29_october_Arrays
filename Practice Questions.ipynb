{
 "cells": [
  {
   "cell_type": "markdown",
   "id": "b223bce2-5b36-4f3e-b281-5b811ae36d6c",
   "metadata": {},
   "source": [
    "String Based Assignment Problem"
   ]
  },
  {
   "cell_type": "code",
   "execution_count": 3,
   "id": "fe2b40ce-89dc-4e78-8997-cd4b6bb1aa7f",
   "metadata": {},
   "outputs": [
    {
     "name": "stdout",
     "output_type": "stream",
     "text": [
      "olleh\n"
     ]
    }
   ],
   "source": [
    "# 1. Reverse a String\n",
    "def reverse_string(s):\n",
    "    return s[::-1]\n",
    "\n",
    "print(reverse_string(\"hello\"))"
   ]
  },
  {
   "cell_type": "code",
   "execution_count": 4,
   "id": "041c8840-362d-4834-a079-1c9f0eaf8210",
   "metadata": {},
   "outputs": [
    {
     "name": "stdout",
     "output_type": "stream",
     "text": [
      "True\n",
      "False\n"
     ]
    }
   ],
   "source": [
    " # 2. Check if a String is a Palindrome\n",
    "def is_palindrome(s):\n",
    "    s = s.lower().replace(\" \", \"\")\n",
    "    return s == s[::-1]\n",
    "\n",
    "print(is_palindrome(\"racecar\"))\n",
    "print(is_palindrome(\"hello\"))\n"
   ]
  },
  {
   "cell_type": "code",
   "execution_count": 5,
   "id": "df238428-fd6c-412a-89bf-47a3259f12bf",
   "metadata": {},
   "outputs": [
    {
     "name": "stdout",
     "output_type": "stream",
     "text": [
      "HELLO WORLD\n"
     ]
    }
   ],
   "source": [
    "# 3. Convert a String to Uppercase\n",
    "def to_uppercase(s):\n",
    "    return s.upper()\n",
    "\n",
    "print(to_uppercase(\"hello world\"))\n"
   ]
  },
  {
   "cell_type": "code",
   "execution_count": 6,
   "id": "4ced7a7d-81d7-4ab4-ac5f-6fafc8b9eed9",
   "metadata": {},
   "outputs": [
    {
     "name": "stdout",
     "output_type": "stream",
     "text": [
      "hello world\n"
     ]
    }
   ],
   "source": [
    "# 4. Convert a String to Lowercase\n",
    "def to_lowercase(s):\n",
    "    return s.lower()\n",
    "\n",
    "print(to_lowercase(\"HELLO WORLD\"))\n"
   ]
  },
  {
   "cell_type": "code",
   "execution_count": 7,
   "id": "5b045584-847e-4f70-a134-0d9f5a984fb1",
   "metadata": {},
   "outputs": [
    {
     "name": "stdout",
     "output_type": "stream",
     "text": [
      "3\n"
     ]
    }
   ],
   "source": [
    "# 5. Count the Number of Vowels in a String\n",
    "def count_vowels(s):\n",
    "    vowels = 'aeiouAEIOU'\n",
    "    return sum(1 for char in s if char in vowels)\n",
    "\n",
    "print(count_vowels(\"hello world\"))\n"
   ]
  },
  {
   "cell_type": "code",
   "execution_count": 8,
   "id": "40edc2d7-56a1-4ce5-af58-7b74b24c977d",
   "metadata": {},
   "outputs": [
    {
     "name": "stdout",
     "output_type": "stream",
     "text": [
      "7\n"
     ]
    }
   ],
   "source": [
    "# 6. Count the Number of Consonants in a String\n",
    "def count_consonants(s):\n",
    "    vowels = 'aeiouAEIOU'\n",
    "    return sum(1 for char in s if char.isalpha() and char not in vowels)\n",
    "\n",
    "print(count_consonants(\"hello world\"))\n"
   ]
  },
  {
   "cell_type": "code",
   "execution_count": 9,
   "id": "c55f1dc1-cb26-4a51-b2ce-b38d24cf8ef9",
   "metadata": {},
   "outputs": [
    {
     "name": "stdout",
     "output_type": "stream",
     "text": [
      "helloworld\n"
     ]
    }
   ],
   "source": [
    "# 7. Remove All Whitespaces from a String\n",
    "def remove_whitespaces(s):\n",
    "    return s.replace(\" \", \"\")\n",
    "\n",
    "print(remove_whitespaces(\"hello world\"))\n"
   ]
  },
  {
   "cell_type": "code",
   "execution_count": 10,
   "id": "b484d3bd-ce8a-4ddf-99e3-0eabc1c7147a",
   "metadata": {},
   "outputs": [
    {
     "name": "stdout",
     "output_type": "stream",
     "text": [
      "11\n"
     ]
    }
   ],
   "source": [
    "# 8. Find the Length of a String Without Using the `len()` Function\n",
    "def string_length(s):\n",
    "    count = 0\n",
    "    for _ in s:\n",
    "        count += 1\n",
    "    return count\n",
    "\n",
    "print(string_length(\"hello world\"))\n"
   ]
  },
  {
   "cell_type": "code",
   "execution_count": 11,
   "id": "bc407200-fe7d-4de4-b813-b0cd877f07ca",
   "metadata": {},
   "outputs": [
    {
     "name": "stdout",
     "output_type": "stream",
     "text": [
      "True\n",
      "False\n"
     ]
    }
   ],
   "source": [
    "# 9. Check if a String Contains a Specific Word\n",
    "def contains_word(s, word):\n",
    "    return word in s\n",
    "\n",
    "print(contains_word(\"hello world\", \"world\"))\n",
    "print(contains_word(\"hello world\", \"python\"))\n"
   ]
  },
  {
   "cell_type": "code",
   "execution_count": 12,
   "id": "fb07bb3c-d7c2-4e29-b0b4-4a7bc21ac430",
   "metadata": {},
   "outputs": [
    {
     "name": "stdout",
     "output_type": "stream",
     "text": [
      "hello everyone\n"
     ]
    }
   ],
   "source": [
    "# 10. Replace a Word in a String with Another Word\n",
    "def replace_word(s, old_word, new_word):\n",
    "    return s.replace(old_word, new_word)\n",
    "\n",
    "print(replace_word(\"hello world\", \"world\", \"everyone\"))\n"
   ]
  },
  {
   "cell_type": "code",
   "execution_count": 13,
   "id": "032373d3-c1a5-4e17-906a-9a4763bd2950",
   "metadata": {},
   "outputs": [
    {
     "name": "stdout",
     "output_type": "stream",
     "text": [
      "2\n"
     ]
    }
   ],
   "source": [
    "# 11. Count the Occurrences of a Word in a String\n",
    "def count_word_occurrences(s, word):\n",
    "    return s.split().count(word)\n",
    "\n",
    "print(count_word_occurrences(\"hello world world\", \"world\"))\n"
   ]
  },
  {
   "cell_type": "code",
   "execution_count": 14,
   "id": "fb17dc03-21f3-45b6-91c9-b5d8fc807def",
   "metadata": {},
   "outputs": [
    {
     "name": "stdout",
     "output_type": "stream",
     "text": [
      "6\n"
     ]
    }
   ],
   "source": [
    "# 12. Find the First Occurrence of a Word in a String\n",
    "def find_first_occurrence(s, word):\n",
    "    return s.find(word)\n",
    "\n",
    "print(find_first_occurrence(\"hello world\", \"world\"))\n"
   ]
  },
  {
   "cell_type": "code",
   "execution_count": 15,
   "id": "ee7ca0c4-6ee0-4b56-bc28-fe5fcc110a5a",
   "metadata": {},
   "outputs": [
    {
     "name": "stdout",
     "output_type": "stream",
     "text": [
      "12\n"
     ]
    }
   ],
   "source": [
    "# 13. Find the Last Occurrence of a Word in a String\n",
    "def find_last_occurrence(s, word):\n",
    "    return s.rfind(word)\n",
    "\n",
    "print(find_last_occurrence(\"hello world world\", \"world\"))\n"
   ]
  },
  {
   "cell_type": "code",
   "execution_count": 16,
   "id": "179cd162-3bdf-4c39-9f68-db90cacdf7ed",
   "metadata": {},
   "outputs": [
    {
     "name": "stdout",
     "output_type": "stream",
     "text": [
      "['hello', 'world']\n"
     ]
    }
   ],
   "source": [
    "# 14. Split a String into a List of Words\n",
    "def split_string(s):\n",
    "    return s.split()\n",
    "\n",
    "print(split_string(\"hello world\"))\n"
   ]
  },
  {
   "cell_type": "code",
   "execution_count": 17,
   "id": "f816ccc4-a57b-42a9-b733-6dde7ea9d28a",
   "metadata": {},
   "outputs": [
    {
     "name": "stdout",
     "output_type": "stream",
     "text": [
      "hello world\n"
     ]
    }
   ],
   "source": [
    "# 15. Join a List of Words into a String\n",
    "def join_words(words):\n",
    "    return \" \".join(words)\n",
    "\n",
    "print(join_words([\"hello\", \"world\"]))\n"
   ]
  },
  {
   "cell_type": "code",
   "execution_count": 18,
   "id": "85c99b08-57e6-41bf-a6cc-ab7055e85fde",
   "metadata": {},
   "outputs": [
    {
     "name": "stdout",
     "output_type": "stream",
     "text": [
      "hello_world\n"
     ]
    }
   ],
   "source": [
    "# 16. Convert a string where words are separated by spaces to one where words are separated by underscores.\n",
    "def space_to_underscore(s):\n",
    "    return s.replace(\" \", \"_\")\n",
    "\n",
    "print(space_to_underscore(\"hello world\"))\n"
   ]
  },
  {
   "cell_type": "code",
   "execution_count": 19,
   "id": "392bb2fd-c622-415c-aeb4-88c453ed94e8",
   "metadata": {},
   "outputs": [
    {
     "name": "stdout",
     "output_type": "stream",
     "text": [
      "True\n",
      "False\n"
     ]
    }
   ],
   "source": [
    "# 17. Check if a string starts with a specific word or phrase.\n",
    "def starts_with(s, word):\n",
    "    return s.startswith(word)\n",
    "\n",
    "print(starts_with(\"hello world\", \"hello\"))\n",
    "print(starts_with(\"hello world\", \"world\"))\n"
   ]
  },
  {
   "cell_type": "code",
   "execution_count": 20,
   "id": "f3aef34a-d38c-4556-a517-d9326a597e82",
   "metadata": {},
   "outputs": [
    {
     "name": "stdout",
     "output_type": "stream",
     "text": [
      "True\n",
      "False\n"
     ]
    }
   ],
   "source": [
    "# 18. Check if a string ends with a specific word or phrase.\n",
    "def ends_with(s, word):\n",
    "    return s.endswith(word)\n",
    "\n",
    "print(ends_with(\"hello world\", \"world\"))\n",
    "print(ends_with(\"hello world\", \"hello\"))\n"
   ]
  },
  {
   "cell_type": "code",
   "execution_count": 21,
   "id": "5c85a90b-d329-4c05-b0a7-9ef4f16ce33f",
   "metadata": {},
   "outputs": [
    {
     "name": "stdout",
     "output_type": "stream",
     "text": [
      "Hello World\n"
     ]
    }
   ],
   "source": [
    "# 19. Convert a string to title case (e.g., \"hello world\" to \"Hello World\").\n",
    "def to_title_case(s):\n",
    "    return s.title()\n",
    "\n",
    "print(to_title_case(\"hello world\"))\n"
   ]
  },
  {
   "cell_type": "code",
   "execution_count": 22,
   "id": "887704b4-221e-48ad-a5e9-eb78da438f57",
   "metadata": {},
   "outputs": [
    {
     "name": "stdout",
     "output_type": "stream",
     "text": [
      "longest\n"
     ]
    }
   ],
   "source": [
    "# 20. Find the longest word in a string.\n",
    "def longest_word(s):\n",
    "    words = s.split()\n",
    "    return max(words, key=len)\n",
    "\n",
    "print(longest_word(\"find the longest word in this string\"))\n"
   ]
  },
  {
   "cell_type": "code",
   "execution_count": 23,
   "id": "53681429-6597-40d8-adc9-461ad286e04c",
   "metadata": {},
   "outputs": [
    {
     "name": "stdout",
     "output_type": "stream",
     "text": [
      "in\n"
     ]
    }
   ],
   "source": [
    "# 21. Find the shortest word in a string.\n",
    "def shortest_word(s):\n",
    "    words = s.split()\n",
    "    return min(words, key=len)\n",
    "\n",
    "print(shortest_word(\"find the shortest word in this string\"))\n"
   ]
  },
  {
   "cell_type": "code",
   "execution_count": 24,
   "id": "d87397ff-eeb2-4a03-b1fa-2e71209fb442",
   "metadata": {},
   "outputs": [
    {
     "name": "stdout",
     "output_type": "stream",
     "text": [
      "words of order the reverse\n"
     ]
    }
   ],
   "source": [
    "# 22. Reverse the order of words in a string.\n",
    "def reverse_word_order(s):\n",
    "    words = s.split()\n",
    "    return \" \".join(reversed(words))\n",
    "\n",
    "print(reverse_word_order(\"reverse the order of words\"))\n"
   ]
  },
  {
   "cell_type": "code",
   "execution_count": 25,
   "id": "b3728e5f-3f7f-492f-994c-dc55234fca8b",
   "metadata": {},
   "outputs": [
    {
     "name": "stdout",
     "output_type": "stream",
     "text": [
      "True\n",
      "False\n"
     ]
    }
   ],
   "source": [
    "# 23. Check if a string is alphanumeric.\n",
    "def is_alphanumeric(s):\n",
    "    return s.isalnum()\n",
    "\n",
    "print(is_alphanumeric(\"Hello123\"))\n",
    "print(is_alphanumeric(\"Hello 123\"))\n"
   ]
  },
  {
   "cell_type": "code",
   "execution_count": 26,
   "id": "e1afc6f8-b7d5-4625-9dbf-9bae95d4b815",
   "metadata": {},
   "outputs": [
    {
     "name": "stdout",
     "output_type": "stream",
     "text": [
      "123456\n"
     ]
    }
   ],
   "source": [
    "# 24. Extract all digits from a string.\n",
    "def extract_digits(s):\n",
    "    return \"\".join([char for char in s if char.isdigit()])\n",
    "\n",
    "print(extract_digits(\"abc123def456\"))\n"
   ]
  },
  {
   "cell_type": "code",
   "execution_count": 27,
   "id": "bfcfb5b9-5ae2-4e7d-9e25-95958407170e",
   "metadata": {},
   "outputs": [
    {
     "name": "stdout",
     "output_type": "stream",
     "text": [
      "abcdef\n"
     ]
    }
   ],
   "source": [
    "# 25. Extract all alphabets from a string.\n",
    "def extract_alphabets(s):\n",
    "    return \"\".join([char for char in s if char.isalpha()])\n",
    "\n",
    "print(extract_alphabets(\"abc123def456\"))\n"
   ]
  },
  {
   "cell_type": "code",
   "execution_count": 28,
   "id": "e5130cfd-f520-47e8-8a93-c186de1c1a4d",
   "metadata": {},
   "outputs": [
    {
     "name": "stdout",
     "output_type": "stream",
     "text": [
      "2\n"
     ]
    }
   ],
   "source": [
    "# 26. Count the number of uppercase letters in a string.\n",
    "def count_uppercase(s):\n",
    "    return sum(1 for char in s if char.isupper())\n",
    "\n",
    "print(count_uppercase(\"Hello World\"))\n"
   ]
  },
  {
   "cell_type": "code",
   "execution_count": 29,
   "id": "ade4173e-027e-4d39-8607-0dc908b43252",
   "metadata": {},
   "outputs": [
    {
     "name": "stdout",
     "output_type": "stream",
     "text": [
      "8\n"
     ]
    }
   ],
   "source": [
    "# 27. Count the number of lowercase letters in a string.\n",
    "def count_lowercase(s):\n",
    "    return sum(1 for char in s if char.islower())\n",
    "\n",
    "print(count_lowercase(\"Hello World\"))\n"
   ]
  },
  {
   "cell_type": "code",
   "execution_count": 30,
   "id": "16d6e37e-a6b4-4715-9c7a-e4a51cdac3a0",
   "metadata": {},
   "outputs": [
    {
     "name": "stdout",
     "output_type": "stream",
     "text": [
      "hELLO wORLD\n"
     ]
    }
   ],
   "source": [
    "# 28. Swap the case of each character in a string.\n",
    "def swap_case(s):\n",
    "    return s.swapcase()\n",
    "\n",
    "print(swap_case(\"Hello World\"))\n"
   ]
  },
  {
   "cell_type": "code",
   "execution_count": 31,
   "id": "8a61a906-65c5-469b-bd7e-94d76fc70696",
   "metadata": {},
   "outputs": [
    {
     "name": "stdout",
     "output_type": "stream",
     "text": [
      "hello\n"
     ]
    }
   ],
   "source": [
    "# 29. Remove a specific word from a string.\n",
    "def remove_word(s, word):\n",
    "    return s.replace(word, \"\").strip()\n",
    "\n",
    "print(remove_word(\"hello world\", \"world\"))\n"
   ]
  },
  {
   "cell_type": "code",
   "execution_count": 32,
   "id": "9198563c-a2ff-42c9-9b55-b084223fd7d3",
   "metadata": {},
   "outputs": [
    {
     "name": "stdout",
     "output_type": "stream",
     "text": [
      "True\n",
      "False\n"
     ]
    }
   ],
   "source": [
    "# 30. Check if a string is a valid email address.\n",
    "import re\n",
    "\n",
    "def is_valid_email(s):\n",
    "    pattern = r\"^[a-zA-Z0-9_.+-]+@[a-zA-Z0-9-]+\\.[a-zA-Z0-9-.]+$\"\n",
    "    return re.match(pattern, s) is not None\n",
    "\n",
    "print(is_valid_email(\"test@example.com\"))\n",
    "print(is_valid_email(\"invalid-email\"))\n"
   ]
  },
  {
   "cell_type": "code",
   "execution_count": 33,
   "id": "cfdf79f9-d351-47fa-9667-402a14645d5b",
   "metadata": {},
   "outputs": [
    {
     "name": "stdout",
     "output_type": "stream",
     "text": [
      "user\n"
     ]
    }
   ],
   "source": [
    "# 31. Extract the username from an email address string.\n",
    "def extract_username(email):\n",
    "    return email.split('@')[0]\n",
    "\n",
    "print(extract_username(\"user@example.com\"))\n"
   ]
  },
  {
   "cell_type": "code",
   "execution_count": 34,
   "id": "3c56af37-748d-4a21-a156-d98a3dbecf6a",
   "metadata": {},
   "outputs": [
    {
     "name": "stdout",
     "output_type": "stream",
     "text": [
      "example.com\n"
     ]
    }
   ],
   "source": [
    "# 32. Extract the domain name from an email address string.\n",
    "def extract_domain(email):\n",
    "    return email.split('@')[1]\n",
    "\n",
    "print(extract_domain(\"user@example.com\"))\n"
   ]
  },
  {
   "cell_type": "code",
   "execution_count": 35,
   "id": "b2735039-fdd8-471f-9856-e46ab7514758",
   "metadata": {},
   "outputs": [
    {
     "name": "stdout",
     "output_type": "stream",
     "text": [
      "This is a test\n"
     ]
    }
   ],
   "source": [
    "# 33. Replace multiple spaces in a string with a single space.\n",
    "def replace_multiple_spaces(s):\n",
    "    return \" \".join(s.split())\n",
    "\n",
    "print(replace_multiple_spaces(\"This   is  a    test\"))\n"
   ]
  },
  {
   "cell_type": "code",
   "execution_count": 36,
   "id": "44f02dc6-9fe0-4a3e-8ab5-99a788187ba3",
   "metadata": {},
   "outputs": [
    {
     "name": "stdout",
     "output_type": "stream",
     "text": [
      "True\n",
      "False\n"
     ]
    }
   ],
   "source": [
    "# 34. Check if a string is a valid URL.\n",
    "import re\n",
    "\n",
    "def is_valid_url(s):\n",
    "    pattern = r\"^(https?://)?(www\\.)?([a-zA-Z0-9]+)(\\.[a-zA-Z]+)(/[a-zA-Z0-9#]+/?)*$\"\n",
    "    return re.match(pattern, s) is not None\n",
    "\n",
    "print(is_valid_url(\"https://www.example.com\"))\n",
    "print(is_valid_url(\"invalid-url\"))\n"
   ]
  },
  {
   "cell_type": "code",
   "execution_count": 37,
   "id": "f6f5e828-3f86-4b5f-b280-fe0ebb63e3a0",
   "metadata": {},
   "outputs": [
    {
     "name": "stdout",
     "output_type": "stream",
     "text": [
      "https\n"
     ]
    }
   ],
   "source": [
    "# 35. Extract the protocol (http or https) from a URL string.\n",
    "def extract_protocol(url):\n",
    "    return url.split(\"://\")[0] if \"://\" in url else \"No protocol found\"\n",
    "\n",
    "print(extract_protocol(\"https://www.example.com\"))\n"
   ]
  },
  {
   "cell_type": "code",
   "execution_count": 38,
   "id": "5412c161-4230-45fd-bd1c-2081db00a782",
   "metadata": {},
   "outputs": [
    {
     "name": "stdout",
     "output_type": "stream",
     "text": [
      "Counter({'l': 3, 'o': 2, 'h': 1, 'e': 1, ' ': 1, 'w': 1, 'r': 1, 'd': 1})\n"
     ]
    }
   ],
   "source": [
    "# 36. Find the frequency of each character in a string.\n",
    "from collections import Counter\n",
    "\n",
    "def char_frequency(s):\n",
    "    return Counter(s)\n",
    "\n",
    "print(char_frequency(\"hello world\"))\n"
   ]
  },
  {
   "cell_type": "code",
   "execution_count": 39,
   "id": "3748ef18-7533-48f7-9f85-553bcd23440c",
   "metadata": {},
   "outputs": [
    {
     "name": "stdout",
     "output_type": "stream",
     "text": [
      "Hello world\n"
     ]
    }
   ],
   "source": [
    "# 37. Remove all punctuation from a string.\n",
    "import string\n",
    "\n",
    "def remove_punctuation(s):\n",
    "    return s.translate(str.maketrans(\"\", \"\", string.punctuation))\n",
    "\n",
    "print(remove_punctuation(\"Hello, world!\"))\n"
   ]
  },
  {
   "cell_type": "code",
   "execution_count": 40,
   "id": "8cd1534f-1c16-4c94-bfb1-b16d19e985c6",
   "metadata": {},
   "outputs": [
    {
     "name": "stdout",
     "output_type": "stream",
     "text": [
      "True\n",
      "False\n"
     ]
    }
   ],
   "source": [
    "# 38. Check if a string contains only digits.\n",
    "def contains_only_digits(s):\n",
    "    return s.isdigit()\n",
    "\n",
    "print(contains_only_digits(\"123456\"))\n",
    "print(contains_only_digits(\"123a56\"))\n"
   ]
  },
  {
   "cell_type": "code",
   "execution_count": 41,
   "id": "d2020b46-94f7-4b1e-9a59-dd8555e92293",
   "metadata": {},
   "outputs": [
    {
     "name": "stdout",
     "output_type": "stream",
     "text": [
      "True\n",
      "False\n"
     ]
    }
   ],
   "source": [
    "# 39. Check if a string contains only alphabets.\n",
    "def contains_only_alphabets(s):\n",
    "    return s.isalpha()\n",
    "\n",
    "print(contains_only_alphabets(\"Hello\"))\n",
    "print(contains_only_alphabets(\"Hello123\"))\n"
   ]
  },
  {
   "cell_type": "code",
   "execution_count": 42,
   "id": "5f5225a0-a553-4d14-87f8-bc102b2c0b1b",
   "metadata": {},
   "outputs": [
    {
     "name": "stdout",
     "output_type": "stream",
     "text": [
      "['h', 'e', 'l', 'l', 'o']\n"
     ]
    }
   ],
   "source": [
    "# 40. Convert a string to a list of characters.\n",
    "def string_to_char_list(s):\n",
    "    return list(s)\n",
    "\n",
    "print(string_to_char_list(\"hello\"))\n"
   ]
  },
  {
   "cell_type": "code",
   "execution_count": 43,
   "id": "77507518-fe7c-4d92-87d8-9f8f394b0d22",
   "metadata": {},
   "outputs": [
    {
     "name": "stdout",
     "output_type": "stream",
     "text": [
      "True\n",
      "False\n"
     ]
    }
   ],
   "source": [
    "# 41. Check if two strings are anagrams.\n",
    "from collections import Counter\n",
    "\n",
    "def are_anagrams(s1, s2):\n",
    "    return Counter(s1) == Counter(s2)\n",
    "\n",
    "print(are_anagrams(\"listen\", \"silent\"))\n",
    "print(are_anagrams(\"hello\", \"world\"))\n"
   ]
  },
  {
   "cell_type": "code",
   "execution_count": 44,
   "id": "1a0d757b-46c8-4f82-a7d1-2009ae07c3b5",
   "metadata": {},
   "outputs": [
    {
     "name": "stdout",
     "output_type": "stream",
     "text": [
      "khoor\n"
     ]
    }
   ],
   "source": [
    "# 42. Encode a string using a Caesar cipher.\n",
    "def caesar_cipher_encode(s, shift):\n",
    "    encoded = []\n",
    "    for char in s:\n",
    "        if char.isalpha():\n",
    "            shift_base = ord('A') if char.isupper() else ord('a')\n",
    "            encoded.append(chr((ord(char) - shift_base + shift) % 26 + shift_base))\n",
    "        else:\n",
    "            encoded.append(char)\n",
    "    return ''.join(encoded)\n",
    "\n",
    "print(caesar_cipher_encode(\"hello\", 3))\n"
   ]
  },
  {
   "cell_type": "code",
   "execution_count": 45,
   "id": "089aac98-1620-456a-bb8f-8fe6711f324d",
   "metadata": {},
   "outputs": [
    {
     "name": "stdout",
     "output_type": "stream",
     "text": [
      "hello\n"
     ]
    }
   ],
   "source": [
    "# 43. Decode a Caesar cipher encoded string.\n",
    "def caesar_cipher_decode(s, shift):\n",
    "    return caesar_cipher_encode(s, -shift)\n",
    "\n",
    "print(caesar_cipher_decode(\"khoor\", 3))\n"
   ]
  },
  {
   "cell_type": "code",
   "execution_count": 46,
   "id": "e7d4867e-eef3-46fd-8c57-df3679fb3854",
   "metadata": {},
   "outputs": [
    {
     "name": "stdout",
     "output_type": "stream",
     "text": [
      "apple\n"
     ]
    }
   ],
   "source": [
    "# 44. Find the most frequent word in a string.\n",
    "from collections import Counter\n",
    "\n",
    "def most_frequent_word(s):\n",
    "    words = s.split()\n",
    "    return Counter(words).most_common(1)[0][0]\n",
    "\n",
    "print(most_frequent_word(\"apple orange apple banana apple\"))\n"
   ]
  },
  {
   "cell_type": "code",
   "execution_count": 47,
   "id": "c9d8114b-1292-4c47-9850-3ce0e2fce764",
   "metadata": {},
   "outputs": [
    {
     "name": "stdout",
     "output_type": "stream",
     "text": [
      "['banana', 'apple', 'orange']\n"
     ]
    }
   ],
   "source": [
    "# 45. Find all unique words in a string.\n",
    "def unique_words(s):\n",
    "    words = s.split()\n",
    "    return list(set(words))\n",
    "\n",
    "print(unique_words(\"apple orange apple banana\"))\n"
   ]
  },
  {
   "cell_type": "code",
   "execution_count": 48,
   "id": "8c6342a3-6b60-49f7-bf05-02c841c7f3a8",
   "metadata": {},
   "outputs": [
    {
     "name": "stdout",
     "output_type": "stream",
     "text": [
      "8\n"
     ]
    }
   ],
   "source": [
    "# 46. Count the number of syllables in a string.\n",
    "import re\n",
    "\n",
    "def count_syllables(s):\n",
    "    s = s.lower()\n",
    "    syllable_pattern = r'[aeiouy]{1,2}'\n",
    "    syllables = re.findall(syllable_pattern, s)\n",
    "    return len(syllables)\n",
    "\n",
    "print(count_syllables(\"This is a simple sentence.\"))\n"
   ]
  },
  {
   "cell_type": "code",
   "execution_count": 49,
   "id": "6cb7e0a3-6af8-436b-8977-f3c51edf217b",
   "metadata": {},
   "outputs": [
    {
     "name": "stdout",
     "output_type": "stream",
     "text": [
      "True\n",
      "False\n"
     ]
    }
   ],
   "source": [
    "# 47. Check if a string contains any special characters.\n",
    "def contains_special_characters(s):\n",
    "    return any(not char.isalnum() and not char.isspace() for char in s)\n",
    "\n",
    "print(contains_special_characters(\"Hello@World!\"))\n",
    "print(contains_special_characters(\"HelloWorld\"))\n"
   ]
  },
  {
   "cell_type": "code",
   "execution_count": 50,
   "id": "6a0fcc4b-6814-4936-ae16-95d8046d6802",
   "metadata": {},
   "outputs": [
    {
     "name": "stdout",
     "output_type": "stream",
     "text": [
      "The quick brown jumps over the lazy dog\n"
     ]
    }
   ],
   "source": [
    "# 48. Remove the nth word from a string.\n",
    "def remove_nth_word(s, n):\n",
    "    words = s.split()\n",
    "    if 0 <= n < len(words):\n",
    "        words.pop(n)\n",
    "    return \" \".join(words)\n",
    "\n",
    "print(remove_nth_word(\"The quick brown fox jumps over the lazy dog\", 3))\n"
   ]
  },
  {
   "cell_type": "code",
   "execution_count": 51,
   "id": "2510f34e-a559-40a6-9f73-30682272b995",
   "metadata": {},
   "outputs": [
    {
     "name": "stdout",
     "output_type": "stream",
     "text": [
      "The quick brown sly fox jumps over the lazy dog\n"
     ]
    }
   ],
   "source": [
    "# 49. Insert a word at the nth position in a string.\n",
    "def insert_word_at_nth(s, word, n):\n",
    "    words = s.split()\n",
    "    words.insert(n, word)\n",
    "    return \" \".join(words)\n",
    "\n",
    "print(insert_word_at_nth(\"The quick brown fox jumps over the lazy dog\", \"sly\", 3))\n"
   ]
  },
  {
   "cell_type": "code",
   "execution_count": 52,
   "id": "a4ece975-1fd5-4a74-9213-fce3fca55b15",
   "metadata": {},
   "outputs": [
    {
     "name": "stdout",
     "output_type": "stream",
     "text": [
      "[['name', 'age', 'city'], ['Alice', '30', 'New York'], ['Bob', '25', 'Los Angeles']]\n"
     ]
    }
   ],
   "source": [
    "# 50. Convert a CSV string to a list of lists.\n",
    "def csv_to_list_of_lists(csv_string):\n",
    "    lines = csv_string.strip().split(\"\\n\")\n",
    "    return [line.split(\",\") for line in lines]\n",
    "\n",
    "csv_string = \"name,age,city\\nAlice,30,New York\\nBob,25,Los Angeles\"\n",
    "print(csv_to_list_of_lists(csv_string))\n"
   ]
  },
  {
   "cell_type": "markdown",
   "id": "404e5cf0-a3f5-4512-b9db-8118fedbbc81",
   "metadata": {},
   "source": [
    "List Based Practice Problem :"
   ]
  },
  {
   "cell_type": "code",
   "execution_count": 53,
   "id": "ae99834f-676c-4c8d-a22f-3d32f84f7620",
   "metadata": {},
   "outputs": [
    {
     "name": "stdout",
     "output_type": "stream",
     "text": [
      "[1, 2, 3, 4, 5, 6, 7, 8, 9, 10]\n"
     ]
    }
   ],
   "source": [
    "# 1. Create a list with integers from 1 to 10.\n",
    "lst = list(range(1, 11))\n",
    "print(lst)\n"
   ]
  },
  {
   "cell_type": "code",
   "execution_count": 54,
   "id": "fd724cfe-0945-4578-8b96-790858c0d24c",
   "metadata": {},
   "outputs": [
    {
     "name": "stdout",
     "output_type": "stream",
     "text": [
      "5\n"
     ]
    }
   ],
   "source": [
    "# 2. Find the length of a list without using the `len()` function.\n",
    "def list_length(lst):\n",
    "    count = 0\n",
    "    for _ in lst:\n",
    "        count += 1\n",
    "    return count\n",
    "\n",
    "print(list_length([1, 2, 3, 4, 5]))\n"
   ]
  },
  {
   "cell_type": "code",
   "execution_count": 55,
   "id": "a0fe0dfe-f9f6-42d9-9c19-daa854dae03b",
   "metadata": {},
   "outputs": [
    {
     "name": "stdout",
     "output_type": "stream",
     "text": [
      "[1, 2, 3, 4, 5, 6]\n"
     ]
    }
   ],
   "source": [
    "# 3. Append an element to the end of a list.\n",
    "lst = [1, 2, 3, 4, 5]\n",
    "lst.append(6)\n",
    "print(lst)\n"
   ]
  },
  {
   "cell_type": "code",
   "execution_count": 56,
   "id": "e91bf1f2-3dcb-431d-916b-0749fe024530",
   "metadata": {},
   "outputs": [
    {
     "name": "stdout",
     "output_type": "stream",
     "text": [
      "[1, 2, 3, 4, 5]\n"
     ]
    }
   ],
   "source": [
    "# 4. Insert an element at a specific index in a list.\n",
    "lst = [1, 2, 3, 5]\n",
    "lst.insert(3, 4)\n",
    "print(lst)\n"
   ]
  },
  {
   "cell_type": "code",
   "execution_count": 57,
   "id": "f15aed5c-6452-4bb0-a6cc-e163255cb167",
   "metadata": {},
   "outputs": [
    {
     "name": "stdout",
     "output_type": "stream",
     "text": [
      "[1, 2, 4, 5]\n"
     ]
    }
   ],
   "source": [
    "# 5. Remove an element from a list by its value.\n",
    "lst = [1, 2, 3, 4, 5]\n",
    "lst.remove(3)\n",
    "print(lst)\n"
   ]
  },
  {
   "cell_type": "code",
   "execution_count": 58,
   "id": "14646567-e133-4a2b-93c8-34b643789318",
   "metadata": {},
   "outputs": [
    {
     "name": "stdout",
     "output_type": "stream",
     "text": [
      "[1, 2, 4, 5]\n"
     ]
    }
   ],
   "source": [
    "# 6. Remove an element from a list by its index.\n",
    "lst = [1, 2, 3, 4, 5]\n",
    "lst.pop(2)\n",
    "print(lst)\n"
   ]
  },
  {
   "cell_type": "code",
   "execution_count": 59,
   "id": "8a7fd570-c3b4-4490-8ae6-eacde7b37152",
   "metadata": {},
   "outputs": [
    {
     "name": "stdout",
     "output_type": "stream",
     "text": [
      "True\n",
      "False\n"
     ]
    }
   ],
   "source": [
    "# 7. Check if an element exists in a list.\n",
    "lst = [1, 2, 3, 4, 5]\n",
    "print(3 in lst)\n",
    "print(6 in lst)\n"
   ]
  },
  {
   "cell_type": "code",
   "execution_count": 60,
   "id": "9c0eceae-e72a-4b89-b88d-14aea55457ed",
   "metadata": {},
   "outputs": [
    {
     "name": "stdout",
     "output_type": "stream",
     "text": [
      "2\n"
     ]
    }
   ],
   "source": [
    "# 8. Find the index of the first occurrence of an element in a list.\n",
    "lst = [1, 2, 3, 4, 3, 5]\n",
    "print(lst.index(3))\n"
   ]
  },
  {
   "cell_type": "code",
   "execution_count": 61,
   "id": "f9d99c90-b640-4011-8714-af52896c7228",
   "metadata": {},
   "outputs": [
    {
     "name": "stdout",
     "output_type": "stream",
     "text": [
      "2\n"
     ]
    }
   ],
   "source": [
    "# 9. Count the occurrences of an element in a list.\n",
    "lst = [1, 2, 3, 3, 4, 5]\n",
    "print(lst.count(3))\n"
   ]
  },
  {
   "cell_type": "code",
   "execution_count": 62,
   "id": "4a175b39-b3b5-4453-a899-74bad2ccee36",
   "metadata": {},
   "outputs": [
    {
     "name": "stdout",
     "output_type": "stream",
     "text": [
      "[5, 4, 3, 2, 1]\n"
     ]
    }
   ],
   "source": [
    "# 10. Reverse the order of elements in a list.\n",
    "lst = [1, 2, 3, 4, 5]\n",
    "lst.reverse()\n",
    "print(lst)\n"
   ]
  },
  {
   "cell_type": "code",
   "execution_count": 63,
   "id": "912a06c6-7acb-46b7-a7ea-cd7d64040bfb",
   "metadata": {},
   "outputs": [
    {
     "name": "stdout",
     "output_type": "stream",
     "text": [
      "[1, 2, 3, 4, 5]\n"
     ]
    }
   ],
   "source": [
    "# 11. Sort a list in ascending order.\n",
    "lst = [3, 1, 4, 5, 2]\n",
    "lst.sort()\n",
    "print(lst)\n"
   ]
  },
  {
   "cell_type": "code",
   "execution_count": 64,
   "id": "b3293d84-796b-4a5c-8fe0-9f38886edc36",
   "metadata": {},
   "outputs": [
    {
     "name": "stdout",
     "output_type": "stream",
     "text": [
      "[5, 4, 3, 2, 1]\n"
     ]
    }
   ],
   "source": [
    "# 12. Sort a list in descending order.\n",
    "lst = [3, 1, 4, 5, 2]\n",
    "lst.sort(reverse=True)\n",
    "print(lst)\n"
   ]
  },
  {
   "cell_type": "code",
   "execution_count": 65,
   "id": "939a5153-2035-4711-99e4-756ea0b0b7df",
   "metadata": {},
   "outputs": [
    {
     "name": "stdout",
     "output_type": "stream",
     "text": [
      "[2, 4, 6, 8, 10, 12, 14, 16, 18, 20]\n"
     ]
    }
   ],
   "source": [
    "# 13. Create a list of even numbers from 1 to 20.\n",
    "even_numbers = [i for i in range(1, 21) if i % 2 == 0]\n",
    "print(even_numbers)\n"
   ]
  },
  {
   "cell_type": "code",
   "execution_count": 66,
   "id": "375a1d59-fc10-4ab9-8b58-86478c14f663",
   "metadata": {},
   "outputs": [
    {
     "name": "stdout",
     "output_type": "stream",
     "text": [
      "[1, 3, 5, 7, 9, 11, 13, 15, 17, 19]\n"
     ]
    }
   ],
   "source": [
    "# 14. Create a list of odd numbers from 1 to 20.\n",
    "odd_numbers = [i for i in range(1, 21) if i % 2 != 0]\n",
    "print(odd_numbers)\n"
   ]
  },
  {
   "cell_type": "code",
   "execution_count": 67,
   "id": "1c58c653-22a0-4bc9-a112-f32d1105d8d0",
   "metadata": {},
   "outputs": [
    {
     "name": "stdout",
     "output_type": "stream",
     "text": [
      "15\n"
     ]
    }
   ],
   "source": [
    "# 15. Find the sum of all elements in a list.\n",
    "lst = [1, 2, 3, 4, 5]\n",
    "print(sum(lst))\n"
   ]
  },
  {
   "cell_type": "code",
   "execution_count": 68,
   "id": "a9ecc7e9-f4d7-4dad-bc8d-2c6a6941ece5",
   "metadata": {},
   "outputs": [
    {
     "name": "stdout",
     "output_type": "stream",
     "text": [
      "5\n"
     ]
    }
   ],
   "source": [
    "# 16. Find the maximum value in a list.\n",
    "lst = [1, 2, 3, 4, 5]\n",
    "print(max(lst))\n"
   ]
  },
  {
   "cell_type": "code",
   "execution_count": 69,
   "id": "59ca5a26-998b-4387-becf-681391964363",
   "metadata": {},
   "outputs": [
    {
     "name": "stdout",
     "output_type": "stream",
     "text": [
      "1\n"
     ]
    }
   ],
   "source": [
    "# 17. Find the minimum value in a list.\n",
    "lst = [1, 2, 3, 4, 5]\n",
    "print(min(lst))\n"
   ]
  },
  {
   "cell_type": "code",
   "execution_count": 70,
   "id": "66a046d3-f5c3-4aa6-9dd1-e08495a9f446",
   "metadata": {},
   "outputs": [
    {
     "name": "stdout",
     "output_type": "stream",
     "text": [
      "[1, 4, 9, 16, 25, 36, 49, 64, 81, 100]\n"
     ]
    }
   ],
   "source": [
    "# 18. Create a list of squares of numbers from 1 to 10.\n",
    "squares = [i**2 for i in range(1, 11)]\n",
    "print(squares)\n"
   ]
  },
  {
   "cell_type": "code",
   "execution_count": 71,
   "id": "29ed21b0-538f-4a7a-8edc-25251be3fda7",
   "metadata": {},
   "outputs": [
    {
     "name": "stdout",
     "output_type": "stream",
     "text": [
      "[75, 44, 56, 98, 45, 83, 43, 19, 82, 94]\n"
     ]
    }
   ],
   "source": [
    "# 19. Create a list of random numbers.\n",
    "import random\n",
    "random_numbers = [random.randint(1, 100) for _ in range(10)]\n",
    "print(random_numbers)\n"
   ]
  },
  {
   "cell_type": "code",
   "execution_count": 72,
   "id": "87e9f9a6-9c53-4a3f-af8b-5fb81434381b",
   "metadata": {},
   "outputs": [
    {
     "name": "stdout",
     "output_type": "stream",
     "text": [
      "[1, 2, 3, 4, 5]\n"
     ]
    }
   ],
   "source": [
    "# 20. Remove duplicates from a list.\n",
    "lst = [1, 2, 2, 3, 4, 4, 5]\n",
    "lst = list(set(lst))\n",
    "print(lst)\n"
   ]
  },
  {
   "cell_type": "code",
   "execution_count": 73,
   "id": "218c984b-358d-42a7-b4b2-2bf06f58b3c2",
   "metadata": {},
   "outputs": [
    {
     "name": "stdout",
     "output_type": "stream",
     "text": [
      "[3, 4, 5]\n"
     ]
    }
   ],
   "source": [
    "# 21. Find the common elements between two lists.\n",
    "lst1 = [1, 2, 3, 4, 5]\n",
    "lst2 = [3, 4, 5, 6, 7]\n",
    "common_elements = list(set(lst1) & set(lst2))\n",
    "print(common_elements)\n"
   ]
  },
  {
   "cell_type": "code",
   "execution_count": 74,
   "id": "71061544-cd88-46be-9946-e1cef2510021",
   "metadata": {},
   "outputs": [
    {
     "name": "stdout",
     "output_type": "stream",
     "text": [
      "[1, 2]\n"
     ]
    }
   ],
   "source": [
    "# 22. Find the difference between two lists.\n",
    "lst1 = [1, 2, 3, 4, 5]\n",
    "lst2 = [3, 4, 5, 6, 7]\n",
    "difference = list(set(lst1) - set(lst2))\n",
    "print(difference)\n"
   ]
  },
  {
   "cell_type": "code",
   "execution_count": 75,
   "id": "59060b28-80bb-4101-af3a-d5f9cda28391",
   "metadata": {},
   "outputs": [
    {
     "name": "stdout",
     "output_type": "stream",
     "text": [
      "[1, 2, 3, 4, 5, 6]\n"
     ]
    }
   ],
   "source": [
    "# 23. Merge two lists.\n",
    "lst1 = [1, 2, 3]\n",
    "lst2 = [4, 5, 6]\n",
    "merged_list = lst1 + lst2\n",
    "print(merged_list)\n"
   ]
  },
  {
   "cell_type": "code",
   "execution_count": 76,
   "id": "e4676a42-9489-4863-82a2-5a01f79c46be",
   "metadata": {},
   "outputs": [
    {
     "name": "stdout",
     "output_type": "stream",
     "text": [
      "[2, 4, 6, 8, 10]\n"
     ]
    }
   ],
   "source": [
    "# 24. Multiply all elements in a list by 2.\n",
    "lst = [1, 2, 3, 4, 5]\n",
    "lst = [i * 2 for i in lst]\n",
    "print(lst)\n"
   ]
  },
  {
   "cell_type": "code",
   "execution_count": 77,
   "id": "9d45d310-74de-4acc-95c7-a38bb8eef49b",
   "metadata": {},
   "outputs": [
    {
     "name": "stdout",
     "output_type": "stream",
     "text": [
      "[1, 3, 5]\n"
     ]
    }
   ],
   "source": [
    "# 25. Filter out all even numbers from a list.\n",
    "lst = [1, 2, 3, 4, 5, 6]\n",
    "filtered_list = [i for i in lst if i % 2 != 0]\n",
    "print(filtered_list)\n"
   ]
  },
  {
   "cell_type": "code",
   "execution_count": 78,
   "id": "f57625da-8e23-41c9-abd4-05f9ab29de1b",
   "metadata": {},
   "outputs": [
    {
     "name": "stdout",
     "output_type": "stream",
     "text": [
      "[1, 2, 3, 4, 5]\n"
     ]
    }
   ],
   "source": [
    "# 26. Convert a list of strings to a list of integers.\n",
    "str_lst = [\"1\", \"2\", \"3\", \"4\", \"5\"]\n",
    "int_lst = [int(i) for i in str_lst]\n",
    "print(int_lst)\n"
   ]
  },
  {
   "cell_type": "code",
   "execution_count": 79,
   "id": "31687a6f-c745-4873-91cf-9fd133bfa50e",
   "metadata": {},
   "outputs": [
    {
     "name": "stdout",
     "output_type": "stream",
     "text": [
      "['1', '2', '3', '4', '5']\n"
     ]
    }
   ],
   "source": [
    "# 27. Convert a list of integers to a list of strings.\n",
    "int_lst = [1, 2, 3, 4, 5]\n",
    "str_lst = [str(i) for i in int_lst]\n",
    "print(str_lst)\n"
   ]
  },
  {
   "cell_type": "code",
   "execution_count": 80,
   "id": "0716950c-7376-4246-b005-3a8550f34517",
   "metadata": {},
   "outputs": [
    {
     "name": "stdout",
     "output_type": "stream",
     "text": [
      "[1, 2, 3, 4, 5, 6]\n"
     ]
    }
   ],
   "source": [
    "# 28. Flatten a nested list.\n",
    "nested_lst = [[1, 2, 3], [4, 5], [6]]\n",
    "flattened_lst = [item for sublist in nested_lst for item in sublist]\n",
    "print(flattened_lst)\n"
   ]
  },
  {
   "cell_type": "code",
   "execution_count": 81,
   "id": "88855e5a-f51f-42eb-b39a-19decd8d1755",
   "metadata": {},
   "outputs": [
    {
     "name": "stdout",
     "output_type": "stream",
     "text": [
      "[0, 1, 1, 2, 3, 5, 8, 13, 21, 34]\n"
     ]
    }
   ],
   "source": [
    "# 29. Create a list of the first 10 Fibonacci numbers.\n",
    "def fibonacci(n):\n",
    "    fib_list = [0, 1]\n",
    "    while len(fib_list) < n:\n",
    "        fib_list.append(fib_list[-1] + fib_list[-2])\n",
    "    return fib_list\n",
    "\n",
    "print(fibonacci(10))\n"
   ]
  },
  {
   "cell_type": "code",
   "execution_count": 82,
   "id": "ca878c84-d8a2-4a19-8d17-90504d2f10c7",
   "metadata": {},
   "outputs": [
    {
     "name": "stdout",
     "output_type": "stream",
     "text": [
      "True\n",
      "False\n"
     ]
    }
   ],
   "source": [
    "# 30. Check if a list is sorted.\n",
    "def is_sorted(lst):\n",
    "    return lst == sorted(lst)\n",
    "\n",
    "print(is_sorted([1, 2, 3, 4, 5]))\n",
    "print(is_sorted([5, 3, 4, 1, 2]))\n"
   ]
  },
  {
   "cell_type": "code",
   "execution_count": 83,
   "id": "dd454814-ace2-44d5-bb3a-c956dde5221c",
   "metadata": {},
   "outputs": [
    {
     "name": "stdout",
     "output_type": "stream",
     "text": [
      "[3, 4, 5, 1, 2]\n"
     ]
    }
   ],
   "source": [
    "# 31. Rotate a list to the left by `n` positions.\n",
    "def rotate_left(lst, n):\n",
    "    return lst[n:] + lst[:n]\n",
    "\n",
    "print(rotate_left([1, 2, 3, 4, 5], 2))\n"
   ]
  },
  {
   "cell_type": "code",
   "execution_count": 84,
   "id": "8b931359-b9f9-4986-a8ba-6f0170f0caf0",
   "metadata": {},
   "outputs": [
    {
     "name": "stdout",
     "output_type": "stream",
     "text": [
      "[4, 5, 1, 2, 3]\n"
     ]
    }
   ],
   "source": [
    "# 32. Rotate a list to the right by `n` positions.\n",
    "def rotate_right(lst, n):\n",
    "    return lst[-n:] + lst[:-n]\n",
    "\n",
    "print(rotate_right([1, 2, 3, 4, 5], 2))\n"
   ]
  },
  {
   "cell_type": "code",
   "execution_count": 85,
   "id": "f872bf5a-b0aa-4f2c-8e43-edafaa748d09",
   "metadata": {},
   "outputs": [
    {
     "name": "stdout",
     "output_type": "stream",
     "text": [
      "[2, 3, 5, 7, 11, 13, 17, 19, 23, 29, 31, 37, 41, 43, 47]\n"
     ]
    }
   ],
   "source": [
    "# 33. Create a list of prime numbers up to 50.\n",
    "def is_prime(num):\n",
    "    if num < 2:\n",
    "        return False\n",
    "    for i in range(2, int(num ** 0.5) + 1):\n",
    "        if num % i == 0:\n",
    "            return False\n",
    "    return True\n",
    "\n",
    "prime_numbers = [i for i in range(2, 51) if is_prime(i)]\n",
    "print(prime_numbers)\n"
   ]
  },
  {
   "cell_type": "code",
   "execution_count": 86,
   "id": "1fa50aaf-af40-4efc-a160-5e77f406a678",
   "metadata": {},
   "outputs": [
    {
     "name": "stdout",
     "output_type": "stream",
     "text": [
      "[[1, 2, 3], [4, 5, 6], [7, 8, 9]]\n"
     ]
    }
   ],
   "source": [
    "# 34. Split a list into chunks of size `n`.\n",
    "def chunk_list(lst, n):\n",
    "    return [lst[i:i + n] for i in range(0, len(lst), n)]\n",
    "\n",
    "print(chunk_list([1, 2, 3, 4, 5, 6, 7, 8, 9], 3))\n"
   ]
  },
  {
   "cell_type": "code",
   "execution_count": 87,
   "id": "d641c42c-8f75-4e24-9ca5-252c2b804c36",
   "metadata": {},
   "outputs": [
    {
     "name": "stdout",
     "output_type": "stream",
     "text": [
      "4\n"
     ]
    }
   ],
   "source": [
    "# 35. Find the second largest number in a list.\n",
    "def second_largest(lst):\n",
    "    unique_lst = list(set(lst))\n",
    "    unique_lst.sort()\n",
    "    return unique_lst[-2] if len(unique_lst) > 1 else None\n",
    "\n",
    "print(second_largest([1, 2, 3, 4, 5]))\n"
   ]
  },
  {
   "cell_type": "code",
   "execution_count": 88,
   "id": "ef641e54-01f0-42f6-a58e-ded50ba54c8c",
   "metadata": {},
   "outputs": [
    {
     "name": "stdout",
     "output_type": "stream",
     "text": [
      "[1, 4, 9, 16, 25]\n"
     ]
    }
   ],
   "source": [
    "# 36. Replace every element in a list with its square.\n",
    "lst = [1, 2, 3, 4, 5]\n",
    "squared_lst = [i**2 for i in lst]\n",
    "print(squared_lst)\n"
   ]
  },
  {
   "cell_type": "code",
   "execution_count": 89,
   "id": "91366e5d-33e7-4803-9c89-bf50cd8e0eb4",
   "metadata": {},
   "outputs": [
    {
     "name": "stdout",
     "output_type": "stream",
     "text": [
      "{'a': 0, 'b': 1, 'c': 2, 'd': 3}\n"
     ]
    }
   ],
   "source": [
    "# 37. Convert a list to a dictionary where list elements become keys and their indices become values.\n",
    "lst = [\"a\", \"b\", \"c\", \"d\"]\n",
    "lst_dict = {item: index for index, item in enumerate(lst)}\n",
    "print(lst_dict)\n"
   ]
  },
  {
   "cell_type": "code",
   "execution_count": 90,
   "id": "32ff204d-971a-4e41-9f54-726a14179854",
   "metadata": {},
   "outputs": [
    {
     "name": "stdout",
     "output_type": "stream",
     "text": [
      "[2, 5, 4, 3, 1]\n"
     ]
    }
   ],
   "source": [
    "# 38. Shuffle the elements of a list randomly.\n",
    "import random\n",
    "lst = [1, 2, 3, 4, 5]\n",
    "random.shuffle(lst)\n",
    "print(lst)\n"
   ]
  },
  {
   "cell_type": "code",
   "execution_count": 91,
   "id": "c870689c-7901-4a46-9199-964153be193a",
   "metadata": {},
   "outputs": [
    {
     "name": "stdout",
     "output_type": "stream",
     "text": [
      "[1, 2, 6, 24, 120, 720, 5040, 40320, 362880, 3628800]\n"
     ]
    }
   ],
   "source": [
    "# 39. Create a list of the first 10 factorial numbers.\n",
    "import math\n",
    "factorials = [math.factorial(i) for i in range(1, 11)]\n",
    "print(factorials)\n"
   ]
  },
  {
   "cell_type": "code",
   "execution_count": 92,
   "id": "0c5e014c-52ba-4f11-8c30-7414a2a557cd",
   "metadata": {},
   "outputs": [
    {
     "name": "stdout",
     "output_type": "stream",
     "text": [
      "True\n",
      "False\n"
     ]
    }
   ],
   "source": [
    "# 40. Check if two lists have at least one element in common.\n",
    "def have_common_element(lst1, lst2):\n",
    "    return bool(set(lst1) & set(lst2))\n",
    "\n",
    "print(have_common_element([1, 2, 3], [3, 4, 5]))\n",
    "print(have_common_element([1, 2, 3], [4, 5, 6]))\n"
   ]
  },
  {
   "cell_type": "code",
   "execution_count": 93,
   "id": "fc0ffe2e-e3ae-4d45-a103-d1200b3075e3",
   "metadata": {},
   "outputs": [
    {
     "name": "stdout",
     "output_type": "stream",
     "text": [
      "[]\n"
     ]
    }
   ],
   "source": [
    "# 41. Remove all elements from a list.\n",
    "lst = [1, 2, 3, 4, 5]\n",
    "lst.clear()\n",
    "print(lst)\n"
   ]
  },
  {
   "cell_type": "code",
   "execution_count": 94,
   "id": "b158a8c1-23fd-47cf-9ed5-a69d9814e40b",
   "metadata": {},
   "outputs": [
    {
     "name": "stdout",
     "output_type": "stream",
     "text": [
      "[1, 0, 3, 0, 5]\n"
     ]
    }
   ],
   "source": [
    "# 42. Replace negative numbers in a list with 0.\n",
    "lst = [1, -2, 3, -4, 5]\n",
    "lst = [0 if i < 0 else i for i in lst]\n",
    "print(lst)\n"
   ]
  },
  {
   "cell_type": "code",
   "execution_count": 95,
   "id": "bf4f6abc-7ced-4fce-9526-066478bdbfef",
   "metadata": {},
   "outputs": [
    {
     "name": "stdout",
     "output_type": "stream",
     "text": [
      "['Hello', 'World,', 'this', 'is', 'a', 'test.']\n"
     ]
    }
   ],
   "source": [
    "# 43. Convert a string into a list of words.\n",
    "s = \"Hello World, this is a test.\"\n",
    "words = s.split()\n",
    "print(words)\n"
   ]
  },
  {
   "cell_type": "code",
   "execution_count": 96,
   "id": "a27eb419-b013-479a-ad4d-0bbb8534af5b",
   "metadata": {},
   "outputs": [
    {
     "name": "stdout",
     "output_type": "stream",
     "text": [
      "Hello World this is a test\n"
     ]
    }
   ],
   "source": [
    "# 44. Convert a list of words into a string.\n",
    "words = [\"Hello\", \"World\", \"this\", \"is\", \"a\", \"test\"]\n",
    "s = \" \".join(words)\n",
    "print(s)\n"
   ]
  },
  {
   "cell_type": "code",
   "execution_count": 97,
   "id": "30ddec81-489d-467b-923a-ea8616cc000f",
   "metadata": {},
   "outputs": [
    {
     "name": "stdout",
     "output_type": "stream",
     "text": [
      "[1, 2, 4, 8, 16, 32, 64, 128, 256, 512]\n"
     ]
    }
   ],
   "source": [
    "# 45. Create a list of the first `n` powers of 2.\n",
    "def powers_of_2(n):\n",
    "    return [2 ** i for i in range(n)]\n",
    "\n",
    "print(powers_of_2(10))\n"
   ]
  },
  {
   "cell_type": "code",
   "execution_count": 98,
   "id": "8dfe4ca0-a137-485f-a062-ad5374713563",
   "metadata": {},
   "outputs": [
    {
     "name": "stdout",
     "output_type": "stream",
     "text": [
      "blueberry\n"
     ]
    }
   ],
   "source": [
    "# 46. Find the longest string in a list of strings.\n",
    "lst = [\"apple\", \"banana\", \"cherry\", \"blueberry\"]\n",
    "longest = max(lst, key=len)\n",
    "print(longest)\n"
   ]
  },
  {
   "cell_type": "code",
   "execution_count": 99,
   "id": "e2838ef8-84c6-4276-beb5-d69d88b161b0",
   "metadata": {},
   "outputs": [
    {
     "name": "stdout",
     "output_type": "stream",
     "text": [
      "kiwi\n"
     ]
    }
   ],
   "source": [
    "# 47. Find the shortest string in a list of strings.\n",
    "lst = [\"apple\", \"banana\", \"cherry\", \"kiwi\"]\n",
    "shortest = min(lst, key=len)\n",
    "print(shortest)\n"
   ]
  },
  {
   "cell_type": "code",
   "execution_count": 100,
   "id": "5de38b2c-89da-4828-b4d8-e7c52cde7459",
   "metadata": {},
   "outputs": [
    {
     "name": "stdout",
     "output_type": "stream",
     "text": [
      "[1, 3, 6, 10, 15, 21, 28, 36, 45, 55]\n"
     ]
    }
   ],
   "source": [
    "# 48. Create a list of the first `n` triangular numbers.\n",
    "def triangular_numbers(n):\n",
    "    return [i * (i + 1) // 2 for i in range(1, n + 1)]\n",
    "\n",
    "print(triangular_numbers(10))\n"
   ]
  },
  {
   "cell_type": "code",
   "execution_count": 101,
   "id": "4c42ff1a-4c35-4780-821d-bd61e1e552ed",
   "metadata": {},
   "outputs": [
    {
     "name": "stdout",
     "output_type": "stream",
     "text": [
      "True\n",
      "False\n"
     ]
    }
   ],
   "source": [
    "# 49. Check if a list contains another list as a subsequence.\n",
    "def is_subsequence(lst, sub_lst):\n",
    "    it = iter(lst)\n",
    "    return all(item in it for item in sub_lst)\n",
    "\n",
    "print(is_subsequence([1, 2, 3, 4, 5], [2, 3, 4]))\n",
    "print(is_subsequence([1, 2, 3, 4, 5], [2, 4, 3]))\n"
   ]
  },
  {
   "cell_type": "code",
   "execution_count": 102,
   "id": "09f8290b-6aee-4889-832f-98a2f08c0756",
   "metadata": {},
   "outputs": [
    {
     "name": "stdout",
     "output_type": "stream",
     "text": [
      "[1, 4, 3, 2, 5]\n"
     ]
    }
   ],
   "source": [
    "# 50. Swap two elements in a list by their indices.\n",
    "lst = [1, 2, 3, 4, 5]\n",
    "i, j = 1, 3\n",
    "lst[i], lst[j] = lst[j], lst[i]\n",
    "print(lst)\n"
   ]
  },
  {
   "cell_type": "markdown",
   "id": "8d7f1418-31b8-4036-bf34-bc95d963322b",
   "metadata": {},
   "source": [
    "Tuple Based Practice Problem :"
   ]
  },
  {
   "cell_type": "code",
   "execution_count": 103,
   "id": "92404c32-e50a-4c77-869f-4f1d284c9f2a",
   "metadata": {},
   "outputs": [
    {
     "name": "stdout",
     "output_type": "stream",
     "text": [
      "(1, 2, 3, 4, 5)\n"
     ]
    }
   ],
   "source": [
    "# 1. Create a tuple with integers from 1 to 5.\n",
    "tup = (1, 2, 3, 4, 5)\n",
    "print(tup)\n"
   ]
  },
  {
   "cell_type": "code",
   "execution_count": 104,
   "id": "a69fa558-58bc-4add-bc1d-66d90572fb6f",
   "metadata": {},
   "outputs": [
    {
     "name": "stdout",
     "output_type": "stream",
     "text": [
      "3\n"
     ]
    }
   ],
   "source": [
    "# 2. Access the third element of a tuple.\n",
    "third_element = tup[2]\n",
    "print(third_element)\n"
   ]
  },
  {
   "cell_type": "code",
   "execution_count": 105,
   "id": "6b6461ed-d0d8-4383-8547-65d0d2b31530",
   "metadata": {},
   "outputs": [
    {
     "name": "stdout",
     "output_type": "stream",
     "text": [
      "5\n"
     ]
    }
   ],
   "source": [
    "# 3. Find the length of a tuple without using the `len()` function.\n",
    "length = sum(1 for _ in tup)\n",
    "print(length)\n"
   ]
  },
  {
   "cell_type": "code",
   "execution_count": 106,
   "id": "14a70b91-db66-47f5-a7af-734aadec9587",
   "metadata": {},
   "outputs": [
    {
     "name": "stdout",
     "output_type": "stream",
     "text": [
      "1\n"
     ]
    }
   ],
   "source": [
    "# 4. Count the occurrences of an element in a tuple.\n",
    "count = tup.count(3)\n",
    "print(count)\n"
   ]
  },
  {
   "cell_type": "code",
   "execution_count": 107,
   "id": "66abdbb4-948f-4c8b-ae32-d9948f656c3f",
   "metadata": {},
   "outputs": [
    {
     "name": "stdout",
     "output_type": "stream",
     "text": [
      "2\n"
     ]
    }
   ],
   "source": [
    "# 5. Find the index of the first occurrence of an element in a tuple.\n",
    "index = tup.index(3)\n",
    "print(index)\n"
   ]
  },
  {
   "cell_type": "code",
   "execution_count": 108,
   "id": "d8f34a36-f579-4dc7-a86b-8491b97c6cbb",
   "metadata": {},
   "outputs": [
    {
     "name": "stdout",
     "output_type": "stream",
     "text": [
      "True\n"
     ]
    }
   ],
   "source": [
    "# 6. Check if an element exists in a tuple.\n",
    "exists = 3 in tup\n",
    "print(exists)"
   ]
  },
  {
   "cell_type": "code",
   "execution_count": 8,
   "id": "4fc91dc6-e306-4520-af6d-789cbf940f8a",
   "metadata": {},
   "outputs": [
    {
     "name": "stdout",
     "output_type": "stream",
     "text": [
      "[1, 2, 3, 4, 5]\n"
     ]
    }
   ],
   "source": [
    "# 7. Convert a tuple to a list.\n",
    "tup = (1, 2, 3, 4, 5)\n",
    "lst = list(tup)\n",
    "print(lst)"
   ]
  },
  {
   "cell_type": "code",
   "execution_count": 110,
   "id": "a70390ed-6119-4f84-b43b-1ba732ce4dda",
   "metadata": {},
   "outputs": [
    {
     "name": "stdout",
     "output_type": "stream",
     "text": [
      "(1, 2, 3, 4, 5)\n"
     ]
    }
   ],
   "source": [
    "# 8. Convert a list to a tuple.\n",
    "lst = [1, 2, 3, 4, 5]\n",
    "tup = tuple(lst)\n",
    "print(tup)\n"
   ]
  },
  {
   "cell_type": "code",
   "execution_count": 111,
   "id": "78221585-b4a9-4352-ae12-d2fae5de05d3",
   "metadata": {},
   "outputs": [
    {
     "name": "stdout",
     "output_type": "stream",
     "text": [
      "1 2 3 4 5\n"
     ]
    }
   ],
   "source": [
    "# 9. Unpack the elements of a tuple into variables.\n",
    "a, b, c, d, e = tup\n",
    "print(a, b, c, d, e)\n"
   ]
  },
  {
   "cell_type": "code",
   "execution_count": 112,
   "id": "bd4f9dd9-b9cd-42ea-979b-8aa22b49bf4d",
   "metadata": {},
   "outputs": [
    {
     "name": "stdout",
     "output_type": "stream",
     "text": [
      "(2, 4, 6, 8, 10)\n"
     ]
    }
   ],
   "source": [
    "# 10. Create a tuple of even numbers from 1 to 10.\n",
    "even_tup = tuple(i for i in range(1, 11) if i % 2 == 0)\n",
    "print(even_tup)\n"
   ]
  },
  {
   "cell_type": "code",
   "execution_count": 113,
   "id": "32e85ce2-316c-4ddb-80b6-f363964315e6",
   "metadata": {},
   "outputs": [
    {
     "name": "stdout",
     "output_type": "stream",
     "text": [
      "(1, 3, 5, 7, 9)\n"
     ]
    }
   ],
   "source": [
    "# 11. Create a tuple of odd numbers from 1 to 10.\n",
    "odd_tup = tuple(i for i in range(1, 11) if i % 2 != 0)\n",
    "print(odd_tup)\n"
   ]
  },
  {
   "cell_type": "code",
   "execution_count": 114,
   "id": "39a246db-8d33-46c3-8dc5-69f84c9ffd82",
   "metadata": {},
   "outputs": [
    {
     "name": "stdout",
     "output_type": "stream",
     "text": [
      "(1, 2, 3, 4, 5, 6)\n"
     ]
    }
   ],
   "source": [
    "# 12. Concatenate two tuples.\n",
    "tup1 = (1, 2, 3)\n",
    "tup2 = (4, 5, 6)\n",
    "concat_tup = tup1 + tup2\n",
    "print(concat_tup)\n"
   ]
  },
  {
   "cell_type": "code",
   "execution_count": 115,
   "id": "e0e7ffa7-efb6-456c-832c-63b37256ba4f",
   "metadata": {},
   "outputs": [
    {
     "name": "stdout",
     "output_type": "stream",
     "text": [
      "(1, 2, 3, 4, 5, 6)\n"
     ]
    }
   ],
   "source": [
    "# 12. Concatenate two tuples.\n",
    "tup1 = (1, 2, 3)\n",
    "tup2 = (4, 5, 6)\n",
    "concat_tup = tup1 + tup2\n",
    "print(concat_tup)\n"
   ]
  },
  {
   "cell_type": "code",
   "execution_count": 116,
   "id": "e995f586-8143-438b-a8b9-c689f7704748",
   "metadata": {},
   "outputs": [
    {
     "name": "stdout",
     "output_type": "stream",
     "text": [
      "(1, 2, 3, 1, 2, 3, 1, 2, 3)\n"
     ]
    }
   ],
   "source": [
    "# 13. Repeat a tuple three times.\n",
    "repeated_tup = tup1 * 3\n",
    "print(repeated_tup)\n"
   ]
  },
  {
   "cell_type": "code",
   "execution_count": 117,
   "id": "84c145d2-530f-4c46-9039-1e3cb536b5cb",
   "metadata": {},
   "outputs": [
    {
     "name": "stdout",
     "output_type": "stream",
     "text": [
      "False\n"
     ]
    }
   ],
   "source": [
    "# 14. Check if a tuple is empty.\n",
    "is_empty = len(tup1) == 0\n",
    "print(is_empty)\n"
   ]
  },
  {
   "cell_type": "code",
   "execution_count": 118,
   "id": "26c7b529-a135-40d7-8a7b-1aef332d6eff",
   "metadata": {},
   "outputs": [
    {
     "name": "stdout",
     "output_type": "stream",
     "text": [
      "((1, 2), (3, 4), (5, 6))\n"
     ]
    }
   ],
   "source": [
    "# 15. Create a nested tuple.\n",
    "nested_tup = ((1, 2), (3, 4), (5, 6))\n",
    "print(nested_tup)\n"
   ]
  },
  {
   "cell_type": "code",
   "execution_count": 119,
   "id": "72103b55-d1bc-4c49-a45f-2963800c9492",
   "metadata": {},
   "outputs": [
    {
     "name": "stdout",
     "output_type": "stream",
     "text": [
      "1\n"
     ]
    }
   ],
   "source": [
    "# 16. Access the first element of a nested tuple.\n",
    "first_nested_element = nested_tup[0][0]\n",
    "print(first_nested_element)\n"
   ]
  },
  {
   "cell_type": "code",
   "execution_count": 120,
   "id": "5e4bfa6b-035d-4d79-b4d6-fbccf4dd1fcc",
   "metadata": {},
   "outputs": [
    {
     "name": "stdout",
     "output_type": "stream",
     "text": [
      "(1,)\n"
     ]
    }
   ],
   "source": [
    "# 17. Create a tuple with a single element.\n",
    "single_element_tup = (1,)\n",
    "print(single_element_tup)\n"
   ]
  },
  {
   "cell_type": "code",
   "execution_count": 121,
   "id": "9aab7ce6-39a9-46db-954f-156aef38a41c",
   "metadata": {},
   "outputs": [
    {
     "name": "stdout",
     "output_type": "stream",
     "text": [
      "False\n"
     ]
    }
   ],
   "source": [
    "# 18. Compare two tuples.\n",
    "tup1 = (1, 2, 3)\n",
    "tup2 = (1, 2, 4)\n",
    "are_equal = tup1 == tup2\n",
    "print(are_equal)\n"
   ]
  },
  {
   "cell_type": "code",
   "execution_count": 122,
   "id": "8ac4d644-ee8e-4208-a009-801472ff0ed2",
   "metadata": {},
   "outputs": [],
   "source": [
    "# 19. Delete a tuple.\n",
    "tup = (1, 2, 3)\n",
    "del tup\n",
    "# print(tup)  # This will raise an error since the tuple no longer exists.\n"
   ]
  },
  {
   "cell_type": "code",
   "execution_count": 123,
   "id": "519a371c-aaab-439d-a262-274263b898bb",
   "metadata": {},
   "outputs": [
    {
     "name": "stdout",
     "output_type": "stream",
     "text": [
      "(2, 3)\n"
     ]
    }
   ],
   "source": [
    "# 20. Slice a tuple.\n",
    "sliced_tup = tup1[1:3]\n",
    "print(sliced_tup)\n"
   ]
  },
  {
   "cell_type": "code",
   "execution_count": 124,
   "id": "e18f643e-73d1-4dd1-b8bb-4a76206fa61d",
   "metadata": {},
   "outputs": [
    {
     "name": "stdout",
     "output_type": "stream",
     "text": [
      "3\n"
     ]
    }
   ],
   "source": [
    "# 21. Find the maximum value in a tuple.\n",
    "max_value = max(tup1)\n",
    "print(max_value)\n"
   ]
  },
  {
   "cell_type": "code",
   "execution_count": 125,
   "id": "f3a8c54a-3050-4e5d-9d79-c4cdec535d7b",
   "metadata": {},
   "outputs": [
    {
     "name": "stdout",
     "output_type": "stream",
     "text": [
      "1\n"
     ]
    }
   ],
   "source": [
    "# 22. Find the minimum value in a tuple.\n",
    "min_value = min(tup1)\n",
    "print(min_value)\n"
   ]
  },
  {
   "cell_type": "code",
   "execution_count": 126,
   "id": "8df91c36-75cf-4ae2-adb1-d599ec453b7f",
   "metadata": {},
   "outputs": [
    {
     "name": "stdout",
     "output_type": "stream",
     "text": [
      "('h', 'e', 'l', 'l', 'o')\n"
     ]
    }
   ],
   "source": [
    "# 23. Convert a string to a tuple of characters.\n",
    "s = \"hello\"\n",
    "char_tup = tuple(s)\n",
    "print(char_tup)\n"
   ]
  },
  {
   "cell_type": "code",
   "execution_count": 127,
   "id": "51e2f2c8-27e6-4a73-bf0b-4ee3a0ad35f2",
   "metadata": {},
   "outputs": [
    {
     "name": "stdout",
     "output_type": "stream",
     "text": [
      "hello\n"
     ]
    }
   ],
   "source": [
    "# 24. Convert a tuple of characters to a string.\n",
    "char_tup = ('h', 'e', 'l', 'l', 'o')\n",
    "s = ''.join(char_tup)\n",
    "print(s)\n"
   ]
  },
  {
   "cell_type": "code",
   "execution_count": 128,
   "id": "08acb4ce-7a41-42da-8a1e-ac9025bc2d1c",
   "metadata": {},
   "outputs": [
    {
     "name": "stdout",
     "output_type": "stream",
     "text": [
      "(1, 'hello', 3.14, True)\n"
     ]
    }
   ],
   "source": [
    "# 25. Create a tuple from multiple data types.\n",
    "multi_tup = (1, \"hello\", 3.14, True)\n",
    "print(multi_tup)\n"
   ]
  },
  {
   "cell_type": "code",
   "execution_count": 129,
   "id": "1ab4b4ce-4127-409b-bb25-672b0a447613",
   "metadata": {},
   "outputs": [
    {
     "name": "stdout",
     "output_type": "stream",
     "text": [
      "True\n"
     ]
    }
   ],
   "source": [
    "# 26. Check if two tuples are identical.\n",
    "tup1 = (1, 2, 3)\n",
    "tup2 = (1, 2, 3)\n",
    "are_identical = tup1 == tup2\n",
    "print(are_identical)\n"
   ]
  },
  {
   "cell_type": "code",
   "execution_count": 130,
   "id": "610752a1-8f65-4f0a-a033-829fcc5c52a3",
   "metadata": {},
   "outputs": [
    {
     "name": "stdout",
     "output_type": "stream",
     "text": [
      "(1, 2, 3)\n"
     ]
    }
   ],
   "source": [
    "# 27. Sort the elements of a tuple.\n",
    "sorted_tup = tuple(sorted(tup1))\n",
    "print(sorted_tup)\n"
   ]
  },
  {
   "cell_type": "code",
   "execution_count": 131,
   "id": "7905fc9d-882d-4f11-a4ca-a8e2f60c1cd4",
   "metadata": {},
   "outputs": [
    {
     "name": "stdout",
     "output_type": "stream",
     "text": [
      "('1', '2', '3')\n"
     ]
    }
   ],
   "source": [
    "# 28. Convert a tuple of integers to a tuple of strings.\n",
    "int_tup = (1, 2, 3)\n",
    "str_tup = tuple(map(str, int_tup))\n",
    "print(str_tup)\n"
   ]
  },
  {
   "cell_type": "code",
   "execution_count": 132,
   "id": "999e805e-8320-439e-a98f-0de6a2ae5b13",
   "metadata": {},
   "outputs": [
    {
     "name": "stdout",
     "output_type": "stream",
     "text": [
      "(1, 2, 3)\n"
     ]
    }
   ],
   "source": [
    "# 29. Convert a tuple of strings to a tuple of integers.\n",
    "str_tup = ('1', '2', '3')\n",
    "int_tup = tuple(map(int, str_tup))\n",
    "print(int_tup)"
   ]
  },
  {
   "cell_type": "code",
   "execution_count": 133,
   "id": "a6f6a0ac-b96b-4e4c-9aa8-9afc82827c96",
   "metadata": {},
   "outputs": [
    {
     "name": "stdout",
     "output_type": "stream",
     "text": [
      "(1, 2, 3, 4)\n"
     ]
    }
   ],
   "source": [
    "# 30. Merge two tuples.\n",
    "tup1 = (1, 2)\n",
    "tup2 = (3, 4)\n",
    "merged_tup = tup1 + tup2\n",
    "print(merged_tup)\n"
   ]
  },
  {
   "cell_type": "code",
   "execution_count": 134,
   "id": "fa3aeafa-c7ac-4aff-a187-c91823b4d16e",
   "metadata": {},
   "outputs": [
    {
     "name": "stdout",
     "output_type": "stream",
     "text": [
      "(1, 2, 3, 4, 5, 6)\n"
     ]
    }
   ],
   "source": [
    "# 31. Flatten a nested tuple.\n",
    "nested_tup = ((1, 2), (3, 4), (5, 6))\n",
    "flat_tup = tuple(item for sublist in nested_tup for item in sublist)\n",
    "print(flat_tup)\n"
   ]
  },
  {
   "cell_type": "code",
   "execution_count": 135,
   "id": "4494ad9b-1989-4e6a-8e79-da5204fe5f5e",
   "metadata": {},
   "outputs": [
    {
     "name": "stdout",
     "output_type": "stream",
     "text": [
      "(2, 3, 5, 7, 11)\n"
     ]
    }
   ],
   "source": [
    "# 32. Create a tuple of the first 5 prime numbers.\n",
    "prime_tup = (2, 3, 5, 7, 11)\n",
    "print(prime_tup)\n"
   ]
  },
  {
   "cell_type": "code",
   "execution_count": 136,
   "id": "3e2cf721-63ec-4b26-bf71-080cc1563e89",
   "metadata": {},
   "outputs": [
    {
     "name": "stdout",
     "output_type": "stream",
     "text": [
      "True\n",
      "False\n"
     ]
    }
   ],
   "source": [
    "# 33. Check if a tuple is a palindrome.\n",
    "def is_palindrome(tup):\n",
    "    return tup == tup[::-1]\n",
    "\n",
    "print(is_palindrome((1, 2, 3, 2, 1)))\n",
    "print(is_palindrome((1, 2, 3)))\n"
   ]
  },
  {
   "cell_type": "code",
   "execution_count": 137,
   "id": "1c1e30a2-ad3e-463c-928c-b7a19f653267",
   "metadata": {},
   "outputs": [
    {
     "name": "stdout",
     "output_type": "stream",
     "text": [
      "(1, 4, 9, 16, 25)\n"
     ]
    }
   ],
   "source": [
    "# 34. Create a tuple of squares of numbers from 1 to 5.\n",
    "squares_tup = tuple(i ** 2 for i in range(1, 6))\n",
    "print(squares_tup)\n"
   ]
  },
  {
   "cell_type": "code",
   "execution_count": 138,
   "id": "60cb2693-9139-437a-86ec-a50c20d7d0f6",
   "metadata": {},
   "outputs": [
    {
     "name": "stdout",
     "output_type": "stream",
     "text": [
      "(1, 3, 5)\n"
     ]
    }
   ],
   "source": [
    "# 35. Filter out all even numbers from a tuple.\n",
    "tup = (1, 2, 3, 4, 5, 6)\n",
    "filtered_tup = tuple(i for i in tup if i % 2 != 0)\n",
    "print(filtered_tup)"
   ]
  },
  {
   "cell_type": "code",
   "execution_count": 139,
   "id": "be580d4e-3cf7-4c2c-91f9-775a6357b786",
   "metadata": {},
   "outputs": [
    {
     "name": "stdout",
     "output_type": "stream",
     "text": [
      "(2, 4, 6, 8, 10)\n"
     ]
    }
   ],
   "source": [
    "# 36. Multiply all elements in a tuple by 2.\n",
    "tup = (1, 2, 3, 4, 5)\n",
    "multiplied_tup = tuple(i * 2 for i in tup)\n",
    "print(multiplied_tup)"
   ]
  },
  {
   "cell_type": "code",
   "execution_count": 140,
   "id": "73b219eb-636c-4d57-bb76-42858f311642",
   "metadata": {},
   "outputs": [
    {
     "name": "stdout",
     "output_type": "stream",
     "text": [
      "(53, 27, 32, 59, 94)\n"
     ]
    }
   ],
   "source": [
    "# 37. Create a tuple of random numbers.\n",
    "import random\n",
    "random_tup = tuple(random.randint(1, 100) for _ in range(5))\n",
    "print(random_tup)"
   ]
  },
  {
   "cell_type": "code",
   "execution_count": 141,
   "id": "f4ee46e6-7a26-4e48-83bb-dba7ad328301",
   "metadata": {},
   "outputs": [
    {
     "name": "stdout",
     "output_type": "stream",
     "text": [
      "True\n",
      "False\n"
     ]
    }
   ],
   "source": [
    "# 38. Check if a tuple is sorted.\n",
    "def is_sorted(tup):\n",
    "    return tup == tuple(sorted(tup))\n",
    "\n",
    "print(is_sorted((1, 2, 3, 4, 5)))\n",
    "print(is_sorted((1, 3, 2, 4, 5)))\n"
   ]
  },
  {
   "cell_type": "code",
   "execution_count": 142,
   "id": "4511e852-761f-468d-9410-2630ff5582cd",
   "metadata": {},
   "outputs": [
    {
     "name": "stdout",
     "output_type": "stream",
     "text": [
      "(3, 4, 5, 1, 2)\n"
     ]
    }
   ],
   "source": [
    "# 39. Rotate a tuple to the left by `n` positions.\n",
    "def rotate_left(tup, n):\n",
    "    return tup[n:] + tup[:n]\n",
    "\n",
    "print(rotate_left((1, 2, 3, 4, 5), 2))\n"
   ]
  },
  {
   "cell_type": "code",
   "execution_count": 143,
   "id": "d44b6f76-e3ee-480e-9ff0-7f1f271812e3",
   "metadata": {},
   "outputs": [
    {
     "name": "stdout",
     "output_type": "stream",
     "text": [
      "(4, 5, 1, 2, 3)\n"
     ]
    }
   ],
   "source": [
    "# 40. Rotate a tuple to the right by `n` positions.\n",
    "def rotate_right(tup, n):\n",
    "    return tup[-n:] + tup[:-n]\n",
    "\n",
    "print(rotate_right((1, 2, 3, 4, 5), 2))\n"
   ]
  },
  {
   "cell_type": "code",
   "execution_count": 144,
   "id": "8561baaf-e435-46d5-b780-6fb8c1eca0de",
   "metadata": {},
   "outputs": [
    {
     "name": "stdout",
     "output_type": "stream",
     "text": [
      "(0, 1, 1, 2, 3)\n"
     ]
    }
   ],
   "source": [
    "# 41. Create a tuple of the first 5 Fibonacci numbers.\n",
    "def fibonacci(n):\n",
    "    fib = [0, 1]\n",
    "    for i in range(2, n):\n",
    "        fib.append(fib[-1] + fib[-2])\n",
    "    return tuple(fib[:n])\n",
    "\n",
    "print(fibonacci(5))\n"
   ]
  },
  {
   "cell_type": "code",
   "execution_count": null,
   "id": "b27ec5ec-bd61-4060-b178-6b199d26331e",
   "metadata": {},
   "outputs": [],
   "source": [
    "## 42. Create a tuple from user input.\n",
    "user_input = input(\"Enter elements separated by space: \")\n",
    "\n",
    "user_tup = tuple(user_input.split())\n",
    "\n",
    "print(user_tup)\n",
    "\n"
   ]
  },
  {
   "cell_type": "code",
   "execution_count": 1,
   "id": "029b4fd1-244e-450a-8828-609627a37bad",
   "metadata": {},
   "outputs": [
    {
     "name": "stdout",
     "output_type": "stream",
     "text": [
      "(1, 4, 3, 2, 5)\n"
     ]
    }
   ],
   "source": [
    "# 43. Swap two elements in a tuple.\n",
    "def swap_elements(tup, i, j):\n",
    "    lst = list(tup)\n",
    "    lst[i], lst[j] = lst[j], lst[i]\n",
    "    return tuple(lst)\n",
    "\n",
    "print(swap_elements((1, 2, 3, 4, 5), 1, 3))\n"
   ]
  },
  {
   "cell_type": "code",
   "execution_count": 1,
   "id": "358289a3-2900-4182-ae76-9a20b051577b",
   "metadata": {},
   "outputs": [
    {
     "name": "stdout",
     "output_type": "stream",
     "text": [
      "(5, 4, 3, 2, 1)\n"
     ]
    }
   ],
   "source": [
    "# 44. Reverse the elements of a tuple.\n",
    "tup = (1, 2, 3, 4, 5)\n",
    "reversed_tup = tup[::-1]\n",
    "print(reversed_tup)\n"
   ]
  },
  {
   "cell_type": "code",
   "execution_count": 1,
   "id": "768df687-a337-4565-a723-7c1feb2fd8ce",
   "metadata": {},
   "outputs": [
    {
     "name": "stdout",
     "output_type": "stream",
     "text": [
      "(1, 2, 4, 8, 16)\n"
     ]
    }
   ],
   "source": [
    "# 45. Create a tuple of the first `n` powers of 2.\n",
    "def powers_of_2(n):\n",
    "    return tuple(2 ** i for i in range(n))\n",
    "\n",
    "print(powers_of_2(5))\n"
   ]
  },
  {
   "cell_type": "code",
   "execution_count": 2,
   "id": "4934cec4-4126-42ef-9e0d-d379dae5dada",
   "metadata": {},
   "outputs": [
    {
     "name": "stdout",
     "output_type": "stream",
     "text": [
      "blueberry\n"
     ]
    }
   ],
   "source": [
    "# 46. Find the longest string in a tuple of strings.\n",
    "tup = (\"apple\", \"banana\", \"cherry\", \"blueberry\")\n",
    "longest_string = max(tup, key=len)\n",
    "print(longest_string)\n"
   ]
  },
  {
   "cell_type": "code",
   "execution_count": 3,
   "id": "fbb740d7-ee7b-402b-9588-04bb55d05144",
   "metadata": {},
   "outputs": [
    {
     "name": "stdout",
     "output_type": "stream",
     "text": [
      "kiwi\n"
     ]
    }
   ],
   "source": [
    "# 47. Find the shortest string in a tuple of strings.\n",
    "tup = (\"apple\", \"banana\", \"cherry\", \"kiwi\")\n",
    "shortest_string = min(tup, key=len)\n",
    "print(shortest_string)\n"
   ]
  },
  {
   "cell_type": "code",
   "execution_count": 4,
   "id": "7ae9bdb5-8d96-4190-8bbe-5a5306bf916d",
   "metadata": {},
   "outputs": [
    {
     "name": "stdout",
     "output_type": "stream",
     "text": [
      "(1, 3, 6, 10, 15)\n"
     ]
    }
   ],
   "source": [
    "# 48. Create a tuple of the first `n` triangular numbers.\n",
    "def triangular_numbers(n):\n",
    "    return tuple(i * (i + 1) // 2 for i in range(1, n + 1))\n",
    "\n",
    "print(triangular_numbers(5))\n"
   ]
  },
  {
   "cell_type": "code",
   "execution_count": 5,
   "id": "e31b0170-bee2-4b97-bd69-1b200817aecb",
   "metadata": {},
   "outputs": [
    {
     "name": "stdout",
     "output_type": "stream",
     "text": [
      "True\n",
      "False\n"
     ]
    }
   ],
   "source": [
    "# 49. Check if a tuple contains another tuple as a subsequence.\n",
    "def is_subsequence(tup, sub_tup):\n",
    "    it = iter(tup)\n",
    "    return all(item in it for item in sub_tup)\n",
    "\n",
    "print(is_subsequence((1, 2, 3, 4, 5), (2, 3, 4)))\n",
    "print(is_subsequence((1, 2, 3, 4, 5), (2, 4, 3)))\n"
   ]
  },
  {
   "cell_type": "code",
   "execution_count": 6,
   "id": "25241ceb-ad6e-445b-8b1b-bf7d612edc4c",
   "metadata": {},
   "outputs": [
    {
     "name": "stdout",
     "output_type": "stream",
     "text": [
      "(1, 0, 1, 0, 1, 0, 1, 0, 1, 0)\n"
     ]
    }
   ],
   "source": [
    "# 50. Create a tuple of alternating 1s and 0s of length `n`.\n",
    "def alternating_ones_zeros(n):\n",
    "    return tuple(1 if i % 2 == 0 else 0 for i in range(n))\n",
    "\n",
    "print(alternating_ones_zeros(10))\n"
   ]
  },
  {
   "cell_type": "markdown",
   "id": "d62d61eb-2d02-4c84-bd00-4c73f62b7b28",
   "metadata": {},
   "source": [
    "Set Based Practice Problem :"
   ]
  },
  {
   "cell_type": "code",
   "execution_count": 7,
   "id": "f02b7045-2d57-4a1b-ba2f-689d01bdcf9c",
   "metadata": {},
   "outputs": [
    {
     "name": "stdout",
     "output_type": "stream",
     "text": [
      "{1, 2, 3, 4, 5}\n"
     ]
    }
   ],
   "source": [
    "# 1. Create a set with integers from 1 to 5.\n",
    "s = {1, 2, 3, 4, 5}\n",
    "print(s)\n"
   ]
  },
  {
   "cell_type": "code",
   "execution_count": 8,
   "id": "1b4e9ba6-0cae-4e17-93e8-e27631dd8c81",
   "metadata": {},
   "outputs": [
    {
     "name": "stdout",
     "output_type": "stream",
     "text": [
      "{1, 2, 3, 4, 5, 6}\n"
     ]
    }
   ],
   "source": [
    "# 2. Add an element to a set.\n",
    "s.add(6)\n",
    "print(s)\n"
   ]
  },
  {
   "cell_type": "code",
   "execution_count": 9,
   "id": "5908bec6-93d5-40f6-8f39-972b92c6527f",
   "metadata": {},
   "outputs": [
    {
     "name": "stdout",
     "output_type": "stream",
     "text": [
      "{1, 2, 4, 5, 6}\n"
     ]
    }
   ],
   "source": [
    "# 3. Remove an element from a set.\n",
    "s.remove(3)\n",
    "print(s)\n"
   ]
  },
  {
   "cell_type": "code",
   "execution_count": 10,
   "id": "c2fb2b4a-b303-44f5-bd0d-c45714893828",
   "metadata": {},
   "outputs": [
    {
     "name": "stdout",
     "output_type": "stream",
     "text": [
      "True\n"
     ]
    }
   ],
   "source": [
    "# 4. Check if an element exists in a set.\n",
    "exists = 4 in s\n",
    "print(exists)\n"
   ]
  },
  {
   "cell_type": "code",
   "execution_count": 11,
   "id": "8dc2a59c-36fa-4360-8f9e-4767ccdd88d6",
   "metadata": {},
   "outputs": [
    {
     "name": "stdout",
     "output_type": "stream",
     "text": [
      "5\n"
     ]
    }
   ],
   "source": [
    "# 5. Find the length of a set without using the `len()` function.\n",
    "length = sum(1 for _ in s)\n",
    "print(length)\n"
   ]
  },
  {
   "cell_type": "code",
   "execution_count": 12,
   "id": "7a860d32-5b98-41a1-8717-fc3716bf9d83",
   "metadata": {},
   "outputs": [
    {
     "name": "stdout",
     "output_type": "stream",
     "text": [
      "set()\n"
     ]
    }
   ],
   "source": [
    "# 6. Clear all elements from a set.\n",
    "s.clear()\n",
    "print(s)\n"
   ]
  },
  {
   "cell_type": "code",
   "execution_count": 13,
   "id": "01cf0fad-9dea-4635-bdd6-ac9af24df74f",
   "metadata": {},
   "outputs": [
    {
     "name": "stdout",
     "output_type": "stream",
     "text": [
      "set()\n"
     ]
    }
   ],
   "source": [
    "# 6. Clear all elements from a set.\n",
    "s.clear()\n",
    "print(s)\n"
   ]
  },
  {
   "cell_type": "code",
   "execution_count": 14,
   "id": "aa3b7070-fc3f-4225-a3c8-c5ad221c1128",
   "metadata": {},
   "outputs": [
    {
     "name": "stdout",
     "output_type": "stream",
     "text": [
      "{2, 4, 6, 8, 10}\n"
     ]
    }
   ],
   "source": [
    "# 7. Create a set of even numbers from 1 to 10.\n",
    "even_set = {i for i in range(1, 11) if i % 2 == 0}\n",
    "print(even_set)\n"
   ]
  },
  {
   "cell_type": "code",
   "execution_count": 15,
   "id": "471114e7-9590-47c5-98fd-7843bd124445",
   "metadata": {},
   "outputs": [
    {
     "name": "stdout",
     "output_type": "stream",
     "text": [
      "{1, 3, 5, 7, 9}\n"
     ]
    }
   ],
   "source": [
    "# 8. Create a set of odd numbers from 1 to 10.\n",
    "odd_set = {i for i in range(1, 11) if i % 2 != 0}\n",
    "print(odd_set)\n"
   ]
  },
  {
   "cell_type": "code",
   "execution_count": 16,
   "id": "de35a508-95b5-4790-ad79-cac33f07d686",
   "metadata": {},
   "outputs": [
    {
     "name": "stdout",
     "output_type": "stream",
     "text": [
      "{1, 2, 3, 4, 5, 6, 7, 8, 9, 10}\n"
     ]
    }
   ],
   "source": [
    "# 9. Find the union of two sets.\n",
    "union_set = even_set | odd_set\n",
    "print(union_set)\n"
   ]
  },
  {
   "cell_type": "code",
   "execution_count": 17,
   "id": "407efe8e-a006-4233-a6c2-c3f29e7365d8",
   "metadata": {},
   "outputs": [
    {
     "name": "stdout",
     "output_type": "stream",
     "text": [
      "set()\n"
     ]
    }
   ],
   "source": [
    "# 10. Find the intersection of two sets.\n",
    "intersection_set = even_set & odd_set\n",
    "print(intersection_set)\n"
   ]
  },
  {
   "cell_type": "code",
   "execution_count": 18,
   "id": "5ccbe9cc-fe38-4f30-a20b-660a9d2b6e7e",
   "metadata": {},
   "outputs": [
    {
     "name": "stdout",
     "output_type": "stream",
     "text": [
      "{2, 4, 6, 8, 10}\n"
     ]
    }
   ],
   "source": [
    "# 11. Find the difference between two sets.\n",
    "difference_set = even_set - odd_set\n",
    "print(difference_set)\n"
   ]
  },
  {
   "cell_type": "code",
   "execution_count": 19,
   "id": "2c2182f0-d140-461d-8ecb-cd1b2638c9d0",
   "metadata": {},
   "outputs": [
    {
     "name": "stdout",
     "output_type": "stream",
     "text": [
      "True\n"
     ]
    }
   ],
   "source": [
    "# 12. Check if a set is a subset of another set.\n",
    "is_subset = {2, 4}.issubset(even_set)\n",
    "print(is_subset)\n"
   ]
  },
  {
   "cell_type": "code",
   "execution_count": 20,
   "id": "d731ed89-b0ac-4629-8395-c70efd0f0cda",
   "metadata": {},
   "outputs": [
    {
     "name": "stdout",
     "output_type": "stream",
     "text": [
      "True\n"
     ]
    }
   ],
   "source": [
    "# 13. Check if a set is a superset of another set.\n",
    "is_superset = even_set.issuperset({2, 4})\n",
    "print(is_superset)\n"
   ]
  },
  {
   "cell_type": "code",
   "execution_count": 21,
   "id": "fc333239-bedd-44b8-ab06-98dedfcd7dda",
   "metadata": {},
   "outputs": [
    {
     "name": "stdout",
     "output_type": "stream",
     "text": [
      "{1, 2, 3, 4, 5}\n"
     ]
    }
   ],
   "source": [
    "# 14. Create a set from a list.\n",
    "list_set = set([1, 2, 3, 4, 5])\n",
    "print(list_set)\n"
   ]
  },
  {
   "cell_type": "code",
   "execution_count": 22,
   "id": "b3000a97-4cff-4699-b4aa-a2fde143ce46",
   "metadata": {},
   "outputs": [
    {
     "name": "stdout",
     "output_type": "stream",
     "text": [
      "[1, 2, 3, 4, 5]\n"
     ]
    }
   ],
   "source": [
    "# 15. Convert a set to a list.\n",
    "list_from_set = list(list_set)\n",
    "print(list_from_set)\n"
   ]
  },
  {
   "cell_type": "code",
   "execution_count": 5,
   "id": "967f091f-e305-49a2-8d75-9cbd7aaa2aee",
   "metadata": {},
   "outputs": [
    {
     "name": "stdout",
     "output_type": "stream",
     "text": [
      "1\n",
      "{2, 3, 4, 5}\n"
     ]
    }
   ],
   "source": [
    "# 16. Remove a random element from a set.\n",
    "s={1,2,3,4,5}\n",
    "removed_element = s.pop()\n",
    "print(removed_element)\n",
    "print(s)\n"
   ]
  },
  {
   "cell_type": "code",
   "execution_count": 6,
   "id": "1f4fc1c5-e087-4f19-9b77-a0d535b44e44",
   "metadata": {},
   "outputs": [
    {
     "name": "stdout",
     "output_type": "stream",
     "text": [
      "1\n",
      "{2, 3, 4, 5}\n"
     ]
    }
   ],
   "source": [
    "# 17. Pop an element from a set.\n",
    "s={1,2,3,4,5}\n",
    "popped_element = s.pop()\n",
    "print(popped_element)\n",
    "print(s)\n"
   ]
  },
  {
   "cell_type": "code",
   "execution_count": 26,
   "id": "c4887486-ec76-4313-b367-62613af6334a",
   "metadata": {},
   "outputs": [
    {
     "name": "stdout",
     "output_type": "stream",
     "text": [
      "True\n"
     ]
    }
   ],
   "source": [
    "# 18. Check if two sets have no elements in common.\n",
    "disjoint = even_set.isdisjoint({7, 9})\n",
    "print(disjoint)\n"
   ]
  },
  {
   "cell_type": "code",
   "execution_count": 27,
   "id": "a7dd9053-21b1-4b99-8054-202295d4b44b",
   "metadata": {},
   "outputs": [
    {
     "name": "stdout",
     "output_type": "stream",
     "text": [
      "{2, 11, 13}\n"
     ]
    }
   ],
   "source": [
    "# 19. Find the symmetric difference between two sets.\n",
    "sym_diff_set = even_set ^ {4, 6, 8, 10, 11, 13}\n",
    "print(sym_diff_set)\n"
   ]
  },
  {
   "cell_type": "code",
   "execution_count": 28,
   "id": "6293d5e5-a513-4d34-bb91-5563d542503a",
   "metadata": {},
   "outputs": [
    {
     "name": "stdout",
     "output_type": "stream",
     "text": [
      "{10, 11}\n"
     ]
    }
   ],
   "source": [
    "# 20. Update a set with elements from another set.\n",
    "s.update({10, 11})\n",
    "print(s)\n"
   ]
  },
  {
   "cell_type": "code",
   "execution_count": 29,
   "id": "6de957b1-786f-4438-aaf9-714cd6218c3f",
   "metadata": {},
   "outputs": [
    {
     "name": "stdout",
     "output_type": "stream",
     "text": [
      "{2, 3, 5, 7, 11}\n"
     ]
    }
   ],
   "source": [
    "# 21. Create a set of the first 5 prime numbers.\n",
    "prime_set = {2, 3, 5, 7, 11}\n",
    "print(prime_set)\n"
   ]
  },
  {
   "cell_type": "code",
   "execution_count": 30,
   "id": "f04ef7cb-2a39-4d0a-aa65-9860c3100b2a",
   "metadata": {},
   "outputs": [
    {
     "name": "stdout",
     "output_type": "stream",
     "text": [
      "True\n"
     ]
    }
   ],
   "source": [
    "# 22. Check if two sets are identical.\n",
    "identical = prime_set == {2, 3, 5, 7, 11}\n",
    "print(identical)\n"
   ]
  },
  {
   "cell_type": "code",
   "execution_count": 31,
   "id": "1af4f5a1-8a95-46d7-bc89-f7bdf3f037d0",
   "metadata": {},
   "outputs": [
    {
     "name": "stdout",
     "output_type": "stream",
     "text": [
      "frozenset({1, 2, 3, 4, 5})\n"
     ]
    }
   ],
   "source": [
    "# 23. Create a frozen set.\n",
    "frozen_s = frozenset([1, 2, 3, 4, 5])\n",
    "print(frozen_s)\n"
   ]
  },
  {
   "cell_type": "code",
   "execution_count": null,
   "id": "547bbb50-1a69-48f7-8682-ce5a61b3fb2c",
   "metadata": {},
   "outputs": [],
   "source": [
    "##### 24. Check if a set is disjoint with another set.\n",
    "disjoint_sets = even_set.isdisjoint({1, 3, 5})\n",
    "print(disjoint_sets)\n"
   ]
  },
  {
   "cell_type": "code",
   "execution_count": 33,
   "id": "26c86d71-e752-42e7-be16-0b85f02aaa2c",
   "metadata": {},
   "outputs": [
    {
     "name": "stdout",
     "output_type": "stream",
     "text": [
      "{1, 4, 9, 16, 25}\n"
     ]
    }
   ],
   "source": [
    "# 25. Create a set of squares of numbers from 1 to 5.\n",
    "squares_set = {i**2 for i in range(1, 6)}\n",
    "print(squares_set)\n"
   ]
  },
  {
   "cell_type": "code",
   "execution_count": 34,
   "id": "e9e895a7-b5e3-472f-9968-c50bfaaa2d77",
   "metadata": {},
   "outputs": [
    {
     "name": "stdout",
     "output_type": "stream",
     "text": [
      "{11, 3, 5, 7}\n"
     ]
    }
   ],
   "source": [
    "# 26. Filter out all even numbers from a set.\n",
    "filtered_set = {i for i in prime_set if i % 2 != 0}\n",
    "print(filtered_set)\n"
   ]
  },
  {
   "cell_type": "code",
   "execution_count": 35,
   "id": "2683a790-c2ab-423b-b526-50bae1ec67a4",
   "metadata": {},
   "outputs": [
    {
     "name": "stdout",
     "output_type": "stream",
     "text": [
      "{4, 6, 10, 14, 22}\n"
     ]
    }
   ],
   "source": [
    "# 27. Multiply all elements in a set by 2.\n",
    "multiplied_set = {i * 2 for i in prime_set}\n",
    "print(multiplied_set)\n"
   ]
  },
  {
   "cell_type": "code",
   "execution_count": 3,
   "id": "9be00199-4a6a-4994-8553-f5aeefe13af3",
   "metadata": {},
   "outputs": [
    {
     "name": "stdout",
     "output_type": "stream",
     "text": [
      "{78, 26, 59, 28, 62}\n"
     ]
    }
   ],
   "source": [
    "# 28. Create a set of random numbers.\n",
    "import random\n",
    "\n",
    "random_set = {random.randint(1, 100) for _ in range(5)}\n",
    "print(random_set)\n",
    "\n"
   ]
  },
  {
   "cell_type": "code",
   "execution_count": 4,
   "id": "baea4e44-c5ac-42a2-aa61-83e41796848d",
   "metadata": {},
   "outputs": [
    {
     "name": "stdout",
     "output_type": "stream",
     "text": [
      "The set is empty.\n"
     ]
    }
   ],
   "source": [
    "\n",
    "my_set = set()\n",
    "\n",
    "if len(my_set) == 0:\n",
    "    print(\"The set is empty.\")\n",
    "else:\n",
    "    print(\"The set is not empty.\")\n"
   ]
  },
  {
   "cell_type": "code",
   "execution_count": 38,
   "id": "c6ad005f-30ae-4648-8b93-a1e64d392be9",
   "metadata": {},
   "outputs": [
    {
     "name": "stdout",
     "output_type": "stream",
     "text": [
      "{frozenset({3, 4}), frozenset({1, 2})}\n"
     ]
    }
   ],
   "source": [
    "# 30. Create a nested set (hint: use frozenset).\n",
    "nested_set = {frozenset({1, 2}), frozenset({3, 4})}\n",
    "print(nested_set)\n"
   ]
  },
  {
   "cell_type": "code",
   "execution_count": 39,
   "id": "158b09fe-96ef-4545-b90d-e0b42e12c47a",
   "metadata": {},
   "outputs": [
    {
     "name": "stdout",
     "output_type": "stream",
     "text": [
      "{2, 3, 7, 11}\n"
     ]
    }
   ],
   "source": [
    "# 31. Remove an element from a set using the discard method.\n",
    "prime_set.discard(5)\n",
    "print(prime_set)\n"
   ]
  },
  {
   "cell_type": "code",
   "execution_count": 40,
   "id": "4d1e5f94-f41f-4edd-b2bd-ea8a8b75923c",
   "metadata": {},
   "outputs": [
    {
     "name": "stdout",
     "output_type": "stream",
     "text": [
      "True\n"
     ]
    }
   ],
   "source": [
    "# 32. Compare two sets.\n",
    "comparison = prime_set == {2, 3, 7, 11}\n",
    "print(comparison)\n"
   ]
  },
  {
   "cell_type": "code",
   "execution_count": 41,
   "id": "80722a6b-7a90-4282-a4d2-5e15c8207cb7",
   "metadata": {},
   "outputs": [
    {
     "name": "stdout",
     "output_type": "stream",
     "text": [
      "{'l', 'o', 'h', 'e'}\n"
     ]
    }
   ],
   "source": [
    "# 33. Create a set from a string.\n",
    "string_set = set(\"hello\")\n",
    "print(string_set)\n"
   ]
  },
  {
   "cell_type": "code",
   "execution_count": 42,
   "id": "805dd033-0574-40de-a895-7dfea1399ed5",
   "metadata": {},
   "outputs": [
    {
     "name": "stdout",
     "output_type": "stream",
     "text": [
      "{1, 2, 3}\n"
     ]
    }
   ],
   "source": [
    "# 34. Convert a set of strings to a set of integers.\n",
    "string_set = {\"1\", \"2\", \"3\"}\n",
    "int_set = {int(i) for i in string_set}\n",
    "print(int_set)\n"
   ]
  },
  {
   "cell_type": "code",
   "execution_count": 43,
   "id": "994d4b64-c71b-4e85-ad32-3108ea6251d5",
   "metadata": {},
   "outputs": [
    {
     "name": "stdout",
     "output_type": "stream",
     "text": [
      "{'2', '1', '3'}\n"
     ]
    }
   ],
   "source": [
    "# 35. Convert a set of integers to a set of strings.\n",
    "int_set = {1, 2, 3}\n",
    "string_set = {str(i) for i in int_set}\n",
    "print(string_set)\n"
   ]
  },
  {
   "cell_type": "code",
   "execution_count": 44,
   "id": "ce7a29ad-2b87-4f30-90de-598e3c916f7a",
   "metadata": {},
   "outputs": [
    {
     "name": "stdout",
     "output_type": "stream",
     "text": [
      "{1, 2, 3, 4, 5}\n"
     ]
    }
   ],
   "source": [
    "# 36. Create a set from a tuple\n",
    "my_tuple = (1, 2, 3, 4, 5)\n",
    "my_set = set(my_tuple)\n",
    "print(my_set)\n"
   ]
  },
  {
   "cell_type": "code",
   "execution_count": 45,
   "id": "bb47380f-4534-4906-8937-7540633ef163",
   "metadata": {},
   "outputs": [
    {
     "name": "stdout",
     "output_type": "stream",
     "text": [
      "(1, 2, 3, 4, 5)\n"
     ]
    }
   ],
   "source": [
    "# 37. Convert a set to a tuple\n",
    "my_set = {1, 2, 3, 4, 5}\n",
    "my_tuple = tuple(my_set)\n",
    "print(my_tuple)\n"
   ]
  },
  {
   "cell_type": "code",
   "execution_count": 46,
   "id": "f1e65a25-7e8e-4e28-9713-beed8045a17b",
   "metadata": {},
   "outputs": [
    {
     "name": "stdout",
     "output_type": "stream",
     "text": [
      "5\n"
     ]
    }
   ],
   "source": [
    "# 38. Find the maximum value in a set\n",
    "my_set = {1, 2, 3, 4, 5}\n",
    "max_value = max(my_set)\n",
    "print(max_value)\n"
   ]
  },
  {
   "cell_type": "code",
   "execution_count": 47,
   "id": "160ec24b-2485-406d-9bfd-25f717242308",
   "metadata": {},
   "outputs": [
    {
     "name": "stdout",
     "output_type": "stream",
     "text": [
      "1\n"
     ]
    }
   ],
   "source": [
    "# 39. Find the minimum value in a set\n",
    "my_set = {1, 2, 3, 4, 5}\n",
    "min_value = min(my_set)\n",
    "print(min_value)\n"
   ]
  },
  {
   "cell_type": "code",
   "execution_count": null,
   "id": "9ddec06c-9b28-4ee8-aca6-4a43cda61266",
   "metadata": {},
   "outputs": [],
   "source": [
    "# 40. Create a set from user input\n",
    "user_input = input(\"Enter elements separated by spaces: \")\n",
    "my_set = set(map(int, user_input.split()))\n",
    "print(my_set)\n"
   ]
  },
  {
   "cell_type": "code",
   "execution_count": 1,
   "id": "d76c09af-6d21-4f00-939d-9be6b2fada7a",
   "metadata": {},
   "outputs": [
    {
     "name": "stdout",
     "output_type": "stream",
     "text": [
      "True\n"
     ]
    }
   ],
   "source": [
    "# 41. Check if the intersection of two sets is empty\n",
    "set1 = {1, 2, 3}\n",
    "set2 = {4, 5, 6}\n",
    "is_empty = set1.intersection(set2) == set()\n",
    "print(is_empty)\n"
   ]
  },
  {
   "cell_type": "code",
   "execution_count": 2,
   "id": "c3f72640-fe4a-451e-be70-f159a0a5264d",
   "metadata": {},
   "outputs": [
    {
     "name": "stdout",
     "output_type": "stream",
     "text": [
      "{0, 1, 2, 3}\n"
     ]
    }
   ],
   "source": [
    "# 42. Create a set of the first 5 Fibonacci numbers\n",
    "def fibonacci(n): \n",
    "    fibs = [0, 1]\n",
    "    while len(fibs) < n:\n",
    "        fibs.append(fibs[-1] + fibs[-2])\n",
    "    return set(fibs)\n",
    "\n",
    "fib_set = fibonacci(5)\n",
    "print(fib_set)\n"
   ]
  },
  {
   "cell_type": "code",
   "execution_count": 3,
   "id": "b650982f-9335-46bd-8676-cf2af1d35294",
   "metadata": {},
   "outputs": [
    {
     "name": "stdout",
     "output_type": "stream",
     "text": [
      "[1, 2, 3, 4, 5]\n"
     ]
    }
   ],
   "source": [
    "# 43. Remove duplicates from a list using sets\n",
    "my_list = [1, 2, 2, 3, 4, 4, 5]\n",
    "unique_list = list(set(my_list))\n",
    "print(unique_list)\n"
   ]
  },
  {
   "cell_type": "code",
   "execution_count": 4,
   "id": "a7a9cf91-8c29-4a9f-9124-a1c651d9d22d",
   "metadata": {},
   "outputs": [
    {
     "name": "stdout",
     "output_type": "stream",
     "text": [
      "True\n"
     ]
    }
   ],
   "source": [
    "# 44. Check if two sets have the same elements, regardless of their count\n",
    "set1 = {1, 2, 3}\n",
    "set2 = {3, 2, 1}\n",
    "are_equal = set1 == set2\n",
    "print(are_equal)\n"
   ]
  },
  {
   "cell_type": "code",
   "execution_count": 4,
   "id": "53406a0a-776b-4d81-9dee-c1497fbf0aec",
   "metadata": {},
   "outputs": [
    {
     "name": "stdout",
     "output_type": "stream",
     "text": [
      "{1, 2, 4, 8, 16}\n"
     ]
    }
   ],
   "source": [
    "# 45. Create a set of the first `n` powers of 2\n",
    "n = 5\n",
    "powers_of_2 = {2 ** i for i in range(n)}\n",
    "print(powers_of_2)\n"
   ]
  },
  {
   "cell_type": "code",
   "execution_count": 5,
   "id": "13c594dc-8bae-4f88-a094-8fc7aa628f1f",
   "metadata": {},
   "outputs": [
    {
     "name": "stdout",
     "output_type": "stream",
     "text": [
      "{3, 4, 5}\n"
     ]
    }
   ],
   "source": [
    "# 46. Find the common elements between a set and a list\n",
    "my_set = {1, 2, 3, 4, 5}\n",
    "my_list = [3, 4, 5, 6, 7]\n",
    "common_elements = my_set.intersection(my_list)\n",
    "print(common_elements)\n"
   ]
  },
  {
   "cell_type": "code",
   "execution_count": 6,
   "id": "e8eefec3-ff04-4de4-a9a0-28ee6473fab9",
   "metadata": {},
   "outputs": [
    {
     "name": "stdout",
     "output_type": "stream",
     "text": [
      "{1, 3, 6, 10, 15}\n"
     ]
    }
   ],
   "source": [
    "# 47. Create a set of the first `n` triangular numbers\n",
    "def triangular_numbers(n):\n",
    "    return {i * (i + 1) // 2 for i in range(1, n + 1)}\n",
    "\n",
    "tri_set = triangular_numbers(5)\n",
    "print(tri_set)\n"
   ]
  },
  {
   "cell_type": "code",
   "execution_count": 7,
   "id": "1b931c24-81fe-4d82-9932-06fada7d88a0",
   "metadata": {},
   "outputs": [
    {
     "name": "stdout",
     "output_type": "stream",
     "text": [
      "True\n"
     ]
    }
   ],
   "source": [
    "# 48. Check if a set contains another set as a subset\n",
    "set1 = {1, 2, 3, 4, 5}\n",
    "set2 = {2, 3}\n",
    "is_subset = set2.issubset(set1)\n",
    "print(is_subset)\n"
   ]
  },
  {
   "cell_type": "code",
   "execution_count": 8,
   "id": "b2320b0c-d238-49f1-aabc-4886acd73f76",
   "metadata": {},
   "outputs": [
    {
     "name": "stdout",
     "output_type": "stream",
     "text": [
      "{0, 1}\n"
     ]
    }
   ],
   "source": [
    "# 49. Create a set of alternating 1s and 0s of length `n`\n",
    "n = 10\n",
    "alternating_set = {i % 2 for i in range(n)}\n",
    "print(alternating_set)\n"
   ]
  },
  {
   "cell_type": "code",
   "execution_count": 9,
   "id": "ff71ba6a-5cfb-4233-aaac-31a7538ec7a2",
   "metadata": {},
   "outputs": [
    {
     "name": "stdout",
     "output_type": "stream",
     "text": [
      "{1, 2, 3, 4, 5, 6}\n"
     ]
    }
   ],
   "source": [
    "# 50. Merge multiple sets into one\n",
    "set1 = {1, 2}\n",
    "set2 = {3, 4}\n",
    "set3 = {5, 6}\n",
    "merged_set = set1.union(set2, set3)\n",
    "print(merged_set)\n"
   ]
  },
  {
   "cell_type": "code",
   "execution_count": null,
   "id": "3b9399bb-baa0-4b12-91f1-f9b6161cbf14",
   "metadata": {},
   "outputs": [],
   "source": []
  },
  {
   "cell_type": "code",
   "execution_count": null,
   "id": "7386213b-0ae4-40e8-8fbb-f50c48d7aae6",
   "metadata": {},
   "outputs": [],
   "source": []
  }
 ],
 "metadata": {
  "kernelspec": {
   "display_name": "Python 3 (ipykernel)",
   "language": "python",
   "name": "python3"
  },
  "language_info": {
   "codemirror_mode": {
    "name": "ipython",
    "version": 3
   },
   "file_extension": ".py",
   "mimetype": "text/x-python",
   "name": "python",
   "nbconvert_exporter": "python",
   "pygments_lexer": "ipython3",
   "version": "3.10.8"
  }
 },
 "nbformat": 4,
 "nbformat_minor": 5
}
