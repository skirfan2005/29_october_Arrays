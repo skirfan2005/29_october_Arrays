{
 "cells": [
  {
   "cell_type": "markdown",
   "id": "6bf5b200-bf82-432a-9180-21ae03831f26",
   "metadata": {},
   "source": [
    "\"for\" loop programs"
   ]
  },
  {
   "cell_type": "code",
   "execution_count": 1,
   "id": "9fbbda5e-3193-410e-9a76-17277bf1d840",
   "metadata": {},
   "outputs": [
    {
     "name": "stdout",
     "output_type": "stream",
     "text": [
      "1\n",
      "2\n",
      "3\n",
      "4\n",
      "5\n",
      "6\n",
      "7\n",
      "8\n",
      "9\n",
      "10\n"
     ]
    }
   ],
   "source": [
    "# 1Write a Python program to print numbers from 1 to 10 using a for loop.\n",
    "for i in range(1, 11):\n",
    "    print(i)\n"
   ]
  },
  {
   "cell_type": "code",
   "execution_count": null,
   "id": "4b787f33-2b04-42fa-91c9-30d1e806a7c8",
   "metadata": {},
   "outputs": [],
   "source": [
    "# Explain the difference between a for loop and a while loop in Python.\n",
    "\"\"\"\n",
    "A for loop is used to iterate over a sequence (like a list, tuple, dictionary, set, or string) or range of numbers. \n",
    "It is commonly used when the number of iterations is known beforehand.\n",
    "\n",
    "A while loop is used to repeatedly execute a block of code as long as a given condition is true. \n",
    "It is used when the number of iterations is not known and depends on a condition being met during runtime.\n",
    "\n",
    "### Differences Between `for` Loop and `while` Loop in Python\n",
    "\n",
    "1. **Purpose**: A `for` loop is used for iterating over a sequence, while a `while` loop is used to execute a block of code repeatedly as long as a condition is true.\n",
    "\n",
    "2. **Control**: `for` loop is controlled by the number of items in a sequence, whereas `while` loop is controlled by a condition.\n",
    "\n",
    "3. **Usage**: Use a `for` loop when the number of iterations is known; use a `while` loop when the number of iterations is unknown.\n",
    "\n",
    "4. **Termination**: A `for` loop automatically stops after the sequence is exhausted; a `while` loop stops when the condition becomes false.\n",
    "\n",
    "5. **Condition**: A `for` loop does not require an explicit condition; a `while` loop explicitly requires a condition.\n",
    "\n",
    "6. **Initialization**: A `for` loop initializes the loop variable in the loop definition; a `while` loop requires initialization outside the loop.\n",
    "\n",
    "7. **Sequence Dependency**: A `for` loop is sequence-dependent; a `while` loop is condition-dependent.\n",
    "\n",
    "8. **Infinite Loop Risk**: `for` loops are less prone to infinite loops; `while` loops can easily create infinite loops if the condition never changes.\n",
    "\n",
    "9. **Iteration Variable**: In a `for` loop, the iteration variable automatically changes; in a `while` loop, you must manually update the iteration variable.\n",
    "\n",
    "10. **Suitability**: `for` loops are more suitable for definite iteration, while `while` loops are more suitable for indefinite iteration.\n",
    "\n",
    "### **Syntax:**\n",
    "\n",
    "**`for` Loop Syntax:**\n",
    "```python\n",
    "for element in sequence:\n",
    "    # Code block to execute\n",
    "```\n",
    "\n",
    "**`while` Loop Syntax:**\n",
    "```python\n",
    "while condition:\n",
    "    # Code block to execute\n",
    "```\n",
    "\"\"\"\n",
    "\n"
   ]
  },
  {
   "cell_type": "code",
   "execution_count": 3,
   "id": "d0595a71-4a6e-401b-9bc0-5793e98ea9b2",
   "metadata": {},
   "outputs": [
    {
     "name": "stdout",
     "output_type": "stream",
     "text": [
      "5050\n"
     ]
    }
   ],
   "source": [
    "# 3. Write a Python program to calculate the sum of all numbers from 1 to 100 using a for loop.\n",
    "total_sum = 0\n",
    "for i in range(1, 101):\n",
    "    total_sum += i\n",
    "print(total_sum)\n"
   ]
  },
  {
   "cell_type": "code",
   "execution_count": 4,
   "id": "ecda6e62-d515-42f0-80b5-e734cd3350b5",
   "metadata": {},
   "outputs": [
    {
     "name": "stdout",
     "output_type": "stream",
     "text": [
      "1\n",
      "2\n",
      "3\n",
      "4\n",
      "5\n"
     ]
    }
   ],
   "source": [
    "# 4. How do you iterate through a list using a for loop in Python?\n",
    "my_list = [1, 2, 3, 4, 5]\n",
    "for element in my_list:\n",
    "    print(element)\n"
   ]
  },
  {
   "cell_type": "code",
   "execution_count": 5,
   "id": "56689e86-a0a4-474e-ad7f-8943408a7910",
   "metadata": {},
   "outputs": [
    {
     "name": "stdout",
     "output_type": "stream",
     "text": [
      "120\n"
     ]
    }
   ],
   "source": [
    "# 5. Write a Python program to find the product of all elements in a list using a for loop.\n",
    "my_list = [1, 2, 3, 4, 5]\n",
    "product = 1\n",
    "for element in my_list:\n",
    "    product *= element\n",
    "print(product)\n"
   ]
  },
  {
   "cell_type": "code",
   "execution_count": 6,
   "id": "9ce6884c-9ad1-4cdf-868f-d3b44f30e713",
   "metadata": {},
   "outputs": [
    {
     "name": "stdout",
     "output_type": "stream",
     "text": [
      "2\n",
      "4\n",
      "6\n",
      "8\n",
      "10\n",
      "12\n",
      "14\n",
      "16\n",
      "18\n",
      "20\n"
     ]
    }
   ],
   "source": [
    "# 6. Create a Python program that prints all even numbers from 1 to 20 using a for loop.\n",
    "for i in range(1, 21):\n",
    "    if i % 2 == 0:\n",
    "        print(i)\n"
   ]
  },
  {
   "cell_type": "code",
   "execution_count": 7,
   "id": "95a48941-4539-41d6-911e-6f03dab5d5ca",
   "metadata": {},
   "outputs": [
    {
     "name": "stdout",
     "output_type": "stream",
     "text": [
      "120\n"
     ]
    }
   ],
   "source": [
    "# 7. Write a Python program that calculates the factorial of a number using a for loop.\n",
    "number = 5\n",
    "factorial = 1\n",
    "for i in range(1, number + 1):\n",
    "    factorial *= i\n",
    "print(factorial)\n"
   ]
  },
  {
   "cell_type": "code",
   "execution_count": 8,
   "id": "b97f51b4-6390-47eb-948a-0f39a4c07bdd",
   "metadata": {},
   "outputs": [
    {
     "name": "stdout",
     "output_type": "stream",
     "text": [
      "H\n",
      "e\n",
      "l\n",
      "l\n",
      "o\n",
      ",\n",
      " \n",
      "W\n",
      "o\n",
      "r\n",
      "l\n",
      "d\n",
      "!\n"
     ]
    }
   ],
   "source": [
    "# 8. How can you iterate through the characters of a string using a for loop in Python?\n",
    "my_string = \"Hello, World!\"\n",
    "for char in my_string:\n",
    "    print(char)\n"
   ]
  },
  {
   "cell_type": "code",
   "execution_count": 9,
   "id": "6684cd72-f96e-4bd2-b088-1d70481b1bae",
   "metadata": {},
   "outputs": [
    {
     "name": "stdout",
     "output_type": "stream",
     "text": [
      "99\n"
     ]
    }
   ],
   "source": [
    "# 9. Write a Python program to find the largest number in a list using a for loop.\n",
    "my_list = [10, 20, 4, 45, 99]\n",
    "max_number = my_list[0]\n",
    "for num in my_list:\n",
    "    if num > max_number:\n",
    "        max_number = num\n",
    "print(max_number)\n"
   ]
  },
  {
   "cell_type": "code",
   "execution_count": 10,
   "id": "f45c7d2e-4259-4b34-b6ee-485ecfb1b521",
   "metadata": {},
   "outputs": [
    {
     "name": "stdout",
     "output_type": "stream",
     "text": [
      "0 1 1 2 3 5 8 13 21 34 "
     ]
    }
   ],
   "source": [
    "# 10. Create a Python program that prints the Fibonacci sequence up to a specified limit using a for loop.\n",
    "limit = 10\n",
    "a, b = 0, 1\n",
    "for _ in range(limit):\n",
    "    print(a, end=\" \")\n",
    "    a, b = b, a + b\n"
   ]
  },
  {
   "cell_type": "code",
   "execution_count": 11,
   "id": "e752d0a9-fcd3-4f3d-a79a-d54539b5c418",
   "metadata": {},
   "outputs": [
    {
     "name": "stdout",
     "output_type": "stream",
     "text": [
      "3\n"
     ]
    }
   ],
   "source": [
    "# 11. Write a Python program to count the number of vowels in a given string using a for loop.\n",
    "my_string = \"Hello, World!\"\n",
    "vowels = \"aeiouAEIOU\"\n",
    "count = 0\n",
    "for char in my_string:\n",
    "    if char in vowels:\n",
    "        count += 1\n",
    "print(count)\n",
    "\n"
   ]
  },
  {
   "cell_type": "code",
   "execution_count": 12,
   "id": "14b9d3a2-b265-400f-963e-9aa0928aad1a",
   "metadata": {},
   "outputs": [
    {
     "name": "stdout",
     "output_type": "stream",
     "text": [
      "5 x 1 = 5\n",
      "5 x 2 = 10\n",
      "5 x 3 = 15\n",
      "5 x 4 = 20\n",
      "5 x 5 = 25\n",
      "5 x 6 = 30\n",
      "5 x 7 = 35\n",
      "5 x 8 = 40\n",
      "5 x 9 = 45\n",
      "5 x 10 = 50\n"
     ]
    }
   ],
   "source": [
    "# 12. Create a Python program that generates a multiplication table for a given number using a for loop.\n",
    "number = 5\n",
    "for i in range(1, 11):\n",
    "    print(f\"{number} x {i} = {number * i}\")\n"
   ]
  },
  {
   "cell_type": "code",
   "execution_count": 13,
   "id": "3cf9c315-7d97-4649-82ec-633117adc0a8",
   "metadata": {},
   "outputs": [
    {
     "name": "stdout",
     "output_type": "stream",
     "text": [
      "[5, 4, 3, 2, 1]\n"
     ]
    }
   ],
   "source": [
    "# 13. Write a Python program to reverse a list using a for loop.\n",
    "my_list = [1, 2, 3, 4, 5]\n",
    "reversed_list = []\n",
    "for i in range(len(my_list)-1, -1, -1):\n",
    "    reversed_list.append(my_list[i])\n",
    "print(reversed_list)\n"
   ]
  },
  {
   "cell_type": "code",
   "execution_count": 14,
   "id": "33e5e796-af92-4863-83fe-6968d624cacf",
   "metadata": {},
   "outputs": [
    {
     "name": "stdout",
     "output_type": "stream",
     "text": [
      "[4, 5]\n"
     ]
    }
   ],
   "source": [
    "# 14. Write a Python program to find the common elements between two lists using a for loop.\n",
    "list1 = [1, 2, 3, 4, 5]\n",
    "list2 = [4, 5, 6, 7, 8]\n",
    "common_elements = []\n",
    "for element in list1:\n",
    "    if element in list2:\n",
    "        common_elements.append(element)\n",
    "print(common_elements)\n"
   ]
  },
  {
   "cell_type": "code",
   "execution_count": 15,
   "id": "a9ff3df0-0574-4ef3-8f4f-c7b519319ed3",
   "metadata": {},
   "outputs": [
    {
     "name": "stdout",
     "output_type": "stream",
     "text": [
      "Key: a, Value: 1\n",
      "Key: b, Value: 2\n",
      "Key: c, Value: 3\n"
     ]
    }
   ],
   "source": [
    "# 15. Explain how to use a for loop to iterate through the keys and values of a dictionary in Python.\n",
    "my_dict = {\"a\": 1, \"b\": 2, \"c\": 3}\n",
    "for key, value in my_dict.items():\n",
    "    print(f\"Key: {key}, Value: {value}\")\n"
   ]
  },
  {
   "cell_type": "code",
   "execution_count": 16,
   "id": "93ffeb51-8ae7-4b88-9723-344e8b513986",
   "metadata": {},
   "outputs": [
    {
     "name": "stdout",
     "output_type": "stream",
     "text": [
      "12\n"
     ]
    }
   ],
   "source": [
    "# 16. Write a Python program to find the GCD (Greatest Common Divisor) of two numbers using a for loop.\n",
    "a, b = 60, 48\n",
    "gcd = 1\n",
    "for i in range(1, min(a, b) + 1):\n",
    "    if a % i == 0 and b % i == 0:\n",
    "        gcd = i\n",
    "print(gcd)\n"
   ]
  },
  {
   "cell_type": "code",
   "execution_count": 17,
   "id": "e7bef508-6292-4508-9926-73d04753fc24",
   "metadata": {},
   "outputs": [
    {
     "name": "stdout",
     "output_type": "stream",
     "text": [
      "True\n"
     ]
    }
   ],
   "source": [
    "# 17. Create a Python program that checks if a string is a palindrome using a for loop.\n",
    "my_string = \"madam\"\n",
    "is_palindrome = True\n",
    "for i in range(len(my_string) // 2):\n",
    "    if my_string[i] != my_string[-(i + 1)]:\n",
    "        is_palindrome = False\n",
    "        break\n",
    "print(is_palindrome)\n"
   ]
  },
  {
   "cell_type": "code",
   "execution_count": 18,
   "id": "53910d2f-45f8-4afe-9216-5cfc5b9952ed",
   "metadata": {},
   "outputs": [
    {
     "name": "stdout",
     "output_type": "stream",
     "text": [
      "[1, 2, 3, 4, 5]\n"
     ]
    }
   ],
   "source": [
    "# 18. Write a Python program to remove duplicates from a list using a for loop.\n",
    "my_list = [1, 2, 2, 3, 4, 4, 5]\n",
    "unique_list = []\n",
    "for element in my_list:\n",
    "    if element not in unique_list:\n",
    "        unique_list.append(element)\n",
    "print(unique_list)\n"
   ]
  },
  {
   "cell_type": "code",
   "execution_count": 19,
   "id": "c60b2fdc-b7c4-49b6-8541-e00219738de5",
   "metadata": {},
   "outputs": [
    {
     "name": "stdout",
     "output_type": "stream",
     "text": [
      "5\n"
     ]
    }
   ],
   "source": [
    "# 19. Create a Python program that counts the number of words in a sentence using a for loop.\n",
    "sentence = \"This is a sample sentence.\"\n",
    "word_count = 1\n",
    "for char in sentence:\n",
    "    if char == \" \":\n",
    "        word_count += 1\n",
    "print(word_count)\n"
   ]
  },
  {
   "cell_type": "code",
   "execution_count": 20,
   "id": "3066c6d8-894a-4307-8220-21411b3f0702",
   "metadata": {},
   "outputs": [
    {
     "name": "stdout",
     "output_type": "stream",
     "text": [
      "625\n"
     ]
    }
   ],
   "source": [
    "# 20. Write a Python program to find the sum of all odd numbers from 1 to 50 using a for loop.\n",
    "total_sum = 0\n",
    "for i in range(1, 51):\n",
    "    if i % 2 != 0:\n",
    "        total_sum += i\n",
    "print(total_sum)\n"
   ]
  },
  {
   "cell_type": "code",
   "execution_count": 21,
   "id": "42ef36f5-d77f-4055-9e31-aa8c4a5fe8e4",
   "metadata": {},
   "outputs": [
    {
     "name": "stdout",
     "output_type": "stream",
     "text": [
      "True\n"
     ]
    }
   ],
   "source": [
    "# 21. Write a Python program that checks if a given year is a leap year using a for loop.\n",
    "year = 2024\n",
    "is_leap = False\n",
    "for i in range(year, year + 1):\n",
    "    if (i % 4 == 0 and i % 100 != 0) or (i % 400 == 0):\n",
    "        is_leap = True\n",
    "print(is_leap)\n"
   ]
  },
  {
   "cell_type": "code",
   "execution_count": 22,
   "id": "8f8e8da4-2b90-4a34-9b27-bdc600ec3f67",
   "metadata": {},
   "outputs": [
    {
     "name": "stdout",
     "output_type": "stream",
     "text": [
      "4.0\n"
     ]
    }
   ],
   "source": [
    "# 22. Create a Python program that calculates the square root of a number using a for loop.\n",
    "number = 16\n",
    "approx_sqrt = number / 2\n",
    "for _ in range(20):\n",
    "    approx_sqrt = (approx_sqrt + number / approx_sqrt) / 2\n",
    "print(approx_sqrt)\n"
   ]
  },
  {
   "cell_type": "code",
   "execution_count": 23,
   "id": "ce1d2cf0-f0e8-47b5-8463-1d9dfe1e251c",
   "metadata": {},
   "outputs": [
    {
     "name": "stdout",
     "output_type": "stream",
     "text": [
      "60\n"
     ]
    }
   ],
   "source": [
    "# 23. Write a Python program to find the LCM (Least Common Multiple) of two numbers using a for loop.\n",
    "a, b = 15, 20\n",
    "lcm = max(a, b)\n",
    "while True:\n",
    "    if lcm % a == 0 and lcm % b == 0:\n",
    "        break\n",
    "    lcm += 1\n",
    "print(lcm)\n"
   ]
  },
  {
   "cell_type": "markdown",
   "id": "cf062928-420f-4cb0-80c4-c10ae479053a",
   "metadata": {},
   "source": [
    "\"if else\" problems:"
   ]
  },
  {
   "cell_type": "code",
   "execution_count": 24,
   "id": "35fc7fab-646b-4fb1-a751-753624d67f8e",
   "metadata": {},
   "outputs": [
    {
     "name": "stdin",
     "output_type": "stream",
     "text": [
      "Enter a number:  -2\n"
     ]
    },
    {
     "name": "stdout",
     "output_type": "stream",
     "text": [
      "The number is negative.\n"
     ]
    }
   ],
   "source": [
    "# 1. Write a Python program to check if a number is positive, negative, or zero using an if-else statement.\n",
    "number = float(input(\"Enter a number: \"))\n",
    "if number > 0:\n",
    "    print(\"The number is positive.\")\n",
    "elif number < 0:\n",
    "    print(\"The number is negative.\")\n",
    "else:\n",
    "    print(\"The number is zero.\")\n"
   ]
  },
  {
   "cell_type": "code",
   "execution_count": 25,
   "id": "01c7797f-a374-4be0-b0d2-9caed16db5ce",
   "metadata": {},
   "outputs": [
    {
     "name": "stdin",
     "output_type": "stream",
     "text": [
      "Enter a number:  3\n"
     ]
    },
    {
     "name": "stdout",
     "output_type": "stream",
     "text": [
      "The number is odd.\n"
     ]
    }
   ],
   "source": [
    "# 2. Create a Python program that checks if a given number is even or odd using an if-else statement.\n",
    "number = int(input(\"Enter a number: \"))\n",
    "if number % 2 == 0:\n",
    "    print(\"The number is even.\")\n",
    "else:\n",
    "    print(\"The number is odd.\")\n"
   ]
  },
  {
   "cell_type": "code",
   "execution_count": 26,
   "id": "d47321ef-66c8-4e00-ab64-2f7acd1ac861",
   "metadata": {},
   "outputs": [
    {
     "name": "stdin",
     "output_type": "stream",
     "text": [
      "Enter a number:  0\n"
     ]
    },
    {
     "name": "stdout",
     "output_type": "stream",
     "text": [
      "The number is zero.\n"
     ]
    }
   ],
   "source": [
    "# 3. How can you use nested if-else statements in Python, and provide an example?\n",
    "number = int(input(\"Enter a number: \"))\n",
    "if number >= 0:\n",
    "    if number == 0:\n",
    "        print(\"The number is zero.\")\n",
    "    else:\n",
    "        print(\"The number is positive.\")\n",
    "else:\n",
    "    print(\"The number is negative.\")\n"
   ]
  },
  {
   "cell_type": "code",
   "execution_count": 27,
   "id": "6e69eb7e-bccb-4b7a-a521-9d11ba2db56a",
   "metadata": {},
   "outputs": [
    {
     "name": "stdin",
     "output_type": "stream",
     "text": [
      "Enter the first number:  12\n",
      "Enter the second number:  34\n",
      "Enter the third number:  55\n"
     ]
    },
    {
     "name": "stdout",
     "output_type": "stream",
     "text": [
      "The largest number is: 55.0\n"
     ]
    }
   ],
   "source": [
    "# 4. Write a Python program to determine the largest of three numbers using if-else.\n",
    "a = float(input(\"Enter the first number: \"))\n",
    "b = float(input(\"Enter the second number: \"))\n",
    "c = float(input(\"Enter the third number: \"))\n",
    "if a >= b and a >= c:\n",
    "    print(\"The largest number is:\", a)\n",
    "elif b >= a and b >= c:\n",
    "    print(\"The largest number is:\", b)\n",
    "else:\n",
    "    print(\"The largest number is:\", c)\n"
   ]
  },
  {
   "cell_type": "code",
   "execution_count": 28,
   "id": "a5935094-025b-4a33-a414-325f2dc43af0",
   "metadata": {},
   "outputs": [
    {
     "name": "stdin",
     "output_type": "stream",
     "text": [
      "Enter a number:  -233\n"
     ]
    },
    {
     "name": "stdout",
     "output_type": "stream",
     "text": [
      "The absolute value is: 233.0\n"
     ]
    }
   ],
   "source": [
    "# 5. Write a Python program that calculates the absolute value of a number using if-else.\n",
    "number = float(input(\"Enter a number: \"))\n",
    "if number >= 0:\n",
    "    abs_value = number\n",
    "else:\n",
    "    abs_value = -number\n",
    "print(\"The absolute value is:\", abs_value)\n"
   ]
  },
  {
   "cell_type": "code",
   "execution_count": 29,
   "id": "4a268db9-375a-4121-b7c6-0347574d745b",
   "metadata": {},
   "outputs": [
    {
     "name": "stdin",
     "output_type": "stream",
     "text": [
      "Enter a character:  e\n"
     ]
    },
    {
     "name": "stdout",
     "output_type": "stream",
     "text": [
      "The character is a vowel.\n"
     ]
    }
   ],
   "source": [
    "# 6. Create a Python program that checks if a given character is a vowel or consonant using if-else.\n",
    "char = input(\"Enter a character: \").lower()\n",
    "if char in 'aeiou':\n",
    "    print(\"The character is a vowel.\")\n",
    "else:\n",
    "    print(\"The character is a consonant.\")\n"
   ]
  },
  {
   "cell_type": "code",
   "execution_count": 30,
   "id": "a8882add-0457-4c8b-911d-550e252f44ad",
   "metadata": {},
   "outputs": [
    {
     "name": "stdin",
     "output_type": "stream",
     "text": [
      "Enter your age:  21\n"
     ]
    },
    {
     "name": "stdout",
     "output_type": "stream",
     "text": [
      "You are eligible to vote.\n"
     ]
    }
   ],
   "source": [
    "# 7. Write a Python program to determine if a user is eligible to vote based on their age using if-else.\n",
    "age = int(input(\"Enter your age: \"))\n",
    "if age >= 18:\n",
    "    print(\"You are eligible to vote.\")\n",
    "else:\n",
    "    print(\"You are not eligible to vote.\")\n"
   ]
  },
  {
   "cell_type": "code",
   "execution_count": 1,
   "id": "fb776774-5ca3-41c0-b528-ca9d98aa462e",
   "metadata": {},
   "outputs": [
    {
     "name": "stdin",
     "output_type": "stream",
     "text": [
      "Enter the purchase amount:  500\n"
     ]
    },
    {
     "name": "stdout",
     "output_type": "stream",
     "text": [
      "Discount amount: 25.0\n"
     ]
    }
   ],
   "source": [
    "# 8. Create a Python program that calculates the discount amount based on the purchase amount using if-else.\n",
    "purchase_amount = float(input(\"Enter the purchase amount: \"))\n",
    "if purchase_amount >= 1000:\n",
    "    discount = purchase_amount * 0.10\n",
    "else:\n",
    "    discount = purchase_amount * 0.05\n",
    "print(\"Discount amount:\", discount)\n"
   ]
  },
  {
   "cell_type": "code",
   "execution_count": 2,
   "id": "90d25309-13e8-4ba6-bc11-98b0aec5d000",
   "metadata": {},
   "outputs": [
    {
     "name": "stdin",
     "output_type": "stream",
     "text": [
      "Enter a number:  27\n"
     ]
    },
    {
     "name": "stdout",
     "output_type": "stream",
     "text": [
      "The number is within the range.\n"
     ]
    }
   ],
   "source": [
    "# 9. Write a Python program to check if a number is within a specified range using if-else.\n",
    "number = float(input(\"Enter a number: \"))\n",
    "lower_limit = 10\n",
    "upper_limit = 50\n",
    "if lower_limit <= number <= upper_limit:\n",
    "    print(\"The number is within the range.\")\n",
    "else:\n",
    "    print(\"The number is outside the range.\")\n"
   ]
  },
  {
   "cell_type": "code",
   "execution_count": 3,
   "id": "8b2cf16c-b3d2-48ea-8dbe-57d2ecb38c9e",
   "metadata": {},
   "outputs": [
    {
     "name": "stdin",
     "output_type": "stream",
     "text": [
      "Enter the score:  75\n"
     ]
    },
    {
     "name": "stdout",
     "output_type": "stream",
     "text": [
      "The grade is: C\n"
     ]
    }
   ],
   "source": [
    "# 10. Create a Python program that determines the grade of a student based on their score using if-else.\n",
    "score = float(input(\"Enter the score: \"))\n",
    "if score >= 90:\n",
    "    grade = 'A'\n",
    "elif score >= 80:\n",
    "    grade = 'B'\n",
    "elif score >= 70:\n",
    "    grade = 'C'\n",
    "elif score >= 60:\n",
    "    grade = 'D'\n",
    "else:\n",
    "    grade = 'F'\n",
    "print(\"The grade is:\", grade)\n"
   ]
  },
  {
   "cell_type": "code",
   "execution_count": 4,
   "id": "7d827688-067d-4ea5-8d2f-0c06acf162d0",
   "metadata": {},
   "outputs": [
    {
     "name": "stdin",
     "output_type": "stream",
     "text": [
      "Enter a string:  \n"
     ]
    },
    {
     "name": "stdout",
     "output_type": "stream",
     "text": [
      "The string is empty.\n"
     ]
    }
   ],
   "source": [
    "# 11. Write a Python program to check if a string is empty or not using if-else.\n",
    "string = input(\"Enter a string: \")\n",
    "if string:\n",
    "    print(\"The string is not empty.\")\n",
    "else:\n",
    "    print(\"The string is empty.\")\n"
   ]
  },
  {
   "cell_type": "code",
   "execution_count": 5,
   "id": "0dd1e1fb-7ecd-4501-8943-3dc4ae6d22b0",
   "metadata": {},
   "outputs": [
    {
     "name": "stdin",
     "output_type": "stream",
     "text": [
      "Enter the first side:  3\n",
      "Enter the second side:  4\n",
      "Enter the third side:  5\n"
     ]
    },
    {
     "name": "stdout",
     "output_type": "stream",
     "text": [
      "The triangle is scalene.\n"
     ]
    }
   ],
   "source": [
    "# 12. Create a Python program that identifies the type of a triangle (e.g., equilateral, isosceles, or scalene) based on input values using if-else.\n",
    "side1 = float(input(\"Enter the first side: \"))\n",
    "side2 = float(input(\"Enter the second side: \"))\n",
    "side3 = float(input(\"Enter the third side: \"))\n",
    "if side1 == side2 == side3:\n",
    "    print(\"The triangle is equilateral.\")\n",
    "elif side1 == side2 or side2 == side3 or side1 == side3:\n",
    "    print(\"The triangle is isosceles.\")\n",
    "else:\n",
    "    print(\"The triangle is scalene.\")\n"
   ]
  },
  {
   "cell_type": "code",
   "execution_count": 6,
   "id": "a004d4a3-e72c-4ad8-ab95-bc46185599fb",
   "metadata": {},
   "outputs": [
    {
     "name": "stdin",
     "output_type": "stream",
     "text": [
      "Enter a number (1-7):  7\n"
     ]
    },
    {
     "name": "stdout",
     "output_type": "stream",
     "text": [
      "Sunday\n"
     ]
    }
   ],
   "source": [
    "# 13. Write a Python program to determine the day of the week based on a user-provided number using if-else.\n",
    "day_number = int(input(\"Enter a number (1-7): \"))\n",
    "if day_number == 1:\n",
    "    print(\"Monday\")\n",
    "elif day_number == 2:\n",
    "    print(\"Tuesday\")\n",
    "elif day_number == 3:\n",
    "    print(\"Wednesday\")\n",
    "elif day_number == 4:\n",
    "    print(\"Thursday\")\n",
    "elif day_number == 5:\n",
    "    print(\"Friday\")\n",
    "elif day_number == 6:\n",
    "    print(\"Saturday\")\n",
    "elif day_number == 7:\n",
    "    print(\"Sunday\")\n",
    "else:\n",
    "    print(\"Invalid number\")\n"
   ]
  },
  {
   "cell_type": "code",
   "execution_count": 7,
   "id": "784d87b3-288b-4ea0-8a0a-59e42b93a472",
   "metadata": {},
   "outputs": [
    {
     "name": "stdin",
     "output_type": "stream",
     "text": [
      "Enter a year:  2003\n"
     ]
    },
    {
     "name": "stdout",
     "output_type": "stream",
     "text": [
      "2003 is not a leap year.\n"
     ]
    }
   ],
   "source": [
    "# 14. Create a Python program that checks if a given year is a leap year using both if-else and a function.\n",
    "def is_leap_year(year):\n",
    "    if (year % 4 == 0 and year % 100 != 0) or (year % 400 == 0):\n",
    "        return True\n",
    "    else:\n",
    "        return False\n",
    "\n",
    "year = int(input(\"Enter a year: \"))\n",
    "if is_leap_year(year):\n",
    "    print(f\"{year} is a leap year.\")\n",
    "else:\n",
    "    print(f\"{year} is not a leap year.\")\n"
   ]
  },
  {
   "cell_type": "code",
   "execution_count": 8,
   "id": "6d0c075b-34a8-4552-9641-7258ce51609a",
   "metadata": {},
   "outputs": [
    {
     "name": "stdin",
     "output_type": "stream",
     "text": [
      "Enter a positive number:  24\n"
     ]
    },
    {
     "name": "stdout",
     "output_type": "stream",
     "text": [
      "The number is positive.\n"
     ]
    }
   ],
   "source": [
    "# 15. How do you use the \"assert\" statement in Python to add debugging checks within if-else blocks?\n",
    "number = int(input(\"Enter a positive number: \"))\n",
    "assert number > 0, \"Number must be positive\"\n",
    "if number > 0:\n",
    "    print(\"The number is positive.\")\n"
   ]
  },
  {
   "cell_type": "code",
   "execution_count": 9,
   "id": "b810fd89-58ea-444c-8ab4-bfef7450b0ff",
   "metadata": {},
   "outputs": [
    {
     "name": "stdin",
     "output_type": "stream",
     "text": [
      "Enter your age:  34\n"
     ]
    },
    {
     "name": "stdout",
     "output_type": "stream",
     "text": [
      "You are not eligible for a senior citizen discount.\n"
     ]
    }
   ],
   "source": [
    "# 16. Create a Python program that determines the eligibility of a person for a senior citizen discount based on age using if-else.\n",
    "age = int(input(\"Enter your age: \"))\n",
    "if age >= 60:\n",
    "    print(\"You are eligible for a senior citizen discount.\")\n",
    "else:\n",
    "    print(\"You are not eligible for a senior citizen discount.\")\n"
   ]
  },
  {
   "cell_type": "code",
   "execution_count": 10,
   "id": "8cff62ed-b405-415f-89b4-3e3e83398fa0",
   "metadata": {},
   "outputs": [
    {
     "name": "stdin",
     "output_type": "stream",
     "text": [
      "Enter a character:  sfds\n"
     ]
    },
    {
     "name": "stdout",
     "output_type": "stream",
     "text": [
      "The character is lowercase.\n"
     ]
    }
   ],
   "source": [
    "# 17. Write a Python program to categorize a given character as uppercase, lowercase, or neither using if-else.\n",
    "char = input(\"Enter a character: \")\n",
    "if char.isupper():\n",
    "    print(\"The character is uppercase.\")\n",
    "elif char.islower():\n",
    "    print(\"The character is lowercase.\")\n",
    "else:\n",
    "    print(\"The character is neither uppercase nor lowercase.\")\n"
   ]
  },
  {
   "cell_type": "code",
   "execution_count": 11,
   "id": "fabc52c4-2f0d-46b4-8438-3e8e6c504131",
   "metadata": {},
   "outputs": [
    {
     "name": "stdin",
     "output_type": "stream",
     "text": [
      "Enter coefficient a:  1\n",
      "Enter coefficient b:  3\n",
      "Enter coefficient c:  5\n"
     ]
    },
    {
     "name": "stdout",
     "output_type": "stream",
     "text": [
      "No real roots.\n"
     ]
    }
   ],
   "source": [
    "# 18. Write a Python program to determine the roots of a quadratic equation using if-else.\n",
    "import math\n",
    "a = float(input(\"Enter coefficient a: \"))\n",
    "b = float(input(\"Enter coefficient b: \"))\n",
    "c = float(input(\"Enter coefficient c: \"))\n",
    "discriminant = b**2 - 4*a*c\n",
    "if discriminant > 0:\n",
    "    root1 = (-b + math.sqrt(discriminant)) / (2*a)\n",
    "    root2 = (-b - math.sqrt(discriminant)) / (2*a)\n",
    "    print(\"Two distinct real roots:\", root1, root2)\n",
    "elif discriminant == 0:\n",
    "    root = -b / (2*a)\n",
    "    print(\"One real root:\", root)\n",
    "else:\n",
    "    print(\"No real roots.\")\n"
   ]
  },
  {
   "cell_type": "code",
   "execution_count": 12,
   "id": "b2d4d2c6-78a3-41a4-924d-70c5189fcca4",
   "metadata": {},
   "outputs": [
    {
     "name": "stdin",
     "output_type": "stream",
     "text": [
      "Enter a year:  2000\n"
     ]
    },
    {
     "name": "stdout",
     "output_type": "stream",
     "text": [
      "2000 is a century year.\n"
     ]
    }
   ],
   "source": [
    "# 19. Create a Python program that checks if a given year is a century year or not using if-else.\n",
    "year = int(input(\"Enter a year: \"))\n",
    "if year % 100 == 0:\n",
    "    print(f\"{year} is a century year.\")\n",
    "else:\n",
    "    print(f\"{year} is not a century year.\")\n"
   ]
  },
  {
   "cell_type": "code",
   "execution_count": 13,
   "id": "aae379a0-635e-42ca-9541-d8fbf7e3ac96",
   "metadata": {},
   "outputs": [
    {
     "name": "stdin",
     "output_type": "stream",
     "text": [
      "Enter a number:  25\n"
     ]
    },
    {
     "name": "stdout",
     "output_type": "stream",
     "text": [
      "25 is a perfect square.\n"
     ]
    }
   ],
   "source": [
    "# 20. Write a Python program to determine if a given number is a perfect square using if-else.\n",
    "import math\n",
    "number = int(input(\"Enter a number: \"))\n",
    "sqrt = math.sqrt(number)\n",
    "if sqrt == int(sqrt):\n",
    "    print(f\"{number} is a perfect square.\")\n",
    "else:\n",
    "    print(f\"{number} is not a perfect square.\")\n"
   ]
  },
  {
   "cell_type": "code",
   "execution_count": 14,
   "id": "8cd5637a-6bd0-49cb-ad21-a189a041de23",
   "metadata": {},
   "outputs": [
    {
     "name": "stdout",
     "output_type": "stream",
     "text": [
      "1\n",
      "2\n",
      "4\n",
      "5\n",
      "End of loop\n",
      "1\n",
      "2\n",
      "End of loop\n"
     ]
    }
   ],
   "source": [
    "# 21. Explain the purpose of the \"continue\" and \"break\" statements within if-else loops.\n",
    "\"\"\"\n",
    "- `continue`: Skips the rest of the code inside the loop for the current iteration and jumps to the next iteration.\n",
    "- `break`: Exits the loop entirely, skipping any remaining iterations.\n",
    "\"\"\"\n",
    "for i in range(1, 6):\n",
    "    if i == 3:\n",
    "        continue\n",
    "    print(i)\n",
    "print(\"End of loop\")\n",
    "for i in range(1, 6):\n",
    "    if i == 3:\n",
    "        break\n",
    "    print(i)\n",
    "print(\"End of loop\")\n"
   ]
  },
  {
   "cell_type": "code",
   "execution_count": 16,
   "id": "f17a76f1-ee2a-4876-8033-ceedb3f42384",
   "metadata": {},
   "outputs": [
    {
     "name": "stdin",
     "output_type": "stream",
     "text": [
      "Enter your weight in kilograms:  23\n",
      "Enter your height in meters:  23\n"
     ]
    },
    {
     "name": "stdout",
     "output_type": "stream",
     "text": [
      "Your BMI is 0.04, which falls into the category: Underweight\n"
     ]
    }
   ],
   "source": [
    "# 22. Create a Python program that calculates the BMI (Body Mass Index) of a person based on their weight and height using if-else.\n",
    "weight = float(input(\"Enter your weight in kilograms: \"))\n",
    "height = float(input(\"Enter your height in meters: \"))\n",
    "bmi = weight / (height ** 2)\n",
    "if bmi < 18.5:\n",
    "    category = \"Underweight\"\n",
    "elif bmi < 24.9:\n",
    "    category = \"Normal weight\"\n",
    "elif bmi < 29.9:\n",
    "    category = \"Overweight\"\n",
    "else:\n",
    "    category = \"Obesity\"\n",
    "print(f\"Your BMI is {bmi:.2f}, which falls into the category: {category}\")\n"
   ]
  },
  {
   "cell_type": "code",
   "execution_count": 17,
   "id": "3f183c03-5b84-44d2-a683-427c4f731054",
   "metadata": {},
   "outputs": [
    {
     "name": "stdout",
     "output_type": "stream",
     "text": [
      "Even numbers: [2, 4, 6, 8, 10]\n"
     ]
    }
   ],
   "source": [
    "# 23. How can you use the \"filter()\" function with if-else statements to filter elements from a list?\n",
    "# Example: Filtering even numbers from a list.\n",
    "numbers = [1, 2, 3, 4, 5, 6, 7, 8, 9, 10]\n",
    "even_numbers = filter(lambda x: x % 2 == 0, numbers)\n",
    "print(\"Even numbers:\", list(even_numbers))\n"
   ]
  },
  {
   "cell_type": "code",
   "execution_count": null,
   "id": "7e50ba67-173d-4d41-bd50-363fdeb60b16",
   "metadata": {},
   "outputs": [],
   "source": [
    "# 24. Write a Python program to determine if a given number is prime or not using if-else.\n",
    "number = int(input(\"Enter a number: \"))\n",
    "if number > 1:\n",
    "    for i in range(2, int(number**0.5) + 1):\n",
    "        if number % i == 0:\n",
    "            print(f\"{number} is not a prime number.\")\n",
    "            break\n",
    "    else:\n",
    "        print(f\"{number} is a prime number.\")\n",
    "else:\n",
    "    print(f\"{number} is not a prime number.\")\n"
   ]
  },
  {
   "cell_type": "markdown",
   "id": "bcc67966-3efb-4ff5-8b23-ee11e946097e",
   "metadata": {},
   "source": [
    "'map' programs"
   ]
  },
  {
   "cell_type": "code",
   "execution_count": 18,
   "id": "b10742d4-c60d-4a5c-81a6-c7477c640dae",
   "metadata": {},
   "outputs": [
    {
     "name": "stdout",
     "output_type": "stream",
     "text": [
      "Squared numbers: [1, 4, 9, 16, 25]\n"
     ]
    }
   ],
   "source": [
    "#1.Explain the purpose of the `map()` function in Python and provide an example of how it can be used to apply a function to each element of an iterable.\n",
    "'''\n",
    "The `map()` function in Python is used to apply a given function to each item of an iterable (such as a list, tuple, or string) and returns an iterator that produces the results. This is useful for transforming data in a clean and concise way.\n",
    "\n",
    "### Purpose of `map()` Function\n",
    "\n",
    "- **Transformation**: `map()` is commonly used to apply a transformation function to all elements in an iterable.\n",
    "- **Efficiency**: It allows you to avoid explicit loops, making the code more readable and potentially more efficient.\n",
    "- **Functional Programming**: It aligns with functional programming principles by applying functions to iterables.\n",
    "\n",
    "### Syntax\n",
    "\n",
    "```python\n",
    "map(function, iterable, ...)\n",
    "```\n",
    "\n",
    "- **function**: A function that takes one or more arguments and returns a result.\n",
    "- **iterable**: An iterable whose elements are processed by the function.\n",
    "\n",
    "### Example\n",
    "\n",
    "Suppose you have a list of numbers and you want to square each number. You can use `map()` to apply the `lambda` function that squares each number.\n",
    "\n",
    "```python\n",
    "# Example of using map() to apply a function to each element of an iterable.\n",
    "numbers = [1, 2, 3, 4, 5]\n",
    "squared_numbers = map(lambda x: x ** 2, numbers)\n",
    "print(\"Squared numbers:\", list(squared_numbers))\n",
    "```\n",
    "\n",
    "### Explanation\n",
    "\n",
    "1. **`lambda x: x ** 2`**: This is a lambda function that takes an argument `x` and returns `x` squared.\n",
    "2. **`numbers`**: This is the iterable containing the numbers to be transformed.\n",
    "3. **`map(lambda x: x ** 2, numbers)`**: Applies the lambda function to each element of `numbers`.\n",
    "4. **`list(squared_numbers)`**: Converts the `map` object to a list to view the results.\n",
    "\n",
    "Output:\n",
    "```\n",
    "Squared numbers: [1, 4, 9, 16, 25]\n",
    "```'''"
   ]
  },
  {
   "cell_type": "code",
   "execution_count": null,
   "id": "4f4ab726-26ba-4d9e-b40a-1e15ae26a99b",
   "metadata": {},
   "outputs": [],
   "source": [
    "# 2. Write a Python program that uses the map() function to square each element of a list of numbers.\n",
    "numbers = [1, 2, 3, 4, 5]\n",
    "squared_numbers = map(lambda x: x ** 2, numbers)\n",
    "print(\"Squared numbers:\", list(squared_numbers))\n"
   ]
  },
  {
   "cell_type": "code",
   "execution_count": null,
   "id": "37fd7892-d59f-4a27-8bac-323f47c4e1df",
   "metadata": {},
   "outputs": [],
   "source": [
    "#3.How does the `map()` function differ from a list comprehension in Python, and when would you choose one over the other?\n",
    "The `map()` function and list comprehensions are both used for transforming elements of an iterable in Python, but they have some key differences in terms of syntax, readability, and use cases.\n",
    "\n",
    "'''### Differences\n",
    "\n",
    "1. **Syntax**\n",
    "\n",
    "   - **`map()` Function**: \n",
    "     ```python\n",
    "     map(function, iterable, ...)\n",
    "     ```\n",
    "     - Applies a function to each item of the iterable.\n",
    "\n",
    "   - **List Comprehension**:\n",
    "     ```python\n",
    "     [expression for item in iterable if condition]\n",
    "     ```\n",
    "     - Constructs a new list by applying an expression to each item in the iterable, with optional filtering.\n",
    "\n",
    "2. **Readability**\n",
    "\n",
    "   - **`map()` Function**: \n",
    "     - Can be less readable when the function being applied is complex or not a built-in function.\n",
    "     - Often requires using `lambda` functions for simple operations.\n",
    "\n",
    "   - **List Comprehension**: \n",
    "     - Generally more readable and Pythonic for simple transformations and when using conditional logic.\n",
    "\n",
    "3. **Flexibility**\n",
    "\n",
    "   - **`map()` Function**:\n",
    "     - Ideal when you have an existing function that you want to apply to each item.\n",
    "     - Supports multiple iterables.\n",
    "\n",
    "   - **List Comprehension**:\n",
    "     - More flexible for creating new lists with inline expressions and filtering conditions.\n",
    "     - Only works with a single iterable but allows more complex expressions and conditions.\n",
    "\n",
    "4. **Performance**\n",
    "\n",
    "   - **`map()` Function**:\n",
    "     - May be slightly faster for applying simple functions due to its implementation in C.\n",
    "\n",
    "   - **List Comprehension**:\n",
    "     - Often more Pythonic and can be just as efficient for simple operations.\n",
    "     - Can be less efficient for complex expressions with multiple conditions.\n",
    "\n",
    "5. **Use Case Examples**\n",
    "\n",
    "   - **`map()` Function**:\n",
    "     ```python\n",
    "     # Using map() to convert a list of strings to uppercase\n",
    "     names = [\"alice\", \"bob\", \"charlie\"]\n",
    "     uppercase_names = map(str.upper, names)\n",
    "     print(\"Uppercase names:\", list(uppercase_names))\n",
    "     ```\n",
    "\n",
    "   - **List Comprehension**:\n",
    "     ```python\n",
    "     # Using list comprehension to convert a list of strings to uppercase\n",
    "     names = [\"alice\", \"bob\", \"charlie\"]\n",
    "     uppercase_names = [name.upper() for name in names]\n",
    "     print(\"Uppercase names:\", uppercase_names)\n",
    "     ```\n",
    "\n",
    "### When to Choose One Over the Other\n",
    "\n",
    "- **Choose `map()` When**:\n",
    "  - You have an existing function to apply to each item.\n",
    "  - You need to process multiple iterables in parallel.\n",
    "  - You prefer functional programming style.\n",
    "\n",
    "- **Choose List Comprehension When**:\n",
    "  - You need a concise and readable way to create lists.\n",
    "  - You need to include filtering conditions or multiple expressions.\n",
    "  - You want to follow a more Pythonic and idiomatic approach.\n",
    "\n",
    "Both `map()` and list comprehensions are useful tools, and the choice between them often comes down to personal preference and the specific needs of your code.'''"
   ]
  },
  {
   "cell_type": "code",
   "execution_count": 19,
   "id": "04009ecb-0468-4fcb-98b9-8c7a4d59aad0",
   "metadata": {},
   "outputs": [
    {
     "name": "stdout",
     "output_type": "stream",
     "text": [
      "Uppercase names: ['ALICE', 'BOB', 'CHARLIE']\n"
     ]
    }
   ],
   "source": [
    "# 4. Create a Python program that uses the map() function to convert a list of names to uppercase.\n",
    "names = [\"alice\", \"bob\", \"charlie\"]\n",
    "uppercase_names = map(str.upper, names)\n",
    "print(\"Uppercase names:\", list(uppercase_names))\n"
   ]
  },
  {
   "cell_type": "code",
   "execution_count": 20,
   "id": "fe11d30e-a0a4-4c08-95f3-0d10843214b7",
   "metadata": {},
   "outputs": [
    {
     "name": "stdout",
     "output_type": "stream",
     "text": [
      "Lengths of words: [5, 6, 6]\n"
     ]
    }
   ],
   "source": [
    "# 5. Write a Python program that uses the map() function to calculate the length of each word in a list of strings.\n",
    "words = [\"apple\", \"banana\", \"cherry\"]\n",
    "lengths = map(len, words)\n",
    "print(\"Lengths of words:\", list(lengths))\n"
   ]
  },
  {
   "cell_type": "code",
   "execution_count": 21,
   "id": "6b7cff70-0d10-40a6-b4df-3b78f81b2d14",
   "metadata": {},
   "outputs": [
    {
     "name": "stdout",
     "output_type": "stream",
     "text": [
      "Sums: [5, 7, 9]\n"
     ]
    },
    {
     "data": {
      "text/plain": [
       "()"
      ]
     },
     "execution_count": 21,
     "metadata": {},
     "output_type": "execute_result"
    }
   ],
   "source": [
    "# 6. How can you use the map() function to apply a custom function to elements of multiple lists simultaneously in Python?\n",
    "def add(x, y):\n",
    "    return x + y\n",
    "\n",
    "list1 = [1, 2, 3]\n",
    "list2 = [4, 5, 6]\n",
    "sums = map(add, list1, list2)\n",
    "print(\"Sums:\", list(sums))\n",
    "/"
   ]
  },
  {
   "cell_type": "code",
   "execution_count": 22,
   "id": "ad837b48-136b-46d7-98c3-7ec0bc78fe5f",
   "metadata": {},
   "outputs": [
    {
     "name": "stdout",
     "output_type": "stream",
     "text": [
      "Fahrenheit temperatures: [32.0, 68.0, 98.6, 212.0]\n"
     ]
    }
   ],
   "source": [
    "# 7. Create a Python program that uses map() to convert a list of temperatures from Celsius to Fahrenheit.\n",
    "celsius = [0, 20, 37, 100]\n",
    "fahrenheit = map(lambda c: c * 9/5 + 32, celsius)\n",
    "print(\"Fahrenheit temperatures:\", list(fahrenheit))\n"
   ]
  },
  {
   "cell_type": "code",
   "execution_count": 23,
   "id": "144e2b26-ca6e-495b-b8c6-491abf60ba85",
   "metadata": {},
   "outputs": [
    {
     "name": "stdout",
     "output_type": "stream",
     "text": [
      "Rounded numbers: [2, 2, 4, 5]\n"
     ]
    }
   ],
   "source": [
    "# 8. Write a Python program that uses the map() function to round each element of a list of floating-point numbers to the nearest integer.\n",
    "float_numbers = [1.5, 2.3, 3.7, 4.8]\n",
    "rounded_numbers = map(round, float_numbers)\n",
    "print(\"Rounded numbers:\", list(rounded_numbers))\n"
   ]
  },
  {
   "cell_type": "markdown",
   "id": "a65b430e-da71-4013-b95b-31be73f62b78",
   "metadata": {},
   "source": [
    "'reduce' programs :"
   ]
  },
  {
   "cell_type": "code",
   "execution_count": 24,
   "id": "96abdfb3-c7af-4ee9-a217-4e20a43a2d76",
   "metadata": {},
   "outputs": [
    {
     "name": "stdout",
     "output_type": "stream",
     "text": [
      "Product of all elements: 120\n"
     ]
    }
   ],
   "source": [
    "#The reduce() function in Python is used to apply a function of two arguments cumulatively to the items of an iterable, from left to right, reducing the iterable to a single value. It is part of the functools module.\n",
    "\n",
    "'''The `reduce()` function in Python is used to apply a function of two arguments cumulatively to the items of an iterable, from left to right, reducing the iterable to a single value. It is part of the `functools` module.\n",
    "\n",
    "### Import\n",
    "\n",
    "```python\n",
    "from functools import reduce\n",
    "```\n",
    "\n",
    "### Basic Usage Example\n",
    "\n",
    "```python\n",
    "from functools import reduce\n",
    "\n",
    "# Example: Find the product of all elements in a list\n",
    "numbers = [1, 2, 3, 4, 5]\n",
    "product = reduce(lambda x, y: x * y, numbers)\n",
    "print(\"Product of all elements:\", product)\n",
    "```\n",
    "\n",
    "In this example, `reduce()` applies the lambda function `lambda x, y: x * y` cumulatively to the elements of the list `numbers`, resulting in the product of all elements.'''"
   ]
  },
  {
   "cell_type": "code",
   "execution_count": 28,
   "id": "3fbbf6ed-5389-4198-b01b-53dc11a04255",
   "metadata": {},
   "outputs": [
    {
     "name": "stdout",
     "output_type": "stream",
     "text": [
      "Product of all elements: 120\n"
     ]
    }
   ],
   "source": [
    "from functools import reduce\n",
    "\n",
    "# 2. Write a Python program that uses the reduce() function to find the product of all elements in a list.\n",
    "numbers = [1, 2, 3, 4, 5]\n",
    "product = reduce(lambda x, y: x * y, numbers)\n",
    "print(\"Product of all elements:\", product)\n"
   ]
  },
  {
   "cell_type": "code",
   "execution_count": 25,
   "id": "5bc8b9ba-dd98-4978-8e9c-8e3ec9cc9141",
   "metadata": {},
   "outputs": [
    {
     "name": "stdout",
     "output_type": "stream",
     "text": [
      "Maximum element: 8\n"
     ]
    }
   ],
   "source": [
    "# 3. Create a Python program that uses reduce() to find the maximum element in a list of numbers.\n",
    "numbers = [3, 5, 7, 2, 8, 6]\n",
    "maximum = reduce(lambda x, y: x if x > y else y, numbers)\n",
    "print(\"Maximum element:\", maximum)\n"
   ]
  },
  {
   "cell_type": "code",
   "execution_count": 26,
   "id": "4ba071d3-a642-4196-a0fc-5626da68044d",
   "metadata": {},
   "outputs": [
    {
     "name": "stdout",
     "output_type": "stream",
     "text": [
      "Concatenated string: Hello world from reduce\n"
     ]
    }
   ],
   "source": [
    "# 4. How can you use the reduce() function to concatenate a list of strings into a single string?\n",
    "strings = [\"Hello\", \"world\", \"from\", \"reduce\"]\n",
    "concatenated = reduce(lambda x, y: x + \" \" + y, strings)\n",
    "print(\"Concatenated string:\", concatenated)\n"
   ]
  },
  {
   "cell_type": "code",
   "execution_count": 27,
   "id": "b603ca84-08c6-4dfc-af77-cedd2d4b5679",
   "metadata": {},
   "outputs": [
    {
     "name": "stdout",
     "output_type": "stream",
     "text": [
      "Factorial of 5 is: 120\n"
     ]
    }
   ],
   "source": [
    "# 5. Write a Python program that calculates the factorial of a number using the reduce() function.\n",
    "number = 5\n",
    "factorial = reduce(lambda x, y: x * y, range(1, number + 1))\n",
    "print(\"Factorial of\", number, \"is:\", factorial)\n"
   ]
  },
  {
   "cell_type": "code",
   "execution_count": null,
   "id": "c02c798d-a7c0-4466-a225-9c9bbf71df40",
   "metadata": {},
   "outputs": [],
   "source": [
    "# 6. Create a Python program that uses reduce() to find the GCD (Greatest Common Divisor) of a list of numbers.\n",
    "import math\n",
    "numbers = [24, 36, 60]\n",
    "gcd = reduce(math.gcd, numbers)\n",
    "print(\"GCD of the list:\", gcd)\n"
   ]
  },
  {
   "cell_type": "code",
   "execution_count": null,
   "id": "30c43022-17b5-467e-8700-0262108a19aa",
   "metadata": {},
   "outputs": [],
   "source": [
    "# 7. Write a Python program that uses the reduce() function to find the sum of the digits of a given number.\n",
    "number = 12345\n",
    "digits_sum = reduce(lambda x, y: x + y, map(int, str(number)))\n",
    "print(\"Sum of the digits:\", digits_sum)\n"
   ]
  },
  {
   "cell_type": "markdown",
   "id": "72bda07a-de4d-46a5-a403-6a325824c526",
   "metadata": {},
   "source": [
    "'filter' programs"
   ]
  },
  {
   "cell_type": "code",
   "execution_count": 54,
   "id": "3b21d423-f06f-4baa-bac7-d1a78d6b5b78",
   "metadata": {},
   "outputs": [
    {
     "name": "stdout",
     "output_type": "stream",
     "text": [
      "Even numbers: [2, 4, 6, 8]\n"
     ]
    }
   ],
   "source": [
    "#1.Explain the purpose of the `filter()` function in Python and provide an example of how it can be used to filter elements from an iterable.\n",
    "'''The `filter()` function in Python is used to create an iterator from elements of an iterable (such as a list, tuple, or string) that satisfy a given condition specified by a function. It filters out elements that do not meet the condition.\n",
    "\n",
    "### Purpose\n",
    "\n",
    "- **Filtering Elements**: `filter()` helps in selecting items from an iterable based on a specific criterion.\n",
    "- **Condition-Based**: The function provided should return `True` or `False` for each element.\n",
    "\n",
    "### Syntax\n",
    "\n",
    "```python\n",
    "filter(function, iterable)\n",
    "```\n",
    "\n",
    "- **`function`**: A function that returns `True` or `False`. If `None` is passed, it removes all elements that are false.\n",
    "- **`iterable`**: The iterable to be filtered.\n",
    "\n",
    "### Example\n",
    "\n",
    "Here's how to use `filter()` to select even numbers from a list:\n",
    "\n",
    "```python\n",
    "\n",
    "```\n",
    "\n",
    "### Explanation\n",
    "\n",
    "1. **`is_even(x)`**: A function that returns `True` if `x` is even and `False` otherwise.\n",
    "2. **`filter(is_even, numbers)`**: Applies the `is_even` function to each element in `numbers`. Only elements for which `is_even` returns `True` are included in the result.\n",
    "3. **`list(even_numbers)`**: Converts the filter object to a list to display the results.\n",
    "\n",
    "Output:\n",
    "```\n",
    "Even numbers: [2, 4, 6, 8]\n",
    "```'''\n",
    "\n",
    "\n",
    "# Define the list of numbers\n",
    "numbers = [1, 2, 3, 4, 5, 6, 7, 8, 9]\n",
    "\n",
    "# Define a function that checks if a number is even\n",
    "def is_even(x):\n",
    "    return x % 2 == 0\n",
    "\n",
    "# Use filter() to apply the function and select even numbers\n",
    "even_numbers = filter(is_even, numbers)\n",
    "\n",
    "# Convert the filter object to a list and print it\n",
    "print(\"Even numbers:\", list(even_numbers))"
   ]
  },
  {
   "cell_type": "code",
   "execution_count": 34,
   "id": "4976991c-ffb5-4897-8520-1f6d1ccb2d55",
   "metadata": {},
   "outputs": [
    {
     "name": "stdout",
     "output_type": "stream",
     "text": [
      "Even numbers: [2, 4, 6, 8]\n"
     ]
    }
   ],
   "source": [
    "# 2. Write a Python program that uses the filter() function to select even numbers from a list of integers.\n",
    "numbers = [1, 2, 3, 4, 5, 6, 7, 8, 9]\n",
    "even_numbers = filter(lambda x: x % 2 == 0, numbers)\n",
    "print(\"Even numbers:\", list(even_numbers))\n"
   ]
  },
  {
   "cell_type": "code",
   "execution_count": 30,
   "id": "c6f44fec-ebd4-44f0-8a21-82bcb58e3ea1",
   "metadata": {},
   "outputs": [
    {
     "name": "stdout",
     "output_type": "stream",
     "text": [
      "Names starting with A: ['Alice']\n"
     ]
    }
   ],
   "source": [
    "# 3. Create a Python program that uses the filter() function to select names that start with a specific letter from a list of strings.\n",
    "names = [\"Alice\", \"Bob\", \"Charlie\", \"David\", \"Eve\"]\n",
    "letter = 'A'\n",
    "names_starting_with_letter = filter(lambda name: name.startswith(letter), names)\n",
    "print(\"Names starting with\", letter + \":\", list(names_starting_with_letter))\n"
   ]
  },
  {
   "cell_type": "code",
   "execution_count": 31,
   "id": "e33e27e7-8305-45c1-a51c-89ce6d82e3a0",
   "metadata": {},
   "outputs": [
    {
     "name": "stdout",
     "output_type": "stream",
     "text": [
      "Prime numbers: [2, 3, 5, 7]\n"
     ]
    }
   ],
   "source": [
    "# 4. Write a Python program that uses the filter() function to select prime numbers from a list of integers.\n",
    "def is_prime(n):\n",
    "    if n <= 1:\n",
    "        return False\n",
    "    for i in range(2, int(n ** 0.5) + 1):\n",
    "        if n % i == 0:\n",
    "            return False\n",
    "    return True\n",
    "\n",
    "numbers = [2, 3, 4, 5, 6, 7, 8, 9, 10]\n",
    "prime_numbers = filter(is_prime, numbers)\n",
    "print(\"Prime numbers:\", list(prime_numbers))\n"
   ]
  },
  {
   "cell_type": "code",
   "execution_count": 32,
   "id": "bbc3d732-f44d-4a36-b7ad-26715bdfb11d",
   "metadata": {},
   "outputs": [
    {
     "name": "stdout",
     "output_type": "stream",
     "text": [
      "Filtered items (excluding None): [1, 2, 3, 4]\n"
     ]
    }
   ],
   "source": [
    "# 5. How can you use the filter() function to remove None values from a list in Python?\n",
    "items = [1, None, 2, None, 3, None, 4]\n",
    "filtered_items = filter(None, items)\n",
    "print(\"Filtered items (excluding None):\", list(filtered_items))\n"
   ]
  },
  {
   "cell_type": "code",
   "execution_count": 33,
   "id": "c35031c8-f9f3-4d7b-91d2-0d7edec4218e",
   "metadata": {},
   "outputs": [
    {
     "name": "stdout",
     "output_type": "stream",
     "text": [
      "Words longer than 5 characters: ['banana', 'cherry', 'elderberry']\n"
     ]
    }
   ],
   "source": [
    "# 6. Create a Python program that uses filter() to select words longer than a certain length from a list of strings.\n",
    "words = [\"apple\", \"banana\", \"cherry\", \"date\", \"elderberry\"]\n",
    "min_length = 5\n",
    "long_words = filter(lambda word: len(word) > min_length, words)\n",
    "print(\"Words longer than\", min_length, \"characters:\", list(long_words))\n"
   ]
  },
  {
   "cell_type": "code",
   "execution_count": 35,
   "id": "775d5d59-470c-4b0f-b617-8ce41b635f23",
   "metadata": {},
   "outputs": [
    {
     "name": "stdout",
     "output_type": "stream",
     "text": [
      "Values greater than 50 : [60, 70, 80, 90]\n"
     ]
    }
   ],
   "source": [
    "#7.Write a Python program that uses the `filter()` function to select elements greater than a specified threshold from a list of values.\n",
    "values = [10, 20, 30, 40, 50, 60, 70, 80, 90]\n",
    "threshold = 50\n",
    "\n",
    "def is_greater_than_threshold(x):\n",
    "    return x > threshold\n",
    "\n",
    "filtered_values = filter(is_greater_than_threshold, values)\n",
    "print(\"Values greater than\", threshold, \":\", list(filtered_values))\n"
   ]
  },
  {
   "cell_type": "markdown",
   "id": "de4dc8c9-927c-42c1-8ac3-3f44cb6e1b27",
   "metadata": {},
   "source": [
    "\"Recursion:-\" progrms"
   ]
  },
  {
   "cell_type": "code",
   "execution_count": null,
   "id": "a377a1e8-386a-4e53-8b8f-519629150727",
   "metadata": {},
   "outputs": [],
   "source": [
    "#Explain the concept of recursion in Python. How does it differ from iteration?\n",
    "'''Concept of Recursion in Python\n",
    "Recursion is a programming technique where a function calls itself in order to solve a problem. Each recursive call aims to simplify the problem, eventually reaching a base case that terminates the recursion.\n",
    "\n",
    "Difference Between Recursion and Iteration\n",
    "Recursion: Solves problems by calling itself with simpler inputs. It requires a base case to stop the recursive calls and can lead to stack overflow if not handled properly.\n",
    "Iteration: Uses loops (e.g., for or while) to repeatedly execute a block of code until a condition is met. It does not involve function calls and generally uses less memory compared to recursion.'''\n"
   ]
  },
  {
   "cell_type": "code",
   "execution_count": 37,
   "id": "723c51cc-9186-4226-ac52-fc8f2b5d81e7",
   "metadata": {},
   "outputs": [
    {
     "name": "stdout",
     "output_type": "stream",
     "text": [
      "120\n"
     ]
    }
   ],
   "source": [
    "# 2. Calculate the factorial of a number using recursion.\n",
    "def factorial(n):\n",
    "    if n == 0:\n",
    "        return 1\n",
    "    else:\n",
    "        return n * factorial(n - 1)\n",
    "\n",
    "print(factorial(5))  \n"
   ]
  },
  {
   "cell_type": "code",
   "execution_count": 36,
   "id": "65f6bde5-15e4-43eb-aa5e-e84fcc584b3f",
   "metadata": {},
   "outputs": [
    {
     "name": "stdout",
     "output_type": "stream",
     "text": [
      "8\n"
     ]
    }
   ],
   "source": [
    "# 3. Find the nth Fibonacci number using recursion.\n",
    "def fibonacci(n):\n",
    "    if n <= 1:\n",
    "        return n\n",
    "    else:\n",
    "        return fibonacci(n - 1) + fibonacci(n - 2)\n",
    "\n",
    "print(fibonacci(6))\n"
   ]
  },
  {
   "cell_type": "code",
   "execution_count": 38,
   "id": "94b66466-991f-4131-a54a-1a64b193327b",
   "metadata": {},
   "outputs": [
    {
     "name": "stdout",
     "output_type": "stream",
     "text": [
      "15\n"
     ]
    }
   ],
   "source": [
    "# 4. Calculate the sum of all elements in a list using recursion.\n",
    "def sum_list(lst):\n",
    "    if not lst:\n",
    "        return 0\n",
    "    else:\n",
    "        return lst[0] + sum_list(lst[1:])\n",
    "\n",
    "print(sum_list([1, 2, 3, 4, 5]))\n"
   ]
  },
  {
   "cell_type": "code",
   "execution_count": 53,
   "id": "e27523eb-8dad-42b2-87eb-61572d51735c",
   "metadata": {},
   "outputs": [
    {
     "name": "stdout",
     "output_type": "stream",
     "text": [
      "120\n"
     ]
    }
   ],
   "source": [
    "#How can you prevent a recursive function from running indefinitely, causing a stack overflow error?\n",
    "'''To prevent a recursive function from running indefinitely and causing a stack overflow error, you need to ensure that:\n",
    "\n",
    "1. **Base Case**: Every recursive function must have a base case that terminates the recursion. The base case is a condition under which the function returns a value without making a further recursive call. Without a base case, the function would keep calling itself indefinitely.\n",
    "\n",
    "2. **Proper Progression Toward Base Case**: Each recursive call should bring the function closer to the base case. This means that the parameters passed to the recursive call should be modified in such a way that they eventually satisfy the base case condition.\n",
    "\n",
    "3. **Check Inputs (Optional)**: If the input to the function can be validated, ensure that it is within a range where the base case will be reached.\n",
    "\n",
    "Here's an example of a recursive function with a base case:\n",
    "\n",
    "```python\n",
    "\n",
    "```\n",
    "\n",
    "In this example, the base case is when `n == 0`, which stops the recursion and prevents an infinite loop.'''\n",
    "def factorial(n):\n",
    "    if n == 0:  # Base case\n",
    "        return 1\n",
    "    else:\n",
    "        return n * factorial(n - 1)  # Recursive call moving towards base case\n",
    "\n",
    "print(factorial(5))"
   ]
  },
  {
   "cell_type": "code",
   "execution_count": 39,
   "id": "d1c16fb7-7b7e-4764-a6b1-7a2f2bfe91c4",
   "metadata": {},
   "outputs": [
    {
     "name": "stdout",
     "output_type": "stream",
     "text": [
      "6\n"
     ]
    }
   ],
   "source": [
    "# 6. Find the greatest common divisor (GCD) of two numbers using recursion.\n",
    "def gcd(a, b):\n",
    "    if b == 0:\n",
    "        return a\n",
    "    else:\n",
    "        return gcd(b, a % b)\n",
    "\n",
    "print(gcd(48, 18))\n"
   ]
  },
  {
   "cell_type": "code",
   "execution_count": 40,
   "id": "1cfac7d8-0780-4774-807f-026f9b303843",
   "metadata": {},
   "outputs": [
    {
     "name": "stdout",
     "output_type": "stream",
     "text": [
      "olleh\n"
     ]
    }
   ],
   "source": [
    "# 7. Reverse a string using recursion.\n",
    "def reverse_string(s):\n",
    "    if len(s) == 0:\n",
    "        return s\n",
    "    else:\n",
    "        return reverse_string(s[1:]) + s[0]\n",
    "\n",
    "print(reverse_string(\"hello\"))\n"
   ]
  },
  {
   "cell_type": "code",
   "execution_count": 41,
   "id": "9250d26e-0d06-4388-bf82-f25dfb932a56",
   "metadata": {},
   "outputs": [
    {
     "name": "stdout",
     "output_type": "stream",
     "text": [
      "8\n"
     ]
    }
   ],
   "source": [
    "# 8. Calculate the power of a number (x^n) using recursion.\n",
    "def power(x, n):\n",
    "    if n == 0:\n",
    "        return 1\n",
    "    else:\n",
    "        return x * power(x, n - 1)\n",
    "\n",
    "print(power(2, 3))\n"
   ]
  },
  {
   "cell_type": "code",
   "execution_count": 42,
   "id": "6be68ddf-119e-4a2d-a1d0-91469d5141f6",
   "metadata": {},
   "outputs": [
    {
     "name": "stdout",
     "output_type": "stream",
     "text": [
      "['abc', 'acb', 'bac', 'bca', 'cab', 'cba']\n"
     ]
    }
   ],
   "source": [
    "# 9. Find all permutations of a given string.\n",
    "from itertools import permutations\n",
    "\n",
    "def permute(s):\n",
    "    return [''.join(p) for p in permutations(s)]\n",
    "\n",
    "print(permute(\"abc\"))\n"
   ]
  },
  {
   "cell_type": "code",
   "execution_count": 43,
   "id": "6ed00b46-404d-4e6f-a9ef-a9fd9e01f066",
   "metadata": {},
   "outputs": [
    {
     "name": "stdout",
     "output_type": "stream",
     "text": [
      "True\n"
     ]
    }
   ],
   "source": [
    "# 10. Check if a string is a palindrome using recursion.\n",
    "def is_palindrome(s):\n",
    "    if len(s) <= 1:\n",
    "        return True\n",
    "    if s[0] != s[-1]:\n",
    "        return False\n",
    "    return is_palindrome(s[1:-1])\n",
    "\n",
    "print(is_palindrome(\"radar\"))\n"
   ]
  },
  {
   "cell_type": "code",
   "execution_count": 44,
   "id": "f5d4fd6d-0af9-4c5e-a2f5-f867d63c4d20",
   "metadata": {},
   "outputs": [
    {
     "name": "stdout",
     "output_type": "stream",
     "text": [
      "[(), (1,), (2,), (3,), (1, 2), (1, 3), (2, 3), (1, 2, 3)]\n"
     ]
    }
   ],
   "source": [
    "# 11. Generate all possible combinations of a list of elements.\n",
    "from itertools import combinations\n",
    "\n",
    "def generate_combinations(lst):\n",
    "    combs = []\n",
    "    for r in range(len(lst) + 1):\n",
    "        combs.extend(combinations(lst, r))\n",
    "    return combs\n",
    "\n",
    "print(generate_combinations([1, 2, 3]))\n"
   ]
  },
  {
   "cell_type": "markdown",
   "id": "914d9396-4b6a-43e7-a40a-baed747af3c8",
   "metadata": {},
   "source": [
    "Basics of Functions:"
   ]
  },
  {
   "cell_type": "code",
   "execution_count": 52,
   "id": "a75211aa-60fb-4983-97e0-de1622b51879",
   "metadata": {},
   "outputs": [
    {
     "name": "stdout",
     "output_type": "stream",
     "text": [
      "Hello, Alice!\n"
     ]
    }
   ],
   "source": [
    "#1.What is a function in Python, and why is it used?\n",
    "'''A function in Python is a reusable block of code that performs a specific task. Functions allow you to encapsulate logic, making your code more modular, organized, and easier to manage. Functions are defined using the `def` keyword, followed by the function name, parentheses, and a colon. You can pass data to a function using parameters, and it can return a result using the `return` statement.\n",
    "\n",
    "Functions are used in Python for several reasons:\n",
    "\n",
    "1. **Code Reusability**: Functions allow you to write code once and reuse it multiple times, reducing redundancy.\n",
    "  \n",
    "2. **Modularity**: Breaking down a complex problem into smaller, manageable functions makes the code easier to understand and maintain.\n",
    "  \n",
    "3. **Abstraction**: Functions can hide the implementation details, allowing users to focus on the functionality rather than the underlying code.\n",
    "  \n",
    "4. **Improved Testing and Debugging**: Isolating functionality into functions makes it easier to test and debug specific parts of the code.\n",
    "  \n",
    "5. **Better Organization**: Functions help in organizing code logically, making it cleaner and more readable.\n",
    "\n",
    "Here’s a simple example of a function in Python:\n",
    "\n",
    "```python\n",
    "\n",
    "```\n",
    "\n",
    "In this example, the `greet` function takes a `name` as a parameter and returns a greeting message.'''\n",
    "\n",
    "def greet(name):\n",
    "    return f\"Hello, {name}!\"\n",
    "\n",
    "print(greet(\"Alice\"))"
   ]
  },
  {
   "cell_type": "code",
   "execution_count": 51,
   "id": "b9e24492-0487-4bb7-8f5c-3472c0a2b104",
   "metadata": {},
   "outputs": [
    {
     "name": "stdout",
     "output_type": "stream",
     "text": [
      "8\n"
     ]
    }
   ],
   "source": [
    "#2.How do you define a function in Python? Provide an example.\n",
    "\"\"\"In Python, a function is defined using the `def` keyword, followed by the function name, parentheses `()`, and a colon `:`. Inside the parentheses, you can define parameters that the function will take as input. The code block within the function is indented, and it contains the logic that will be executed when the function is called. Optionally, a function can return a value using the `return` statement.\n",
    "\n",
    "Here's the syntax:\n",
    "\n",
    "python\n",
    "def function_name(parameters):\n",
    "    # Function logic goes here\n",
    "    return result  # Optional\n",
    "\n",
    "\n",
    "### Example:\n",
    "\n",
    "python\"\"\"\n",
    "\n",
    "\n",
    "\"\"\"In this example:\n",
    "\n",
    "- `add_numbers` is the function name.\n",
    "- `a` and `b` are parameters.\n",
    "- The function adds `a` and `b` and returns the result.\n",
    "- `result = add_numbers(3, 5)` calls the function with arguments `3` and `5`, and the result `8` is stored in `result`.\n",
    "- `print(result)` outputs `8`.\"\"\"\n",
    "\n",
    "\n",
    "\n",
    "\n",
    "def add_numbers(a, b):\n",
    "    return a + b\n",
    "\n",
    "result = add_numbers(3, 5)\n",
    "print(result)  "
   ]
  },
  {
   "cell_type": "code",
   "execution_count": 59,
   "id": "9f071f22-e0ed-4e48-b5e8-88e12198c562",
   "metadata": {},
   "outputs": [
    {
     "data": {
      "text/plain": [
       "'The difference between a function definition and a function call in Python lies in their roles within a program:\\n\\n### Function Definition\\n- **What It Is**: A function definition is the process of creating a function, specifying its name, parameters, and the code that it will execute when called.\\n- **Purpose**: It defines what the function does, but does not execute the function. It simply tells Python that such a function exists and what it should do when invoked.\\n- **Syntax**:\\n  ```python\\n  def function_name(parameters):\\n      # Code block (function logic)\\n      return result  # Optional\\n  ```\\n\\n**Example**:\\n```python\\ndef greet(name):  # Function definition\\n    return f\"Hello, {name}!\"\\n```\\n\\n### Function Call\\n- **What It Is**: A function call is the process of executing a function that has been defined earlier. It involves specifying the function name and passing the appropriate arguments.\\n- **Purpose**: It triggers the execution of the function’s code block with the provided arguments, and it may return a value.\\n- **Syntax**:\\n  ```python\\n  function_name(arguments)\\n  ```\\n\\n**Example**:\\n```python\\nprint(greet(\"Alice\"))  # Function call\\n```\\n\\n### Summary\\n\\n- **Function Definition**: Describes the function’s behavior. Example: `def greet(name): ...`.\\n- **Function Call**: Executes the function’s behavior. Example: `greet(\"Alice\")`.'"
      ]
     },
     "execution_count": 59,
     "metadata": {},
     "output_type": "execute_result"
    }
   ],
   "source": [
    "#3Explain the difference between a function definition and a function call.\n",
    "'''The difference between a function definition and a function call in Python lies in their roles within a program:\n",
    "\n",
    "### Function Definition\n",
    "- **What It Is**: A function definition is the process of creating a function, specifying its name, parameters, and the code that it will execute when called.\n",
    "- **Purpose**: It defines what the function does, but does not execute the function. It simply tells Python that such a function exists and what it should do when invoked.\n",
    "- **Syntax**:\n",
    "  ```python\n",
    "  def function_name(parameters):\n",
    "      # Code block (function logic)\n",
    "      return result  # Optional\n",
    "  ```\n",
    "\n",
    "**Example**:\n",
    "```python\n",
    "def greet(name):  # Function definition\n",
    "    return f\"Hello, {name}!\"\n",
    "```\n",
    "\n",
    "### Function Call\n",
    "- **What It Is**: A function call is the process of executing a function that has been defined earlier. It involves specifying the function name and passing the appropriate arguments.\n",
    "- **Purpose**: It triggers the execution of the function’s code block with the provided arguments, and it may return a value.\n",
    "- **Syntax**:\n",
    "  ```python\n",
    "  function_name(arguments)\n",
    "  ```\n",
    "\n",
    "**Example**:\n",
    "```python\n",
    "print(greet(\"Alice\"))  # Function call\n",
    "```\n",
    "\n",
    "### Summary\n",
    "\n",
    "- **Function Definition**: Describes the function’s behavior. Example: `def greet(name): ...`.\n",
    "- **Function Call**: Executes the function’s behavior. Example: `greet(\"Alice\")`.'''"
   ]
  },
  {
   "cell_type": "code",
   "execution_count": 61,
   "id": "99dbef3e-462a-4309-8cc4-136f274b1068",
   "metadata": {},
   "outputs": [
    {
     "name": "stdout",
     "output_type": "stream",
     "text": [
      "8\n"
     ]
    }
   ],
   "source": [
    "#4Write a Python program that defines a function to calculate the sum of two numbers and then calls the function.\n",
    "def sum_two_numbers(a, b):\n",
    "    return a + b\n",
    "\n",
    "result = sum_two_numbers(5, 3)\n",
    "print(result) \n"
   ]
  },
  {
   "cell_type": "code",
   "execution_count": null,
   "id": "c104b7ef-d482-46c9-962a-6b1d9b71a719",
   "metadata": {},
   "outputs": [],
   "source": [
    "#5.What is a function signature, and what information does it typically include?\n",
    "'''A function signature in Python refers to the part of a function definition that includes the function's name, the number and types of its parameters, and optionally, the return type. The function signature provides a summary of how the function should be called and what inputs it expects.\n",
    "\n",
    "### A function signature typically includes:\n",
    "1. **Function Name**: The name of the function, which is used to call it.\n",
    "2. **Parameters (Arguments)**: A list of variables in parentheses that the function takes as input. These parameters may have default values, and they can be positional, keyword, or variadic (e.g., `*args`, `**kwargs`).\n",
    "3. **Return Type (Optional)**: Although not enforced in Python, a function signature may include a return type hint indicating what type of value the function will return.\n",
    "\n",
    "### Example of a Function Signature:\n",
    "\n",
    "```python\n",
    "def add(a: int, b: int) -> int:\n",
    "    return a + b\n",
    "```\n",
    "\n",
    "- **Function Name**: `add`\n",
    "- **Parameters**: `a` and `b`, both expected to be integers (`int`)\n",
    "- **Return Type**: `int` (indicated by `-> int`)\n",
    "\n",
    "### Information Provided by a Function Signature:\n",
    "- **Name**: How to refer to the function in code (`add` in this case).\n",
    "- **Inputs**: What kind of arguments are expected (two integers in this case).\n",
    "- **Output**: What the function will return (an integer in this case).\n",
    "\n",
    "Function signatures are crucial in understanding how to interact with a function, what arguments it requires, and what kind of result it will produce. They help in writing code that correctly interfaces with existing functions.'''\n"
   ]
  },
  {
   "cell_type": "code",
   "execution_count": 62,
   "id": "b14ea92c-420b-4cb6-9bfc-aac5ed69ab4c",
   "metadata": {},
   "outputs": [
    {
     "name": "stdout",
     "output_type": "stream",
     "text": [
      "20\n"
     ]
    }
   ],
   "source": [
    "#6Create a Python function that takes two arguments and returns their product\n",
    "def multiply(a, b):\n",
    "    return a * b\n",
    "\n",
    "result = multiply(4, 5)\n",
    "print(result)  # Output: 20\n"
   ]
  },
  {
   "cell_type": "markdown",
   "id": "7f8652b6-2844-484f-926f-6288d19ec3f7",
   "metadata": {},
   "source": [
    "Function Parameters and Arguments:"
   ]
  },
  {
   "cell_type": "code",
   "execution_count": 63,
   "id": "fffc5158-c35a-43df-a237-640bb62399fa",
   "metadata": {},
   "outputs": [
    {
     "name": "stdout",
     "output_type": "stream",
     "text": [
      "Hello, Alice!\n"
     ]
    }
   ],
   "source": [
    "# 1. Explain the concepts of formal parameters and actual arguments in Python functions\n",
    "# Formal parameters are the variables listed in the function definition that receive values when the function is called.\n",
    "# Actual arguments are the values passed to the function when it is called.\n",
    "\n",
    "# Example:\n",
    "def greet(name):  # `name` is a formal parameter\n",
    "    print(f\"Hello, {name}!\")\n",
    "\n",
    "greet(\"Alice\")  # \"Alice\" is an actual argument\n"
   ]
  },
  {
   "cell_type": "code",
   "execution_count": 64,
   "id": "0a33b782-7e4b-4700-9fe0-4b63e57b2074",
   "metadata": {},
   "outputs": [
    {
     "name": "stdout",
     "output_type": "stream",
     "text": [
      "Hello, Guest!\n",
      "Hello, Alice!\n"
     ]
    }
   ],
   "source": [
    "# 2. Write a Python program that defines a function with default argument values\n",
    "def greet(name=\"Guest\"):\n",
    "    print(f\"Hello, {name}!\")\n",
    "\n",
    "greet()          # Uses default value\n",
    "greet(\"Alice\")   # Uses provided argument\n"
   ]
  },
  {
   "cell_type": "code",
   "execution_count": 65,
   "id": "f6fec216-422c-404d-ac76-78f176cdff33",
   "metadata": {},
   "outputs": [
    {
     "name": "stdout",
     "output_type": "stream",
     "text": [
      "Name: Alice, Age: 30, City: New York\n"
     ]
    }
   ],
   "source": [
    "# 3. How do you use keyword arguments in Python function calls? Provide an example\n",
    "def describe_person(name, age, city):\n",
    "    print(f\"Name: {name}, Age: {age}, City: {city}\")\n",
    "\n",
    "describe_person(name=\"Alice\", age=30, city=\"New York\")\n"
   ]
  },
  {
   "cell_type": "code",
   "execution_count": 67,
   "id": "3758da85-c458-40e8-b58d-0804edf5a15c",
   "metadata": {},
   "outputs": [
    {
     "name": "stdout",
     "output_type": "stream",
     "text": [
      "15\n"
     ]
    }
   ],
   "source": [
    "# 4. Create a Python function that accepts a variable number of arguments and calculates their sum\n",
    "def sum_all(*args):\n",
    "    return sum(args)\n",
    "\n",
    "result = sum_all(1, 2, 3, 4, 5)\n",
    "print(result)\n"
   ]
  },
  {
   "cell_type": "code",
   "execution_count": 68,
   "id": "f486d384-141e-45b3-8319-c1ce423cabc4",
   "metadata": {},
   "outputs": [
    {
     "name": "stdout",
     "output_type": "stream",
     "text": [
      "arg1: 1\n",
      "Additional args: (2, 3)\n",
      "kwarg1: specified\n",
      "Additional kwargs: {'kwarg2': 'extra'}\n"
     ]
    }
   ],
   "source": [
    "# 5. What is the purpose of the `*args` and `**kwargs` syntax in function parameter lists?\n",
    "# `*args` allows a function to accept any number of positional arguments (variable-length argument lists).\n",
    "# `**kwargs` allows a function to accept any number of keyword arguments (variable-length keyword arguments).\n",
    "\n",
    "def example_function(arg1, *args, kwarg1=\"default\", **kwargs):\n",
    "    print(f\"arg1: {arg1}\")\n",
    "    print(f\"Additional args: {args}\")\n",
    "    print(f\"kwarg1: {kwarg1}\")\n",
    "    print(f\"Additional kwargs: {kwargs}\")\n",
    "\n",
    "example_function(1, 2, 3, kwarg1=\"specified\", kwarg2=\"extra\")\n"
   ]
  },
  {
   "cell_type": "markdown",
   "id": "5b6d2697-5b59-4c91-8afb-54cd8f313f7f",
   "metadata": {},
   "source": [
    "Return Values and Scoping:\n",
    "\n",
    " \n"
   ]
  },
  {
   "cell_type": "code",
   "execution_count": 69,
   "id": "0bd3c1de-0e92-49cc-8ef2-4bf478fead38",
   "metadata": {},
   "outputs": [
    {
     "name": "stdout",
     "output_type": "stream",
     "text": [
      "8\n"
     ]
    }
   ],
   "source": [
    "# 1. Describe the role of the `return` statement in Python functions and provide examples\n",
    "# The `return` statement is used to exit a function and optionally pass back a value to the caller. It ends function execution and sends a result back.\n",
    "\n",
    "def add(a, b):\n",
    "    return a + b\n",
    "\n",
    "result = add(5, 3)\n",
    "print(result)   \n"
   ]
  },
  {
   "cell_type": "code",
   "execution_count": 70,
   "id": "f2e51e77-a274-4c6c-a8e3-a1a7a509690e",
   "metadata": {},
   "outputs": [
    {
     "name": "stdout",
     "output_type": "stream",
     "text": [
      "I'm global\n"
     ]
    }
   ],
   "source": [
    "# 2. Explain the concept of variable scope in Python, including local and global variables\n",
    "# Variable scope refers to the accessibility of variables within different parts of the code.\n",
    "# Local variables are defined inside a function and are only accessible within that function.\n",
    "# Global variables are defined outside of any function and are accessible from anywhere in the code.\n",
    "\n",
    "global_var = \"I'm global\"\n",
    "\n",
    "def print_var():\n",
    "    local_var = \"I'm local\"\n",
    "    print(global_var)\n",
    "    # print(local_var)  # Uncommenting this will work\n",
    "    return\n",
    "\n",
    "print_var()\n"
   ]
  },
  {
   "cell_type": "code",
   "execution_count": 71,
   "id": "75c575e2-50a1-4002-ad25-6f730aa6e2fd",
   "metadata": {},
   "outputs": [
    {
     "name": "stdout",
     "output_type": "stream",
     "text": [
      "15\n"
     ]
    }
   ],
   "source": [
    "# 3. Write a Python program that demonstrates the use of global variables within functions\n",
    "global_var = 10\n",
    "\n",
    "def increment_global():\n",
    "    global global_var\n",
    "    global_var += 5\n",
    "\n",
    "increment_global()\n",
    "print(global_var)  \n"
   ]
  },
  {
   "cell_type": "code",
   "execution_count": 72,
   "id": "d78860e7-0bda-4285-8bb2-fcc9cc5d95c4",
   "metadata": {},
   "outputs": [
    {
     "name": "stdout",
     "output_type": "stream",
     "text": [
      "120\n"
     ]
    }
   ],
   "source": [
    "# 4. Create a Python function that calculates the factorial of a number and returns it\n",
    "def factorial(n):\n",
    "    if n == 0:\n",
    "        return 1\n",
    "    else:\n",
    "        return n * factorial(n - 1)\n",
    "\n",
    "result = factorial(5)\n",
    "print(result)  # Output: 120\n"
   ]
  },
  {
   "cell_type": "code",
   "execution_count": 81,
   "id": "5e3a4a2d-965f-410e-9a08-85ceb52c05a8",
   "metadata": {},
   "outputs": [
    {
     "name": "stdout",
     "output_type": "stream",
     "text": [
      "Original config_value: 42\n",
      "Updated config_value: 52\n"
     ]
    }
   ],
   "source": [
    "# 5. How can you access variables defined outside a function from within the function?\n",
    "# 5. How can you access variables defined outside a function from within the function?\n",
    "\n",
    "def update_config():\n",
    "    global config_value\n",
    "    print(\"Original config_value:\", config_value)  # Accessing global variable\n",
    "    config_value += 10  # Modifying global variable\n",
    "\n",
    "config_value = 42\n",
    "update_config()\n",
    "print(\"Updated config_value:\", config_value)\n",
    "\n"
   ]
  },
  {
   "cell_type": "markdown",
   "id": "bdc95572-2d48-43c0-a93c-6978eead8f23",
   "metadata": {},
   "source": [
    "Lambda Functions and Higher-Order Functions:\n"
   ]
  },
  {
   "cell_type": "code",
   "execution_count": 82,
   "id": "db7ee5ab-57e6-48c5-b73b-7c0ea59a1fed",
   "metadata": {},
   "outputs": [
    {
     "name": "stdout",
     "output_type": "stream",
     "text": [
      "8\n",
      "[1, 4, 9, 16, 25]\n"
     ]
    }
   ],
   "source": [
    "#1.What are lambda functions in Python, and when are they typically used?\n",
    "\n",
    "'''Lambda functions in Python are anonymous functions defined using the lambda keyword. They are often used for short, throwaway functions that are not complex enough to warrant a full function definition with the def keyword.\n",
    "\n",
    "Key Characteristics:\n",
    "Anonymous: They don’t require a name.\n",
    "Single Expression: They are limited to a single expression and cannot contain statements or multiple expressions.\n",
    "Return Value: The result of the expression is automatically returned.\n",
    "Syntax:\n",
    "python\n",
    "Copy code\n",
    "lambda arguments: expression\n",
    "When to Use:\n",
    "Short-term Use: For functions that are simple and used only once or a few times.\n",
    "Higher-Order Functions: When passing a simple function as an argument to functions like map(), filter(), or sorted().\n",
    "Inline Function: When you want to define a function in a concise way.'''\n",
    "\n",
    "# Lambda function to add two numbers\n",
    "add = lambda x, y: x + y\n",
    "print(add(5, 3))  # Output: 8\n",
    "\n",
    "# Using lambda with map to square each element in a list\n",
    "numbers = [1, 2, 3, 4, 5]\n",
    "squared = map(lambda x: x ** 2, numbers)\n",
    "print(list(squared)) \n"
   ]
  },
  {
   "cell_type": "code",
   "execution_count": null,
   "id": "bc1574ca-e4c4-4a11-915e-09dd889141e6",
   "metadata": {},
   "outputs": [],
   "source": [
    "# 2.Write a Python program that uses lambda functions to sort a list of tuples based on the second element\n",
    "\n",
    "# List of tuples\n",
    "data = [(1, 3), (2, 2), (3, 1)]\n",
    "\n",
    "# Sort the list of tuples based on the second element using a lambda function\n",
    "sorted_data = sorted(data, key=lambda x: x[1])\n",
    "\n",
    "print(sorted_data)\n"
   ]
  },
  {
   "cell_type": "code",
   "execution_count": 83,
   "id": "a4346c65-3312-4cb5-b1a7-061af1a27162",
   "metadata": {},
   "outputs": [
    {
     "name": "stdout",
     "output_type": "stream",
     "text": [
      "25\n",
      "10\n"
     ]
    }
   ],
   "source": [
    "#3.Explain the concept of higher-order functions in Python, and provide an example\n",
    "'''Higher-order functions in Python are functions that can either:\n",
    "\n",
    "Accept other functions as arguments: This allows you to pass functions to other functions for customization and flexibility.\n",
    "Return functions as results: This allows you to create functions dynamically and use them as needed.\n",
    "Key Characteristics:\n",
    "Functions as Arguments: Higher-order functions can take functions as input parameters, enabling powerful functional programming techniques.\n",
    "Functions as Return Values: They can return functions, which allows for function factories and decorators.\n",
    "Example: Using Higher-Order Functions'''\n",
    "\n",
    "# Higher-order function that takes a function as an argument\n",
    "def apply_function(func, value):\n",
    "    return func(value)\n",
    "\n",
    "# Example functions to pass to the higher-order function\n",
    "def square(x):\n",
    "    return x * x\n",
    "\n",
    "def double(x):\n",
    "    return x * 2\n",
    "\n",
    "# Using the higher-order function with different functions\n",
    "print(apply_function(square, 5))   \n",
    "print(apply_function(double, 5))  \n"
   ]
  },
  {
   "cell_type": "code",
   "execution_count": 84,
   "id": "72ec6c20-da4c-44df-be22-b42acd3a99eb",
   "metadata": {},
   "outputs": [
    {
     "name": "stdout",
     "output_type": "stream",
     "text": [
      "[2, 3, 4, 5, 6]\n",
      "[1, 4, 9, 16, 25]\n"
     ]
    }
   ],
   "source": [
    "#4.Create a Python function that takes a list of numbers and a function as arguments, applying the function to each element in the list\n",
    "def apply_to_each(numbers, func):\n",
    "    \n",
    "    return [func(number) for number in numbers]\n",
    "\n",
    "\n",
    "def increment(x):\n",
    "    return x + 1\n",
    "\n",
    "def square(x):\n",
    "    return x * x\n",
    "\n",
    "# Example usage\n",
    "numbers = [1, 2, 3, 4, 5]\n",
    "print(apply_to_each(numbers, increment))\n",
    "print(apply_to_each(numbers, square))    \n"
   ]
  },
  {
   "cell_type": "markdown",
   "id": "ef9bc6a3-d580-4ff4-9dad-e10ebe385e27",
   "metadata": {},
   "source": [
    "Built-in Functions:"
   ]
  },
  {
   "cell_type": "code",
   "execution_count": 86,
   "id": "9fbf26ed-22a9-486d-a53d-156399e68815",
   "metadata": {},
   "outputs": [
    {
     "data": {
      "text/plain": [
       "'Built-in functions in Python like `len()`, `max()`, and `min()` are essential for performing common operations on various data structures:\\n\\n- **`len()`**: Returns the number of items in an object. It provides a quick way to determine the size of collections such as lists, strings, tuples, and dictionaries.\\n\\n- **`max()`**: Finds and returns the largest item in an iterable or among multiple arguments. It helps in identifying the maximum value in data collections and can also use a custom key function for comparisons.\\n\\n- **`min()`**: Finds and returns the smallest item in an iterable or among multiple arguments. It is used to identify the minimum value in data collections and can similarly use a custom key function for comparisons.\\n\\nThese functions streamline data manipulation and analysis by providing simple and efficient methods to extract key information from various data types.'"
      ]
     },
     "execution_count": 86,
     "metadata": {},
     "output_type": "execute_result"
    }
   ],
   "source": [
    "#1.Describe the role of built-in functions like `len()`, `max()`, and `min()` in Python.\n",
    "'''Built-in functions in Python like `len()`, `max()`, and `min()` are essential for performing common operations on various data structures:\n",
    "\n",
    "- **`len()`**: Returns the number of items in an object. It provides a quick way to determine the size of collections such as lists, strings, tuples, and dictionaries.\n",
    "\n",
    "- **`max()`**: Finds and returns the largest item in an iterable or among multiple arguments. It helps in identifying the maximum value in data collections and can also use a custom key function for comparisons.\n",
    "\n",
    "- **`min()`**: Finds and returns the smallest item in an iterable or among multiple arguments. It is used to identify the minimum value in data collections and can similarly use a custom key function for comparisons.\n",
    "\n",
    "These functions streamline data manipulation and analysis by providing simple and efficient methods to extract key information from various data types.'''"
   ]
  },
  {
   "cell_type": "code",
   "execution_count": 87,
   "id": "0d30f671-a2af-4af2-bb0d-7f918f1b0a20",
   "metadata": {},
   "outputs": [
    {
     "name": "stdout",
     "output_type": "stream",
     "text": [
      "[1, 4, 9, 16, 25]\n"
     ]
    }
   ],
   "source": [
    "#2.Write a Python program that uses the `map()` function to apply a function to each element of a list.\n",
    "# Write a Python program that uses the `map()` function to apply a function to each element of a list\n",
    "\n",
    "# Define a function to apply\n",
    "def square(x):\n",
    "    return x ** 2\n",
    "\n",
    "# List of numbers\n",
    "numbers = [1, 2, 3, 4, 5]\n",
    "\n",
    "# Use `map()` to apply the `square` function to each element of the list\n",
    "squared_numbers = map(square, numbers)\n",
    "\n",
    "# Convert the map object to a list and print the result\n",
    "print(list(squared_numbers))\n"
   ]
  },
  {
   "cell_type": "code",
   "execution_count": null,
   "id": "eb103b57-7a12-4855-afaf-da1a5f9135af",
   "metadata": {},
   "outputs": [],
   "source": [
    "#3.How does the `filter()` function work in Python, and when would you use it?\n",
    "\n",
    "'''The filter() function in Python is used to construct an iterator from elements of an iterable for which a function returns True. It allows you to filter out elements based on a condition defined by a function.\n",
    "\n",
    "How It Works:\n",
    "Syntax: filter(function, iterable)\n",
    "\n",
    "function: A function that takes a single argument and returns True or False. This function determines whether an element should be included in the result.\n",
    "iterable: An iterable (like a list, tuple, or string) that is filtered based on the function.\n",
    "Returns: An iterator that includes only the elements of the iterable for which the function returns True.\n",
    "\n",
    "When to Use:\n",
    "Filtering Data: When you need to select elements from a collection based on a specific condition.\n",
    "Streamlining Data Processing: Useful in data processing pipelines to eliminate unwanted data.'''"
   ]
  },
  {
   "cell_type": "code",
   "execution_count": 88,
   "id": "e0c3563a-bb59-4266-b7bf-2f6b7877599e",
   "metadata": {},
   "outputs": [
    {
     "name": "stdout",
     "output_type": "stream",
     "text": [
      "The product of all elements is: 120\n"
     ]
    }
   ],
   "source": [
    "#4.Create a Python program that uses the `reduce()` function to find the product of all elements in a list.\n",
    "from functools import reduce\n",
    "\n",
    "# Function to multiply two numbers\n",
    "def multiply(x, y):\n",
    "    return x * y\n",
    "\n",
    "# List of numbers\n",
    "numbers = [1, 2, 3, 4, 5]\n",
    "\n",
    "# Use reduce to find the product of all elements in the list\n",
    "product = reduce(multiply, numbers)\n",
    "\n",
    "print(\"The product of all elements is:\", product)\n"
   ]
  },
  {
   "cell_type": "markdown",
   "id": "bed2b105-5116-405f-815f-5c8b60f68e2b",
   "metadata": {},
   "source": [
    "Function Documentation and Best Practices:\n"
   ]
  },
  {
   "cell_type": "code",
   "execution_count": 93,
   "id": "0b779b10-b036-4977-aafd-592bb73c4cf7",
   "metadata": {},
   "outputs": [],
   "source": [
    "#1.Explain the purpose of docstrings in Python functions and how to write them.\n",
    "'''Docstrings in Python are special strings used to document the purpose, behavior, and usage of functions, classes, and modules. They provide a convenient way to include descriptive comments within your code, which can be accessed programmatically.\n",
    "\n",
    "Purpose of Docstrings:\n",
    "Documentation: Docstrings help in understanding what a function, class, or module does without reading through the entire code.\n",
    "Code Readability: They improve code readability by providing clear and concise explanations of functionality.\n",
    "Automatic Help Generation: They can be used by documentation tools (like Sphinx) and interactive help systems to generate documentation automatically.\n",
    "IDE Support: Integrated Development Environments (IDEs) and code editors often use docstrings to provide context-sensitive help.\n",
    "Writing Docstrings:\n",
    "Placement: Docstrings are placed immediately after the function, class, or module definition.\n",
    "Format: Typically enclosed in triple quotes (\"\"\" or )'''\n",
    "#, they can be single-line or multi-line.\n",
    "#Content: A docstring should include a brief description of what the function or class does, its parameters, and its return values.'''\n",
    "\n",
    "def add_numbers(a, b):\n",
    "    \"\"\"\n",
    "    Add two numbers and return the result.\n",
    "\n",
    "    Parameters:\n",
    "    a (int or float): The first number to be added.\n",
    "    b (int or float): The second number to be added.\n",
    "\n",
    "    Returns:\n",
    "    int or float: The sum of the two input numbers.\n",
    "\n",
    "    Example:\n",
    "    >>> add_numbers(2, 3)\n",
    "    5\n",
    "    \"\"\"\n",
    "    return a + b\n",
    "\n"
   ]
  },
  {
   "cell_type": "code",
   "execution_count": null,
   "id": "f092f60d-c34b-45d3-9bd8-8099a655675b",
   "metadata": {},
   "outputs": [],
   "source": [
    "#2.Describe some best practices for naming functions and variables in Python, including naming conventions and guidelines.\n",
    "'''Naming functions and variables in Python is crucial for code readability, maintainability, and clarity. Here are some best practices and guidelines for naming functions and variables:\n",
    "\n",
    "1. Use Descriptive Names\n",
    "Functions: Names should clearly describe what the function does. For example, use calculate_total_price instead of calc or do_task.\n",
    "Variables: Names should indicate the purpose or the type of data they hold. For example, use user_age instead of ua.\n",
    "2. Follow Naming Conventions\n",
    "Function Names: Use lowercase words separated by underscores (snake_case). For example, process_data(), get_user_info().\n",
    "Variable Names: Use lowercase words separated by underscores (snake_case). For example, total_count, max_value.\n",
    "Constants: Use all uppercase letters with underscores separating words (UPPER_SNAKE_CASE). For example, PI, MAX_RETRIES.\n",
    "3. Be Consistent\n",
    "Maintain consistency in naming conventions throughout your codebase. If you start with snake_case, stick to it for all functions and variables.\n",
    "4. Avoid Single-Character Names\n",
    "Except for loop counters or simple temporary variables, avoid single-character names like x or y. Use meaningful names like index or counter.\n",
    "5. Use Verb-Noun Phrases for Functions\n",
    "Functions should usually be named with verbs followed by nouns to indicate actions. For example, send_email, parse_config.\n",
    "6. Use Nouns for Variables\n",
    "Variables typically represent data, so they should be named with nouns. For example, user_name, file_path.\n",
    "7. Avoid Abbreviations\n",
    "Avoid abbreviations that are not commonly understood. Use full words for clarity, unless the abbreviation is widely recognized.\n",
    "8. Use Meaningful Context\n",
    "Provide context in names where necessary. For example, order_total_amount is clearer than just total.\n",
    "9. Avoid Prefixes and Suffixes\n",
    "Avoid using prefixes like get_, set_, or suffixes like _list unless they add clarity. For instance, calculate_sum is often preferable to get_sum_list.\n",
    "10. Consider Scope and Context\n",
    "For variables used within a limited scope, like in loops or functions, shorter names may be acceptable. However, for global variables and function parameters, more descriptive names are better.'''"
   ]
  },
  {
   "cell_type": "code",
   "execution_count": null,
   "id": "9325d119-2c48-4446-9cf8-fda28042af9e",
   "metadata": {},
   "outputs": [],
   "source": []
  }
 ],
 "metadata": {
  "kernelspec": {
   "display_name": "Python 3 (ipykernel)",
   "language": "python",
   "name": "python3"
  },
  "language_info": {
   "codemirror_mode": {
    "name": "ipython",
    "version": 3
   },
   "file_extension": ".py",
   "mimetype": "text/x-python",
   "name": "python",
   "nbconvert_exporter": "python",
   "pygments_lexer": "ipython3",
   "version": "3.10.8"
  }
 },
 "nbformat": 4,
 "nbformat_minor": 5
}
