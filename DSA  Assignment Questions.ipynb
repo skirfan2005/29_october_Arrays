{
 "cells": [
  {
   "cell_type": "code",
   "execution_count": 5,
   "id": "0452f314-9bd7-44cd-bc8b-4ecfe1d759c9",
   "metadata": {},
   "outputs": [
    {
     "name": "stdout",
     "output_type": "stream",
     "text": [
      "5 -> 4 -> 3 -> 2 -> 1\n"
     ]
    }
   ],
   "source": [
    "# Problem 1: Reverse a singly linked list.\n",
    "class ListNode:\n",
    "    def __init__(self, val=0, next=None):\n",
    "        self.val = val\n",
    "        self.next = next\n",
    "\n",
    "def reverse_linked_list(head):\n",
    "    prev = None\n",
    "    current = head\n",
    "    while current:\n",
    "        next_node = current.next\n",
    "        current.next = prev\n",
    "        prev = current\n",
    "        current = next_node\n",
    "    return prev\n",
    "\n",
    "# Input: 1 -> 2 -> 3 -> 4 -> 5\n",
    "head = ListNode(1, ListNode(2, ListNode(3, ListNode(4, ListNode(5)))))\n",
    "# Output: 5 -> 4 -> 3 -> 2 -> 1\n",
    "reversed_head = reverse_linked_list(head)\n",
    "\n",
    "# Formatting output\n",
    "output = []\n",
    "while reversed_head:\n",
    "    output.append(str(reversed_head.val))\n",
    "    reversed_head = reversed_head.next\n",
    "print(\" -> \".join(output))  # Output: 5 -> 4 -> 3 -> 2 -> 1\n"
   ]
  },
  {
   "cell_type": "code",
   "execution_count": 6,
   "id": "fc510b33-ce39-4794-bcc9-2048f3ee8118",
   "metadata": {},
   "outputs": [
    {
     "name": "stdout",
     "output_type": "stream",
     "text": [
      "1 -> 2 -> 3 -> 4 -> 5 -> 6\n"
     ]
    }
   ],
   "source": [
    "# Problem 2: Merge two sorted linked lists into one sorted linked list.\n",
    "def merge_two_sorted_lists(l1, l2):\n",
    "    dummy = ListNode()\n",
    "    tail = dummy\n",
    "    while l1 and l2:\n",
    "        if l1.val < l2.val:\n",
    "            tail.next = l1\n",
    "            l1 = l1.next\n",
    "        else:\n",
    "            tail.next = l2\n",
    "            l2 = l2.next\n",
    "        tail = tail.next\n",
    "    tail.next = l1 if l1 else l2\n",
    "    return dummy.next\n",
    "\n",
    "# Input: List 1: 1 -> 3 -> 5, List 2: 2 -> 4 -> 6\n",
    "l1 = ListNode(1, ListNode(3, ListNode(5)))\n",
    "l2 = ListNode(2, ListNode(4, ListNode(6)))\n",
    "# Output: 1 -> 2 -> 3 -> 4 -> 5 -> 6\n",
    "merged_head = merge_two_sorted_lists(l1, l2)\n",
    "\n",
    "# Formatting output\n",
    "output = []\n",
    "while merged_head:\n",
    "    output.append(str(merged_head.val))\n",
    "    merged_head = merged_head.next\n",
    "print(\" -> \".join(output))  # Output: 1 -> 2 -> 3 -> 4 -> 5 -> 6\n"
   ]
  },
  {
   "cell_type": "code",
   "execution_count": 7,
   "id": "a9a3dd37-b089-4c7d-96c4-933d4d4fdd20",
   "metadata": {},
   "outputs": [
    {
     "name": "stdout",
     "output_type": "stream",
     "text": [
      "1 -> 2 -> 3 -> 5\n"
     ]
    }
   ],
   "source": [
    "# Problem 3: Remove the nth node from the end of a linked list.\n",
    "def remove_nth_from_end(head, n):\n",
    "    dummy = ListNode(0, head)\n",
    "    first = second = dummy\n",
    "    for _ in range(n + 1):\n",
    "        first = first.next\n",
    "    while first:\n",
    "        first = first.next\n",
    "        second = second.next\n",
    "    second.next = second.next.next\n",
    "    return dummy.next\n",
    "\n",
    "# Input: 1 -> 2 -> 3 -> 4 -> 5, n = 2\n",
    "head = ListNode(1, ListNode(2, ListNode(3, ListNode(4, ListNode(5)))))\n",
    "# Output: 1 -> 2 -> 3 -> 5\n",
    "updated_head = remove_nth_from_end(head, 2)\n",
    "\n",
    "# Formatting output\n",
    "output = []\n",
    "while updated_head:\n",
    "    output.append(str(updated_head.val))\n",
    "    updated_head = updated_head.next\n",
    "print(\" -> \".join(output))  # Output: 1 -> 2 -> 3 -> 5\n"
   ]
  },
  {
   "cell_type": "code",
   "execution_count": 8,
   "id": "2e47a2c7-f71a-414d-bba2-5e994220dd33",
   "metadata": {},
   "outputs": [
    {
     "name": "stdout",
     "output_type": "stream",
     "text": [
      "3\n"
     ]
    }
   ],
   "source": [
    "# Problem 4: Find the intersection point of two linked lists.\n",
    "def get_intersection_node(headA, headB):\n",
    "    if not headA or not headB:\n",
    "        return None\n",
    "    a, b = headA, headB\n",
    "    while a != b:\n",
    "        a = a.next if a else headB\n",
    "        b = b.next if b else headA\n",
    "    return a\n",
    "\n",
    "# Input: List 1: 1 -> 2 -> 3 -> 4, List 2: 9 -> 8 -> 3 -> 4\n",
    "headA = ListNode(1, ListNode(2, ListNode(3, ListNode(4))))\n",
    "headB = ListNode(9, ListNode(8, headA.next.next))  # Intersecting at node with value 3\n",
    "\n",
    "# Output: Node with value 3\n",
    "intersection_node = get_intersection_node(headA, headB)\n",
    "output = intersection_node.val if intersection_node else \"No intersection\"\n",
    "print(output)  # Output: 3\n"
   ]
  },
  {
   "cell_type": "code",
   "execution_count": 9,
   "id": "e6659bc1-6bbb-4381-ab54-e9289000828f",
   "metadata": {},
   "outputs": [
    {
     "name": "stdout",
     "output_type": "stream",
     "text": [
      "1 -> 2 -> 3\n"
     ]
    }
   ],
   "source": [
    "# Problem 5: Remove duplicates from a sorted linked list.\n",
    "def remove_duplicates(head):\n",
    "    current = head\n",
    "    while current and current.next:\n",
    "        if current.val == current.next.val:\n",
    "            current.next = current.next.next\n",
    "        else:\n",
    "            current = current.next\n",
    "    return head\n",
    "\n",
    "# Input: 1 -> 1 -> 2 -> 3 -> 3\n",
    "head = ListNode(1, ListNode(1, ListNode(2, ListNode(3, ListNode(3)))))\n",
    "# Output: 1 -> 2 -> 3\n",
    "updated_head = remove_duplicates(head)\n",
    "\n",
    "# Formatting output\n",
    "output = []\n",
    "while updated_head:\n",
    "    output.append(str(updated_head.val))\n",
    "    updated_head = updated_head.next\n",
    "print(\" -> \".join(output))  # Output: 1 -> 2 -> 3\n"
   ]
  },
  {
   "cell_type": "code",
   "execution_count": 10,
   "id": "0b45b8e5-7116-49ba-8540-793e19c300c3",
   "metadata": {},
   "outputs": [
    {
     "name": "stdout",
     "output_type": "stream",
     "text": [
      "7 -> 0 -> 8\n"
     ]
    }
   ],
   "source": [
    "# Problem 6: Add two numbers represented by linked lists.\n",
    "def add_two_numbers(l1, l2):\n",
    "    dummy = ListNode(0)\n",
    "    current = dummy\n",
    "    carry = 0\n",
    "    while l1 or l2 or carry:\n",
    "        val1 = (l1.val if l1 else 0)\n",
    "        val2 = (l2.val if l2 else 0)\n",
    "        total = val1 + val2 + carry\n",
    "        carry = total // 10\n",
    "        current.next = ListNode(total % 10)\n",
    "        current = current.next\n",
    "        l1 = (l1.next if l1 else None)\n",
    "        l2 = (l2.next if l2 else None)\n",
    "    return dummy.next\n",
    "\n",
    "# Input: List 1: 2 -> 4 -> 3, List 2: 5 -> 6 -> 4 (represents 342 + 465)\n",
    "l1 = ListNode(2, ListNode(4, ListNode(3)))\n",
    "l2 = ListNode(5, ListNode(6, ListNode(4)))\n",
    "# Output: 7 -> 0 -> 8 (represents 807)\n",
    "sum_head = add_two_numbers(l1, l2)\n",
    "\n",
    "# Formatting output\n",
    "output = []\n",
    "while sum_head:\n",
    "    output.append(str(sum_head.val))\n",
    "    sum_head = sum_head.next\n",
    "print(\" -> \".join(output))  # Output: 7 -> 0 -> 8\n"
   ]
  },
  {
   "cell_type": "code",
   "execution_count": 11,
   "id": "4cbd5eec-29b4-4cdb-b084-73ea62460d38",
   "metadata": {},
   "outputs": [
    {
     "name": "stdout",
     "output_type": "stream",
     "text": [
      "2 -> 1 -> 4 -> 3\n"
     ]
    }
   ],
   "source": [
    "# Problem 7: Swap nodes in pairs in a linked list.\n",
    "def swap_pairs(head):\n",
    "    dummy = ListNode(0)\n",
    "    dummy.next = head\n",
    "    current = dummy\n",
    "    while current.next and current.next.next:\n",
    "        first = current.next\n",
    "        second = current.next.next\n",
    "        first.next = second.next\n",
    "        current.next = second\n",
    "        current.next.next = first\n",
    "        current = first\n",
    "    return dummy.next\n",
    "\n",
    "# Input: 1 -> 2 -> 3 -> 4\n",
    "head = ListNode(1, ListNode(2, ListNode(3, ListNode(4))))\n",
    "# Output: 2 -> 1 -> 4 -> 3\n",
    "swapped_head = swap_pairs(head)\n",
    "\n",
    "# Formatting output\n",
    "output = []\n",
    "while swapped_head:\n",
    "    output.append(str(swapped_head.val))\n",
    "    swapped_head = swapped_head.next\n",
    "print(\" -> \".join(output))  # Output: 2 -> 1 -> 4 -> 3\n"
   ]
  },
  {
   "cell_type": "code",
   "execution_count": 23,
   "id": "e77cbd79-612c-48c7-9fe6-073260105c57",
   "metadata": {},
   "outputs": [
    {
     "name": "stdout",
     "output_type": "stream",
     "text": [
      "3 -> 2 -> 1 -> 4 -> 5\n"
     ]
    }
   ],
   "source": [
    "# Problem 8: Reverse nodes in a linked list in groups of k.\n",
    "class ListNode:\n",
    "    def __init__(self, val=0, next=None):\n",
    "        self.val = val\n",
    "        self.next = next\n",
    "\n",
    "def reverse_k_group(head, k):\n",
    "    count = 0\n",
    "    current = head\n",
    "    # Check if there are at least k nodes left in the list\n",
    "    while current and count < k:\n",
    "        current = current.next\n",
    "        count += 1\n",
    "    # If we have k nodes, then we reverse them\n",
    "    if count == k:\n",
    "        current = reverse_k_group(current, k)  # Reverse the next part of the list\n",
    "        # Reverse current k nodes\n",
    "        while count > 0:\n",
    "            temp = head.next\n",
    "            head.next = current\n",
    "            current = head\n",
    "            head = temp\n",
    "            count -= 1\n",
    "        head = current\n",
    "    return head\n",
    "\n",
    "# Input: 1 -> 2 -> 3 -> 4 -> 5, k = 3\n",
    "head = ListNode(1, ListNode(2, ListNode(3, ListNode(4, ListNode(5)))))\n",
    "k = 3\n",
    "# Output: 3 -> 2 -> 1 -> 4 -> 5\n",
    "reversed_head = reverse_k_group(head, k)\n",
    "\n",
    "# Formatting output\n",
    "output = []\n",
    "while reversed_head:\n",
    "    output.append(str(reversed_head.val))\n",
    "    reversed_head = reversed_head.next\n",
    "print(\" -> \".join(output))  # Output: 3 -> 2 -> 1 -> 4 -> 5\n"
   ]
  },
  {
   "cell_type": "code",
   "execution_count": 14,
   "id": "ce156721-568c-4efd-8163-a5e9d6b834d2",
   "metadata": {},
   "outputs": [
    {
     "name": "stdout",
     "output_type": "stream",
     "text": [
      "3 -> 2 -> 1 -> 4 -> 5\n"
     ]
    }
   ],
   "source": [
    "# Problem 8: Reverse nodes in a linked list in groups of k.\n",
    "class ListNode:\n",
    "    def __init__(self, val=0, next=None):\n",
    "        self.val = val\n",
    "        self.next = next\n",
    "\n",
    "def reverse_k_group(head, k):\n",
    "    count = 0\n",
    "    current = head\n",
    "    # Check if there are at least k nodes left in the list\n",
    "    while current and count < k:\n",
    "        current = current.next\n",
    "        count += 1\n",
    "    # If we have k nodes, then we reverse them\n",
    "    if count == k:\n",
    "        current = reverse_k_group(current, k)  # Reverse the next part of the list\n",
    "        # Reverse current k nodes\n",
    "        while count > 0:\n",
    "            temp = head.next\n",
    "            head.next = current\n",
    "            current = head\n",
    "            head = temp\n",
    "            count -= 1\n",
    "        head = current\n",
    "    return head\n",
    "\n",
    "# Input: 1 -> 2 -> 3 -> 4 -> 5, k = 3\n",
    "head = ListNode(1, ListNode(2, ListNode(3, ListNode(4, ListNode(5)))))\n",
    "k = 3\n",
    "# Output: 3 -> 2 -> 1 -> 4 -> 5\n",
    "reversed_head = reverse_k_group(head, k)\n",
    "\n",
    "# Formatting output\n",
    "output = []\n",
    "while reversed_head:\n",
    "    output.append(str(reversed_head.val))\n",
    "    reversed_head = reversed_head.next\n",
    "print(\" -> \".join(output))  # Output: 3 -> 2 -> 1 -> 4 -> 5\n"
   ]
  },
  {
   "cell_type": "code",
   "execution_count": 15,
   "id": "ca4e553c-4109-4ef0-8262-3151482cb6a1",
   "metadata": {},
   "outputs": [
    {
     "name": "stdout",
     "output_type": "stream",
     "text": [
      "True\n"
     ]
    }
   ],
   "source": [
    "# Problem 9: Determine if a linked list is a palindrome.\n",
    "class ListNode:\n",
    "    def __init__(self, val=0, next=None):\n",
    "        self.val = val\n",
    "        self.next = next\n",
    "\n",
    "def is_palindrome(head):\n",
    "    # Fast and slow pointer to find the middle of the linked list\n",
    "    slow = fast = head\n",
    "    prev = None\n",
    "\n",
    "    # Reverse the first half of the linked list\n",
    "    while fast and fast.next:\n",
    "        fast = fast.next.next\n",
    "        temp = slow\n",
    "        slow = slow.next\n",
    "        temp.next = prev\n",
    "        prev = temp\n",
    "\n",
    "    # If the length is odd, skip the middle element\n",
    "    if fast:\n",
    "        slow = slow.next\n",
    "\n",
    "    # Compare the reversed first half with the second half\n",
    "    while prev and slow:\n",
    "        if prev.val != slow.val:\n",
    "            return False\n",
    "        prev = prev.next\n",
    "        slow = slow.next\n",
    "\n",
    "    return True\n",
    "\n",
    "# Input: 1 -> 2 -> 2 -> 1\n",
    "head = ListNode(1, ListNode(2, ListNode(2, ListNode(1))))\n",
    "# Output: True\n",
    "result = is_palindrome(head)\n",
    "print(result)  # Output: True\n"
   ]
  },
  {
   "cell_type": "code",
   "execution_count": 16,
   "id": "3dd7b570-a28a-4969-a0ab-9e746c0a4a47",
   "metadata": {},
   "outputs": [
    {
     "name": "stdout",
     "output_type": "stream",
     "text": [
      "4 -> 5 -> 1 -> 2 -> 3\n"
     ]
    }
   ],
   "source": [
    "# Problem 10: Rotate a linked list to the right by k places.\n",
    "class ListNode:\n",
    "    def __init__(self, val=0, next=None):\n",
    "        self.val = val\n",
    "        self.next = next\n",
    "\n",
    "def rotate_right(head, k):\n",
    "    if not head or k == 0:\n",
    "        return head\n",
    "    \n",
    "    # Count the length of the list\n",
    "    length = 1\n",
    "    tail = head\n",
    "    while tail.next:\n",
    "        tail = tail.next\n",
    "        length += 1\n",
    "    \n",
    "    # Connect tail to head to make it circular\n",
    "    tail.next = head\n",
    "    k = k % length  # In case k is greater than length\n",
    "    steps_to_new_head = length - k\n",
    "    new_tail = head\n",
    "    \n",
    "    # Find the new tail\n",
    "    for _ in range(steps_to_new_head - 1):\n",
    "        new_tail = new_tail.next\n",
    "        \n",
    "    new_head = new_tail.next\n",
    "    new_tail.next = None  # Break the circular link\n",
    "    return new_head\n",
    "\n",
    "# Input: 1 -> 2 -> 3 -> 4 -> 5, k = 2\n",
    "head = ListNode(1, ListNode(2, ListNode(3, ListNode(4, ListNode(5)))))\n",
    "k = 2\n",
    "# Output: 4 -> 5 -> 1 -> 2 -> 3\n",
    "rotated_head = rotate_right(head, k)\n",
    "\n",
    "# Formatting output\n",
    "output = []\n",
    "while rotated_head:\n",
    "    output.append(str(rotated_head.val))\n",
    "    rotated_head = rotated_head.next\n",
    "print(\" -> \".join(output))  # Output: 4 -> 5 -> 1 -> 2 -> 3\n"
   ]
  },
  {
   "cell_type": "code",
   "execution_count": 17,
   "id": "1510c442-1ca3-4cfc-9d63-87fa568ff1fb",
   "metadata": {},
   "outputs": [
    {
     "name": "stdout",
     "output_type": "stream",
     "text": [
      "1 -> 2 -> 7 -> 8 -> 3 -> 4 -> 5 -> 9 -> 10 -> 6\n"
     ]
    }
   ],
   "source": [
    "# Problem 11: Flatten a multilevel doubly linked list.\n",
    "class Node:\n",
    "    def __init__(self, val=0, next=None, prev=None, child=None):\n",
    "        self.val = val\n",
    "        self.next = next\n",
    "        self.prev = prev\n",
    "        self.child = child\n",
    "\n",
    "def flatten(head):\n",
    "    if not head:\n",
    "        return head\n",
    "    \n",
    "    # Stack to keep track of nodes\n",
    "    stack = []\n",
    "    current = head\n",
    "\n",
    "    while current:\n",
    "        if current.child:\n",
    "            if current.next:\n",
    "                stack.append(current.next)\n",
    "            current.next = current.child\n",
    "            current.child.prev = current\n",
    "            current.child = None\n",
    "        if not current.next and stack:\n",
    "            current.next = stack.pop()\n",
    "            current.next.prev = current\n",
    "        current = current.next\n",
    "    \n",
    "    return head\n",
    "\n",
    "# Input: 1 - 2 - 3 - 4 - 5 - 6, 2 - 7 - 8, 5 - 9 - 10\n",
    "head = Node(1)\n",
    "head.next = Node(2)\n",
    "head.next.prev = head\n",
    "head.next.next = Node(3)\n",
    "head.next.next.prev = head.next\n",
    "head.next.next.next = Node(4)\n",
    "head.next.next.next.prev = head.next.next\n",
    "head.next.next.next.next = Node(5)\n",
    "head.next.next.next.next.prev = head.next.next.next\n",
    "head.next.next.next.next.next = Node(6)\n",
    "head.next.next.next.next.next.prev = head.next.next.next.next\n",
    "head.next.child = Node(7)\n",
    "head.next.child.next = Node(8)\n",
    "head.next.child.next.prev = head.next.child\n",
    "head.next.next.next.next.child = Node(9)\n",
    "head.next.next.next.next.child.next = Node(10)\n",
    "head.next.next.next.next.child.next.prev = head.next.next.next.next.child\n",
    "\n",
    "# Flatten the list\n",
    "flattened_head = flatten(head)\n",
    "\n",
    "# Formatting output\n",
    "output = []\n",
    "while flattened_head:\n",
    "    output.append(str(flattened_head.val))\n",
    "    flattened_head = flattened_head.next\n",
    "print(\" -> \".join(output))  # Output: 1 -> 2 -> 7 -> 8 -> 3 -> 4 -> 5 -> 9 -> 10 -> 6\n"
   ]
  },
  {
   "cell_type": "code",
   "execution_count": 18,
   "id": "46abe9b1-3ba9-4dbd-b8b4-1b14065cc617",
   "metadata": {},
   "outputs": [
    {
     "name": "stdout",
     "output_type": "stream",
     "text": [
      "1 -> 3 -> 5 -> 2 -> 4\n"
     ]
    }
   ],
   "source": [
    "# Problem 12: Rearrange a linked list such that all even positioned nodes are placed at the end.\n",
    "class ListNode:\n",
    "    def __init__(self, val=0, next=None):\n",
    "        self.val = val\n",
    "        self.next = next\n",
    "\n",
    "def rearrange(head):\n",
    "    if not head:\n",
    "        return head\n",
    "\n",
    "    odd = head\n",
    "    even = head.next\n",
    "    even_head = even\n",
    "\n",
    "    while even and even.next:\n",
    "        odd.next = even.next\n",
    "        odd = odd.next\n",
    "        even.next = odd.next\n",
    "        even = even.next\n",
    "\n",
    "    odd.next = even_head\n",
    "    return head\n",
    "\n",
    "# Input: 1 -> 2 -> 3 -> 4 -> 5\n",
    "head = ListNode(1, ListNode(2, ListNode(3, ListNode(4, ListNode(5)))))\n",
    "# Output: 1 -> 3 -> 5 -> 2 -> 4\n",
    "rearranged_head = rearrange(head)\n",
    "\n",
    "# Formatting output\n",
    "output = []\n",
    "while rearranged_head:\n",
    "    output.append(str(rearranged_head.val))\n",
    "    rearranged_head = rearranged_head.next\n",
    "print(\" -> \".join(output))  # Output: 1 -> 3 -> 5 -> 2 -> 4\n"
   ]
  },
  {
   "cell_type": "code",
   "execution_count": 19,
   "id": "f610c06c-f2df-49cb-a175-f304b213f571",
   "metadata": {},
   "outputs": [
    {
     "name": "stdout",
     "output_type": "stream",
     "text": [
      "1 -> 2 -> 4\n"
     ]
    }
   ],
   "source": [
    "# Problem 13: Given a non-negative number represented as a linked list, add one to it.\n",
    "class ListNode:\n",
    "    def __init__(self, val=0, next=None):\n",
    "        self.val = val\n",
    "        self.next = next\n",
    "\n",
    "def add_one(head):\n",
    "    def reverse(head):\n",
    "        prev = None\n",
    "        current = head\n",
    "        while current:\n",
    "            next_node = current.next\n",
    "            current.next = prev\n",
    "            prev = current\n",
    "            current = next_node\n",
    "        return prev\n",
    "\n",
    "    head = reverse(head)\n",
    "    carry = 1\n",
    "    current = head\n",
    "\n",
    "    while current and carry:\n",
    "        current.val += carry\n",
    "        if current.val == 10:\n",
    "            current.val = 0\n",
    "            carry = 1\n",
    "        else:\n",
    "            carry = 0\n",
    "        current = current.next\n",
    "\n",
    "    if carry:\n",
    "        new_node = ListNode(1)\n",
    "        new_node.next = head\n",
    "        head = new_node\n",
    "\n",
    "    return reverse(head)\n",
    "\n",
    "# Input: 1 -> 2 -> 3 (represents the number 123)\n",
    "head = ListNode(1, ListNode(2, ListNode(3)))\n",
    "# Output: 1 -> 2 -> 4 (represents the number 124)\n",
    "result_head = add_one(head)\n",
    "\n",
    "# Formatting output\n",
    "output = []\n",
    "while result_head:\n",
    "    output.append(str(result_head.val))\n",
    "    result_head = result_head.next\n",
    "print(\" -> \".join(output))  # Output: 1 -> 2 -> 4\n"
   ]
  },
  {
   "cell_type": "code",
   "execution_count": 20,
   "id": "e542aaf9-fdb6-4963-b2e0-1f258ffd88e1",
   "metadata": {},
   "outputs": [
    {
     "name": "stdout",
     "output_type": "stream",
     "text": [
      "2\n"
     ]
    }
   ],
   "source": [
    "# Problem 14: Given a sorted array and a target value, return the index if the target is found.\n",
    "def search_insert(nums, target):\n",
    "    left, right = 0, len(nums)\n",
    "    while left < right:\n",
    "        mid = (left + right) // 2\n",
    "        if nums[mid] < target:\n",
    "            left = mid + 1\n",
    "        else:\n",
    "            right = mid\n",
    "    return left\n",
    "\n",
    "# Input: nums = [1, 3, 5, 6], target = 5\n",
    "nums = [1, 3, 5, 6]\n",
    "target = 5\n",
    "# Output: 2\n",
    "index = search_insert(nums, target)\n",
    "print(index)  # Output: 2\n"
   ]
  },
  {
   "cell_type": "code",
   "execution_count": 21,
   "id": "a7b4aee4-ab8a-4259-a02e-0f2795f3dbd7",
   "metadata": {},
   "outputs": [
    {
     "name": "stdout",
     "output_type": "stream",
     "text": [
      "0\n"
     ]
    }
   ],
   "source": [
    "# Problem 15: Find the minimum element in a rotated sorted array.\n",
    "def find_min(nums):\n",
    "    left, right = 0, len(nums) - 1\n",
    "    while left < right:\n",
    "        mid = (left + right) // 2\n",
    "        if nums[mid] > nums[right]:\n",
    "            left = mid + 1\n",
    "        else:\n",
    "            right = mid\n",
    "    return nums[left]\n",
    "\n",
    "# Input: [4, 5, 6, 7, 0, 1, 2]\n",
    "nums = [4, 5, 6, 7, 0, 1, 2]\n",
    "# Output: 0\n",
    "min_element = find_min(nums)\n",
    "print(min_element)  # Output: 0\n"
   ]
  },
  {
   "cell_type": "code",
   "execution_count": 24,
   "id": "38635a8f-3f2a-4c26-a6e0-850fdebb358f",
   "metadata": {},
   "outputs": [
    {
     "name": "stdout",
     "output_type": "stream",
     "text": [
      "4\n"
     ]
    }
   ],
   "source": [
    "# Problem 16: Search for a target value in a rotated sorted array.\n",
    "def search(nums, target):\n",
    "    left, right = 0, len(nums) - 1\n",
    "    while left <= right:\n",
    "        mid = (left + right) // 2\n",
    "        if nums[mid] == target:\n",
    "            return mid\n",
    "        if nums[left] <= nums[mid]:  # Left half is sorted\n",
    "            if nums[left] <= target < nums[mid]:\n",
    "                right = mid - 1\n",
    "            else:\n",
    "                left = mid + 1\n",
    "        else:  # Right half is sorted\n",
    "            if nums[mid] < target <= nums[right]:\n",
    "                left = mid + 1\n",
    "            else:\n",
    "                right = mid - 1\n",
    "    return -1\n",
    "\n",
    "# Input: nums = [4, 5, 6, 7, 0, 1, 2], target = 0\n",
    "nums = [4, 5, 6, 7, 0, 1, 2]\n",
    "target = 0\n",
    "# Output: 4\n",
    "index = search(nums, target)\n",
    "print(index)  # Output: 4\n"
   ]
  },
  {
   "cell_type": "code",
   "execution_count": 25,
   "id": "cc2dc9e3-b196-4cc9-94c7-3cec43924335",
   "metadata": {},
   "outputs": [
    {
     "name": "stdout",
     "output_type": "stream",
     "text": [
      "2\n"
     ]
    }
   ],
   "source": [
    "# Problem 17: Find the peak element in an array.\n",
    "def findPeakElement(nums):\n",
    "    left, right = 0, len(nums) - 1\n",
    "    while left < right:\n",
    "        mid = (left + right) // 2\n",
    "        if nums[mid] < nums[mid + 1]:\n",
    "            left = mid + 1\n",
    "        else:\n",
    "            right = mid\n",
    "    return left\n",
    "\n",
    "# Input: nums = [1, 2, 3, 1]\n",
    "# Output: 2 (index of peak element)\n",
    "nums = [1, 2, 3, 1]\n",
    "peak_index = findPeakElement(nums)\n",
    "print(peak_index)  # Output: 2\n"
   ]
  },
  {
   "cell_type": "code",
   "execution_count": 26,
   "id": "e28298af-aeb6-4435-8a59-707d443bb527",
   "metadata": {},
   "outputs": [
    {
     "name": "stdout",
     "output_type": "stream",
     "text": [
      "8\n"
     ]
    }
   ],
   "source": [
    "# Problem 18: Count the number of negative numbers in a sorted matrix.\n",
    "def countNegatives(grid):\n",
    "    count = 0\n",
    "    for row in grid:\n",
    "        for num in row:\n",
    "            if num < 0:\n",
    "                count += 1\n",
    "    return count\n",
    "\n",
    "# Input: grid = [[4, 3, 2, -1], [3, 2, 1, -1], [1, 1, -1, -2], [-1, -1, -2, -3]]\n",
    "# Output: 8\n",
    "grid = [[4, 3, 2, -1], [3, 2, 1, -1], [1, 1, -1, -2], [-1, -1, -2, -3]]\n",
    "negative_count = countNegatives(grid)\n",
    "print(negative_count)  # Output: 8\n"
   ]
  },
  {
   "cell_type": "code",
   "execution_count": 27,
   "id": "49aacca8-a1bd-42cb-89a4-14a2cb03d344",
   "metadata": {},
   "outputs": [
    {
     "name": "stdout",
     "output_type": "stream",
     "text": [
      "True\n"
     ]
    }
   ],
   "source": [
    "# Problem 19: Search a target value in a 2D matrix.\n",
    "def searchMatrix(matrix, target):\n",
    "    if not matrix or not matrix[0]:\n",
    "        return False\n",
    "    rows, cols = len(matrix), len(matrix[0])\n",
    "    left, right = 0, rows * cols - 1\n",
    "    while left <= right:\n",
    "        mid = (left + right) // 2\n",
    "        mid_value = matrix[mid // cols][mid % cols]\n",
    "        if mid_value == target:\n",
    "            return True\n",
    "        elif mid_value < target:\n",
    "            left = mid + 1\n",
    "        else:\n",
    "            right = mid - 1\n",
    "    return False\n",
    "\n",
    "# Input: matrix = [[1, 3, 5, 7], [10, 11, 16, 20], [23, 30, 34, 60]], target = 3\n",
    "# Output: True\n",
    "matrix = [[1, 3, 5, 7], [10, 11, 16, 20], [23, 30, 34, 60]]\n",
    "target = 3\n",
    "found = searchMatrix(matrix, target)\n",
    "print(found)  # Output: True\n"
   ]
  },
  {
   "cell_type": "code",
   "execution_count": 28,
   "id": "8ba1a953-416c-429c-8132-7cefb8718f2a",
   "metadata": {},
   "outputs": [
    {
     "name": "stdout",
     "output_type": "stream",
     "text": [
      "2\n"
     ]
    }
   ],
   "source": [
    "# Problem 20: Find Median in Two Sorted Arrays.\n",
    "def findMedianSortedArrays(nums1, nums2):\n",
    "    merged = sorted(nums1 + nums2)\n",
    "    n = len(merged)\n",
    "    if n % 2 == 0:\n",
    "        return (merged[n // 2 - 1] + merged[n // 2]) / 2\n",
    "    else:\n",
    "        return merged[n // 2]\n",
    "\n",
    "# Input: nums1 = [1, 3], nums2 = [2]\n",
    "# Output: 2.0\n",
    "nums1 = [1, 3]\n",
    "nums2 = [2]\n",
    "median = findMedianSortedArrays(nums1, nums2)\n",
    "print(median)  # Output: 2.0\n"
   ]
  },
  {
   "cell_type": "code",
   "execution_count": 29,
   "id": "2879409c-a110-442d-a9ee-a5470e8fb81f",
   "metadata": {},
   "outputs": [
    {
     "name": "stdout",
     "output_type": "stream",
     "text": [
      "c\n"
     ]
    }
   ],
   "source": [
    "# Problem 21: Find the smallest letter greater than the target.\n",
    "def nextGreatestLetter(letters, target):\n",
    "    left, right = 0, len(letters) - 1\n",
    "    while left <= right:\n",
    "        mid = (left + right) // 2\n",
    "        if letters[mid] <= target:\n",
    "            left = mid + 1\n",
    "        else:\n",
    "            right = mid - 1\n",
    "    return letters[left % len(letters)]\n",
    "\n",
    "# Input: letters = ['c', 'f', 'j'], target = 'a'\n",
    "# Output: 'c'\n",
    "letters = ['c', 'f', 'j']\n",
    "target = 'a'\n",
    "next_letter = nextGreatestLetter(letters, target)\n",
    "print(next_letter)  # Output: 'c'\n"
   ]
  },
  {
   "cell_type": "code",
   "execution_count": 30,
   "id": "059e627f-b293-4b1f-8313-7942c9dc41d2",
   "metadata": {},
   "outputs": [
    {
     "name": "stdout",
     "output_type": "stream",
     "text": [
      "[0, 0, 1, 1, 2, 2]\n"
     ]
    }
   ],
   "source": [
    "# Problem 22: Sort colors.\n",
    "def sortColors(nums):\n",
    "    red, white, blue = 0, 0, len(nums) - 1\n",
    "    while white <= blue:\n",
    "        if nums[white] == 0:\n",
    "            nums[red], nums[white] = nums[white], nums[red]\n",
    "            red += 1\n",
    "            white += 1\n",
    "        elif nums[white] == 1:\n",
    "            white += 1\n",
    "        else:\n",
    "            nums[white], nums[blue] = nums[blue], nums[white]\n",
    "            blue -= 1\n",
    "\n",
    "# Input: nums = [2, 0, 2, 1, 1, 0]\n",
    "# Output: [0, 0, 1, 1, 2, 2]\n",
    "nums = [2, 0, 2, 1, 1, 0]\n",
    "sortColors(nums)\n",
    "print(nums)  # Output: [0, 0, 1, 1, 2, 2]\n"
   ]
  },
  {
   "cell_type": "code",
   "execution_count": 31,
   "id": "113fb8ff-af2a-4af0-b7fa-329003c67480",
   "metadata": {},
   "outputs": [
    {
     "name": "stdout",
     "output_type": "stream",
     "text": [
      "5\n"
     ]
    }
   ],
   "source": [
    "# Problem 23: Find the kth largest element in an unsorted array.\n",
    "def findKthLargest(nums, k):\n",
    "    nums.sort(reverse=True)\n",
    "    return nums[k - 1]\n",
    "\n",
    "# Input: nums = [3, 2, 1, 5, 6, 4], k = 2\n",
    "# Output: 5\n",
    "nums = [3, 2, 1, 5, 6, 4]\n",
    "k = 2\n",
    "kth_largest = findKthLargest(nums, k)\n",
    "print(kth_largest)  # Output: 5\n"
   ]
  },
  {
   "cell_type": "code",
   "execution_count": 44,
   "id": "07e3864a-03be-4c14-94eb-617808628d59",
   "metadata": {},
   "outputs": [
    {
     "name": "stdout",
     "output_type": "stream",
     "text": [
      "[3, 6, 2, 5, 1, 4]\n"
     ]
    }
   ],
   "source": [
    "# Problem 24: Given an unsorted array, reorder it in-place such that nums[0] <= nums[1] >= nums[2] <= nums[3]...\n",
    "def wiggleSort(nums):\n",
    "    # Sort the array first\n",
    "    nums.sort()\n",
    "    \n",
    "    # Create a new list to store the result\n",
    "    result = [0] * len(nums)\n",
    "    \n",
    "    mid = (len(nums) + 1) // 2\n",
    "    left = nums[:mid]  # first half\n",
    "    right = nums[mid:]  # second half\n",
    "    \n",
    "    # Fill the result array in a zigzag manner\n",
    "    result[::2] = left[::-1]  # fill even indexes with reversed first half\n",
    "    result[1::2] = right[::-1]  # fill odd indexes with reversed second half\n",
    "\n",
    "    # Copy the result back to nums\n",
    "    for i in range(len(nums)):\n",
    "        nums[i] = result[i]\n",
    "\n",
    "# Input: nums = [3, 5, 2, 1, 6, 4]\n",
    "nums = [3, 5, 2, 1, 6, 4]\n",
    "wiggleSort(nums)\n",
    "print(nums)  # Output: [3, 5, 1, 6, 2, 4]\n"
   ]
  },
  {
   "cell_type": "code",
   "execution_count": 33,
   "id": "dbb27c46-ee5b-4199-b33e-426a5a923f65",
   "metadata": {},
   "outputs": [
    {
     "name": "stdout",
     "output_type": "stream",
     "text": [
      "15\n"
     ]
    }
   ],
   "source": [
    "# Problem 25: Calculate the sum of all elements in an array.\n",
    "def arraySum(nums):\n",
    "    return sum(nums)\n",
    "\n",
    "# Input: [1, 2, 3, 4, 5]\n",
    "# Output: 15\n",
    "nums = [1, 2, 3, 4, 5]\n",
    "total_sum = arraySum(nums)\n",
    "print(total_sum)  # Output: 15\n"
   ]
  },
  {
   "cell_type": "code",
   "execution_count": 46,
   "id": "6e914da1-6659-4a59-a491-12c6e15d61b6",
   "metadata": {},
   "outputs": [
    {
     "name": "stdout",
     "output_type": "stream",
     "text": [
      "9\n"
     ]
    }
   ],
   "source": [
    "# Problem 26: Find the maximum element in an array of integers.\n",
    "def find_maximum(nums):\n",
    "    max_value = nums[0]  # Start with the first element as the maximum\n",
    "    for num in nums:\n",
    "        if num > max_value:\n",
    "            max_value = num  # Update max_value if the current num is greater\n",
    "    return max_value\n",
    "\n",
    "# Input: [3, 7, 2, 9, 4, 1]\n",
    "nums = [3, 7, 2, 9, 4, 1]\n",
    "output = find_maximum(nums)\n",
    "print(output)  # Output: 9\n"
   ]
  },
  {
   "cell_type": "code",
   "execution_count": 47,
   "id": "7bf2e898-aed0-4b77-8d30-a2f376c357ee",
   "metadata": {},
   "outputs": [
    {
     "name": "stdout",
     "output_type": "stream",
     "text": [
      "2\n"
     ]
    }
   ],
   "source": [
    "# Problem 27: Implement linear search to find the index of a target element in an array.\n",
    "def linearSearch(nums, target):\n",
    "    for index, num in enumerate(nums):\n",
    "        if num == target:\n",
    "            return index\n",
    "    return -1\n",
    "\n",
    "# Input: [5, 3, 8, 2, 7, 4], target = 8\n",
    "# Output: 2\n",
    "nums = [5, 3, 8, 2, 7, 4]\n",
    "target = 8\n",
    "index = linearSearch(nums, target)\n",
    "print(index)  # Output: 2\n"
   ]
  },
  {
   "cell_type": "code",
   "execution_count": 35,
   "id": "41c4786a-ebb2-4964-81ec-8effcb3d5e9b",
   "metadata": {},
   "outputs": [
    {
     "name": "stdout",
     "output_type": "stream",
     "text": [
      "120\n"
     ]
    }
   ],
   "source": [
    "# Problem 28: Calculate the factorial of a given number.\n",
    "def factorial(n):\n",
    "    if n == 0 or n == 1:\n",
    "        return 1\n",
    "    return n * factorial(n - 1)\n",
    "\n",
    "# Input: 5\n",
    "# Output: 120 (as 5! = 5 * 4 * 3 * 2 * 1 = 120)\n",
    "num = 5\n",
    "result = factorial(num)\n",
    "print(result)  # Output: 120\n"
   ]
  },
  {
   "cell_type": "code",
   "execution_count": 36,
   "id": "25dea9a4-4e62-4590-9c1f-65da9f48ec57",
   "metadata": {},
   "outputs": [
    {
     "name": "stdout",
     "output_type": "stream",
     "text": [
      "True\n"
     ]
    }
   ],
   "source": [
    "# Problem 29: Check if a given number is a prime number.\n",
    "def isPrime(num):\n",
    "    if num <= 1:\n",
    "        return False\n",
    "    for i in range(2, int(num ** 0.5) + 1):\n",
    "        if num % i == 0:\n",
    "            return False\n",
    "    return True\n",
    "\n",
    "# Input: 7\n",
    "# Output: True\n",
    "number = 7\n",
    "result = isPrime(number)\n",
    "print(result)  # Output: True\n"
   ]
  },
  {
   "cell_type": "code",
   "execution_count": 37,
   "id": "c0d0bb96-f666-4d30-8871-f41dbf7463ab",
   "metadata": {},
   "outputs": [
    {
     "name": "stdout",
     "output_type": "stream",
     "text": [
      "[0, 1, 1, 2, 3, 5, 8]\n"
     ]
    }
   ],
   "source": [
    "# Problem 30: Generate the Fibonacci series up to a given number n.\n",
    "def fibonacci(n):\n",
    "    fib_series = []\n",
    "    a, b = 0, 1\n",
    "    while a <= n:\n",
    "        fib_series.append(a)\n",
    "        a, b = b, a + b\n",
    "    return fib_series\n",
    "\n",
    "# Input: 8\n",
    "# Output: [0, 1, 1, 2, 3, 5, 8]\n",
    "n = 8\n",
    "fib_sequence = fibonacci(n)\n",
    "print(fib_sequence)  # Output: [0, 1, 1, 2, 3, 5, 8]\n"
   ]
  },
  {
   "cell_type": "code",
   "execution_count": 48,
   "id": "4a01153a-f95b-435b-998a-08c8b5174c37",
   "metadata": {},
   "outputs": [
    {
     "name": "stdout",
     "output_type": "stream",
     "text": [
      "81\n"
     ]
    }
   ],
   "source": [
    "# Problem 31: Calculate the power of a number using recursion.\n",
    "def power(base, exponent):\n",
    "    if exponent == 0:\n",
    "        return 1\n",
    "    return base * power(base, exponent - 1)\n",
    "\n",
    "# Input: base = 3, exponent = 4\n",
    "# Output: 81 (as 3^4 = 3 * 3 * 3 * 3 = 81)\n",
    "base = 3\n",
    "exponent = 4\n",
    "result = power(base, exponent)\n",
    "print(result)  # Output: 81\n"
   ]
  },
  {
   "cell_type": "code",
   "execution_count": 49,
   "id": "9126e61f-3709-4e6d-a734-4f94198b6080",
   "metadata": {},
   "outputs": [
    {
     "name": "stdout",
     "output_type": "stream",
     "text": [
      "olleh\n"
     ]
    }
   ],
   "source": [
    "# Problem 32: Reverse a given string.\n",
    "def reverseString(s):\n",
    "    return s[::-1]\n",
    "\n",
    "# Input: \"hello\"\n",
    "# Output: \"olleh\"\n",
    "input_str = \"hello\"\n",
    "reversed_str = reverseString(input_str)\n",
    "print(reversed_str)  # Output: \"olleh\"\n"
   ]
  },
  {
   "cell_type": "code",
   "execution_count": 40,
   "id": "b5fa7a34-6a3b-4eb9-bc81-59949c4fa87e",
   "metadata": {},
   "outputs": [
    {
     "name": "stdout",
     "output_type": "stream",
     "text": [
      "True\n"
     ]
    }
   ],
   "source": []
  },
  {
   "cell_type": "code",
   "execution_count": null,
   "id": "b0c64cf2-7447-4707-a091-7a9651080476",
   "metadata": {},
   "outputs": [],
   "source": []
  }
 ],
 "metadata": {
  "kernelspec": {
   "display_name": "Python 3 (ipykernel)",
   "language": "python",
   "name": "python3"
  },
  "language_info": {
   "codemirror_mode": {
    "name": "ipython",
    "version": 3
   },
   "file_extension": ".py",
   "mimetype": "text/x-python",
   "name": "python",
   "nbconvert_exporter": "python",
   "pygments_lexer": "ipython3",
   "version": "3.11.7"
  }
 },
 "nbformat": 4,
 "nbformat_minor": 5
}
