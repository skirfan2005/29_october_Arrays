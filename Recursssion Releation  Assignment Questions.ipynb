{
 "cells": [
  {
   "cell_type": "code",
   "execution_count": 4,
   "id": "32dadb21-ff49-42a3-8859-63839dfe0fc7",
   "metadata": {},
   "outputs": [
    {
     "name": "stdout",
     "output_type": "stream",
     "text": [
      "The value of T(2) is: 105\n"
     ]
    }
   ],
   "source": [
    "# Q.1 Find the value of T(2) for the recurrence relation T(n) = 3T(n-1) + 12n, given that T(0)=5.\n",
    "\n",
    "def T(n):\n",
    "    if n == 0:\n",
    "        return 5\n",
    "    return 3 * T(n - 1) + 12 * n\n",
    "\n",
    "# Calculate T(2)\n",
    "result = T(2)\n",
    "print(\"The value of T(2) is:\", result)\n"
   ]
  },
  {
   "cell_type": "code",
   "execution_count": 5,
   "id": "5b0dc4d6-2dfd-424d-b5a2-cc7ebfeff31a",
   "metadata": {},
   "outputs": [],
   "source": [
    "# Q.2 Given a recurrence relation, solve it using the substitution method:\n",
    "\n",
    "# (a) T(n) = T(n-1) + c\n",
    "# Solution:\n",
    "# By unrolling the recurrence:\n",
    "# T(n) = T(n-1) + c\n",
    "#      = T(n-2) + c + c\n",
    "#      = ...\n",
    "#      = T(0) + c*n\n",
    "# If T(0) = c0, then T(n) = c0 + c*n\n",
    "\n",
    "# (b) T(n) = 2T(n/2) + n\n",
    "# Solution:\n",
    "# By applying the substitution method:\n",
    "# Assume T(n) = n * log n\n",
    "# T(n) = 2 * T(n/2) + n\n",
    "# T(n/2) = 2 * T(n/4) + n/2\n",
    "# T(n) = 4 * T(n/4) + 2n\n",
    "# By continuing this process:\n",
    "# T(n) = O(n log n)\n",
    "\n",
    "# (c) T(n) = 2T(n/2) + c\n",
    "# Solution:\n",
    "# Similar to the above:\n",
    "# T(n) = 2 * T(n/2) + c\n",
    "# T(n) = O(n)  [Since 'c' is a constant]\n",
    "\n",
    "# (d) T(n) = T(n/2) + c\n",
    "# Solution:\n",
    "# T(n) = T(n/2) + c\n",
    "# T(n/2) = T(n/4) + c\n",
    "# By continuing this process:\n",
    "# T(n) = O(log n)\n"
   ]
  },
  {
   "cell_type": "code",
   "execution_count": 6,
   "id": "fef6a773-f211-40be-a91e-a2581270078c",
   "metadata": {},
   "outputs": [],
   "source": [
    "# Q.3 Given a recurrence relation, solve it using the recursive tree approach:\n",
    "\n",
    "# (a) T(n) = 2T(n-1) + 1\n",
    "# Solution:\n",
    "# By drawing the recursive tree:\n",
    "# Level 0: T(n) = 2T(n-1) + 1\n",
    "# Level 1: 4T(n-2) + 2\n",
    "# ...\n",
    "# The sum of the work done at each level results in:\n",
    "# T(n) = O(2^n)\n",
    "\n",
    "# (b) T(n) = 2T(n/2) + n\n",
    "# Solution:\n",
    "# By drawing the recursive tree:\n",
    "# Level 0: T(n) = 2T(n/2) + n\n",
    "# Level 1: 4T(n/4) + 2n\n",
    "# ...\n",
    "# The sum of the work done at each level results in:\n",
    "# T(n) = O(n log n)\n"
   ]
  },
  {
   "cell_type": "code",
   "execution_count": null,
   "id": "602c1903-4c8d-435e-bce9-10d8e03aedd0",
   "metadata": {},
   "outputs": [],
   "source": []
  }
 ],
 "metadata": {
  "kernelspec": {
   "display_name": "Python 3 (ipykernel)",
   "language": "python",
   "name": "python3"
  },
  "language_info": {
   "codemirror_mode": {
    "name": "ipython",
    "version": 3
   },
   "file_extension": ".py",
   "mimetype": "text/x-python",
   "name": "python",
   "nbconvert_exporter": "python",
   "pygments_lexer": "ipython3",
   "version": "3.11.7"
  }
 },
 "nbformat": 4,
 "nbformat_minor": 5
}
