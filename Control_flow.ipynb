{
 "cells": [
  {
   "cell_type": "code",
   "execution_count": 1,
   "id": "d464d8b3-3146-4c55-a5fa-0eb08a18b950",
   "metadata": {},
   "outputs": [
    {
     "name": "stdin",
     "output_type": "stream",
     "text": [
      "Enter a number:  12\n"
     ]
    },
    {
     "name": "stdout",
     "output_type": "stream",
     "text": [
      "The number is positive.\n"
     ]
    }
   ],
   "source": [
    "# 1. Write a Python program to check if a given number is positive or negative.\n",
    "num = float(input(\"Enter a number: \"))\n",
    "if num > 0:\n",
    "    print(\"The number is positive.\")\n",
    "elif num < 0:\n",
    "    print(\"The number is negative.\")\n",
    "else:\n",
    "    print(\"The number is zero.\")"
   ]
  },
  {
   "cell_type": "code",
   "execution_count": 5,
   "id": "c74827bd-244e-47a8-bd93-42d57bfe438d",
   "metadata": {},
   "outputs": [
    {
     "name": "stdin",
     "output_type": "stream",
     "text": [
      "Enter your age:  18\n"
     ]
    },
    {
     "name": "stdout",
     "output_type": "stream",
     "text": [
      "You are eligible to vote.\n"
     ]
    }
   ],
   "source": [
    "# 2. Create a program that determines if a person is eligible to vote based on their age.\n",
    "age = int(input(\"Enter your age: \"))\n",
    "if age >= 18:\n",
    "    print(\"You are eligible to vote.\")\n",
    "else:\n",
    "    print(\"You are not eligible to vote.\")\n"
   ]
  },
  {
   "cell_type": "code",
   "execution_count": 7,
   "id": "2c729512-e939-48ac-94a9-3a8738ecd01f",
   "metadata": {},
   "outputs": [
    {
     "name": "stdin",
     "output_type": "stream",
     "text": [
      "Enter the first number:  2\n",
      "Enter the second number:  3\n"
     ]
    },
    {
     "name": "stdout",
     "output_type": "stream",
     "text": [
      "The maximum number is 3.0.\n"
     ]
    }
   ],
   "source": [
    "# 3. Develop a program to find the maximum of two numbers using if-else statements.\n",
    "a = float(input(\"Enter the first number: \"))\n",
    "b = float(input(\"Enter the second number: \"))\n",
    "if a > b:\n",
    "    print(f\"The maximum number is {a}.\")\n",
    "elif b > a:\n",
    "    print(f\"The maximum number is {b}.\")\n",
    "else:\n",
    "    print(\"Both numbers are equal.\")"
   ]
  },
  {
   "cell_type": "code",
   "execution_count": 9,
   "id": "caa05a97-30c3-44a6-9110-ab5edbeb0b3a",
   "metadata": {},
   "outputs": [
    {
     "name": "stdin",
     "output_type": "stream",
     "text": [
      "Enter a year:  2000\n"
     ]
    },
    {
     "name": "stdout",
     "output_type": "stream",
     "text": [
      "2000 is a leap year.\n"
     ]
    }
   ],
   "source": [
    "# 4. Write a Python script to classify a given year as a leap year or not.\n",
    "year = int(input(\"Enter a year: \"))\n",
    "if (year % 4 == 0 and year % 100 != 0) or (year % 400 == 0):\n",
    "    print(f\"{year} is a leap year.\")\n",
    "else:\n",
    "    print(f\"{year} is not a leap year.\")\n"
   ]
  },
  {
   "cell_type": "code",
   "execution_count": 11,
   "id": "b6084637-321c-4810-9eff-d4853fd6435d",
   "metadata": {},
   "outputs": [
    {
     "name": "stdin",
     "output_type": "stream",
     "text": [
      "Enter a character:  a\n"
     ]
    },
    {
     "name": "stdout",
     "output_type": "stream",
     "text": [
      "a is a vowel.\n"
     ]
    }
   ],
   "source": [
    "# 5. Create a program that checks whether a character is a vowel or a consonant.\n",
    "char = input(\"Enter a character: \").lower()\n",
    "if char in 'aeiou':\n",
    "    print(f\"{char} is a vowel.\")\n",
    "else:\n",
    "    print(f\"{char} is a consonant.\")"
   ]
  },
  {
   "cell_type": "code",
   "execution_count": 13,
   "id": "df3f9105-5779-42d3-85b2-ba8fbbda48d8",
   "metadata": {},
   "outputs": [
    {
     "name": "stdin",
     "output_type": "stream",
     "text": [
      "Enter a number:  4\n"
     ]
    },
    {
     "name": "stdout",
     "output_type": "stream",
     "text": [
      "4 is an even number.\n"
     ]
    }
   ],
   "source": [
    "# 6. Implement a program to determine whether a given number is even or odd.\n",
    "num = int(input(\"Enter a number: \"))\n",
    "if num % 2 == 0:\n",
    "    print(f\"{num} is an even number.\")\n",
    "else:\n",
    "    print(f\"{num} is an odd number.\")"
   ]
  },
  {
   "cell_type": "code",
   "execution_count": 15,
   "id": "0bc948ce-71ad-419e-90b3-58a252d63839",
   "metadata": {},
   "outputs": [
    {
     "name": "stdin",
     "output_type": "stream",
     "text": [
      "Enter a number:  -7\n"
     ]
    },
    {
     "name": "stdout",
     "output_type": "stream",
     "text": [
      "The absolute value of -7.0 is 7.0.\n"
     ]
    }
   ],
   "source": [
    "# 7. Write a Python function to calculate the absolute value of a number without using the `abs()` function.\n",
    "def absolute_value(num):\n",
    "    if num < 0:\n",
    "        return -num\n",
    "    else:\n",
    "        return num\n",
    "\n",
    "number = float(input(\"Enter a number: \"))\n",
    "print(f\"The absolute value of {number} is {absolute_value(number)}.\")"
   ]
  },
  {
   "cell_type": "code",
   "execution_count": 17,
   "id": "1665a04a-4a87-4bb8-8049-17bc787c01eb",
   "metadata": {},
   "outputs": [
    {
     "name": "stdin",
     "output_type": "stream",
     "text": [
      "Enter the first number:  3\n",
      "Enter the second number:  1\n",
      "Enter the third number:  6\n"
     ]
    },
    {
     "name": "stdout",
     "output_type": "stream",
     "text": [
      "The largest number is 6.0.\n"
     ]
    }
   ],
   "source": [
    "# 8. Develop a program that determines the largest of three given numbers using if-else statements.\n",
    "a = float(input(\"Enter the first number: \"))\n",
    "b = float(input(\"Enter the second number: \"))\n",
    "c = float(input(\"Enter the third number: \"))\n",
    "if a > b and a > c:\n",
    "    print(f\"The largest number is {a}.\")\n",
    "elif b > a and b > c:\n",
    "    print(f\"The largest number is {b}.\")\n",
    "else:\n",
    "    print(f\"The largest number is {c}.\")\n"
   ]
  },
  {
   "cell_type": "code",
   "execution_count": 19,
   "id": "15393ca6-0784-497c-b3f3-38e5a5407817",
   "metadata": {},
   "outputs": [
    {
     "name": "stdin",
     "output_type": "stream",
     "text": [
      "Enter a string:  amma\n"
     ]
    },
    {
     "name": "stdout",
     "output_type": "stream",
     "text": [
      "amma is a palindrome.\n"
     ]
    }
   ],
   "source": [
    "# 9. Create a program that checks if a given string is a palindrome.\n",
    "string = input(\"Enter a string: \").lower()\n",
    "if string == string[::-1]:\n",
    "    print(f\"{string} is a palindrome.\")\n",
    "else:\n",
    "    print(f\"{string} is not a palindrome.\")"
   ]
  },
  {
   "cell_type": "code",
   "execution_count": 21,
   "id": "6c1ed681-4714-40a5-8b12-da0c29eeb577",
   "metadata": {},
   "outputs": [
    {
     "name": "stdin",
     "output_type": "stream",
     "text": [
      "Enter the student's score (0-100):  50\n"
     ]
    },
    {
     "name": "stdout",
     "output_type": "stream",
     "text": [
      "The student's grade is F.\n"
     ]
    }
   ],
   "source": [
    "# 10. Write a Python program to calculate the grade based on a student's score.\n",
    "score = float(input(\"Enter the student's score (0-100): \"))\n",
    "if score >= 90:\n",
    "    grade = 'A'\n",
    "elif score >= 80:\n",
    "    grade = 'B'\n",
    "elif score >= 70:\n",
    "    grade = 'C'\n",
    "elif score >= 60:\n",
    "    grade = 'D'\n",
    "else:\n",
    "    grade = 'F'\n",
    "print(f\"The student's grade is {grade}.\")\n"
   ]
  },
  {
   "cell_type": "code",
   "execution_count": 23,
   "id": "b43a108f-e544-42ce-a65f-08543bc4eb79",
   "metadata": {},
   "outputs": [
    {
     "name": "stdin",
     "output_type": "stream",
     "text": [
      "Enter the first number:  3\n",
      "Enter the second number:  2\n",
      "Enter the third number:  6\n"
     ]
    },
    {
     "name": "stdout",
     "output_type": "stream",
     "text": [
      "The largest number is 6.0.\n"
     ]
    }
   ],
   "source": [
    "# 11. Write a program to find the largest among three numbers using nested if-else statements.\n",
    "a = float(input(\"Enter the first number: \"))\n",
    "b = float(input(\"Enter the second number: \"))\n",
    "c = float(input(\"Enter the third number: \"))\n",
    "\n",
    "if a >= b:\n",
    "    if a >= c:\n",
    "        largest = a\n",
    "    else:\n",
    "        largest = c\n",
    "else:\n",
    "    if b >= c:\n",
    "        largest = b\n",
    "    else:\n",
    "        largest = c\n",
    "\n",
    "print(f\"The largest number is {largest}.\")"
   ]
  },
  {
   "cell_type": "code",
   "execution_count": 25,
   "id": "002de126-1ad7-4b41-9028-0ca4b8b2e0cc",
   "metadata": {},
   "outputs": [
    {
     "name": "stdin",
     "output_type": "stream",
     "text": [
      "Enter the first side:  3\n",
      "Enter the second side:  4\n",
      "Enter the third side:  5\n"
     ]
    },
    {
     "name": "stdout",
     "output_type": "stream",
     "text": [
      "The triangle is scalene.\n"
     ]
    }
   ],
   "source": [
    "# 12. Implement a program to determine if a triangle is equilateral, isosceles, or scalene.\n",
    "side1 = float(input(\"Enter the first side: \"))\n",
    "side2 = float(input(\"Enter the second side: \"))\n",
    "side3 = float(input(\"Enter the third side: \"))\n",
    "\n",
    "if side1 == side2:\n",
    "    if side2 == side3:\n",
    "        print(\"The triangle is equilateral.\")\n",
    "    else:\n",
    "        print(\"The triangle is isosceles.\")\n",
    "else:\n",
    "    if side1 == side3 or side2 == side3:\n",
    "        print(\"The triangle is isosceles.\")\n",
    "    else:\n",
    "        print(\"The triangle is scalene.\")"
   ]
  },
  {
   "cell_type": "code",
   "execution_count": 27,
   "id": "31184ba4-7a07-4c0b-93b1-6135a58b1e61",
   "metadata": {},
   "outputs": [
    {
     "name": "stdin",
     "output_type": "stream",
     "text": [
      "Enter a year:  2003\n"
     ]
    },
    {
     "name": "stdout",
     "output_type": "stream",
     "text": [
      "2003 is not a leap year.\n"
     ]
    }
   ],
   "source": [
    "# 13. Develop a program that checks if a year is a leap year and also if it is a century year.\n",
    "year = int(input(\"Enter a year: \"))\n",
    "\n",
    "if year % 4 == 0:\n",
    "    if year % 100 == 0:\n",
    "        if year % 400 == 0:\n",
    "            print(f\"{year} is a leap year and a century year.\")\n",
    "        else:\n",
    "            print(f\"{year} is not a leap year but a century year.\")\n",
    "    else:\n",
    "        print(f\"{year} is a leap year.\")\n",
    "else:\n",
    "    print(f\"{year} is not a leap year.\")\n"
   ]
  },
  {
   "cell_type": "code",
   "execution_count": 29,
   "id": "081d80e4-5000-4cc1-834e-b0d6ca6a798c",
   "metadata": {},
   "outputs": [
    {
     "name": "stdin",
     "output_type": "stream",
     "text": [
      "Enter a number:  45\n"
     ]
    },
    {
     "name": "stdout",
     "output_type": "stream",
     "text": [
      "The number is positive.\n"
     ]
    }
   ],
   "source": [
    "# 14. Write a Python script to determine if a number is positive, negative, or zero.\n",
    "num = float(input(\"Enter a number: \"))\n",
    "\n",
    "if num > 0:\n",
    "    print(\"The number is positive.\")\n",
    "elif num < 0:\n",
    "    print(\"The number is negative.\")\n",
    "else:\n",
    "    print(\"The number is zero.\")\n"
   ]
  },
  {
   "cell_type": "code",
   "execution_count": 31,
   "id": "2f582918-cf1b-4e32-af19-ae0cb5e77aa8",
   "metadata": {},
   "outputs": [
    {
     "name": "stdin",
     "output_type": "stream",
     "text": [
      "Enter your age:  18\n"
     ]
    },
    {
     "name": "stdout",
     "output_type": "stream",
     "text": [
      "You are a teenager.\n"
     ]
    }
   ],
   "source": [
    "# 15. Create a program to check if a person is a teenager (between 13 and 19 years old).\n",
    "age = int(input(\"Enter your age: \"))\n",
    "\n",
    "if age >= 13:\n",
    "    if age <= 19:\n",
    "        print(\"You are a teenager.\")\n",
    "    else:\n",
    "        print(\"You are not a teenager.\")\n",
    "else:\n",
    "    print(\"You are not a teenager.\")"
   ]
  },
  {
   "cell_type": "code",
   "execution_count": 33,
   "id": "c239236e-4422-4803-9c79-e8bb1574e5f4",
   "metadata": {},
   "outputs": [
    {
     "name": "stdin",
     "output_type": "stream",
     "text": [
      "Enter the angle in degrees:  90\n"
     ]
    },
    {
     "name": "stdout",
     "output_type": "stream",
     "text": [
      "The angle is a right angle.\n"
     ]
    }
   ],
   "source": [
    "# 16. Develop a program that determines the type of angle based on its measure (acute, obtuse, or right).\n",
    "angle = float(input(\"Enter the angle in degrees: \"))\n",
    "\n",
    "if angle > 0:\n",
    "    if angle < 90:\n",
    "        print(\"The angle is acute.\")\n",
    "    elif angle == 90:\n",
    "        print(\"The angle is a right angle.\")\n",
    "    else:\n",
    "        print(\"The angle is obtuse.\")\n",
    "else:\n",
    "    print(\"Invalid angle.\")\n"
   ]
  },
  {
   "cell_type": "code",
   "execution_count": 35,
   "id": "d67dfc08-1e4a-4a14-aa2d-bab2a47c8441",
   "metadata": {},
   "outputs": [
    {
     "name": "stdin",
     "output_type": "stream",
     "text": [
      "Enter coefficient a:  2\n",
      "Enter coefficient b:  3\n",
      "Enter coefficient c:  1\n"
     ]
    },
    {
     "name": "stdout",
     "output_type": "stream",
     "text": [
      "The roots are real and different: -0.5 and -1.0\n"
     ]
    }
   ],
   "source": [
    "# 17. Write a Python program to calculate the roots of a quadratic equation.\n",
    "import math\n",
    "\n",
    "a = float(input(\"Enter coefficient a: \"))\n",
    "b = float(input(\"Enter coefficient b: \"))\n",
    "c = float(input(\"Enter coefficient c: \"))\n",
    "\n",
    "if a == 0:\n",
    "    print(\"Not a quadratic equation.\")\n",
    "else:\n",
    "    discriminant = b**2 - 4*a*c\n",
    "    \n",
    "    if discriminant > 0:\n",
    "        root1 = (-b + math.sqrt(discriminant)) / (2*a)\n",
    "        root2 = (-b - math.sqrt(discriminant)) / (2*a)\n",
    "        print(f\"The roots are real and different: {root1} and {root2}\")\n",
    "    elif discriminant == 0:\n",
    "        root = -b / (2*a)\n",
    "        print(f\"The roots are real and equal: {root}\")\n",
    "    else:\n",
    "        realPart = -b / (2*a)\n",
    "        imaginaryPart = math.sqrt(-discriminant) / (2*a)\n",
    "        print(f\"The roots are complex: {realPart} + {imaginaryPart}i and {realPart} - {imaginaryPart}i\")\n"
   ]
  },
  {
   "cell_type": "code",
   "execution_count": 37,
   "id": "c64f8b8d-97ca-4b73-ba67-37a5a8f4db14",
   "metadata": {},
   "outputs": [
    {
     "name": "stdin",
     "output_type": "stream",
     "text": [
      "Enter a number (1-7):  3\n"
     ]
    },
    {
     "name": "stdout",
     "output_type": "stream",
     "text": [
      "Wednesday\n"
     ]
    }
   ],
   "source": [
    "# 18. Implement a program to determine the day of the week based on a user-provided number (1 for Monday, 2 for Tuesday, etc.).\n",
    "day = int(input(\"Enter a number (1-7): \"))\n",
    "\n",
    "if day == 1:\n",
    "    print(\"Monday\")\n",
    "elif day == 2:\n",
    "    print(\"Tuesday\")\n",
    "elif day == 3:\n",
    "    print(\"Wednesday\")\n",
    "elif day == 4:\n",
    "    print(\"Thursday\")\n",
    "elif day == 5:\n",
    "    print(\"Friday\")\n",
    "elif day == 6:\n",
    "    print(\"Saturday\")\n",
    "elif day == 7:\n",
    "    print(\"Sunday\")\n",
    "else:\n",
    "    print(\"Invalid number! Please enter a number between 1 and 7.\")\n"
   ]
  },
  {
   "cell_type": "code",
   "execution_count": 39,
   "id": "d04dd57e-3011-496e-bd79-6c03cdc651cc",
   "metadata": {},
   "outputs": [
    {
     "name": "stdin",
     "output_type": "stream",
     "text": [
      "Enter a year:  2003\n"
     ]
    },
    {
     "name": "stdout",
     "output_type": "stream",
     "text": [
      "2003 is not a leap year.\n"
     ]
    }
   ],
   "source": [
    "# 19. Create a program that determines if a year is a leap year and also if it is evenly divisible by 400.\n",
    "year = int(input(\"Enter a year: \"))\n",
    "\n",
    "if year % 400 == 0:\n",
    "    print(f\"{year} is a leap year and divisible by 400.\")\n",
    "elif year % 100 == 0:\n",
    "    print(f\"{year} is not a leap year but a century year.\")\n",
    "elif year % 4 == 0:\n",
    "    print(f\"{year} is a leap year.\")\n",
    "else:\n",
    "    print(f\"{year} is not a leap year.\")\n"
   ]
  },
  {
   "cell_type": "code",
   "execution_count": 41,
   "id": "14ce4963-31a8-4b97-b346-8e73b99ef5b7",
   "metadata": {},
   "outputs": [
    {
     "name": "stdin",
     "output_type": "stream",
     "text": [
      "Enter a number:  25\n"
     ]
    },
    {
     "name": "stdout",
     "output_type": "stream",
     "text": [
      "25 is not a prime number.\n"
     ]
    }
   ],
   "source": [
    "# 20. Develop a program that checks if a given number is prime or not using nested if-else statements.\n",
    "num = int(input(\"Enter a number: \"))\n",
    "\n",
    "if num > 1:\n",
    "    is_prime = True\n",
    "    for i in range(2, int(num**0.5) + 1):\n",
    "        if num % i == 0:\n",
    "            is_prime = False\n",
    "            break\n",
    "\n",
    "    if is_prime:\n",
    "        print(f\"{num} is a prime number.\")\n",
    "    else:\n",
    "        print(f\"{num} is not a prime number.\")\n",
    "else:\n",
    "    print(f\"{num} is not a prime number.\")\n"
   ]
  },
  {
   "cell_type": "code",
   "execution_count": 43,
   "id": "e25cceec-5b47-4a45-a24c-678fe4f49c5c",
   "metadata": {},
   "outputs": [
    {
     "name": "stdin",
     "output_type": "stream",
     "text": [
      "Enter the score (0-100):  45\n"
     ]
    },
    {
     "name": "stdout",
     "output_type": "stream",
     "text": [
      "The grade is F.\n"
     ]
    }
   ],
   "source": [
    "# 21. Write a Python program to assign grades based on different ranges of scores using elif statements.\n",
    "score = float(input(\"Enter the score (0-100): \"))\n",
    "\n",
    "if score >= 90:\n",
    "    grade = 'A'\n",
    "elif score >= 80:\n",
    "    grade = 'B'\n",
    "elif score >= 70:\n",
    "    grade = 'C'\n",
    "elif score >= 60:\n",
    "    grade = 'D'\n",
    "else:\n",
    "    grade = 'F'\n",
    "\n",
    "print(f\"The grade is {grade}.\")\n"
   ]
  },
  {
   "cell_type": "code",
   "execution_count": 45,
   "id": "0249bca6-1aca-4fbd-930b-699f32df195c",
   "metadata": {},
   "outputs": [
    {
     "name": "stdin",
     "output_type": "stream",
     "text": [
      "Enter the first angle:  45\n",
      "Enter the second angle:  90\n",
      "Enter the third angle:  15\n"
     ]
    },
    {
     "name": "stdout",
     "output_type": "stream",
     "text": [
      "The triangle is right-angled.\n"
     ]
    }
   ],
   "source": [
    "# 22. Implement a program to determine the type of a triangle based on its angles.\n",
    "angle1 = float(input(\"Enter the first angle: \"))\n",
    "angle2 = float(input(\"Enter the second angle: \"))\n",
    "angle3 = float(input(\"Enter the third angle: \"))\n",
    "\n",
    "if angle1 == 90 or angle2 == 90 or angle3 == 90:\n",
    "    triangle_type = \"right-angled\"\n",
    "elif angle1 < 90 and angle2 < 90 and angle3 < 90:\n",
    "    triangle_type = \"acute-angled\"\n",
    "else:\n",
    "    triangle_type = \"obtuse-angled\"\n",
    "\n",
    "print(f\"The triangle is {triangle_type}.\")\n"
   ]
  },
  {
   "cell_type": "code",
   "execution_count": 47,
   "id": "44af8318-68f8-40c7-a0a8-6bd81f1ecd5c",
   "metadata": {},
   "outputs": [
    {
     "name": "stdin",
     "output_type": "stream",
     "text": [
      "Enter your weight in kg:  15\n",
      "Enter your height in meters:  20\n"
     ]
    },
    {
     "name": "stdout",
     "output_type": "stream",
     "text": [
      "Your BMI category is underweight.\n"
     ]
    }
   ],
   "source": [
    "# 23. Develop a program to categorize a given person's BMI into underweight, normal, overweight, or obese using elif statements.\n",
    "weight = float(input(\"Enter your weight in kg: \"))\n",
    "height = float(input(\"Enter your height in meters: \"))\n",
    "\n",
    "bmi = weight / (height ** 2)\n",
    "\n",
    "if bmi < 18.5:\n",
    "    category = \"underweight\"\n",
    "elif 18.5 <= bmi < 24.9:\n",
    "    category = \"normal weight\"\n",
    "elif 25 <= bmi < 29.9:\n",
    "    category = \"overweight\"\n",
    "else:\n",
    "    category = \"obese\"\n",
    "\n",
    "print(f\"Your BMI category is {category}.\")\n"
   ]
  },
  {
   "cell_type": "code",
   "execution_count": 49,
   "id": "60b1ab23-b881-416d-9ce9-1605f68d8dce",
   "metadata": {},
   "outputs": [
    {
     "name": "stdin",
     "output_type": "stream",
     "text": [
      "Enter a number:  34\n"
     ]
    },
    {
     "name": "stdout",
     "output_type": "stream",
     "text": [
      "The number is positive.\n"
     ]
    }
   ],
   "source": [
    "# 24. Create a program that determines whether a given number is positive, negative, or zero using elif statements.\n",
    "num = float(input(\"Enter a number: \"))\n",
    "\n",
    "if num > 0:\n",
    "    result = \"positive\"\n",
    "elif num < 0:\n",
    "    result = \"negative\"\n",
    "else:\n",
    "    result = \"zero\"\n",
    "\n",
    "print(f\"The number is {result}.\")\n"
   ]
  },
  {
   "cell_type": "code",
   "execution_count": 51,
   "id": "b677a98a-4a01-4935-a9fc-df3b00a23867",
   "metadata": {},
   "outputs": [
    {
     "name": "stdin",
     "output_type": "stream",
     "text": [
      "Enter a character:  #\n"
     ]
    },
    {
     "name": "stdout",
     "output_type": "stream",
     "text": [
      "The character is special character.\n"
     ]
    }
   ],
   "source": [
    "# 25. Write a Python script to determine the type of a character (uppercase, lowercase, or special) using elif statements.\n",
    "char = input(\"Enter a character: \")\n",
    "\n",
    "if char.isupper():\n",
    "    char_type = \"uppercase\"\n",
    "elif char.islower():\n",
    "    char_type = \"lowercase\"\n",
    "else:\n",
    "    char_type = \"special character\"\n",
    "\n",
    "print(f\"The character is {char_type}.\")\n"
   ]
  },
  {
   "cell_type": "code",
   "execution_count": 53,
   "id": "5854a88d-6a5c-4feb-ab18-f25c7468f7a3",
   "metadata": {},
   "outputs": [
    {
     "name": "stdin",
     "output_type": "stream",
     "text": [
      "Enter the purchase amount:  1000\n"
     ]
    },
    {
     "name": "stdout",
     "output_type": "stream",
     "text": [
      "The discounted price is 700.0.\n"
     ]
    }
   ],
   "source": [
    "# 26. Implement a program to calculate the discounted price based on different purchase amounts using elif statements.\n",
    "amount = float(input(\"Enter the purchase amount: \"))\n",
    "\n",
    "if amount >= 1000:\n",
    "    discount = 0.30\n",
    "elif amount >= 500:\n",
    "    discount = 0.20\n",
    "elif amount >= 100:\n",
    "    discount = 0.10\n",
    "else:\n",
    "    discount = 0\n",
    "\n",
    "discounted_price = amount - (amount * discount)\n",
    "print(f\"The discounted price is {discounted_price}.\")"
   ]
  },
  {
   "cell_type": "code",
   "execution_count": 55,
   "id": "a9384436-0905-4261-9c91-d2664a7fce0c",
   "metadata": {},
   "outputs": [
    {
     "name": "stdin",
     "output_type": "stream",
     "text": [
      "Enter the number of units consumed:  100\n"
     ]
    },
    {
     "name": "stdout",
     "output_type": "stream",
     "text": [
      "The electricity bill is 150.0.\n"
     ]
    }
   ],
   "source": [
    "# 27. Develop a program to calculate the electricity bill based on different consumption slabs using elif statements.\n",
    "units = float(input(\"Enter the number of units consumed: \"))\n",
    "\n",
    "if units <= 100:\n",
    "    bill = units * 1.50\n",
    "elif units <= 300:\n",
    "    bill = units * 3.00\n",
    "elif units <= 500:\n",
    "    bill = units * 4.50\n",
    "else:\n",
    "    bill = units * 6.00\n",
    "\n",
    "print(f\"The electricity bill is {bill}.\")"
   ]
  },
  {
   "cell_type": "code",
   "execution_count": 57,
   "id": "d65e93ee-e00b-4ec4-9caa-03eda606fc49",
   "metadata": {},
   "outputs": [
    {
     "name": "stdin",
     "output_type": "stream",
     "text": [
      "Enter the first angle:  15\n",
      "Enter the second angle:  30\n",
      "Enter the third angle:  45\n",
      "Enter the fourth angle:  90\n",
      "Enter the length of the first side:  10\n",
      "Enter the length of the second side:  25\n",
      "Enter the length of the third side:  30\n",
      "Enter the length of the fourth side:  10\n"
     ]
    },
    {
     "name": "stdout",
     "output_type": "stream",
     "text": [
      "The quadrilateral is not a valid quadrilateral.\n"
     ]
    }
   ],
   "source": [
    "# 28. Create a program to determine the type of quadrilateral based on its angles and sides using elif statements.\n",
    "angle1 = float(input(\"Enter the first angle: \"))\n",
    "angle2 = float(input(\"Enter the second angle: \"))\n",
    "angle3 = float(input(\"Enter the third angle: \"))\n",
    "angle4 = float(input(\"Enter the fourth angle: \"))\n",
    "\n",
    "side1 = float(input(\"Enter the length of the first side: \"))\n",
    "side2 = float(input(\"Enter the length of the second side: \"))\n",
    "side3 = float(input(\"Enter the length of the third side: \"))\n",
    "side4 = float(input(\"Enter the length of the fourth side: \"))\n",
    "\n",
    "if angle1 + angle2 + angle3 + angle4 == 360:\n",
    "    if side1 == side2 == side3 == side4:\n",
    "        quadrilateral_type = \"square\"\n",
    "    elif (side1 == side3 and side2 == side4) or (side1 == side2 and side3 == side4):\n",
    "        quadrilateral_type = \"rectangle\"\n",
    "    else:\n",
    "        quadrilateral_type = \"other quadrilateral\"\n",
    "else:\n",
    "    quadrilateral_type = \"not a valid quadrilateral\"\n",
    "\n",
    "print(f\"The quadrilateral is {quadrilateral_type}.\")\n"
   ]
  },
  {
   "cell_type": "code",
   "execution_count": 59,
   "id": "c1dff1b7-97eb-4990-bad6-7ef8ca34f430",
   "metadata": {},
   "outputs": [
    {
     "name": "stdin",
     "output_type": "stream",
     "text": [
      "Enter the month:  january\n"
     ]
    },
    {
     "name": "stdout",
     "output_type": "stream",
     "text": [
      "The season is Winter.\n"
     ]
    }
   ],
   "source": [
    "# 29. Write a Python script to determine the season based on a user-provided month using elif statements.\n",
    "month = input(\"Enter the month: \").lower()\n",
    "\n",
    "if month in ['december', 'january', 'february']:\n",
    "    season = \"Winter\"\n",
    "elif month in ['march', 'april', 'may']:\n",
    "    season = \"Spring\"\n",
    "elif month in ['june', 'july', 'august']:\n",
    "    season = \"Summer\"\n",
    "elif month in ['september', 'october', 'november']:\n",
    "    season = \"Fall\"\n",
    "else:\n",
    "    season = \"Invalid month\"\n",
    "\n",
    "print(f\"The season is {season}.\")\n"
   ]
  },
  {
   "cell_type": "code",
   "execution_count": 61,
   "id": "aee58f43-f28a-4342-837c-fd9c6026725d",
   "metadata": {},
   "outputs": [
    {
     "name": "stdin",
     "output_type": "stream",
     "text": [
      "Enter the year:  2000\n",
      "Enter the month:  january\n"
     ]
    },
    {
     "name": "stdout",
     "output_type": "stream",
     "text": [
      "The year is a leap year. The month has 31 days.\n"
     ]
    }
   ],
   "source": [
    "# 30. Implement a program to determine the type of a year (leap or common) and month (30 or 31 days) using elif statements.\n",
    "year = int(input(\"Enter the year: \"))\n",
    "month = input(\"Enter the month: \").lower()\n",
    "\n",
    "# Check leap year\n",
    "if (year % 4 == 0 and year % 100 != 0) or (year % 400 == 0):\n",
    "    year_type = \"leap year\"\n",
    "else:\n",
    "    year_type = \"common year\"\n",
    "\n",
    "# Check month days\n",
    "if month in ['april', 'june', 'september', 'november']:\n",
    "    days = 30\n",
    "elif month in ['january', 'march', 'may', 'july', 'august', 'october', 'december']:\n",
    "    days = 31\n",
    "elif month == 'february':\n",
    "    if year_type == \"leap year\":\n",
    "        days = 29\n",
    "    else:\n",
    "        days = 28\n",
    "else:\n",
    "    days = \"Invalid month\"\n",
    "\n",
    "print(f\"The year is a {year_type}. The month has {days} days.\")\n"
   ]
  },
  {
   "cell_type": "markdown",
   "id": "49328dfb-9207-498e-9fab-ede1e14799b2",
   "metadata": {},
   "source": [
    "Basic Level:"
   ]
  },
  {
   "cell_type": "code",
   "execution_count": 64,
   "id": "4054bde7-486f-43d2-81fe-b4b55b77a8b7",
   "metadata": {},
   "outputs": [
    {
     "name": "stdin",
     "output_type": "stream",
     "text": [
      "Enter a number:  5\n"
     ]
    },
    {
     "name": "stdout",
     "output_type": "stream",
     "text": [
      "The number is positive.\n"
     ]
    }
   ],
   "source": [
    "# 1. Write a Python program that checks if a given number is positive, negative, or zero.\n",
    "num = float(input(\"Enter a number: \"))\n",
    "\n",
    "if num > 0:\n",
    "    result = \"positive\"\n",
    "elif num < 0:\n",
    "    result = \"negative\"\n",
    "else:\n",
    "    result = \"zero\"\n",
    "\n",
    "print(f\"The number is {result}.\")\n"
   ]
  },
  {
   "cell_type": "code",
   "execution_count": 66,
   "id": "ce0dfa1b-d81b-4a6b-8c27-edb7bfbe2b80",
   "metadata": {},
   "outputs": [
    {
     "name": "stdin",
     "output_type": "stream",
     "text": [
      "Enter your age:  5\n"
     ]
    },
    {
     "name": "stdout",
     "output_type": "stream",
     "text": [
      "You are not eligible to vote.\n"
     ]
    }
   ],
   "source": [
    "# 2. Create a program to determine if a person is eligible to vote based on their age.\n",
    "age = int(input(\"Enter your age: \"))\n",
    "\n",
    "if age >= 18:\n",
    "    eligibility = \"eligible\"\n",
    "else:\n",
    "    eligibility = \"not eligible\"\n",
    "\n",
    "print(f\"You are {eligibility} to vote.\")\n"
   ]
  },
  {
   "cell_type": "code",
   "execution_count": 68,
   "id": "5e0e0927-8655-4c15-81d9-87b58362357b",
   "metadata": {},
   "outputs": [
    {
     "name": "stdin",
     "output_type": "stream",
     "text": [
      "Enter the first number:  4\n",
      "Enter the second number:  4\n"
     ]
    },
    {
     "name": "stdout",
     "output_type": "stream",
     "text": [
      "The maximum number is 4.0.\n"
     ]
    }
   ],
   "source": [
    "# 3. Write a program to find the maximum of two given numbers using conditional statements.\n",
    "num1 = float(input(\"Enter the first number: \"))\n",
    "num2 = float(input(\"Enter the second number: \"))\n",
    "\n",
    "if num1 > num2:\n",
    "    maximum = num1\n",
    "else:\n",
    "    maximum = num2\n",
    "\n",
    "print(f\"The maximum number is {maximum}.\")\n"
   ]
  },
  {
   "cell_type": "code",
   "execution_count": 70,
   "id": "538f75ef-3cd8-432d-883e-60ce472752ae",
   "metadata": {},
   "outputs": [
    {
     "name": "stdin",
     "output_type": "stream",
     "text": [
      "Enter the exam score (0-100):  5\n"
     ]
    },
    {
     "name": "stdout",
     "output_type": "stream",
     "text": [
      "The grade is F.\n"
     ]
    }
   ],
   "source": [
    "# 4. Develop a program that calculates the grade of a student based on their exam score.\n",
    "score = float(input(\"Enter the exam score (0-100): \"))\n",
    "\n",
    "if score >= 90:\n",
    "    grade = 'A'\n",
    "elif score >= 80:\n",
    "    grade = 'B'\n",
    "elif score >= 70:\n",
    "    grade = 'C'\n",
    "elif score >= 60:\n",
    "    grade = 'D'\n",
    "else:\n",
    "    grade = 'F'\n",
    "\n",
    "print(f\"The grade is {grade}.\")\n"
   ]
  },
  {
   "cell_type": "code",
   "execution_count": 72,
   "id": "a7df48f3-3236-4d34-b2ed-a01560fdd2c7",
   "metadata": {},
   "outputs": [
    {
     "name": "stdin",
     "output_type": "stream",
     "text": [
      "Enter a year:  2024\n"
     ]
    },
    {
     "name": "stdout",
     "output_type": "stream",
     "text": [
      "The year 2024 is leap year.\n"
     ]
    }
   ],
   "source": [
    "# 5. Create a program that checks if a year is a leap year or not.\n",
    "year = int(input(\"Enter a year: \"))\n",
    "\n",
    "if (year % 4 == 0 and year % 100 != 0) or (year % 400 == 0):\n",
    "    leap_year_status = \"leap year\"\n",
    "else:\n",
    "    leap_year_status = \"not a leap year\"\n",
    "\n",
    "print(f\"The year {year} is {leap_year_status}.\")\n"
   ]
  },
  {
   "cell_type": "code",
   "execution_count": 74,
   "id": "a7589c6e-8830-42b9-8c56-5969ba89d4f2",
   "metadata": {},
   "outputs": [
    {
     "name": "stdin",
     "output_type": "stream",
     "text": [
      "Enter the length of the first side:  5\n",
      "Enter the length of the second side:  5\n",
      "Enter the length of the third side:  5\n"
     ]
    },
    {
     "name": "stdout",
     "output_type": "stream",
     "text": [
      "The triangle is equilateral.\n"
     ]
    }
   ],
   "source": [
    "# 6. Write a program to classify a triangle based on its sides' lengths.\n",
    "side1 = float(input(\"Enter the length of the first side: \"))\n",
    "side2 = float(input(\"Enter the length of the second side: \"))\n",
    "side3 = float(input(\"Enter the length of the third side: \"))\n",
    "\n",
    "if side1 == side2 == side3:\n",
    "    triangle_type = \"equilateral\"\n",
    "elif side1 == side2 or side2 == side3 or side1 == side3:\n",
    "    triangle_type = \"isosceles\"\n",
    "else:\n",
    "    triangle_type = \"scalene\"\n",
    "\n",
    "print(f\"The triangle is {triangle_type}.\")\n"
   ]
  },
  {
   "cell_type": "code",
   "execution_count": 76,
   "id": "2bfbc270-55a6-48ec-8b21-a320ba9ec367",
   "metadata": {},
   "outputs": [
    {
     "name": "stdin",
     "output_type": "stream",
     "text": [
      "Enter the first number:  5\n",
      "Enter the second number:  5\n",
      "Enter the third number:  5\n"
     ]
    },
    {
     "name": "stdout",
     "output_type": "stream",
     "text": [
      "The largest number is 5.0.\n"
     ]
    }
   ],
   "source": [
    "# 7. Build a program that determines the largest of three given numbers.\n",
    "num1 = float(input(\"Enter the first number: \"))\n",
    "num2 = float(input(\"Enter the second number: \"))\n",
    "num3 = float(input(\"Enter the third number: \"))\n",
    "\n",
    "if num1 >= num2 and num1 >= num3:\n",
    "    largest = num1\n",
    "elif num2 >= num1 and num2 >= num3:\n",
    "    largest = num2\n",
    "else:\n",
    "    largest = num3\n",
    "\n",
    "print(f\"The largest number is {largest}.\")\n"
   ]
  },
  {
   "cell_type": "code",
   "execution_count": 78,
   "id": "c2581385-629f-462d-8143-9d0abddd2e90",
   "metadata": {},
   "outputs": [
    {
     "name": "stdin",
     "output_type": "stream",
     "text": [
      "Enter a character:  5\n"
     ]
    },
    {
     "name": "stdout",
     "output_type": "stream",
     "text": [
      "The character is a consonant.\n"
     ]
    }
   ],
   "source": [
    "# 8. Develop a program that checks whether a character is a vowel or a consonant.\n",
    "char = input(\"Enter a character: \").lower()\n",
    "\n",
    "if char in 'aeiou':\n",
    "    character_type = \"vowel\"\n",
    "else:\n",
    "    character_type = \"consonant\"\n",
    "\n",
    "print(f\"The character is a {character_type}.\")\n"
   ]
  },
  {
   "cell_type": "code",
   "execution_count": 80,
   "id": "fe90f747-2ef0-4b98-b512-f7afaa644ac6",
   "metadata": {},
   "outputs": [
    {
     "name": "stdin",
     "output_type": "stream",
     "text": [
      "Enter the total amount:  5\n"
     ]
    },
    {
     "name": "stdout",
     "output_type": "stream",
     "text": [
      "The total cost after discount is 5.0.\n"
     ]
    }
   ],
   "source": [
    "# 9. Create a program to calculate the total cost of a shopping cart based on discounts.\n",
    "amount = float(input(\"Enter the total amount: \"))\n",
    "\n",
    "if amount >= 1000:\n",
    "    discount = 0.30\n",
    "elif amount >= 500:\n",
    "    discount = 0.20\n",
    "elif amount >= 100:\n",
    "    discount = 0.10\n",
    "else:\n",
    "    discount = 0\n",
    "\n",
    "discounted_price = amount - (amount * discount)\n",
    "print(f\"The total cost after discount is {discounted_price}.\")\n",
    "\n"
   ]
  },
  {
   "cell_type": "code",
   "execution_count": 82,
   "id": "43b4d912-6114-4084-8219-5e13f58fc910",
   "metadata": {},
   "outputs": [
    {
     "name": "stdin",
     "output_type": "stream",
     "text": [
      "Enter a number:  7\n"
     ]
    },
    {
     "name": "stdout",
     "output_type": "stream",
     "text": [
      "The number is odd.\n"
     ]
    }
   ],
   "source": [
    "# 10. Write a program that checks if a given number is even or odd.\n",
    "num = int(input(\"Enter a number: \"))\n",
    "\n",
    "if num % 2 == 0:\n",
    "    result = \"even\"\n",
    "else:\n",
    "    result = \"odd\"\n",
    "\n",
    "print(f\"The number is {result}.\")\n"
   ]
  },
  {
   "cell_type": "markdown",
   "id": "847d98db-d74d-4ede-a818-b1bd829c40f9",
   "metadata": {},
   "source": [
    "Intermediate Level:"
   ]
  },
  {
   "cell_type": "code",
   "execution_count": 85,
   "id": "108c9d8d-e1e9-4ac7-92a0-d0e623f1d779",
   "metadata": {},
   "outputs": [
    {
     "name": "stdin",
     "output_type": "stream",
     "text": [
      "Enter coefficient a:  5\n",
      "Enter coefficient b:  8\n",
      "Enter coefficient c:  64\n"
     ]
    },
    {
     "name": "stdout",
     "output_type": "stream",
     "text": [
      "The roots of the quadratic equation are (-0.8+3.487119154832539j) and (-0.8-3.487119154832539j).\n"
     ]
    }
   ],
   "source": [
    "# 11. Write a program that calculates the roots of a quadratic equation.\n",
    "import cmath\n",
    "\n",
    "# Coefficients of the quadratic equation ax^2 + bx + c = 0\n",
    "a = float(input(\"Enter coefficient a: \"))\n",
    "b = float(input(\"Enter coefficient b: \"))\n",
    "c = float(input(\"Enter coefficient c: \"))\n",
    "\n",
    "# Calculate the discriminant\n",
    "d = b**2 - 4*a*c\n",
    "\n",
    "# Calculate the two roots\n",
    "root1 = (-b + cmath.sqrt(d)) / (2*a)\n",
    "root2 = (-b - cmath.sqrt(d)) / (2*a)\n",
    "\n",
    "print(f\"The roots of the quadratic equation are {root1} and {root2}.\")\n"
   ]
  },
  {
   "cell_type": "code",
   "execution_count": 87,
   "id": "cbf10c8d-27a9-49b2-9aad-8e6fdd6a8cc8",
   "metadata": {},
   "outputs": [
    {
     "name": "stdin",
     "output_type": "stream",
     "text": [
      "Enter the day number (1-7):  6\n"
     ]
    },
    {
     "name": "stdout",
     "output_type": "stream",
     "text": [
      "The day of the week is Saturday.\n"
     ]
    }
   ],
   "source": [
    "# 12. Create a program that determines the day of the week based on the day number (1-7).\n",
    "day_number = int(input(\"Enter the day number (1-7): \"))\n",
    "\n",
    "if day_number == 1:\n",
    "    day_name = \"Monday\"\n",
    "elif day_number == 2:\n",
    "    day_name = \"Tuesday\"\n",
    "elif day_number == 3:\n",
    "    day_name = \"Wednesday\"\n",
    "elif day_number == 4:\n",
    "    day_name = \"Thursday\"\n",
    "elif day_number == 5:\n",
    "    day_name = \"Friday\"\n",
    "elif day_number == 6:\n",
    "    day_name = \"Saturday\"\n",
    "elif day_number == 7:\n",
    "    day_name = \"Sunday\"\n",
    "else:\n",
    "    day_name = \"Invalid day number\"\n",
    "\n",
    "print(f\"The day of the week is {day_name}.\")\n"
   ]
  },
  {
   "cell_type": "code",
   "execution_count": 91,
   "id": "15244b13-070e-448a-9891-69df48982a71",
   "metadata": {},
   "outputs": [
    {
     "name": "stdin",
     "output_type": "stream",
     "text": [
      "Enter a number:  6\n"
     ]
    },
    {
     "name": "stdout",
     "output_type": "stream",
     "text": [
      "The factorial of 6 is 720.\n"
     ]
    }
   ],
   "source": [
    "# 13. Develop a program that calculates the factorial of a given number using recursion.\n",
    "def factorial(n):\n",
    "    if n == 0:\n",
    "        return 1\n",
    "    else:\n",
    "        return n * factorial(n - 1)\n",
    "\n",
    "number = int(input(\"Enter a number: \"))\n",
    "result = factorial(number)\n",
    "print(f\"The factorial of {number} is {result}.\")\n"
   ]
  },
  {
   "cell_type": "code",
   "execution_count": 93,
   "id": "7556ec38-aaeb-4317-ac56-1fcb252136aa",
   "metadata": {},
   "outputs": [
    {
     "name": "stdin",
     "output_type": "stream",
     "text": [
      "Enter the first number:  8\n",
      "Enter the second number:  6\n",
      "Enter the third number:  2\n"
     ]
    },
    {
     "name": "stdout",
     "output_type": "stream",
     "text": [
      "The largest number is 8.0.\n"
     ]
    }
   ],
   "source": [
    "# 14. Write a program to find the largest among three numbers without using the max() function.\n",
    "num1 = float(input(\"Enter the first number: \"))\n",
    "num2 = float(input(\"Enter the second number: \"))\n",
    "num3 = float(input(\"Enter the third number: \"))\n",
    "\n",
    "if num1 >= num2 and num1 >= num3:\n",
    "    largest = num1\n",
    "elif num2 >= num1 and num2 >= num3:\n",
    "    largest = num2\n",
    "else:\n",
    "    largest = num3\n",
    "\n",
    "print(f\"The largest number is {largest}.\")\n"
   ]
  },
  {
   "cell_type": "code",
   "execution_count": 95,
   "id": "8205d198-cea9-4654-a487-1463ace640ac",
   "metadata": {},
   "outputs": [
    {
     "name": "stdout",
     "output_type": "stream",
     "text": [
      "\n",
      "ATM Menu:\n",
      "1. Check Balance\n",
      "2. Deposit\n",
      "3. Withdraw\n",
      "4. Exit\n"
     ]
    },
    {
     "name": "stdin",
     "output_type": "stream",
     "text": [
      "Enter your choice (1-4):  4\n"
     ]
    },
    {
     "name": "stdout",
     "output_type": "stream",
     "text": [
      "Thank you for using the ATM.\n"
     ]
    }
   ],
   "source": [
    "# 15. Create a program that simulates a basic ATM transaction menu.\n",
    "balance = 1000  # Initial balance\n",
    "\n",
    "while True:\n",
    "    print(\"\\nATM Menu:\")\n",
    "    print(\"1. Check Balance\")\n",
    "    print(\"2. Deposit\")\n",
    "    print(\"3. Withdraw\")\n",
    "    print(\"4. Exit\")\n",
    "\n",
    "    choice = input(\"Enter your choice (1-4): \")\n",
    "\n",
    "    if choice == '1':\n",
    "        print(f\"Your balance is ${balance}.\")\n",
    "    elif choice == '2':\n",
    "        deposit_amount = float(input(\"Enter the amount to deposit: \"))\n",
    "        balance += deposit_amount\n",
    "        print(f\"Deposited ${deposit_amount}. New balance is ${balance}.\")\n",
    "    elif choice == '3':\n",
    "        withdraw_amount = float(input(\"Enter the amount to withdraw: \"))\n",
    "        if withdraw_amount <= balance:\n",
    "            balance -= withdraw_amount\n",
    "            print(f\"Withdrew ${withdraw_amount}. New balance is ${balance}.\")\n",
    "        else:\n",
    "            print(\"Insufficient balance.\")\n",
    "    elif choice == '4':\n",
    "        print(\"Thank you for using the ATM.\")\n",
    "        break\n",
    "    else:\n",
    "        print(\"Invalid choice. Please try again.\")\n"
   ]
  },
  {
   "cell_type": "code",
   "execution_count": 97,
   "id": "ebb9ed78-f98b-4891-9681-6468777c12c0",
   "metadata": {},
   "outputs": [
    {
     "name": "stdin",
     "output_type": "stream",
     "text": [
      "Enter a string:  5\n"
     ]
    },
    {
     "name": "stdout",
     "output_type": "stream",
     "text": [
      "The string '5' is a palindrome.\n"
     ]
    }
   ],
   "source": [
    "# 16. Build a program that checks if a given string is a palindrome or not.\n",
    "def is_palindrome(s):\n",
    "    return s == s[::-1]\n",
    "\n",
    "string = input(\"Enter a string: \").lower().replace(\" \", \"\")\n",
    "if is_palindrome(string):\n",
    "    print(f\"The string '{string}' is a palindrome.\")\n",
    "else:\n",
    "    print(f\"The string '{string}' is not a palindrome.\")\n"
   ]
  },
  {
   "cell_type": "code",
   "execution_count": 99,
   "id": "f04d4d3e-c515-4fe4-81c6-1a3e01f5b2ca",
   "metadata": {},
   "outputs": [
    {
     "name": "stdin",
     "output_type": "stream",
     "text": [
      "Enter numbers separated by spaces:  5\n"
     ]
    },
    {
     "name": "stdout",
     "output_type": "stream",
     "text": [
      "Not enough numbers to calculate the average.\n"
     ]
    }
   ],
   "source": [
    "# 17. Write a program that calculates the average of a list of numbers, excluding the smallest and largest values.\n",
    "numbers = list(map(float, input(\"Enter numbers separated by spaces: \").split()))\n",
    "\n",
    "if len(numbers) > 2:\n",
    "    numbers.sort()\n",
    "    trimmed_numbers = numbers[1:-1]\n",
    "    average = sum(trimmed_numbers) / len(trimmed_numbers)\n",
    "    print(f\"The average of the numbers (excluding the smallest and largest) is {average}.\")\n",
    "else:\n",
    "    print(\"Not enough numbers to calculate the average.\")\n"
   ]
  },
  {
   "cell_type": "code",
   "execution_count": 101,
   "id": "7bf340e2-8a4d-4c4b-bdd2-293b21e5b50f",
   "metadata": {},
   "outputs": [
    {
     "name": "stdin",
     "output_type": "stream",
     "text": [
      "Enter temperature in Celsius:  35\n"
     ]
    },
    {
     "name": "stdout",
     "output_type": "stream",
     "text": [
      "The temperature in Fahrenheit is 95.0.\n"
     ]
    }
   ],
   "source": [
    "# 18. Develop a program that converts a given temperature from Celsius to Fahrenheit.\n",
    "celsius = float(input(\"Enter temperature in Celsius: \"))\n",
    "fahrenheit = (celsius * 9/5) + 32\n",
    "print(f\"The temperature in Fahrenheit is {fahrenheit}.\")\n"
   ]
  },
  {
   "cell_type": "code",
   "execution_count": 103,
   "id": "4c63a393-501f-40ad-ad9a-227b808d8b34",
   "metadata": {},
   "outputs": [
    {
     "name": "stdout",
     "output_type": "stream",
     "text": [
      "Basic Calculator\n",
      "1. Addition\n",
      "2. Subtraction\n",
      "3. Multiplication\n",
      "4. Division\n"
     ]
    },
    {
     "name": "stdin",
     "output_type": "stream",
     "text": [
      "Enter your choice (1-4):  2\n",
      "Enter the first number:  3\n",
      "Enter the second number:  6\n"
     ]
    },
    {
     "name": "stdout",
     "output_type": "stream",
     "text": [
      "The result of subtraction is -3.0.\n"
     ]
    }
   ],
   "source": [
    "# 19. Create a program that simulates a basic calculator for addition, subtraction, multiplication, and division.\n",
    "print(\"Basic Calculator\")\n",
    "print(\"1. Addition\")\n",
    "print(\"2. Subtraction\")\n",
    "print(\"3. Multiplication\")\n",
    "print(\"4. Division\")\n",
    "\n",
    "choice = input(\"Enter your choice (1-4): \")\n",
    "\n",
    "num1 = float(input(\"Enter the first number: \"))\n",
    "num2 = float(input(\"Enter the second number: \"))\n",
    "\n",
    "if choice == '1':\n",
    "    result = num1 + num2\n",
    "    print(f\"The result of addition is {result}.\")\n",
    "elif choice == '2':\n",
    "    result = num1 - num2\n",
    "    print(f\"The result of subtraction is {result}.\")\n",
    "elif choice == '3':\n",
    "    result = num1 * num2\n",
    "    print(f\"The result of multiplication is {result}.\")\n",
    "elif choice == '4':\n",
    "    if num2 != 0:\n",
    "        result = num1 / num2\n",
    "        print(f\"The result of division is {result}.\")\n",
    "    else:\n",
    "        print(\"Error: Division by zero is not allowed.\")\n",
    "else:\n",
    "    print(\"Invalid choice.\")\n"
   ]
  },
  {
   "cell_type": "code",
   "execution_count": 105,
   "id": "da7f95e0-103b-4b7a-84db-04c21696cafb",
   "metadata": {},
   "outputs": [
    {
     "name": "stdin",
     "output_type": "stream",
     "text": [
      "Enter coefficient a:  4\n",
      "Enter coefficient b:  5\n",
      "Enter coefficient c:  6\n",
      "Enter coefficient d:  8\n"
     ]
    },
    {
     "name": "stdout",
     "output_type": "stream",
     "text": [
      "The roots of the cubic equation are [(-4.642732841469145+0j), (1.6963664207345723-3.791291752427383j), (1.696366420734572+3.791291752427383j)].\n"
     ]
    }
   ],
   "source": [
    "# 20. Write a program that determines the roots of a cubic equation using the Cardano formula.\n",
    "import cmath\n",
    "\n",
    "def cubic_roots(a, b, c, d):\n",
    "    delta0 = b**2 - 3*a*c\n",
    "    delta1 = 2*b**3 - 9*a*b*c + 27*a**2*d\n",
    "    C = cmath.sqrt((delta1 + cmath.sqrt(delta1**2 - 4*delta0**3)) / 2)\n",
    "    \n",
    "    xi = -1/2 + cmath.sqrt(3)/2 * 1j\n",
    "    \n",
    "    roots = []\n",
    "    for k in range(3):\n",
    "        root = -1/(3*a) * (b + xi**k * C + delta0 / (xi**k * C))\n",
    "        roots.append(root)\n",
    "    \n",
    "    return roots\n",
    "\n",
    "a = float(input(\"Enter coefficient a: \"))\n",
    "b = float(input(\"Enter coefficient b: \"))\n",
    "c = float(input(\"Enter coefficient c: \"))\n",
    "d = float(input(\"Enter coefficient d: \"))\n",
    "\n",
    "roots = cubic_roots(a, b, c, d)\n",
    "print(f\"The roots of the cubic equation are {roots}.\")\n"
   ]
  },
  {
   "cell_type": "markdown",
   "id": "b464de6f-da4c-41d4-86a1-4ab7ec34e377",
   "metadata": {},
   "source": [
    "Advanced Level:"
   ]
  },
  {
   "cell_type": "code",
   "execution_count": 108,
   "id": "278fc928-df3c-4b7f-a10d-2446596ece53",
   "metadata": {},
   "outputs": [
    {
     "name": "stdin",
     "output_type": "stream",
     "text": [
      "Enter your annual income:  5\n"
     ]
    },
    {
     "name": "stdout",
     "output_type": "stream",
     "text": [
      "Your income tax is $0.00.\n"
     ]
    }
   ],
   "source": [
    "# 21. Create a program that calculates the income tax based on the user's income and tax brackets.\n",
    "def calculate_tax(income):\n",
    "    tax = 0\n",
    "    if income <= 10000:\n",
    "        tax = 0\n",
    "    elif income <= 30000:\n",
    "        tax = (income - 10000) * 0.1\n",
    "    elif income <= 100000:\n",
    "        tax = (20000 * 0.1) + (income - 30000) * 0.2\n",
    "    else:\n",
    "        tax = (20000 * 0.1) + (70000 * 0.2) + (income - 100000) * 0.3\n",
    "    return tax\n",
    "\n",
    "income = float(input(\"Enter your annual income: \"))\n",
    "tax = calculate_tax(income)\n",
    "print(f\"Your income tax is ${tax:.2f}.\")\n"
   ]
  },
  {
   "cell_type": "code",
   "execution_count": 110,
   "id": "67753c8a-66bd-47e7-8a1d-f2c751acd1d6",
   "metadata": {},
   "outputs": [
    {
     "name": "stdin",
     "output_type": "stream",
     "text": [
      "Enter rock, paper, or scissors:  6\n"
     ]
    },
    {
     "name": "stdout",
     "output_type": "stream",
     "text": [
      "Computer chose: rock\n",
      "You lose!\n"
     ]
    }
   ],
   "source": [
    "# 22. Write a program that simulates a rock-paper-scissors game against the computer.\n",
    "import random\n",
    "\n",
    "def get_computer_choice():\n",
    "    return random.choice(['rock', 'paper', 'scissors'])\n",
    "\n",
    "def determine_winner(user_choice, computer_choice):\n",
    "    if user_choice == computer_choice:\n",
    "        return \"It's a tie!\"\n",
    "    elif (user_choice == 'rock' and computer_choice == 'scissors') or \\\n",
    "         (user_choice == 'paper' and computer_choice == 'rock') or \\\n",
    "         (user_choice == 'scissors' and computer_choice == 'paper'):\n",
    "        return \"You win!\"\n",
    "    else:\n",
    "        return \"You lose!\"\n",
    "\n",
    "user_choice = input(\"Enter rock, paper, or scissors: \").lower()\n",
    "computer_choice = get_computer_choice()\n",
    "print(f\"Computer chose: {computer_choice}\")\n",
    "print(determine_winner(user_choice, computer_choice))\n"
   ]
  },
  {
   "cell_type": "code",
   "execution_count": 112,
   "id": "82bb4d30-5040-4da0-80a6-fdaed0190ccc",
   "metadata": {},
   "outputs": [
    {
     "name": "stdin",
     "output_type": "stream",
     "text": [
      "Enter the desired password length:  6\n",
      "Enter complexity level (1 for letters, 2 for letters and digits, 3 for letters, digits, and symbols):  2\n"
     ]
    },
    {
     "name": "stdout",
     "output_type": "stream",
     "text": [
      "Generated password: DNDceB\n"
     ]
    }
   ],
   "source": [
    "# 23. Develop a program that generates a random password based on user preferences (length, complexity).\n",
    "import random\n",
    "import string\n",
    "\n",
    "def generate_password(length, complexity):\n",
    "    characters = string.ascii_letters\n",
    "    if complexity >= 2:\n",
    "        characters += string.digits\n",
    "    if complexity == 3:\n",
    "        characters += string.punctuation\n",
    "    \n",
    "    return ''.join(random.choice(characters) for _ in range(length))\n",
    "\n",
    "length = int(input(\"Enter the desired password length: \"))\n",
    "complexity = int(input(\"Enter complexity level (1 for letters, 2 for letters and digits, 3 for letters, digits, and symbols): \"))\n",
    "password = generate_password(length, complexity)\n",
    "print(f\"Generated password: {password}\")\n"
   ]
  },
  {
   "cell_type": "code",
   "execution_count": 114,
   "id": "39ac7101-d0c1-4e92-8bcd-d91053f257ba",
   "metadata": {},
   "outputs": [
    {
     "name": "stdout",
     "output_type": "stream",
     "text": [
      "You are in a dark forest. You see a path to the left and a path to the right.\n"
     ]
    },
    {
     "name": "stdin",
     "output_type": "stream",
     "text": [
      "Do you want to go left or right?  6\n"
     ]
    },
    {
     "name": "stdout",
     "output_type": "stream",
     "text": [
      "Invalid choice. The game ends here.\n"
     ]
    }
   ],
   "source": [
    "# 24. Create a program that implements a simple text-based adventure game with branching scenarios.\n",
    "def adventure_game():\n",
    "    print(\"You are in a dark forest. You see a path to the left and a path to the right.\")\n",
    "    choice = input(\"Do you want to go left or right? \").lower()\n",
    "    \n",
    "    if choice == 'left':\n",
    "        print(\"You walk left and find a treasure chest!\")\n",
    "        action = input(\"Do you want to open the chest or leave it? \").lower()\n",
    "        if action == 'open':\n",
    "            print(\"Congratulations! You found gold and jewels!\")\n",
    "        else:\n",
    "            print(\"You leave the chest and continue on your journey.\")\n",
    "    elif choice == 'right':\n",
    "        print(\"You walk right and encounter a wild animal!\")\n",
    "        action = input(\"Do you want to fight or run? \").lower()\n",
    "        if action == 'fight':\n",
    "            print(\"You bravely fight the animal and win!\")\n",
    "        else:\n",
    "            print(\"You run away safely.\")\n",
    "    else:\n",
    "        print(\"Invalid choice. The game ends here.\")\n",
    "\n",
    "adventure_game()\n"
   ]
  },
  {
   "cell_type": "code",
   "execution_count": 116,
   "id": "8d83aaf3-b2d0-48d3-bbf3-4a5d7e1527d3",
   "metadata": {},
   "outputs": [
    {
     "name": "stdin",
     "output_type": "stream",
     "text": [
      "Enter coefficient a:  6\n",
      "Enter coefficient b:  5\n"
     ]
    },
    {
     "name": "stdout",
     "output_type": "stream",
     "text": [
      "The solution is x = -0.8333333333333334.\n"
     ]
    }
   ],
   "source": [
    "# 25. Build a program that solves a linear equation for x, considering different cases.\n",
    "def solve_linear_equation(a, b):\n",
    "    if a == 0:\n",
    "        if b == 0:\n",
    "            return \"Infinite solutions.\"\n",
    "        else:\n",
    "            return \"No solution.\"\n",
    "    else:\n",
    "        return f\"The solution is x = {-b / a}.\"\n",
    "\n",
    "a = float(input(\"Enter coefficient a: \"))\n",
    "b = float(input(\"Enter coefficient b: \"))\n",
    "solution = solve_linear_equation(a, b)\n",
    "print(solution)\n"
   ]
  },
  {
   "cell_type": "code",
   "execution_count": 139,
   "id": "6e27a65c-71e8-4479-b31f-cd38b52f9ad2",
   "metadata": {},
   "outputs": [
    {
     "name": "stdout",
     "output_type": "stream",
     "text": [
      "\n",
      "What is the capital of France?\n",
      "a) Berlin\n",
      "b) Madrid\n",
      "c) Paris\n",
      "d) Rome\n"
     ]
    },
    {
     "name": "stdin",
     "output_type": "stream",
     "text": [
      "Enter your answer (a/b/c/d):  a\n"
     ]
    },
    {
     "name": "stdout",
     "output_type": "stream",
     "text": [
      "Wrong!\n",
      "\n",
      "What is 2 + 2?\n",
      "a) 3\n",
      "b) 4\n",
      "c) 5\n",
      "d) 6\n"
     ]
    },
    {
     "name": "stdin",
     "output_type": "stream",
     "text": [
      "Enter your answer (a/b/c/d):  a\n"
     ]
    },
    {
     "name": "stdout",
     "output_type": "stream",
     "text": [
      "Wrong!\n",
      "\n",
      "Which planet is known as the Red Planet?\n",
      "a) Earth\n",
      "b) Mars\n",
      "c) Jupiter\n",
      "d) Saturn\n"
     ]
    },
    {
     "name": "stdin",
     "output_type": "stream",
     "text": [
      "Enter your answer (a/b/c/d):  b\n"
     ]
    },
    {
     "name": "stdout",
     "output_type": "stream",
     "text": [
      "Correct!\n",
      "\n",
      "Your final score is 1/3.\n"
     ]
    }
   ],
   "source": [
    "# 26. Write a program that simulates a basic quiz game with multiple-choice questions and scoring.\n",
    "\n",
    "def run_quiz():\n",
    "    questions = {\n",
    "        \"What is the capital of France?\": [\"a) Berlin\", \"b) Madrid\", \"c) Paris\", \"d) Rome\"],\n",
    "        \"What is 2 + 2?\": [\"a) 3\", \"b) 4\", \"c) 5\", \"d) 6\"],\n",
    "        \"Which planet is known as the Red Planet?\": [\"a) Earth\", \"b) Mars\", \"c) Jupiter\", \"d) Saturn\"]\n",
    "    }\n",
    "\n",
    "    # Correct answers for each question (indexed by question order)\n",
    "    answers = ['c', 'b', 'b']\n",
    "    score = 0\n",
    "\n",
    "    # Iterate through questions and options\n",
    "    for i, (question, options) in enumerate(questions.items()):\n",
    "        print(f\"\\n{question}\")\n",
    "        for option in options:\n",
    "            print(option)\n",
    "        \n",
    "        user_answer = input(\"Enter your answer (a/b/c/d): \").lower()\n",
    "        \n",
    "        # Check if the user's answer matches the correct answer\n",
    "        if user_answer == answers[i]:\n",
    "            score += 1\n",
    "            print(\"Correct!\")\n",
    "        else:\n",
    "            print(\"Wrong!\")\n",
    "\n",
    "    # Display the final score\n",
    "    print(f\"\\nYour final score is {score}/{len(questions)}.\")\n",
    "\n",
    "run_quiz()\n"
   ]
  },
  {
   "cell_type": "code",
   "execution_count": 128,
   "id": "40be02bc-f73f-44eb-949f-c95dc9d6f825",
   "metadata": {},
   "outputs": [
    {
     "name": "stdin",
     "output_type": "stream",
     "text": [
      "Enter a year:  2022\n"
     ]
    },
    {
     "name": "stdout",
     "output_type": "stream",
     "text": [
      "The year 2022 is not a prime number.\n"
     ]
    }
   ],
   "source": [
    "# 27. Develop a program that determines whether a given year is a prime number or not.\n",
    "def is_prime(year):\n",
    "    if year <= 1:\n",
    "        return False\n",
    "    for i in range(2, int(year**0.5) + 1):\n",
    "        if year % i == 0:\n",
    "            return False\n",
    "    return True\n",
    "\n",
    "year = int(input(\"Enter a year: \"))\n",
    "if is_prime(year):\n",
    "    print(f\"The year {year} is a prime number.\")\n",
    "else:\n",
    "    print(f\"The year {year} is not a prime number.\")\n"
   ]
  },
  {
   "cell_type": "code",
   "execution_count": 130,
   "id": "206e9327-eb5e-4f3c-9eb0-a5d8ebd53cef",
   "metadata": {},
   "outputs": [
    {
     "name": "stdin",
     "output_type": "stream",
     "text": [
      "Enter the first number:  5\n",
      "Enter the second number:  6\n",
      "Enter the third number:  6\n"
     ]
    },
    {
     "name": "stdout",
     "output_type": "stream",
     "text": [
      "The numbers in ascending order are 5.0, 6.0, 6.0.\n"
     ]
    }
   ],
   "source": [
    "# 28. Create a program that sorts three numbers in ascending order using conditional statements.\n",
    "num1 = float(input(\"Enter the first number: \"))\n",
    "num2 = float(input(\"Enter the second number: \"))\n",
    "num3 = float(input(\"Enter the third number: \"))\n",
    "\n",
    "if num1 > num2:\n",
    "    num1, num2 = num2, num1\n",
    "if num1 > num3:\n",
    "    num1, num3 = num3, num1\n",
    "if num2 > num3:\n",
    "    num2, num3 = num3, num2\n",
    "\n",
    "print(f\"The numbers in ascending order are {num1}, {num2}, {num3}.\")\n"
   ]
  },
  {
   "cell_type": "code",
   "execution_count": 132,
   "id": "3ae39110-3d47-4cbe-929a-4f0b226e714c",
   "metadata": {},
   "outputs": [
    {
     "name": "stdin",
     "output_type": "stream",
     "text": [
      "Enter coefficient a:  5\n",
      "Enter coefficient b:  8\n",
      "Enter coefficient c:  4\n",
      "Enter coefficient d:  7\n",
      "Enter coefficient e:  6\n"
     ]
    },
    {
     "name": "stdout",
     "output_type": "stream",
     "text": [
      "The roots of the quartic equation are: [-1. -1. -1. -1.]\n"
     ]
    }
   ],
   "source": [
    "# 29. Build a program that determines the roots of a quartic equation using numerical methods.\n",
    "from scipy.optimize import fsolve\n",
    "\n",
    "def quartic_eq(x):\n",
    "    return a*x**4 + b*x**3 + c*x**2 + d*x + e\n",
    "\n",
    "a = float(input(\"Enter coefficient a: \"))\n",
    "b = float(input(\"Enter coefficient b: \"))\n",
    "c = float(input(\"Enter coefficient c: \"))\n",
    "d = float(input(\"Enter coefficient d: \"))\n",
    "e = float(input(\"Enter coefficient e: \"))\n",
    "\n",
    "# Use numerical methods to find the roots\n",
    "initial_guesses = [-10, 0, 10, 20]\n",
    "roots = fsolve(quartic_eq, initial_guesses)\n",
    "print(f\"The roots of the quartic equation are: {roots}\")\n"
   ]
  },
  {
   "cell_type": "code",
   "execution_count": 134,
   "id": "6fef01a5-9427-4d73-9317-682e44ed646d",
   "metadata": {},
   "outputs": [
    {
     "name": "stdin",
     "output_type": "stream",
     "text": [
      "Enter your weight in kg:  4\n",
      "Enter your height in meters:  5\n"
     ]
    },
    {
     "name": "stdout",
     "output_type": "stream",
     "text": [
      "Your BMI is 0.16.\n",
      "You are underweight.\n"
     ]
    }
   ],
   "source": [
    "# 30. Write a program that calculates the BMI (Body Mass Index) and provides health recommendations based on the user's input.\n",
    "def calculate_bmi(weight, height):\n",
    "    return weight / (height ** 2)\n",
    "\n",
    "weight = float(input(\"Enter your weight in kg: \"))\n",
    "height = float(input(\"Enter your height in meters: \"))\n",
    "\n",
    "bmi = calculate_bmi(weight, height)\n",
    "print(f\"Your BMI is {bmi:.2f}.\")\n",
    "\n",
    "if bmi < 18.5:\n",
    "    print(\"You are underweight.\")\n",
    "elif 18.5 <= bmi < 24.9:\n",
    "    print(\"You have a normal weight.\")\n",
    "elif 25 <= bmi < 29.9:\n",
    "    print(\"You are overweight.\")\n",
    "else:\n",
    "    print(\"You are obese.\")\n"
   ]
  },
  {
   "cell_type": "markdown",
   "id": "b1310b47-6f28-4cb0-bc49-d131f58fe2d6",
   "metadata": {},
   "source": [
    "Challenge Level:"
   ]
  },
  {
   "cell_type": "code",
   "execution_count": 141,
   "id": "9f4d2260-d8c6-445e-aa21-602b959f39c8",
   "metadata": {},
   "outputs": [
    {
     "name": "stdin",
     "output_type": "stream",
     "text": [
      "Enter a password to validate:  4\n"
     ]
    },
    {
     "name": "stdout",
     "output_type": "stream",
     "text": [
      "Password too short. Must be at least 8 characters.\n"
     ]
    }
   ],
   "source": [
    "# 31. Create a program that validates a password based on complexity rules (length, characters, etc.).\n",
    "import re\n",
    "\n",
    "def validate_password(password):\n",
    "    if len(password) < 8:\n",
    "        return \"Password too short. Must be at least 8 characters.\"\n",
    "    if not re.search(r'[A-Z]', password):\n",
    "        return \"Password must contain at least one uppercase letter.\"\n",
    "    if not re.search(r'[a-z]', password):\n",
    "        return \"Password must contain at least one lowercase letter.\"\n",
    "    if not re.search(r'[0-9]', password):\n",
    "        return \"Password must contain at least one digit.\"\n",
    "    if not re.search(r'[!@#$%^&*(),.?\"{}|<>]', password):\n",
    "        return \"Password must contain at least one special character.\"\n",
    "    return \"Password is valid.\"\n",
    "\n",
    "password = input(\"Enter a password to validate: \")\n",
    "print(validate_password(password))\n"
   ]
  },
  {
   "cell_type": "code",
   "execution_count": 143,
   "id": "37bf91bc-c88c-4dad-b6ca-2bdd0aa2a644",
   "metadata": {},
   "outputs": [
    {
     "name": "stdin",
     "output_type": "stream",
     "text": [
      "Enter number of rows for Matrix 1:  6\n",
      "Enter number of columns for Matrix 1:  4\n"
     ]
    },
    {
     "name": "stdout",
     "output_type": "stream",
     "text": [
      "Enter the elements for Matrix 1:\n"
     ]
    },
    {
     "name": "stdin",
     "output_type": "stream",
     "text": [
      " 6\n",
      " 6\n",
      " 6554\n",
      " 4\n",
      " 45\n",
      " 5\n",
      "Enter number of rows for Matrix 2:  5\n",
      "Enter number of columns for Matrix 2:  5\n"
     ]
    },
    {
     "name": "stdout",
     "output_type": "stream",
     "text": [
      "Enter the elements for Matrix 2:\n"
     ]
    },
    {
     "name": "stdin",
     "output_type": "stream",
     "text": [
      " 5\n",
      " 56\n",
      " 5\n",
      " 56\n",
      " 6\n"
     ]
    },
    {
     "name": "stdout",
     "output_type": "stream",
     "text": [
      "\n",
      "Matrix 1:\n",
      "[[   6]\n",
      " [   6]\n",
      " [6554]\n",
      " [   4]\n",
      " [  45]\n",
      " [   5]]\n",
      "\n",
      "Matrix 2:\n",
      "[[ 5]\n",
      " [56]\n",
      " [ 5]\n",
      " [56]\n",
      " [ 6]]\n"
     ]
    },
    {
     "ename": "ValueError",
     "evalue": "operands could not be broadcast together with shapes (6,1) (5,1) ",
     "output_type": "error",
     "traceback": [
      "\u001b[1;31m---------------------------------------------------------------------------\u001b[0m",
      "\u001b[1;31mValueError\u001b[0m                                Traceback (most recent call last)",
      "Cell \u001b[1;32mIn[143], line 22\u001b[0m\n\u001b[0;32m     19\u001b[0m \u001b[38;5;28mprint\u001b[39m(\u001b[38;5;124m\"\u001b[39m\u001b[38;5;130;01m\\n\u001b[39;00m\u001b[38;5;124mMatrix 2:\u001b[39m\u001b[38;5;124m\"\u001b[39m)\n\u001b[0;32m     20\u001b[0m \u001b[38;5;28mprint\u001b[39m(matrix2)\n\u001b[1;32m---> 22\u001b[0m addition \u001b[38;5;241m=\u001b[39m matrix1 \u001b[38;5;241m+\u001b[39m matrix2\n\u001b[0;32m     23\u001b[0m subtraction \u001b[38;5;241m=\u001b[39m matrix1 \u001b[38;5;241m-\u001b[39m matrix2\n\u001b[0;32m     25\u001b[0m \u001b[38;5;28mprint\u001b[39m(\u001b[38;5;124m\"\u001b[39m\u001b[38;5;130;01m\\n\u001b[39;00m\u001b[38;5;124mAddition of the matrices:\u001b[39m\u001b[38;5;124m\"\u001b[39m)\n",
      "\u001b[1;31mValueError\u001b[0m: operands could not be broadcast together with shapes (6,1) (5,1) "
     ]
    }
   ],
   "source": [
    "# 32. Develop a program that performs matrix addition and subtraction based on user input.\n",
    "import numpy as np\n",
    "\n",
    "def get_matrix(name):\n",
    "    rows = int(input(f\"Enter number of rows for {name}: \"))\n",
    "    cols = int(input(f\"Enter number of columns for {name}: \"))\n",
    "    print(f\"Enter the elements for {name}:\")\n",
    "    matrix = []\n",
    "    for _ in range(rows):\n",
    "        row = list(map(int, input().split()))\n",
    "        matrix.append(row)\n",
    "    return np.array(matrix)\n",
    "\n",
    "matrix1 = get_matrix(\"Matrix 1\")\n",
    "matrix2 = get_matrix(\"Matrix 2\")\n",
    "\n",
    "print(\"\\nMatrix 1:\")\n",
    "print(matrix1)\n",
    "print(\"\\nMatrix 2:\")\n",
    "print(matrix2)\n",
    "\n",
    "addition = matrix1 + matrix2\n",
    "subtraction = matrix1 - matrix2\n",
    "\n",
    "print(\"\\nAddition of the matrices:\")\n",
    "print(addition)\n",
    "print(\"\\nSubtraction of the matrices:\")\n",
    "print(subtraction)\n"
   ]
  },
  {
   "cell_type": "code",
   "execution_count": 145,
   "id": "f5008124-f549-46ed-9bd9-078af29e651d",
   "metadata": {},
   "outputs": [
    {
     "name": "stdin",
     "output_type": "stream",
     "text": [
      "Enter the first number:  4\n",
      "Enter the second number:  6\n"
     ]
    },
    {
     "name": "stdout",
     "output_type": "stream",
     "text": [
      "The GCD of 4 and 6 is 2.\n"
     ]
    }
   ],
   "source": [
    "# 33. Write a program that calculates the greatest common divisor (GCD) of two numbers using the Euclidean algorithm.\n",
    "def gcd(a, b):\n",
    "    while b != 0:\n",
    "        a, b = b, a % b\n",
    "    return a\n",
    "\n",
    "num1 = int(input(\"Enter the first number: \"))\n",
    "num2 = int(input(\"Enter the second number: \"))\n",
    "print(f\"The GCD of {num1} and {num2} is {gcd(num1, num2)}.\")\n"
   ]
  },
  {
   "cell_type": "code",
   "execution_count": 157,
   "id": "62e77617-e454-46a7-b7a6-bc24e979db1c",
   "metadata": {},
   "outputs": [
    {
     "name": "stdin",
     "output_type": "stream",
     "text": [
      "Number of rows in matrix A:  3\n",
      "Enter the first matrix row (space-separated):  1 2 3 5\n",
      "Enter the first matrix row (space-separated):  7 8 9 4\n",
      "Enter the first matrix row (space-separated):  1 5 9 6\n",
      "Number of rows in matrix B:  4\n",
      "Enter the second matrix row (space-separated):  4 5 6\n",
      "Enter the second matrix row (space-separated):  7 5 9\n",
      "Enter the second matrix row (space-separated):  7 4 1\n",
      "Enter the second matrix row (space-separated):  1 8 3\n"
     ]
    },
    {
     "name": "stdout",
     "output_type": "stream",
     "text": [
      "Product of the matrices:\n",
      "[44, 67, 42]\n",
      "[151, 143, 135]\n",
      "[108, 114, 78]\n"
     ]
    }
   ],
   "source": [
    "# 34. Build a program that performs matrix multiplication using nested loops and conditional statements.\n",
    "def matrix_multiply(A, B):\n",
    "    rows_A, cols_A = len(A), len(A[0])\n",
    "    rows_B, cols_B = len(B), len(B[0])\n",
    "    \n",
    "    if cols_A != rows_B:\n",
    "        raise ValueError(\"Number of columns in A must be equal to number of rows in B.\")\n",
    "    \n",
    "    result = [[0] * cols_B for _ in range(rows_A)]\n",
    "    for i in range(rows_A):\n",
    "        for j in range(cols_B):\n",
    "            for k in range(cols_A):\n",
    "                result[i][j] += A[i][k] * B[k][j]\n",
    "    return result\n",
    "\n",
    "A = [[int(x) for x in input(\"Enter the first matrix row (space-separated): \").split()] for _ in range(int(input(\"Number of rows in matrix A: \")))]\n",
    "B = [[int(x) for x in input(\"Enter the second matrix row (space-separated): \").split()] for _ in range(int(input(\"Number of rows in matrix B: \")))]\n",
    "result = matrix_multiply(A, B)\n",
    "\n",
    "print(\"Product of the matrices:\")\n",
    "for row in result:\n",
    "    print(row)\n"
   ]
  },
  {
   "cell_type": "code",
   "execution_count": 163,
   "id": "93b67656-225e-41b2-900b-1911519eba71",
   "metadata": {},
   "outputs": [
    {
     "name": "stdout",
     "output_type": "stream",
     "text": [
      "  |   |  \n",
      "-----\n",
      "  |   |  \n",
      "-----\n",
      "  |   |  \n",
      "-----\n"
     ]
    },
    {
     "name": "stdin",
     "output_type": "stream",
     "text": [
      "Player X - Enter row and column (0-2):  1 2\n"
     ]
    },
    {
     "name": "stdout",
     "output_type": "stream",
     "text": [
      "  | O |  \n",
      "-----\n",
      "  |   | X\n",
      "-----\n",
      "  |   |  \n",
      "-----\n"
     ]
    },
    {
     "name": "stdin",
     "output_type": "stream",
     "text": [
      "Player O - Enter row and column (0-2):  5 8\n"
     ]
    },
    {
     "ename": "IndexError",
     "evalue": "list index out of range",
     "output_type": "error",
     "traceback": [
      "\u001b[1;31m---------------------------------------------------------------------------\u001b[0m",
      "\u001b[1;31mIndexError\u001b[0m                                Traceback (most recent call last)",
      "Cell \u001b[1;32mIn[163], line 55\u001b[0m\n\u001b[0;32m     52\u001b[0m             \u001b[38;5;28;01mreturn\u001b[39;00m\n\u001b[0;32m     53\u001b[0m         players\u001b[38;5;241m.\u001b[39mreverse()\n\u001b[1;32m---> 55\u001b[0m tic_tac_toe()\n",
      "Cell \u001b[1;32mIn[163], line 29\u001b[0m, in \u001b[0;36mtic_tac_toe\u001b[1;34m()\u001b[0m\n\u001b[0;32m     27\u001b[0m print_board(board)\n\u001b[0;32m     28\u001b[0m row, col \u001b[38;5;241m=\u001b[39m \u001b[38;5;28mmap\u001b[39m(\u001b[38;5;28mint\u001b[39m, \u001b[38;5;28minput\u001b[39m(\u001b[38;5;124mf\u001b[39m\u001b[38;5;124m\"\u001b[39m\u001b[38;5;124mPlayer \u001b[39m\u001b[38;5;132;01m{\u001b[39;00mplayers[\u001b[38;5;241m0\u001b[39m]\u001b[38;5;132;01m}\u001b[39;00m\u001b[38;5;124m - Enter row and column (0-2): \u001b[39m\u001b[38;5;124m\"\u001b[39m)\u001b[38;5;241m.\u001b[39msplit())\n\u001b[1;32m---> 29\u001b[0m \u001b[38;5;28;01mif\u001b[39;00m board[row][col] \u001b[38;5;241m!=\u001b[39m \u001b[38;5;124m\"\u001b[39m\u001b[38;5;124m \u001b[39m\u001b[38;5;124m\"\u001b[39m:\n\u001b[0;32m     30\u001b[0m     \u001b[38;5;28mprint\u001b[39m(\u001b[38;5;124m\"\u001b[39m\u001b[38;5;124mCell already taken, try again.\u001b[39m\u001b[38;5;124m\"\u001b[39m)\n\u001b[0;32m     31\u001b[0m     \u001b[38;5;28;01mcontinue\u001b[39;00m\n",
      "\u001b[1;31mIndexError\u001b[0m: list index out of range"
     ]
    }
   ],
   "source": [
    "# 35. Create a program that simulates a basic text-based tic-tac-toe game against the computer.\n",
    "import random\n",
    "\n",
    "def print_board(board):\n",
    "    for row in board:\n",
    "        print(\" | \".join(row))\n",
    "        print(\"-\" * 5)\n",
    "\n",
    "def check_winner(board, player):\n",
    "    for row in board:\n",
    "        if all(s == player for s in row):\n",
    "            return True\n",
    "    for col in range(3):\n",
    "        if all(board[row][col] == player for row in range(3)):\n",
    "            return True\n",
    "    if all(board[i][i] == player for i in range(3)) or all(board[i][2 - i] == player for i in range(3)):\n",
    "        return True\n",
    "    return False\n",
    "\n",
    "def is_full(board):\n",
    "    return all(all(cell != \" \" for cell in row) for row in board)\n",
    "\n",
    "def tic_tac_toe():\n",
    "    board = [[\" \"]*3 for _ in range(3)]\n",
    "    players = [\"X\", \"O\"]\n",
    "    while True:\n",
    "        print_board(board)\n",
    "        row, col = map(int, input(f\"Player {players[0]} - Enter row and column (0-2): \").split())\n",
    "        if board[row][col] != \" \":\n",
    "            print(\"Cell already taken, try again.\")\n",
    "            continue\n",
    "        board[row][col] = players[0]\n",
    "        if check_winner(board, players[0]):\n",
    "            print_board(board)\n",
    "            print(f\"Player {players[0]} wins!\")\n",
    "            return\n",
    "        if is_full(board):\n",
    "            print_board(board)\n",
    "            print(\"It's a tie!\")\n",
    "            return\n",
    "        row, col = random.randint(0, 2), random.randint(0, 2)\n",
    "        while board[row][col] != \" \":\n",
    "            row, col = random.randint(0, 2), random.randint(0, 2)\n",
    "        board[row][col] = players[1]\n",
    "        if check_winner(board, players[1]):\n",
    "            print_board(board)\n",
    "            print(f\"Player {players[1]} wins!\")\n",
    "            return\n",
    "        if is_full(board):\n",
    "            print_board(board)\n",
    "            print(\"It's a tie!\")\n",
    "            return\n",
    "        players.reverse()\n",
    "\n",
    "tic_tac_toe()\n"
   ]
  },
  {
   "cell_type": "code",
   "execution_count": 165,
   "id": "409575f6-73b8-4a46-a8a9-1a27a2601895",
   "metadata": {},
   "outputs": [
    {
     "name": "stdin",
     "output_type": "stream",
     "text": [
      "Enter the maximum term for Fibonacci series:  5\n"
     ]
    },
    {
     "name": "stdout",
     "output_type": "stream",
     "text": [
      "Fibonacci sequence up to the term:\n",
      "[0, 1, 1, 2, 3, 5]\n"
     ]
    }
   ],
   "source": [
    "# 36. Write a program that generates Fibonacci numbers up to a specified term using iterative methods.\n",
    "def fibonacci_up_to_n(n):\n",
    "    a, b = 0, 1\n",
    "    result = []\n",
    "    while a <= n:\n",
    "        result.append(a)\n",
    "        a, b = b, a + b\n",
    "    return result\n",
    "\n",
    "term = int(input(\"Enter the maximum term for Fibonacci series: \"))\n",
    "print(\"Fibonacci sequence up to the term:\")\n",
    "print(fibonacci_up_to_n(term))\n"
   ]
  },
  {
   "cell_type": "code",
   "execution_count": 167,
   "id": "c932e8ee-1d08-458c-808e-78860ea05d21",
   "metadata": {},
   "outputs": [
    {
     "name": "stdin",
     "output_type": "stream",
     "text": [
      "Enter the term number for Fibonacci sequence:  4\n"
     ]
    },
    {
     "name": "stdout",
     "output_type": "stream",
     "text": [
      "The 4th term of the Fibonacci sequence is 3.\n"
     ]
    }
   ],
   "source": [
    "# 37. Develop a program that calculates the nth term of the Fibonacci sequence using memoization.\n",
    "def fibonacci_memo(n, memo={}):\n",
    "    if n in memo:\n",
    "        return memo[n]\n",
    "    if n <= 1:\n",
    "        return n\n",
    "    memo[n] = fibonacci_memo(n - 1, memo) + fibonacci_memo(n - 2, memo)\n",
    "    return memo[n]\n",
    "\n",
    "n = int(input(\"Enter the term number for Fibonacci sequence: \"))\n",
    "print(f\"The {n}th term of the Fibonacci sequence is {fibonacci_memo(n)}.\")\n"
   ]
  },
  {
   "cell_type": "code",
   "execution_count": 169,
   "id": "ddf7346a-0345-4d01-bdc1-b36bf14f5c83",
   "metadata": {},
   "outputs": [
    {
     "name": "stdin",
     "output_type": "stream",
     "text": [
      "Enter year:  2024\n",
      "Enter month (1-12):  2\n"
     ]
    },
    {
     "name": "stdout",
     "output_type": "stream",
     "text": [
      "   February 2024\n",
      "Mo Tu We Th Fr Sa Su\n",
      "          1  2  3  4\n",
      " 5  6  7  8  9 10 11\n",
      "12 13 14 15 16 17 18\n",
      "19 20 21 22 23 24 25\n",
      "26 27 28 29\n",
      "\n"
     ]
    }
   ],
   "source": [
    "# 38. Create a program that generates a calendar for a given month and year using conditional statements.\n",
    "import calendar\n",
    "\n",
    "def print_calendar(year, month):\n",
    "    print(calendar.month(year, month))\n",
    "\n",
    "year = int(input(\"Enter year: \"))\n",
    "month = int(input(\"Enter month (1-12): \"))\n",
    "print_calendar(year, month)\n"
   ]
  },
  {
   "cell_type": "code",
   "execution_count": 175,
   "id": "ba8cc1b8-58ff-4914-a1de-e1389699f772",
   "metadata": {},
   "outputs": [
    {
     "name": "stdout",
     "output_type": "stream",
     "text": [
      "Your hand: ['5', '2'] (Total: 7)\n",
      "Dealer's hand: [9, ?]\n"
     ]
    },
    {
     "name": "stdin",
     "output_type": "stream",
     "text": [
      "Do you want to 'hit' or 'stand'?  1\n"
     ]
    },
    {
     "name": "stdout",
     "output_type": "stream",
     "text": [
      "Invalid choice. Please choose 'hit' or 'stand'.\n"
     ]
    },
    {
     "name": "stdin",
     "output_type": "stream",
     "text": [
      "Do you want to 'hit' or 'stand'?  1\n"
     ]
    },
    {
     "name": "stdout",
     "output_type": "stream",
     "text": [
      "Invalid choice. Please choose 'hit' or 'stand'.\n"
     ]
    },
    {
     "name": "stdin",
     "output_type": "stream",
     "text": [
      "Do you want to 'hit' or 'stand'?  1\n"
     ]
    },
    {
     "name": "stdout",
     "output_type": "stream",
     "text": [
      "Invalid choice. Please choose 'hit' or 'stand'.\n"
     ]
    },
    {
     "name": "stdin",
     "output_type": "stream",
     "text": [
      "Do you want to 'hit' or 'stand'?  1\n"
     ]
    },
    {
     "name": "stdout",
     "output_type": "stream",
     "text": [
      "Invalid choice. Please choose 'hit' or 'stand'.\n"
     ]
    },
    {
     "name": "stdin",
     "output_type": "stream",
     "text": [
      "Do you want to 'hit' or 'stand'?  1\n"
     ]
    },
    {
     "name": "stdout",
     "output_type": "stream",
     "text": [
      "Invalid choice. Please choose 'hit' or 'stand'.\n"
     ]
    },
    {
     "name": "stdin",
     "output_type": "stream",
     "text": [
      "Do you want to 'hit' or 'stand'?  1\n"
     ]
    },
    {
     "name": "stdout",
     "output_type": "stream",
     "text": [
      "Invalid choice. Please choose 'hit' or 'stand'.\n"
     ]
    },
    {
     "name": "stdin",
     "output_type": "stream",
     "text": [
      "Do you want to 'hit' or 'stand'?  1\n"
     ]
    },
    {
     "name": "stdout",
     "output_type": "stream",
     "text": [
      "Invalid choice. Please choose 'hit' or 'stand'.\n"
     ]
    },
    {
     "name": "stdin",
     "output_type": "stream",
     "text": [
      "Do you want to 'hit' or 'stand'?  1\n"
     ]
    },
    {
     "name": "stdout",
     "output_type": "stream",
     "text": [
      "Invalid choice. Please choose 'hit' or 'stand'.\n"
     ]
    },
    {
     "name": "stdin",
     "output_type": "stream",
     "text": [
      "Do you want to 'hit' or 'stand'?  1\n"
     ]
    },
    {
     "name": "stdout",
     "output_type": "stream",
     "text": [
      "Invalid choice. Please choose 'hit' or 'stand'.\n"
     ]
    },
    {
     "name": "stdin",
     "output_type": "stream",
     "text": [
      "Do you want to 'hit' or 'stand'?  1\n"
     ]
    },
    {
     "name": "stdout",
     "output_type": "stream",
     "text": [
      "Invalid choice. Please choose 'hit' or 'stand'.\n"
     ]
    },
    {
     "name": "stdin",
     "output_type": "stream",
     "text": [
      "Do you want to 'hit' or 'stand'?  2\n"
     ]
    },
    {
     "name": "stdout",
     "output_type": "stream",
     "text": [
      "Invalid choice. Please choose 'hit' or 'stand'.\n"
     ]
    },
    {
     "name": "stdin",
     "output_type": "stream",
     "text": [
      "Do you want to 'hit' or 'stand'?  2\n"
     ]
    },
    {
     "name": "stdout",
     "output_type": "stream",
     "text": [
      "Invalid choice. Please choose 'hit' or 'stand'.\n"
     ]
    },
    {
     "name": "stdin",
     "output_type": "stream",
     "text": [
      "Do you want to 'hit' or 'stand'?  5 \n"
     ]
    },
    {
     "name": "stdout",
     "output_type": "stream",
     "text": [
      "Invalid choice. Please choose 'hit' or 'stand'.\n"
     ]
    },
    {
     "name": "stdin",
     "output_type": "stream",
     "text": [
      "Do you want to 'hit' or 'stand'?  5 \n"
     ]
    },
    {
     "name": "stdout",
     "output_type": "stream",
     "text": [
      "Invalid choice. Please choose 'hit' or 'stand'.\n"
     ]
    },
    {
     "name": "stdin",
     "output_type": "stream",
     "text": [
      "Do you want to 'hit' or 'stand'?  6\n"
     ]
    },
    {
     "name": "stdout",
     "output_type": "stream",
     "text": [
      "Invalid choice. Please choose 'hit' or 'stand'.\n"
     ]
    },
    {
     "name": "stdin",
     "output_type": "stream",
     "text": [
      "Do you want to 'hit' or 'stand'?  6\n"
     ]
    },
    {
     "name": "stdout",
     "output_type": "stream",
     "text": [
      "Invalid choice. Please choose 'hit' or 'stand'.\n"
     ]
    },
    {
     "name": "stdin",
     "output_type": "stream",
     "text": [
      "Do you want to 'hit' or 'stand'?  7\n"
     ]
    },
    {
     "name": "stdout",
     "output_type": "stream",
     "text": [
      "Invalid choice. Please choose 'hit' or 'stand'.\n"
     ]
    },
    {
     "name": "stdin",
     "output_type": "stream",
     "text": [
      "Do you want to 'hit' or 'stand'?  11\n"
     ]
    },
    {
     "name": "stdout",
     "output_type": "stream",
     "text": [
      "Invalid choice. Please choose 'hit' or 'stand'.\n"
     ]
    },
    {
     "name": "stdin",
     "output_type": "stream",
     "text": [
      "Do you want to 'hit' or 'stand'?  12\n"
     ]
    },
    {
     "name": "stdout",
     "output_type": "stream",
     "text": [
      "Invalid choice. Please choose 'hit' or 'stand'.\n"
     ]
    },
    {
     "name": "stdin",
     "output_type": "stream",
     "text": [
      "Do you want to 'hit' or 'stand'?  14\n"
     ]
    },
    {
     "name": "stdout",
     "output_type": "stream",
     "text": [
      "Invalid choice. Please choose 'hit' or 'stand'.\n"
     ]
    },
    {
     "name": "stdin",
     "output_type": "stream",
     "text": [
      "Do you want to 'hit' or 'stand'?  hit\n"
     ]
    },
    {
     "name": "stdout",
     "output_type": "stream",
     "text": [
      "Your hand: ['5', '2', 'Q'] (Total: 17)\n"
     ]
    },
    {
     "name": "stdin",
     "output_type": "stream",
     "text": [
      "Do you want to 'hit' or 'stand'?  stand\n"
     ]
    },
    {
     "name": "stdout",
     "output_type": "stream",
     "text": [
      "Dealer's hand: ['9', '8'] (Total: 17)\n",
      "It's a tie!\n"
     ]
    }
   ],
   "source": [
    "# 39. Build a program that simulates a basic text-based blackjack game against the computer.\n",
    "import random\n",
    "\n",
    "def calculate_hand(hand):\n",
    "    total = 0\n",
    "    aces = 0\n",
    "    for card in hand:\n",
    "        if card in [\"J\", \"Q\", \"K\"]:\n",
    "            total += 10\n",
    "        elif card == \"A\":\n",
    "            aces += 1\n",
    "            total += 11\n",
    "        else:\n",
    "            total += int(card)\n",
    "    while total > 21 and aces:\n",
    "        total -= 10\n",
    "        aces -= 1\n",
    "    return total\n",
    "\n",
    "def blackjack():\n",
    "    deck = [\"2\", \"3\", \"4\", \"5\", \"6\", \"7\", \"8\", \"9\", \"10\", \"J\", \"Q\", \"K\", \"A\"] * 4\n",
    "    random.shuffle(deck)\n",
    "    \n",
    "    player_hand = [deck.pop(), deck.pop()]\n",
    "    dealer_hand = [deck.pop(), deck.pop()]\n",
    "    \n",
    "    print(f\"Your hand: {player_hand} (Total: {calculate_hand(player_hand)})\")\n",
    "    print(f\"Dealer's hand: [{dealer_hand[0]}, ?]\")\n",
    "    \n",
    "    while calculate_hand(player_hand) < 21:\n",
    "        action = input(\"Do you want to 'hit' or 'stand'? \").lower()\n",
    "        if action == 'hit':\n",
    "            player_hand.append(deck.pop())\n",
    "            print(f\"Your hand: {player_hand} (Total: {calculate_hand(player_hand)})\")\n",
    "        elif action == 'stand':\n",
    "            break\n",
    "        else:\n",
    "            print(\"Invalid choice. Please choose 'hit' or 'stand'.\")\n",
    "    \n",
    "    player_total = calculate_hand(player_hand)\n",
    "    if player_total > 21:\n",
    "        print(\"You bust! Dealer wins.\")\n",
    "        return\n",
    "    \n",
    "    print(f\"Dealer's hand: {dealer_hand} (Total: {calculate_hand(dealer_hand)})\")\n",
    "    while calculate_hand(dealer_hand) < 17:\n",
    "        dealer_hand.append(deck.pop())\n",
    "        print(f\"Dealer's hand: {dealer_hand} (Total: {calculate_hand(dealer_hand)})\")\n",
    "    \n",
    "    dealer_total = calculate_hand(dealer_hand)\n",
    "    if dealer_total > 21:\n",
    "        print(\"Dealer busts! You win.\")\n",
    "    elif dealer_total > player_total:\n",
    "        print(\"Dealer wins.\")\n",
    "    elif dealer_total < player_total:\n",
    "        print(\"You win!\")\n",
    "    else:\n",
    "        print(\"It's a tie!\")\n",
    "\n",
    "blackjack()\n"
   ]
  },
  {
   "cell_type": "code",
   "execution_count": 177,
   "id": "f3e5f5f5-c727-4a56-802f-aec95c3a9880",
   "metadata": {},
   "outputs": [
    {
     "name": "stdin",
     "output_type": "stream",
     "text": [
      "Enter a number to find its prime factors:  2\n"
     ]
    },
    {
     "name": "stdout",
     "output_type": "stream",
     "text": [
      "Prime factors of 2 are: [2]\n"
     ]
    }
   ],
   "source": [
    "# 40. Write a program that generates the prime factors of a given number using trial division.\n",
    "\n",
    "def prime_factors(n):\n",
    "    factors = []\n",
    "    # Divide out the number of 2s\n",
    "    while n % 2 == 0:\n",
    "        factors.append(2)\n",
    "        n //= 2\n",
    "    # Check for odd factors from 3 onwards\n",
    "    factor = 3\n",
    "    while factor * factor <= n:\n",
    "        while n % factor == 0:\n",
    "            factors.append(factor)\n",
    "            n //= factor\n",
    "        factor += 2\n",
    "    # If n becomes a prime number greater than 2\n",
    "    if n > 2:\n",
    "        factors.append(n)\n",
    "    return factors\n",
    "\n",
    "number = int(input(\"Enter a number to find its prime factors: \"))\n",
    "print(f\"Prime factors of {number} are: {prime_factors(number)}\")\n"
   ]
  },
  {
   "cell_type": "code",
   "execution_count": null,
   "id": "93250e42-716c-4870-af38-3efda9505826",
   "metadata": {},
   "outputs": [],
   "source": []
  }
 ],
 "metadata": {
  "kernelspec": {
   "display_name": "Python 3 (ipykernel)",
   "language": "python",
   "name": "python3"
  },
  "language_info": {
   "codemirror_mode": {
    "name": "ipython",
    "version": 3
   },
   "file_extension": ".py",
   "mimetype": "text/x-python",
   "name": "python",
   "nbconvert_exporter": "python",
   "pygments_lexer": "ipython3",
   "version": "3.12.4"
  }
 },
 "nbformat": 4,
 "nbformat_minor": 5
}
