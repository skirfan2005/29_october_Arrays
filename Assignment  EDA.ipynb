{
 "cells": [
  {
   "cell_type": "code",
   "execution_count": null,
   "id": "2c34569f",
   "metadata": {},
   "outputs": [],
   "source": [
    "#Amazon Sales Data"
   ]
  },
  {
   "cell_type": "code",
   "execution_count": null,
   "id": "06c3c797",
   "metadata": {},
   "outputs": [],
   "source": [
    "import pandas as pd\n",
    "import matplotlib.pyplot as plt\n",
    "import seaborn as sns\n",
    "from collections import Counter\n",
    "import re\n",
    "\n",
    "# Load the dataset\n",
    "df = pd.read_csv('amazon_sales_data.csv')\n",
    "\n",
    "# Question 1: What is the average rating for each product category?\n",
    "average_rating_by_category = df.groupby('category')['rating'].mean()\n",
    "print(\"Average Rating by Category:\")\n",
    "print(average_rating_by_category)\n"
   ]
  },
  {
   "cell_type": "code",
   "execution_count": null,
   "id": "3ec9480b",
   "metadata": {},
   "outputs": [],
   "source": [
    "# Question 2: What are the top rating_count products by category?\n",
    "top_rated_products = df.loc[df.groupby('category')['rating_count'].idxmax()]\n",
    "print(\"Top Rated Products by Category:\")\n",
    "print(top_rated_products[['category', 'product_name', 'rating_count']])"
   ]
  },
  {
   "cell_type": "code",
   "execution_count": null,
   "id": "ad70feeb",
   "metadata": {},
   "outputs": [],
   "source": [
    "# Question 3: What is the distribution of discounted prices vs. actual prices?\n",
    "plt.figure(figsize=(10, 6))\n",
    "sns.histplot(df['discounted_price'], color='blue', label='Discounted Price', kde=True)\n",
    "sns.histplot(df['actual_price'], color='red', label='Actual Price', kde=True)\n",
    "plt.title('Distribution of Discounted Prices vs. Actual Prices')\n",
    "plt.xlabel('Price')\n",
    "plt.ylabel('Frequency')\n",
    "plt.legend()\n",
    "plt.show()"
   ]
  },
  {
   "cell_type": "code",
   "execution_count": null,
   "id": "a9ba53ba",
   "metadata": {},
   "outputs": [],
   "source": [
    "# Question 4: How does the average discount percentage vary across categories?\n",
    "average_discount_by_category = df.groupby('category')['discount_percentage'].mean()\n",
    "print(\"Average Discount Percentage by Category:\")\n",
    "print(average_discount_by_category)"
   ]
  },
  {
   "cell_type": "code",
   "execution_count": null,
   "id": "7aacdf9e",
   "metadata": {},
   "outputs": [],
   "source": [
    "# Question 5: What are the most popular product names?\n",
    "\n",
    "most_popular_products = df.groupby('product_name')['rating_count'].sum().sort_values(ascending=False).head(10)\n",
    "print(\"Most Popular Product Names:\")\n",
    "print(most_popular_products)"
   ]
  },
  {
   "cell_type": "code",
   "execution_count": null,
   "id": "5fa01827",
   "metadata": {},
   "outputs": [],
   "source": [
    "# Question 6: What are the most popular product keywords?\n",
    "all_keywords = df['about_product'].dropna().apply(lambda x: re.findall(r'\\b\\w+\\b', x.lower())).sum()\n",
    "keyword_counts = Counter(all_keywords).most_common(10)\n",
    "print(\"Most Popular Product Keywords:\")\n",
    "print(keyword_counts)"
   ]
  },
  {
   "cell_type": "code",
   "execution_count": null,
   "id": "60237d0d",
   "metadata": {},
   "outputs": [],
   "source": [
    "# Question 7: What are the most popular product reviews?\n",
    "most_popular_reviews = df.groupby('review_content')['rating_count'].sum().sort_values(ascending=False).head(10)\n",
    "print(\"Most Popular Product Reviews:\")\n",
    "print(most_popular_reviews)"
   ]
  },
  {
   "cell_type": "code",
   "execution_count": null,
   "id": "aef2b304",
   "metadata": {},
   "outputs": [],
   "source": [
    "# Question 8: What is the correlation between discounted_price and rating?\n",
    "correlation = df['discounted_price'].corr(df['rating'])\n",
    "print(f'Correlation between Discounted Price and Rating: {correlation:.2f}')"
   ]
  },
  {
   "cell_type": "code",
   "execution_count": null,
   "id": "5ca35676",
   "metadata": {},
   "outputs": [],
   "source": [
    "# Question 9: What are the Top 5 categories based on the highest ratings?\n",
    "top_categories_by_rating = df.groupby('category')['rating'].mean().sort_values(ascending=False).head(5)\n",
    "print(\"Top 5 Categories Based on Highest Ratings:\")\n",
    "print(top_categories_by_rating)"
   ]
  },
  {
   "cell_type": "code",
   "execution_count": null,
   "id": "0cdeaf78",
   "metadata": {},
   "outputs": [],
   "source": [
    "#Spotify data"
   ]
  },
  {
   "cell_type": "code",
   "execution_count": null,
   "id": "912c49ad",
   "metadata": {},
   "outputs": [],
   "source": [
    "import pandas as pd\n",
    "import matplotlib.pyplot as plt\n",
    "import seaborn as sns\n",
    "\n",
    "# 1. Load the dataframe and ensure data quality by checking for missing values and duplicate rows.\n",
    "df = pd.read_csv('spotify_hiphop_data.csv')\n",
    "\n",
    "# Check for missing values\n",
    "print(\"Missing Values:\\n\", df.isnull().sum())\n",
    "\n",
    "# Remove duplicate rows if any\n",
    "df = df.drop_duplicates()\n",
    "\n",
    "# Handle missing values if necessary (e.g., drop or fill)\n",
    "df = df.dropna()\n",
    "\n",
    "print(\"Data after cleaning:\\n\", df.info())"
   ]
  },
  {
   "cell_type": "code",
   "execution_count": null,
   "id": "b31ec500",
   "metadata": {},
   "outputs": [],
   "source": [
    "# 2. What is the distribution of popularity among the tracks in the dataset? Visualize it using a histogram.\n",
    "plt.figure(figsize=(10, 6))\n",
    "sns.histplot(df['popularity'], bins=20, kde=True)\n",
    "plt.title('Distribution of Track Popularity')\n",
    "plt.xlabel('Popularity')\n",
    "plt.ylabel('Frequency')\n",
    "plt.show()"
   ]
  },
  {
   "cell_type": "code",
   "execution_count": null,
   "id": "b5a23dcc",
   "metadata": {},
   "outputs": [],
   "source": [
    "# 3. Is there any relationship between the popularity and the duration of tracks? Explore this using a scatter plot.\n",
    "plt.figure(figsize=(10, 6))\n",
    "sns.scatterplot(data=df, x='duration_ms', y='popularity')\n",
    "plt.title('Relationship Between Track Duration and Popularity')\n",
    "plt.xlabel('Duration (ms)')\n",
    "plt.ylabel('Popularity')\n",
    "plt.show()"
   ]
  },
  {
   "cell_type": "code",
   "execution_count": null,
   "id": "f9f1250f",
   "metadata": {},
   "outputs": [],
   "source": [
    "# 4. Which artist has the highest number of tracks in the dataset? Display the count of tracks for each artist using a countplot.\n",
    "plt.figure(figsize=(12, 8))\n",
    "top_artists = df['artist'].value_counts().head(10)\n",
    "sns.countplot(y='artist', data=df, order=top_artists.index)\n",
    "plt.title('Top 10 Artists by Number of Tracks')\n",
    "plt.xlabel('Number of Tracks')\n",
    "plt.ylabel('Artist')\n",
    "plt.show()"
   ]
  },
  {
   "cell_type": "code",
   "execution_count": null,
   "id": "28948cd2",
   "metadata": {},
   "outputs": [],
   "source": [
    "# 5. What are the top 5 least popular tracks in the dataset? Provide the artist name and track name for each.\n",
    "least_popular_tracks = df.nsmallest(5, 'popularity')[['artist', 'track_name', 'popularity']]\n",
    "print(\"Top 5 Least Popular Tracks:\\n\", least_popular_tracks)"
   ]
  },
  {
   "cell_type": "code",
   "execution_count": null,
   "id": "58180750",
   "metadata": {},
   "outputs": [],
   "source": [
    "# 6. Among the top 5 most popular artists, which artist has the highest popularity on average? \n",
    "# Calculate and display the average popularity for each artist.\n",
    "top_5_artists = df['artist'].value_counts().head(5).index\n",
    "avg_popularity = df[df['artist'].isin(top_5_artists)].groupby('artist')['popularity'].mean().sort_values(ascending=False)\n",
    "print(\"Average Popularity for Top 5 Artists:\\n\", avg_popularity)"
   ]
  },
  {
   "cell_type": "code",
   "execution_count": null,
   "id": "7430feb6",
   "metadata": {},
   "outputs": [],
   "source": [
    "# 7. For the top 5 most popular artists, what are their most popular tracks? List the track name for each artist.\n",
    "most_popular_tracks = df[df['artist'].isin(top_5_artists)].sort_values('popularity', ascending=False).groupby('artist').first()[['track_name', 'popularity']]\n",
    "print(\"Most Popular Tracks for Top 5 Artists:\\n\", most_popular_tracks)"
   ]
  },
  {
   "cell_type": "code",
   "execution_count": null,
   "id": "010dd0a7",
   "metadata": {},
   "outputs": [],
   "source": [
    "# 8. Visualize relationships between multiple numerical variables simultaneously using a pair plot.\n",
    "sns.pairplot(df[['popularity', 'duration_ms']])\n",
    "plt.show()"
   ]
  },
  {
   "cell_type": "code",
   "execution_count": null,
   "id": "a35da10b",
   "metadata": {},
   "outputs": [],
   "source": [
    "# 9. Does the duration of tracks vary significantly across different artists? Explore this visually using a box plot or violin plot.\n",
    "plt.figure(figsize=(12, 8))\n",
    "sns.boxplot(data=df, x='artist', y='duration_ms', order=top_artists.index)\n",
    "plt.title('Track Duration Across Different Artists')\n",
    "plt.xlabel('Artist')\n",
    "plt.ylabel('Duration (ms)')\n",
    "plt.xticks(rotation=90)\n",
    "plt.show()"
   ]
  },
  {
   "cell_type": "code",
   "execution_count": null,
   "id": "449aad66",
   "metadata": {},
   "outputs": [],
   "source": [
    "# 10. How does the distribution of track popularity vary for different artists? Visualize this using a swarm plot or a violin plot.\n",
    "plt.figure(figsize=(12, 8))\n",
    "sns.violinplot(data=df, x='artist', y='popularity', order=top_artists.index)\n",
    "plt.title('Distribution of Track Popularity Across Artists')\n",
    "plt.xlabel('Artist')\n",
    "plt.ylabel('Popularity')\n",
    "plt.xticks(rotation=90)\n",
    "plt.show()"
   ]
  }
 ],
 "metadata": {
  "kernelspec": {
   "display_name": "Python 3 (ipykernel)",
   "language": "python",
   "name": "python3"
  },
  "language_info": {
   "codemirror_mode": {
    "name": "ipython",
    "version": 3
   },
   "file_extension": ".py",
   "mimetype": "text/x-python",
   "name": "python",
   "nbconvert_exporter": "python",
   "pygments_lexer": "ipython3",
   "version": "3.11.5"
  }
 },
 "nbformat": 4,
 "nbformat_minor": 5
}
